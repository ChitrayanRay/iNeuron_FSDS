{
 "cells": [
  {
   "cell_type": "markdown",
   "id": "a1c79596",
   "metadata": {},
   "source": [
    "## 1. Write a Python Program to find sum of array?"
   ]
  },
  {
   "cell_type": "code",
   "execution_count": 1,
   "id": "e68ff96a",
   "metadata": {},
   "outputs": [],
   "source": [
    "def arraySum(*args):\n",
    "    summ = 0\n",
    "    for i in args:\n",
    "        if type(i) == int:\n",
    "            summ = summ + i\n",
    "    print(summ)"
   ]
  },
  {
   "cell_type": "code",
   "execution_count": 2,
   "id": "19755931",
   "metadata": {},
   "outputs": [
    {
     "name": "stdout",
     "output_type": "stream",
     "text": [
      "15\n"
     ]
    }
   ],
   "source": [
    "arraySum(1, 2, 3, 4, 5)"
   ]
  },
  {
   "cell_type": "code",
   "execution_count": 3,
   "id": "2a5c8b4d",
   "metadata": {},
   "outputs": [
    {
     "name": "stdout",
     "output_type": "stream",
     "text": [
      "11\n"
     ]
    }
   ],
   "source": [
    "arraySum(1, 2, 3, \"four\", 5, \"six\")"
   ]
  },
  {
   "cell_type": "markdown",
   "id": "f392a4e2",
   "metadata": {},
   "source": [
    "## 2. Write a Python Program to find largest element in an array?"
   ]
  },
  {
   "cell_type": "code",
   "execution_count": 4,
   "id": "5113f807",
   "metadata": {},
   "outputs": [],
   "source": [
    "def arrayMaxElement(*args):\n",
    "    largest = 0\n",
    "    \n",
    "    for i in args:\n",
    "        if type(i) == int:\n",
    "            if i > largest:\n",
    "                largest = i\n",
    "    print(\"The largest element of array is {}\".format(largest))"
   ]
  },
  {
   "cell_type": "code",
   "execution_count": 5,
   "id": "e695347e",
   "metadata": {},
   "outputs": [
    {
     "name": "stdout",
     "output_type": "stream",
     "text": [
      "The largest element of array is 5\n"
     ]
    }
   ],
   "source": [
    "arrayMaxElement(1, 2, 3, 4, 5, \"6\")"
   ]
  },
  {
   "cell_type": "code",
   "execution_count": 6,
   "id": "b64160db",
   "metadata": {},
   "outputs": [
    {
     "name": "stdout",
     "output_type": "stream",
     "text": [
      "The largest element of array is 51\n"
     ]
    }
   ],
   "source": [
    "arrayMaxElement(17, 24, 32, 48, 51, \"65\")"
   ]
  },
  {
   "cell_type": "markdown",
   "id": "6b6b7e71",
   "metadata": {},
   "source": [
    "## 3. Write a Python Program for array rotation?"
   ]
  },
  {
   "cell_type": "code",
   "execution_count": 7,
   "id": "4ecd16a1",
   "metadata": {},
   "outputs": [],
   "source": [
    "def rotateArray(arr, d):\n",
    "    temp = []\n",
    "    n = len(arr)\n",
    "    \n",
    "    for i in range(d, n):\n",
    "        temp.append(arr[i])\n",
    "    i = 0\n",
    "    \n",
    "    for i in range (0, d):\n",
    "        temp.append(arr[i])\n",
    "    arr = temp.copy()\n",
    "    \n",
    "    return arr"
   ]
  },
  {
   "cell_type": "code",
   "execution_count": 8,
   "id": "ef7718cb",
   "metadata": {},
   "outputs": [
    {
     "data": {
      "text/plain": [
       "[4, 5, 6, 7, 1, 2, 3]"
      ]
     },
     "execution_count": 8,
     "metadata": {},
     "output_type": "execute_result"
    }
   ],
   "source": [
    "rotateArray([1, 2, 3, 4, 5, 6, 7], 3)"
   ]
  },
  {
   "cell_type": "markdown",
   "id": "19ed6e6c",
   "metadata": {},
   "source": [
    "## 4. Write a Python Program to Split the array and add the first part to the end?"
   ]
  },
  {
   "cell_type": "code",
   "execution_count": 9,
   "id": "663a7a91",
   "metadata": {},
   "outputs": [],
   "source": [
    "def arraySplit(arr):\n",
    "    n = len(arr)\n",
    "    half = int(n / 2)\n",
    "    print(\"Split at index: \", half)\n",
    "    \n",
    "    firstHalf = []\n",
    "    secondHalf = []\n",
    "    final = []\n",
    "    \n",
    "    for i in range(half + 1):\n",
    "        firstHalf.append(arr[i])\n",
    "    print(\"First Half is: \", firstHalf)\n",
    "    \n",
    "    for i in range(half + 1, n):\n",
    "        secondHalf.append(arr[i])\n",
    "    print(\"Second Half is: \", secondHalf)\n",
    "    \n",
    "    print(\"The Final Array is: \", secondHalf + firstHalf)"
   ]
  },
  {
   "cell_type": "code",
   "execution_count": 10,
   "id": "6be31f9b",
   "metadata": {},
   "outputs": [
    {
     "name": "stdout",
     "output_type": "stream",
     "text": [
      "Split at index:  4\n",
      "First Half is:  [1, 2, 3, 4, 5]\n",
      "Second Half is:  [6, 7, 8, 9]\n",
      "The Final Array is:  [6, 7, 8, 9, 1, 2, 3, 4, 5]\n"
     ]
    }
   ],
   "source": [
    "arraySplit([1, 2, 3, 4, 5, 6, 7, 8, 9])"
   ]
  },
  {
   "cell_type": "markdown",
   "id": "f102c135",
   "metadata": {},
   "source": [
    "## 5. Write a Python Program to check if given array is Monotonic?\n",
    "\n",
    "An array is monotonic if it is either monotone increasing or monotone decreasing.\n",
    "\n",
    "* **all()**\n",
    "  * **Signature:** all(iterable, /)\n",
    "  * **Docstring:** Return True if bool(x) is True for all values x in the iterable.If the iterable is empty, return True.\n",
    "  * **Type:**      builtin_function_or_method"
   ]
  },
  {
   "cell_type": "code",
   "execution_count": 11,
   "id": "14bff548",
   "metadata": {},
   "outputs": [],
   "source": [
    "def checkMonotonic(A):\n",
    "    return (all(A[i] <= A[i + 1] for i in range(len(A) - 1)) or\n",
    "      all(A[i] >= A[i + 1] for i in range(len(A) - 1)))"
   ]
  },
  {
   "cell_type": "code",
   "execution_count": 12,
   "id": "9e83b71d",
   "metadata": {},
   "outputs": [
    {
     "data": {
      "text/plain": [
       "False"
      ]
     },
     "execution_count": 12,
     "metadata": {},
     "output_type": "execute_result"
    }
   ],
   "source": [
    "checkMonotonic([1, 2, 3, 4, 2, 6])"
   ]
  },
  {
   "cell_type": "code",
   "execution_count": 13,
   "id": "73346556",
   "metadata": {},
   "outputs": [
    {
     "data": {
      "text/plain": [
       "True"
      ]
     },
     "execution_count": 13,
     "metadata": {},
     "output_type": "execute_result"
    }
   ],
   "source": [
    "checkMonotonic([1, 2, 3, 4, 6])"
   ]
  },
  {
   "cell_type": "code",
   "execution_count": 14,
   "id": "6299350e",
   "metadata": {},
   "outputs": [
    {
     "data": {
      "text/plain": [
       "True"
      ]
     },
     "execution_count": 14,
     "metadata": {},
     "output_type": "execute_result"
    }
   ],
   "source": [
    "checkMonotonic([6, 5, 3, 2, 1])"
   ]
  }
 ],
 "metadata": {
  "kernelspec": {
   "display_name": "Python 3 (ipykernel)",
   "language": "python",
   "name": "python3"
  },
  "language_info": {
   "codemirror_mode": {
    "name": "ipython",
    "version": 3
   },
   "file_extension": ".py",
   "mimetype": "text/x-python",
   "name": "python",
   "nbconvert_exporter": "python",
   "pygments_lexer": "ipython3",
   "version": "3.11.0"
  }
 },
 "nbformat": 4,
 "nbformat_minor": 5
}
