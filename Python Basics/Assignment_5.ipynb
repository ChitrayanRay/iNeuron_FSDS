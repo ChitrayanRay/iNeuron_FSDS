{
 "cells": [
  {
   "cell_type": "markdown",
   "id": "eab830fd",
   "metadata": {},
   "source": [
    "## 1. What does an empty dictionary&#39;s code look like?\n",
    "\n",
    "To create an empty dictionary, the dictionary should be set to {}. This is shown in the code below."
   ]
  },
  {
   "cell_type": "code",
   "execution_count": 1,
   "id": "b6cbb4ea",
   "metadata": {},
   "outputs": [
    {
     "data": {
      "text/plain": [
       "dict"
      ]
     },
     "execution_count": 1,
     "metadata": {},
     "output_type": "execute_result"
    }
   ],
   "source": [
    "d = {}\n",
    "type(d)"
   ]
  },
  {
   "cell_type": "markdown",
   "id": "dc90e6a9",
   "metadata": {},
   "source": [
    "## 2. What is the value of a dictionary value with the key &#39;foo&#39; and the value 42?"
   ]
  },
  {
   "cell_type": "code",
   "execution_count": 2,
   "id": "bb65311b",
   "metadata": {},
   "outputs": [
    {
     "data": {
      "text/plain": [
       "dict"
      ]
     },
     "execution_count": 2,
     "metadata": {},
     "output_type": "execute_result"
    }
   ],
   "source": [
    "d = {\"foo\":42}\n",
    "type(d)"
   ]
  },
  {
   "cell_type": "markdown",
   "id": "d9a356ee",
   "metadata": {},
   "source": [
    "## 3. What is the most significant distinction between a dictionary and a list?\n",
    "\n",
    "* In case of flattened data, Dictionary is a collection of inordered data while list is a collection of ordered data. \n",
    "* In case of unflattend data, if key value  is in list that will follow the indexed ordered format"
   ]
  },
  {
   "cell_type": "code",
   "execution_count": null,
   "id": "29a80c24",
   "metadata": {},
   "outputs": [
    {
     "name": "stdout",
     "output_type": "stream",
     "text": [
      "['one', 'two', 'three']\n",
      "{'1': 'one', '2': 'two', '3': 'three'}\n"
     ]
    }
   ],
   "source": [
    "l = [\"one\", \"two\", \"three\"]\n",
    "d = {'1' : \"one\", '2' : \"two\", '3' : \"three\"}\n",
    "\n",
    "print(l)\n",
    "print(d)"
   ]
  },
  {
   "cell_type": "code",
   "execution_count": 4,
   "id": "63db6bd2",
   "metadata": {},
   "outputs": [],
   "source": [
    "l[0]"
   ]
  },
  {
   "cell_type": "code",
   "execution_count": 5,
   "id": "7ae7e3d9",
   "metadata": {},
   "outputs": [
    {
     "ename": "KeyError",
     "evalue": "0",
     "output_type": "error",
     "traceback": [
      "\u001b[1;31m---------------------------------------------------------------------------\u001b[0m",
      "\u001b[1;31mKeyError\u001b[0m                                  Traceback (most recent call last)",
      "Cell \u001b[1;32mIn[5], line 1\u001b[0m\n\u001b[1;32m----> 1\u001b[0m \u001b[43md\u001b[49m\u001b[43m[\u001b[49m\u001b[38;5;241;43m0\u001b[39;49m\u001b[43m]\u001b[49m       \u001b[38;5;66;03m# Index value is invalid as dictionary is an unordered collection of data.\u001b[39;00m\n",
      "\u001b[1;31mKeyError\u001b[0m: 0"
     ]
    }
   ],
   "source": [
    "d[0]       # Index value is invalid as dictionary is an unordered collection of data."
   ]
  },
  {
   "cell_type": "code",
   "execution_count": 6,
   "id": "40982e39",
   "metadata": {},
   "outputs": [
    {
     "data": {
      "text/plain": [
       "'one'"
      ]
     },
     "execution_count": 6,
     "metadata": {},
     "output_type": "execute_result"
    }
   ],
   "source": [
    "d['1']      # Key value retrieval is allowed"
   ]
  },
  {
   "cell_type": "code",
   "execution_count": 7,
   "id": "8c7c8436",
   "metadata": {},
   "outputs": [
    {
     "data": {
      "text/plain": [
       "{'name ': {'k1': 'wer', 'k4': [345, 534535, 534]},\n",
       " 'age': 3455,\n",
       " True: {45, 54, 454, 34545},\n",
       " 'key': False,\n",
       " 34554: (45, 45, 45, 45),\n",
       " '_sfsdf': [34, 45, 454, 54, 545]}"
      ]
     },
     "execution_count": 7,
     "metadata": {},
     "output_type": "execute_result"
    }
   ],
   "source": [
    "d2 = {\"name \" : {\"k1\" : \"wer\", 'k4' : [345,534535,534,]} , \"age\" : 3455 , True : {45, 34545, 454, 54}, \"key\" : False , 34554 : (45, 45, 45, 45), \"_sfsdf\" : [34, 45, 454, 54, 545]}\n",
    "\n",
    "d2"
   ]
  },
  {
   "cell_type": "code",
   "execution_count": 8,
   "id": "92aa1076",
   "metadata": {},
   "outputs": [
    {
     "data": {
      "text/plain": [
       "54"
      ]
     },
     "execution_count": 8,
     "metadata": {},
     "output_type": "execute_result"
    }
   ],
   "source": [
    "d2[\"_sfsdf\"][3]           # [Key][Index of list inside a dictionary as key value]"
   ]
  },
  {
   "cell_type": "markdown",
   "id": "0dcf4c2e",
   "metadata": {},
   "source": [
    "## 4. What happens if you try to access spam[&#39;foo&#39;] if spam is {&#39;bar&#39;: 100}?"
   ]
  },
  {
   "cell_type": "code",
   "execution_count": 9,
   "id": "193fcbb9",
   "metadata": {},
   "outputs": [
    {
     "ename": "KeyError",
     "evalue": "'foo'",
     "output_type": "error",
     "traceback": [
      "\u001b[1;31m---------------------------------------------------------------------------\u001b[0m",
      "\u001b[1;31mKeyError\u001b[0m                                  Traceback (most recent call last)",
      "Cell \u001b[1;32mIn[9], line 3\u001b[0m\n\u001b[0;32m      1\u001b[0m spam \u001b[38;5;241m=\u001b[39m {\u001b[38;5;124m'\u001b[39m\u001b[38;5;124mbar\u001b[39m\u001b[38;5;124m'\u001b[39m:\u001b[38;5;241m100\u001b[39m}\n\u001b[1;32m----> 3\u001b[0m \u001b[43mspam\u001b[49m\u001b[43m[\u001b[49m\u001b[38;5;124;43m'\u001b[39;49m\u001b[38;5;124;43mfoo\u001b[39;49m\u001b[38;5;124;43m'\u001b[39;49m\u001b[43m]\u001b[49m\n",
      "\u001b[1;31mKeyError\u001b[0m: 'foo'"
     ]
    }
   ],
   "source": [
    "spam = {'bar':100}\n",
    "\n",
    "spam['foo']"
   ]
  },
  {
   "cell_type": "markdown",
   "id": "d455e658",
   "metadata": {},
   "source": [
    "It shows **key error** about key not found in dictionary."
   ]
  },
  {
   "cell_type": "markdown",
   "id": "a00a136c",
   "metadata": {},
   "source": [
    "## 5. If a dictionary is stored in spam, what is the difference between the expressions &#39;cat&#39; in spam and &#39;cat&#39; in spam.keys()?"
   ]
  },
  {
   "cell_type": "code",
   "execution_count": 10,
   "id": "1d2bcc26",
   "metadata": {},
   "outputs": [],
   "source": [
    "spam = {'cat' : 2}"
   ]
  },
  {
   "cell_type": "code",
   "execution_count": 11,
   "id": "b3f5afb0",
   "metadata": {},
   "outputs": [
    {
     "data": {
      "text/plain": [
       "True"
      ]
     },
     "execution_count": 11,
     "metadata": {},
     "output_type": "execute_result"
    }
   ],
   "source": [
    "'cat' in spam"
   ]
  },
  {
   "cell_type": "code",
   "execution_count": 12,
   "id": "f8ca9610",
   "metadata": {},
   "outputs": [
    {
     "data": {
      "text/plain": [
       "True"
      ]
     },
     "execution_count": 12,
     "metadata": {},
     "output_type": "execute_result"
    }
   ],
   "source": [
    "'cat' in spam.keys()"
   ]
  },
  {
   "cell_type": "markdown",
   "id": "d9b536f1",
   "metadata": {},
   "source": [
    "Both returns true for the same operation. Both the expressions are finding the key 'cat' in the dictionary spam"
   ]
  },
  {
   "cell_type": "markdown",
   "id": "7ac427ef",
   "metadata": {},
   "source": [
    "## 6. If a dictionary is stored in spam, what is the difference between the expressions &#39;cat&#39; in spam and &#39;cat&#39; in spam.values()?\n",
    "\n",
    "Same question as above."
   ]
  },
  {
   "cell_type": "markdown",
   "id": "a920a710",
   "metadata": {},
   "source": [
    "## 7. What is a shortcut for the following code?\n",
    "\n",
    "### if &#39;color&#39; not in spam:\n",
    "### spam[&#39;color&#39;] = &#39;black&#39;"
   ]
  },
  {
   "cell_type": "code",
   "execution_count": 13,
   "id": "5b343c73",
   "metadata": {},
   "outputs": [
    {
     "data": {
      "text/plain": [
       "{'name': 'Pooka', 'age': 5, 'color': 'black'}"
      ]
     },
     "execution_count": 13,
     "metadata": {},
     "output_type": "execute_result"
    }
   ],
   "source": [
    "spam = {'name' : 'Pooka', 'age' : 5}\n",
    "\n",
    "if 'color' not in spam:\n",
    "    \n",
    "    spam['color'] = 'black'\n",
    "\n",
    "spam"
   ]
  },
  {
   "cell_type": "markdown",
   "id": "8f2ce214",
   "metadata": {},
   "source": [
    "The setdefault() method offers a way to do this in one line of code. The first argument passed to the method is the key to check for, and the second argument is the value to set at that key if the key does not exist. If the key does exist, the setdefault() method returns the key’s value.\n",
    "\n",
    "* Signature: spam.setdefault(key, default=None, /)    \n",
    "    * Docstring: Insert key with a value of default if key is not in the dictionary. Return the value for key if key is in the dictionary, else default.\n",
    "    * Type:      builtin_function_or_method"
   ]
  },
  {
   "cell_type": "code",
   "execution_count": 14,
   "id": "83015185",
   "metadata": {},
   "outputs": [
    {
     "data": {
      "text/plain": [
       "{'name': 'Pooka', 'age': 5, 'color': 'black'}"
      ]
     },
     "execution_count": 14,
     "metadata": {},
     "output_type": "execute_result"
    }
   ],
   "source": [
    "spam = {'name' : 'Pooka', 'age' : 5}\n",
    "\n",
    "spam.setdefault('color', 'black')\n",
    "\n",
    "spam"
   ]
  },
  {
   "cell_type": "markdown",
   "id": "39faca74",
   "metadata": {},
   "source": [
    "## 8. How do you &quot;pretty print&quot; dictionary values using which module and function?\n",
    "\n",
    "* Pretty printing means to present something in a more readable format or style.\n",
    "* Within the **pprint** module there is a function with the same name **pprint()**, which is the function used to pretty-print the given string or object.\n",
    "* pprint is a Python module that provides the capability to pretty print Python data types to be more readable. This module also supports pretty-printing dictionary."
   ]
  },
  {
   "cell_type": "code",
   "execution_count": 15,
   "id": "94012799",
   "metadata": {},
   "outputs": [],
   "source": [
    "d = [\n",
    "  {'Name' : 'John', 'Age' : '23', 'Country' : 'USA'},\n",
    "  {'Name' : 'Jose', 'Age' : '44', 'Country' : 'Spain'},\n",
    "  {'Name' : 'Anne', 'Age' : '29', 'Country' : 'UK'},\n",
    "  {'Name' : 'Lee', 'Age' : '35', 'Country' : 'Japan'}\n",
    "]"
   ]
  },
  {
   "cell_type": "markdown",
   "id": "17d2a6e5",
   "metadata": {},
   "source": [
    "### Output for print()"
   ]
  },
  {
   "cell_type": "code",
   "execution_count": 16,
   "id": "92121d81",
   "metadata": {},
   "outputs": [
    {
     "name": "stdout",
     "output_type": "stream",
     "text": [
      "[{'Name': 'John', 'Age': '23', 'Country': 'USA'}, {'Name': 'Jose', 'Age': '44', 'Country': 'Spain'}, {'Name': 'Anne', 'Age': '29', 'Country': 'UK'}, {'Name': 'Lee', 'Age': '35', 'Country': 'Japan'}]\n"
     ]
    }
   ],
   "source": [
    "print(d)"
   ]
  },
  {
   "cell_type": "markdown",
   "id": "193c86db",
   "metadata": {},
   "source": [
    "### Output for pretty print"
   ]
  },
  {
   "cell_type": "code",
   "execution_count": 17,
   "id": "ec88dd5f",
   "metadata": {},
   "outputs": [
    {
     "name": "stdout",
     "output_type": "stream",
     "text": [
      "[{'Age': '23', 'Country': 'USA', 'Name': 'John'},\n",
      " {'Age': '44', 'Country': 'Spain', 'Name': 'Jose'},\n",
      " {'Age': '29', 'Country': 'UK', 'Name': 'Anne'},\n",
      " {'Age': '35', 'Country': 'Japan', 'Name': 'Lee'}]\n"
     ]
    }
   ],
   "source": [
    "import pprint\n",
    "\n",
    "pprint.pprint(d)"
   ]
  }
 ],
 "metadata": {
  "kernelspec": {
   "display_name": "Python 3 (ipykernel)",
   "language": "python",
   "name": "python3"
  },
  "language_info": {
   "codemirror_mode": {
    "name": "ipython",
    "version": 3
   },
   "file_extension": ".py",
   "mimetype": "text/x-python",
   "name": "python",
   "nbconvert_exporter": "python",
   "pygments_lexer": "ipython3",
   "version": "3.11.0"
  }
 },
 "nbformat": 4,
 "nbformat_minor": 5
}
