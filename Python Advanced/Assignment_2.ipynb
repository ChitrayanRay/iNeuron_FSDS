{
 "cells": [
  {
   "cell_type": "markdown",
   "id": "652b6868",
   "metadata": {},
   "source": [
    "## Q1. What is the relationship between classes and modules?"
   ]
  },
  {
   "cell_type": "markdown",
   "id": "60f87d77",
   "metadata": {},
   "source": [
    "A Python class is like an outline/blueprint/mold for creating a new object. An object is anything that you wish to manipulate or change while working through the code. Every time a class object is instantiated, which is when we declare a variable, a new object is initiated from scratch\n",
    "\n",
    "Whereas in Python, Modules are simply files with the . py extension containing Python code that can be imported inside another Python Program. In simple terms, we can consider a module to be the same as a code library or a file that contains a set of functions/Classes that you want to include in your application."
   ]
  },
  {
   "cell_type": "markdown",
   "id": "8f8dce26",
   "metadata": {},
   "source": [
    "## Q2. How do you make instances and classes?"
   ]
  },
  {
   "cell_type": "markdown",
   "id": "eb458f87",
   "metadata": {},
   "source": [
    "A class instance can be created by we call a class by its name and pass the arguments which is created in its **__init__** method.\n",
    "\n",
    "**Example:** record = Student(22,'Male'), Here record is an instance of class student with attriubutes 22 and 'Male'.\n",
    "\n",
    "Whereas for creating a class, we use the **Class keyword**. Class keyword is followed by classname and semicolon.\n",
    "\n",
    "**Example:** Here Student is a class created with class keyword with arguments roll_no and gender."
   ]
  },
  {
   "cell_type": "code",
   "execution_count": 1,
   "id": "a26abf07",
   "metadata": {},
   "outputs": [],
   "source": [
    "class Student:\n",
    "    def __init__(self, roll_no, gender):\n",
    "        self.roll_no = roll_no\n",
    "        self.gender = gender"
   ]
  },
  {
   "cell_type": "markdown",
   "id": "071debf4",
   "metadata": {},
   "source": [
    "## Q3. Where and how should be class attributes created?"
   ]
  },
  {
   "cell_type": "markdown",
   "id": "097c6090",
   "metadata": {},
   "source": [
    "Class attributes or Class level Attributes belong to the class itself. these attributes will be shared by all the instances of the class. Hence these attributes are usually created/defined in the top of class definiation outside all methods.\n",
    " \n",
    "**Example:** In the below code we are defining a class attribute called no_of_students which will be shared by all the instances of the class School."
   ]
  },
  {
   "cell_type": "code",
   "execution_count": 2,
   "id": "40c7e23e",
   "metadata": {},
   "outputs": [],
   "source": [
    "class School:\n",
    "    no_of_students = 140\n",
    "    def __init__(self, name, rollno, marks):\n",
    "        self.name = name\n",
    "        self.rollno = rollno\n",
    "        self.marks = marks"
   ]
  },
  {
   "cell_type": "markdown",
   "id": "72b80285",
   "metadata": {},
   "source": [
    "## Q4. Where and how are instance attributes created?"
   ]
  },
  {
   "cell_type": "markdown",
   "id": "688cf88f",
   "metadata": {},
   "source": [
    "Instances attributes are passed to the class when an object of the class is created. Unlike class attributes, instance attributes are not shared by all objects of the classs. instead each object maintains its own copy of instance attributes at object level. whereas incase of class attributes all instances of class refer to a single copy. Usually instance attributes are defined within the __init__ method of class.\n",
    "\n",
    "**Example:** In the below sample code we are creating a class School with instance varaibles name,rollno,marks which will be provided when an instance of class School is created."
   ]
  },
  {
   "cell_type": "code",
   "execution_count": 3,
   "id": "3ef4372c",
   "metadata": {},
   "outputs": [],
   "source": [
    "class School:\n",
    "    def __init__(self, name, rollno, marks):\n",
    "        self.name = name\n",
    "        self.rollno = rollno\n",
    "        self.marks = marks\n",
    "object1 = School('Kushal', 42, 580)\n",
    "object2 = School('Aniket', 38, 590)"
   ]
  },
  {
   "cell_type": "markdown",
   "id": "09de9c88",
   "metadata": {},
   "source": [
    "## Q5. What does the term &quot;self&quot; in a Python class mean?"
   ]
  },
  {
   "cell_type": "markdown",
   "id": "47835964",
   "metadata": {},
   "source": [
    "self represents the instance of the class (it represents the object itself). By using the “self” keyword we can access the attributes and methods of the class with in the class in python. It binds the attributes with the given arguments."
   ]
  },
  {
   "cell_type": "code",
   "execution_count": 4,
   "id": "bb853d34",
   "metadata": {},
   "outputs": [
    {
     "name": "stdout",
     "output_type": "stream",
     "text": [
      "{'name': 'Kushal', 'rollno': 42, 'marks': 580}\n",
      "{'name': 'Aniket', 'rollno': 38, 'marks': 590}\n"
     ]
    }
   ],
   "source": [
    "class School:\n",
    "    def __init__(self, name, rollno, marks):\n",
    "        self.name = name\n",
    "        self.rollno = rollno\n",
    "        self.marks = marks\n",
    "object1 = School('Kushal', 42, 580)\n",
    "object2 = School('Aniket', 38, 590)  \n",
    "\n",
    "print(object1.__dict__)\n",
    "print(object2.__dict__)"
   ]
  },
  {
   "cell_type": "markdown",
   "id": "a3a06cc0",
   "metadata": {},
   "source": [
    "## Q6. How does a Python class handle operator overloading?"
   ]
  },
  {
   "cell_type": "markdown",
   "id": "cb52a61f",
   "metadata": {},
   "source": [
    "Python Classes handle operator overloading by using special methods called Magic methods. these special methods usually \n",
    "begin and end with __ (double underscore)\n",
    "\n",
    "**Example:** Magic methods for basic arithmetic operators are:\n",
    "\n",
    "**1.** + -> __add__()\n",
    "\n",
    "**2.** - -> __sub__()\n",
    "\n",
    "**3.** * -> __mul__()\n",
    "\n",
    "**4.** / -> __div__()"
   ]
  },
  {
   "cell_type": "code",
   "execution_count": 5,
   "id": "87436009",
   "metadata": {},
   "outputs": [
    {
     "name": "stdout",
     "output_type": "stream",
     "text": [
      "The total number of pages in 2 books is 300\n"
     ]
    }
   ],
   "source": [
    "class Book:\n",
    "    def __init__(self, pages):\n",
    "        self.pages = pages\n",
    "    def __add__(self, other):\n",
    "        return self.pages + other.pages\n",
    "b1 = Book(100)\n",
    "b2 = Book(200)\n",
    "print(f'The total number of pages in 2 books is {b1 + b2}')"
   ]
  },
  {
   "cell_type": "markdown",
   "id": "c4e746c5",
   "metadata": {},
   "source": [
    "## Q7. When do you consider allowing operator overloading of your classes?"
   ]
  },
  {
   "cell_type": "markdown",
   "id": "ab3cc0f8",
   "metadata": {},
   "source": [
    "When we want to have different meaning for the same operator accroding to the context we use operator overloading."
   ]
  },
  {
   "cell_type": "markdown",
   "id": "1fd5f3cf",
   "metadata": {},
   "source": [
    "## Q8. What is the most popular form of operator overloading?"
   ]
  },
  {
   "cell_type": "markdown",
   "id": "5bc3feb4",
   "metadata": {},
   "source": [
    "The most popular form of operator overloading in python is by special methods called Magic methods. Which usually beign and end with double underscore __<method name>__."
   ]
  },
  {
   "cell_type": "markdown",
   "id": "1fdb3b66",
   "metadata": {},
   "source": [
    "## Q9. What are the two most important concepts to grasp in order to comprehend Python OOP code?"
   ]
  },
  {
   "cell_type": "markdown",
   "id": "58a660bf",
   "metadata": {},
   "source": [
    "Classes and objects are the two concepts to comprehend python OOP code as more formally objects are entities that represent instances of general abstract concept called class\n",
    "\n",
    "Along with classes and objects the important concepts to grasp are:\n",
    "\n",
    "- Inheritence\n",
    "- Abstraction\n",
    "- Polymorphism\n",
    "- Encapsulation"
   ]
  }
 ],
 "metadata": {
  "kernelspec": {
   "display_name": "Python 3 (ipykernel)",
   "language": "python",
   "name": "python3"
  },
  "language_info": {
   "codemirror_mode": {
    "name": "ipython",
    "version": 3
   },
   "file_extension": ".py",
   "mimetype": "text/x-python",
   "name": "python",
   "nbconvert_exporter": "python",
   "pygments_lexer": "ipython3",
   "version": "3.11.0"
  }
 },
 "nbformat": 4,
 "nbformat_minor": 5
}
