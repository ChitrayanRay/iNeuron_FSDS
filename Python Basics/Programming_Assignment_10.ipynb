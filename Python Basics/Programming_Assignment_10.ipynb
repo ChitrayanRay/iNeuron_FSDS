{
 "cells": [
  {
   "cell_type": "markdown",
   "id": "087358cd",
   "metadata": {},
   "source": [
    "## 1. Write a Python program to find sum of elements in list?"
   ]
  },
  {
   "cell_type": "code",
   "execution_count": 1,
   "id": "7e2448ad",
   "metadata": {},
   "outputs": [
    {
     "name": "stdout",
     "output_type": "stream",
     "text": [
      "Enter elements to the list:19, 7, 8, 26, 24\n",
      "Input list: [19, 7, 8, 26, 24]\n",
      "Sum of elements in the list: 84\n"
     ]
    }
   ],
   "source": [
    "def listSum():\n",
    "    lst = [int(v) for v in input(\"Enter elements to the list:\").split(',')]\n",
    "    print(\"Input list:\", lst)\n",
    "    s = 0\n",
    "    \n",
    "    for i in lst:\n",
    "        s += i\n",
    "    print(\"Sum of elements in the list:\", s)\n",
    "\n",
    "listSum()"
   ]
  },
  {
   "cell_type": "markdown",
   "id": "3a6f4756",
   "metadata": {},
   "source": [
    "## 2. Write a Python program to Multiply all numbers in the list?"
   ]
  },
  {
   "cell_type": "code",
   "execution_count": 2,
   "id": "65c9d28c",
   "metadata": {},
   "outputs": [
    {
     "name": "stdout",
     "output_type": "stream",
     "text": [
      "Enter elements to the list:19, 7, 8, 26, 24\n",
      "Input list: [19, 7, 8, 26, 24]\n",
      "Multiplication of elements in the list: 663936\n"
     ]
    }
   ],
   "source": [
    "def listMultiply():\n",
    "    lst = [int(v) for v in input(\"Enter elements to the list:\").split(',')]\n",
    "    print(\"Input list:\", lst)\n",
    "    m = 1\n",
    "    for i in lst:\n",
    "        m = m * i\n",
    "    print(\"Multiplication of elements in the list:\", m)\n",
    "\n",
    "listMultiply()"
   ]
  },
  {
   "cell_type": "markdown",
   "id": "3704e0d1",
   "metadata": {},
   "source": [
    "## 3. Write a Python program to find smallest number in a list?"
   ]
  },
  {
   "cell_type": "code",
   "execution_count": 3,
   "id": "1de713ce",
   "metadata": {},
   "outputs": [
    {
     "name": "stdout",
     "output_type": "stream",
     "text": [
      "Enter elements to the list:19, 7, 8, 26, 24\n",
      "Input list: [19, 7, 8, 26, 24]\n",
      "Smallest element in the given list is 7\n"
     ]
    }
   ],
   "source": [
    "def minNumList():\n",
    "    lst = [int(v) for v in input(\"Enter elements to the list:\").split(',')]\n",
    "    print(\"Input list:\", lst)\n",
    "    lst.sort()\n",
    "    print(f\"Smallest element in the given list is {lst[0]}\")\n",
    "\n",
    "minNumList()"
   ]
  },
  {
   "cell_type": "markdown",
   "id": "5d6ffa82",
   "metadata": {},
   "source": [
    "## 4. Write a Python program to find largest number in a list?"
   ]
  },
  {
   "cell_type": "code",
   "execution_count": 4,
   "id": "815ee24c",
   "metadata": {},
   "outputs": [
    {
     "name": "stdout",
     "output_type": "stream",
     "text": [
      "Enter elements to the list:19, 7, 8, 26, 24\n",
      "Input list: [19, 7, 8, 26, 24]\n",
      "Largest element in the given list is 26\n"
     ]
    }
   ],
   "source": [
    "def maxNumList():\n",
    "    lst = [int(v) for v in input(\"Enter elements to the list:\").split(',')]\n",
    "    print(\"Input list:\", lst)\n",
    "    lst.sort()\n",
    "    print(f\"Largest element in the given list is {lst[-1]}\")\n",
    "\n",
    "maxNumList()"
   ]
  },
  {
   "cell_type": "markdown",
   "id": "0f712e2f",
   "metadata": {},
   "source": [
    "## 5. Write a Python program to find second largest number in a list?"
   ]
  },
  {
   "cell_type": "code",
   "execution_count": 5,
   "id": "327eae42",
   "metadata": {},
   "outputs": [
    {
     "name": "stdout",
     "output_type": "stream",
     "text": [
      "Enter elements to the list:19, 7, 8, 26, 24\n",
      "Input list: [19, 7, 8, 26, 24]\n",
      "Second largest element in the given list is 24\n"
     ]
    }
   ],
   "source": [
    "def secondMaxNumList():\n",
    "    lst = [int(v) for v in input(\"Enter elements to the list:\").split(',')]\n",
    "    print(\"Input list:\", lst)\n",
    "    lst.sort()\n",
    "    print(f\"Second largest element in the given list is {lst[-2]}\")\n",
    "\n",
    "secondMaxNumList()"
   ]
  },
  {
   "cell_type": "markdown",
   "id": "3d641fed",
   "metadata": {},
   "source": [
    "## 6. Write a Python program to find N largest elements from a list?"
   ]
  },
  {
   "cell_type": "code",
   "execution_count": 6,
   "id": "472288d4",
   "metadata": {},
   "outputs": [
    {
     "name": "stdout",
     "output_type": "stream",
     "text": [
      "Enter elements to the list:19, 7, 8, 26, 24\n",
      "Input list: [19, 7, 8, 26, 24]\n",
      "3 largest elements in the given list is [19, 24, 26]\n"
     ]
    }
   ],
   "source": [
    "def nMaxNumList(n):\n",
    "    lst = [int(v) for v in input(\"Enter elements to the list:\").split(',')]\n",
    "    print(\"Input list:\", lst)\n",
    "    lst.sort()\n",
    "    print(\"{} largest elements in the given list is {}\".format(n, lst[-n:]))\n",
    "\n",
    "nMaxNumList(3)"
   ]
  },
  {
   "cell_type": "markdown",
   "id": "2aa0664c",
   "metadata": {},
   "source": [
    "## 7. Write a Python program to print even numbers in a list?"
   ]
  },
  {
   "cell_type": "code",
   "execution_count": 7,
   "id": "6231624b",
   "metadata": {},
   "outputs": [
    {
     "name": "stdout",
     "output_type": "stream",
     "text": [
      "Enter elements to the list:19, 7, 8, 26, 24\n",
      "Input list: [19, 7, 8, 26, 24]\n",
      "Even numbers in the list of [19, 7, 8, 26, 24] is [8, 26, 24]\n"
     ]
    }
   ],
   "source": [
    "def evenNumList():\n",
    "    lst = [int(v) for v in input(\"Enter elements to the list:\").split(',')]\n",
    "    print(\"Input list:\", lst)\n",
    "    l = []\n",
    "    for i in lst:\n",
    "        if i % 2 == 0:\n",
    "            l.append(i)\n",
    "    print(f\"Even numbers in the list of {lst} is {l}\")        \n",
    "\n",
    "evenNumList()"
   ]
  },
  {
   "cell_type": "markdown",
   "id": "68b3aea7",
   "metadata": {},
   "source": [
    "## 8. Write a Python program to print odd numbers in a List?"
   ]
  },
  {
   "cell_type": "code",
   "execution_count": 8,
   "id": "954c0107",
   "metadata": {},
   "outputs": [
    {
     "name": "stdout",
     "output_type": "stream",
     "text": [
      "Enter elements to the list:19, 7, 8, 26, 24\n",
      "Input list: [19, 7, 8, 26, 24]\n",
      "Odd numbers in the list of [19, 7, 8, 26, 24] is [19, 7]\n"
     ]
    }
   ],
   "source": [
    "def oddNumList():\n",
    "    lst = [int(v) for v in input(\"Enter elements to the list:\").split(',')]\n",
    "    print(\"Input list:\", lst)\n",
    "    l = []\n",
    "    for i in lst:\n",
    "        if i % 2 != 0:\n",
    "            l.append(i)\n",
    "    print(f\"Odd numbers in the list of {lst} is {l}\")        \n",
    "\n",
    "oddNumList()"
   ]
  },
  {
   "cell_type": "markdown",
   "id": "0ff0cb77",
   "metadata": {},
   "source": [
    "## 9. Write a Python program to Remove empty List from List?"
   ]
  },
  {
   "cell_type": "code",
   "execution_count": 9,
   "id": "474c29b9",
   "metadata": {},
   "outputs": [
    {
     "name": "stdout",
     "output_type": "stream",
     "text": [
      "Enter elements to the list:19, 7, 8, [], 26, 24\n",
      "Input list: [19, 7, 8, [], 26, 24]\n",
      "Empty list is there in the given list at 4 position\n",
      "List after removing the empty list:  [19, 7, 8, 26, 24]\n"
     ]
    }
   ],
   "source": [
    "def removeEmptyList():\n",
    "    lst = [eval(v) for v in input(\"Enter elements to the list:\").split(',')]\n",
    "    print(\"Input list:\", lst)\n",
    "    if [] in lst:\n",
    "        print(f\"Empty list is there in the given list at {lst.index([]) + 1} position\")\n",
    "        lst.remove([])\n",
    "        print(\"List after removing the empty list: \", lst)\n",
    "    else:\n",
    "        print(\"There is no empty list!\")\n",
    "\n",
    "removeEmptyList()"
   ]
  },
  {
   "cell_type": "markdown",
   "id": "3a256b23",
   "metadata": {},
   "source": [
    "## 10. Write a Python program to Cloning or Copying a list?"
   ]
  },
  {
   "cell_type": "code",
   "execution_count": 10,
   "id": "4069e71e",
   "metadata": {},
   "outputs": [
    {
     "name": "stdout",
     "output_type": "stream",
     "text": [
      "Enter elements to the list:19, 7, 8, 26, 24\n",
      "Given list :[19, 7, 8, 26, 24] with id 1608556513792\n",
      "Cloned list :[19, 7, 8, 26, 24] with id 1608556394688\n"
     ]
    }
   ],
   "source": [
    "def copyList():\n",
    "    lst = [eval(v) for v in input(\"Enter elements to the list:\").split(',')]\n",
    "    newLst = lst.copy()\n",
    "    print(\"Given list :{} with id {}\".format(lst, id(lst)))\n",
    "    print(\"Cloned list :{} with id {}\".format(newLst, id(newLst)))\n",
    "\n",
    "copyList()"
   ]
  },
  {
   "cell_type": "markdown",
   "id": "c8868340",
   "metadata": {},
   "source": [
    "## 11. Write a Python program to Count occurrences of an element in a list?"
   ]
  },
  {
   "cell_type": "code",
   "execution_count": 11,
   "id": "55032e26",
   "metadata": {},
   "outputs": [
    {
     "name": "stdout",
     "output_type": "stream",
     "text": [
      "Enter elements to the list:19, 7, 8, 19, 26, 7, 26, 8, 19\n",
      "Enter an element to search in the list:19\n",
      "3 occurences of 19 in the given list of [19, 7, 8, 19, 26, 7, 26, 8, 19]\n"
     ]
    }
   ],
   "source": [
    "def elementOccurence():\n",
    "    lst = [eval(v) for v in input(\"Enter elements to the list:\").split(',')]\n",
    "    n = eval(input(\"Enter an element to search in the list:\"))\n",
    "    count = 0\n",
    "    if n in lst:\n",
    "        for i in lst:\n",
    "            if i == n:\n",
    "                count += 1\n",
    "        print(f\"{count} occurences of {n} in the given list of {lst}\")\n",
    "\n",
    "elementOccurence()"
   ]
  }
 ],
 "metadata": {
  "kernelspec": {
   "display_name": "Python 3 (ipykernel)",
   "language": "python",
   "name": "python3"
  },
  "language_info": {
   "codemirror_mode": {
    "name": "ipython",
    "version": 3
   },
   "file_extension": ".py",
   "mimetype": "text/x-python",
   "name": "python",
   "nbconvert_exporter": "python",
   "pygments_lexer": "ipython3",
   "version": "3.11.0"
  }
 },
 "nbformat": 4,
 "nbformat_minor": 5
}
