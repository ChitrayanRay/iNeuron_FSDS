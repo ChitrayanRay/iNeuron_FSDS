{
 "cells": [
  {
   "cell_type": "markdown",
   "id": "1d17b8f2",
   "metadata": {},
   "source": [
    "## Q1. Is an assignment operator like += only for show? Is it possible that it would lead to faster results at the runtime?"
   ]
  },
  {
   "cell_type": "markdown",
   "id": "d9a58dd4",
   "metadata": {},
   "source": [
    "+= leads to faster operation as B = B + 1 evaluates to finding A, adding 1 to it. Then storing the value again in variable B. This expression makes Python to look for memory holder of a twice. But B += 1 simply means value of B is to incremented by 1. As memory address has to be identified only once."
   ]
  },
  {
   "cell_type": "markdown",
   "id": "2a0ebe81",
   "metadata": {},
   "source": [
    "## Q2. What is the smallest number of statements you&#39;d have to write in most programming languages to replace the Python expression a, b = a + b, a?"
   ]
  },
  {
   "cell_type": "markdown",
   "id": "8061b272",
   "metadata": {},
   "source": [
    "Minimum number of lines required to write above code in languages other Python will be 4, two for assigning initial values for variables a and b, and two for reassignment i.e. a = a + b and b = a."
   ]
  },
  {
   "cell_type": "markdown",
   "id": "85d138df",
   "metadata": {},
   "source": [
    "## Q3. In Python, what is the most effective way to set a list of 100 integers to 0?"
   ]
  },
  {
   "cell_type": "markdown",
   "id": "33e20bcb",
   "metadata": {},
   "source": [
    "The Most effective way to set a list of 100 integers to 0 in python is by using repition operator(*) or by using list comprehension."
   ]
  },
  {
   "cell_type": "code",
   "execution_count": 1,
   "id": "6171cada",
   "metadata": {},
   "outputs": [
    {
     "name": "stdout",
     "output_type": "stream",
     "text": [
      "[0, 0, 0, 0, 0, 0, 0, 0, 0, 0, 0, 0, 0, 0, 0, 0, 0, 0, 0, 0, 0, 0, 0, 0, 0, 0, 0, 0, 0, 0, 0, 0, 0, 0, 0, 0, 0, 0, 0, 0, 0, 0, 0, 0, 0, 0, 0, 0, 0, 0, 0, 0, 0, 0, 0, 0, 0, 0, 0, 0, 0, 0, 0, 0, 0, 0, 0, 0, 0, 0, 0, 0, 0, 0, 0, 0, 0, 0, 0, 0, 0, 0, 0, 0, 0, 0, 0, 0, 0, 0, 0, 0, 0, 0, 0, 0, 0, 0, 0, 0]\n",
      "====================================================================================================\n",
      "[0, 0, 0, 0, 0, 0, 0, 0, 0, 0, 0, 0, 0, 0, 0, 0, 0, 0, 0, 0, 0, 0, 0, 0, 0, 0, 0, 0, 0, 0, 0, 0, 0, 0, 0, 0, 0, 0, 0, 0, 0, 0, 0, 0, 0, 0, 0, 0, 0, 0, 0, 0, 0, 0, 0, 0, 0, 0, 0, 0, 0, 0, 0, 0, 0, 0, 0, 0, 0, 0, 0, 0, 0, 0, 0, 0, 0, 0, 0, 0, 0, 0, 0, 0, 0, 0, 0, 0, 0, 0, 0, 0, 0, 0, 0, 0, 0, 0, 0, 0]\n"
     ]
    }
   ],
   "source": [
    "# Approach 1\n",
    "lst_zero = [0] * 100\n",
    "print(lst_zero)\n",
    "\n",
    "# Approach 2\n",
    "print(\"=\" * 100)\n",
    "zero_lst = [0 for x in range(100)]\n",
    "print(zero_lst)"
   ]
  },
  {
   "cell_type": "markdown",
   "id": "3cca3fb7",
   "metadata": {},
   "source": [
    "## Q4. What is the most effective way to initialise a list of 99 integers that repeats the sequence 1, 2, 3? S If necessary, show step-by-step instructions on how to accomplish this."
   ]
  },
  {
   "cell_type": "code",
   "execution_count": 2,
   "id": "40d2135a",
   "metadata": {},
   "outputs": [
    {
     "name": "stdout",
     "output_type": "stream",
     "text": [
      "[1, 2, 3, 1, 2, 3, 1, 2, 3, 1, 2, 3, 1, 2, 3, 1, 2, 3, 1, 2, 3, 1, 2, 3, 1, 2, 3, 1, 2, 3, 1, 2, 3, 1, 2, 3, 1, 2, 3, 1, 2, 3, 1, 2, 3, 1, 2, 3, 1, 2, 3, 1, 2, 3, 1, 2, 3, 1, 2, 3, 1, 2, 3, 1, 2, 3, 1, 2, 3, 1, 2, 3, 1, 2, 3, 1, 2, 3, 1, 2, 3, 1, 2, 3, 1, 2, 3, 1, 2, 3, 1, 2, 3, 1, 2, 3, 1, 2, 3]\n",
      "====================================================================================================\n",
      "[1, 2, 3, 1, 2, 3, 1, 2, 3, 1, 2, 3, 1, 2, 3, 1, 2, 3, 1, 2, 3, 1, 2, 3, 1, 2, 3, 1, 2, 3, 1, 2, 3, 1, 2, 3, 1, 2, 3, 1, 2, 3, 1, 2, 3, 1, 2, 3, 1, 2, 3, 1, 2, 3, 1, 2, 3, 1, 2, 3, 1, 2, 3, 1, 2, 3, 1, 2, 3, 1, 2, 3, 1, 2, 3, 1, 2, 3, 1, 2, 3, 1, 2, 3, 1, 2, 3, 1, 2, 3, 1, 2, 3, 1, 2, 3, 1, 2, 3]\n"
     ]
    }
   ],
   "source": [
    "# Approach 1\n",
    "lst = [1, 2, 3] * 33\n",
    "print(lst)\n",
    "\n",
    "# Approach 2\n",
    "print(\"=\" * 100)\n",
    "l = [i for i in range(1, 4)] * 33\n",
    "print(l)"
   ]
  },
  {
   "cell_type": "markdown",
   "id": "aec07360",
   "metadata": {},
   "source": [
    "## Q5. If you&#39;re using IDLE to run a Python application, explain how to print a multidimensional list as efficiently?"
   ]
  },
  {
   "cell_type": "code",
   "execution_count": 3,
   "id": "87ea2376",
   "metadata": {},
   "outputs": [
    {
     "name": "stdout",
     "output_type": "stream",
     "text": [
      "1  1  1  \n",
      "\n",
      "2  2  2  \n",
      "\n",
      "3  3  3  \n",
      "\n",
      "4  4  4  \n",
      "\n"
     ]
    }
   ],
   "source": [
    "md_list = [[1, 1, 1],[2, 2, 2], [3, 3, 3], [4, 4, 4]] # 3 Dimensional List\n",
    "for x in range(len(md_list)):\n",
    "    for y in range(len(md_list[x])):\n",
    "        print(md_list[x][y], end = \"  \")\n",
    "    print('\\n')"
   ]
  },
  {
   "cell_type": "markdown",
   "id": "b1c9065d",
   "metadata": {},
   "source": [
    "## Q6. Is it possible to use list comprehension with a string? If so, how can you go about doing it?"
   ]
  },
  {
   "cell_type": "markdown",
   "id": "fc521fbf",
   "metadata": {},
   "source": [
    "List comprehension with string is possible."
   ]
  },
  {
   "cell_type": "code",
   "execution_count": 4,
   "id": "eb4ff764",
   "metadata": {},
   "outputs": [
    {
     "name": "stdout",
     "output_type": "stream",
     "text": [
      "['l', 'i', 's', 't', '-', 'c', 'o', 'm', 'p', 'r', 'e', 'h', 'e', 'n', 's', 'i', 'o', 'n']\n"
     ]
    }
   ],
   "source": [
    "lst = [val for val in 'list-comprehension']\n",
    "print(lst)"
   ]
  },
  {
   "cell_type": "markdown",
   "id": "cd42e075",
   "metadata": {},
   "source": [
    "## Q7. From the command line, how do you get support with a user-written Python programme? Is this possible from inside IDLE?"
   ]
  },
  {
   "cell_type": "markdown",
   "id": "f7feddea",
   "metadata": {},
   "source": [
    "**Get support with a user-written Python Program:** Start a command prompt (Windows) or terminal window (Linux/Mac). If the current working directory is the same as the location in which you saved the file, you can simply specify the filename as a command-line argument to the Python interpreter.\n",
    "\n",
    "**Get support with a User-written Python Program from IDLE:** You can also create script files and run them in IDLE. From the Shell window menu, select File → New File. That should open an additional editing window. Type in the code to be executed. From the menu in that window, select File → Save or File → Save As… and save the file to disk. Then select Run → Run Module. The output should appear back in the interpreter."
   ]
  },
  {
   "cell_type": "markdown",
   "id": "d51c917f",
   "metadata": {},
   "source": [
    "## Q8. Functions are said to be “first-class objects” in Python but not in most other languages, such as C++ or Java. What can you do in Python with a function (callable object) that you can&#39;t do in C or C++?"
   ]
  },
  {
   "cell_type": "markdown",
   "id": "4ac58a8d",
   "metadata": {},
   "source": [
    "The tasks which can be performed with the functions in python are:\n",
    "\n",
    "**1.** A function is an instance of the Object type.\n",
    "\n",
    "**2.** We can store the function in a variable.\n",
    "\n",
    "**3.** We can pass the function as a parameter to another function.\n",
    "\n",
    "**4.** We can return the function from a function.\n",
    "\n",
    "**5.** We can store them in data structures such as hash tables, lists."
   ]
  },
  {
   "cell_type": "markdown",
   "id": "1705a542",
   "metadata": {},
   "source": [
    "## Q9. How do you distinguish between a wrapper, a wrapped feature, and a decorator?"
   ]
  },
  {
   "cell_type": "markdown",
   "id": "73fe8489",
   "metadata": {},
   "source": [
    "Wrappers around the functions are known as Decrators."
   ]
  },
  {
   "cell_type": "markdown",
   "id": "dd848949",
   "metadata": {},
   "source": [
    "## Q10. If a function is a generator function, what does it return?"
   ]
  },
  {
   "cell_type": "markdown",
   "id": "64d94101",
   "metadata": {},
   "source": [
    "Generator functions are a special kind of function that return a lazy iterator. These are objects that you can loop over like a list. However, unlike lists, lazy iterators do not store their contents in memory."
   ]
  },
  {
   "cell_type": "markdown",
   "id": "6a3f341a",
   "metadata": {},
   "source": [
    "## Q11. What is the one improvement that must be made to a function in order for it to become a generator function in the Python language?"
   ]
  },
  {
   "cell_type": "markdown",
   "id": "d079cf6e",
   "metadata": {},
   "source": [
    "Generator is written as a normal function but uses yield keyword to return values instead of return keyword."
   ]
  },
  {
   "cell_type": "markdown",
   "id": "f5e2cd58",
   "metadata": {},
   "source": [
    "## Q12. Identify at least one benefit of generators."
   ]
  },
  {
   "cell_type": "markdown",
   "id": "447e3633",
   "metadata": {},
   "source": [
    "return statement sends a specified value back to it's caller whereas yield statment can produce a sequence of values. We should use generator when we want to iterate over a sequence, but don’t want to store the entire sequence in memory."
   ]
  }
 ],
 "metadata": {
  "kernelspec": {
   "display_name": "Python 3 (ipykernel)",
   "language": "python",
   "name": "python3"
  },
  "language_info": {
   "codemirror_mode": {
    "name": "ipython",
    "version": 3
   },
   "file_extension": ".py",
   "mimetype": "text/x-python",
   "name": "python",
   "nbconvert_exporter": "python",
   "pygments_lexer": "ipython3",
   "version": "3.11.0"
  }
 },
 "nbformat": 4,
 "nbformat_minor": 5
}
