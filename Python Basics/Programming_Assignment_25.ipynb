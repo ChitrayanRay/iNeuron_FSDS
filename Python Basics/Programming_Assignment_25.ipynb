{
 "cells": [
  {
   "cell_type": "markdown",
   "id": "d6224ab0",
   "metadata": {},
   "source": [
    "## Question1\n",
    "\n",
    "## Create a function that takes three integer arguments (a, b, c) and returns the amount of integers which are of equal value.\n",
    "\n",
    "### Examples\n",
    "\n",
    "#### equal(3, 4, 3) ➞ 2\n",
    "#### equal(1, 1, 1) ➞ 3\n",
    "#### equal(3, 4, 1) ➞ 0\n",
    "\n",
    "### Notes\n",
    "\n",
    "#### Your function must return 0, 2 or 3."
   ]
  },
  {
   "cell_type": "code",
   "execution_count": 1,
   "id": "3b939902",
   "metadata": {},
   "outputs": [
    {
     "data": {
      "text/plain": [
       "'Output ➞ 2'"
      ]
     },
     "execution_count": 1,
     "metadata": {},
     "output_type": "execute_result"
    }
   ],
   "source": [
    "def equal(a, b, c):\n",
    "    count = 0\n",
    "    if a == b == c:\n",
    "        count = 3\n",
    "    elif a == b or b == c or a == c:\n",
    "        count = 2\n",
    "    return f\"Output ➞ {count}\"\n",
    "\n",
    "equal(3, 4, 3)"
   ]
  },
  {
   "cell_type": "markdown",
   "id": "282fb4c4",
   "metadata": {},
   "source": [
    "## Question2\n",
    "\n",
    "## Write a function that converts a dictionary into a list of keys-values tuples.\n",
    "\n",
    "### Examples\n",
    "\n",
    "#### dict_to_list({ &quot;D&quot;: 1, &quot;B&quot;: 2, &quot;C&quot;: 3 }) ➞ [(&quot;B&quot;, 2), (&quot;C&quot;, 3), (&quot;D&quot;, 1)]\n",
    "\n",
    "#### dict_to_list({ &quot;likes&quot;: 2, &quot;dislikes&quot;: 3, &quot;followers&quot;: 10 }) ➞ [(&quot;dislikes&quot;, 3), (&quot;followers&quot;, 10), (&quot;likes&quot;, 2)]\n",
    "\n",
    "### Notes\n",
    "\n",
    "#### Return the elements in the list in alphabetical order."
   ]
  },
  {
   "cell_type": "code",
   "execution_count": 2,
   "id": "d23a79b0",
   "metadata": {},
   "outputs": [
    {
     "data": {
      "text/plain": [
       "[('dislikes', 3), ('followers', 10), ('likes', 2)]"
      ]
     },
     "execution_count": 2,
     "metadata": {},
     "output_type": "execute_result"
    }
   ],
   "source": [
    "def dict_to_list(d):\n",
    "    return sorted(d.items())\n",
    "\n",
    "dict_to_list({ \"likes\": 2, \"dislikes\": 3, \"followers\": 10 })"
   ]
  },
  {
   "cell_type": "markdown",
   "id": "f4bf76c6",
   "metadata": {},
   "source": [
    "## Question3\n",
    "\n",
    "## Write a function that creates a dictionary with each (key, value) pair being the (lower case, upper case) versions of a letter, respectively.\n",
    "\n",
    "### Examples\n",
    "\n",
    "#### mapping([&quot;p&quot;, &quot;s&quot;]) ➞ { &quot;p&quot;: &quot;P&quot;, &quot;s&quot;: &quot;S&quot; }\n",
    "#### mapping([&quot;a&quot;, &quot;b&quot;, &quot;c&quot;]) ➞ { &quot;a&quot;: &quot;A&quot;, &quot;b&quot;: &quot;B&quot;, &quot;c&quot;: &quot;C&quot; }\n",
    "#### mapping([&quot;a&quot;, &quot;v&quot;, &quot;y&quot;, &quot;z&quot;]) ➞ { &quot;a&quot;: &quot;A&quot;, &quot;v&quot;: &quot;V&quot;, &quot;y&quot;: &quot;Y&quot;, &quot;z&quot;: &quot;Z&quot; }\n",
    "\n",
    "### Notes\n",
    "\n",
    "#### All of the letters in the input list will always be lowercase."
   ]
  },
  {
   "cell_type": "code",
   "execution_count": 3,
   "id": "b2cd7195",
   "metadata": {},
   "outputs": [
    {
     "data": {
      "text/plain": [
       "{'p': 'P', 's': 'S'}"
      ]
     },
     "execution_count": 3,
     "metadata": {},
     "output_type": "execute_result"
    }
   ],
   "source": [
    "def mapping(lst):\n",
    "    letter_dict = {}\n",
    "    for letter in lst:\n",
    "        ascii_code = ord(letter.lower())\n",
    "        lower_case = chr(ascii_code)\n",
    "        upper_case = chr(ascii_code - 32)\n",
    "        letter_dict[lower_case] = upper_case\n",
    "    return letter_dict\n",
    "\n",
    "mapping([\"p\", \"s\"])"
   ]
  },
  {
   "cell_type": "markdown",
   "id": "b2bb73bd",
   "metadata": {},
   "source": [
    "## Question4\n",
    "\n",
    "## Write a function, that replaces all vowels in a string with a specified vowel.\n",
    "\n",
    "### Examples\n",
    "\n",
    "#### vow_replace(&quot;apples and bananas&quot;, &quot;u&quot;) ➞ &quot;upplus und bununus&quot;\n",
    "#### vow_replace(&quot;cheese casserole&quot;, &quot;o&quot;) ➞ &quot;chooso cossorolo&quot;\n",
    "#### vow_replace(&quot;stuffed jalapeno poppers&quot;, &quot;e&quot;) ➞ &quot;steffed jelepene peppers&quot;\n",
    "\n",
    "### Notes\n",
    "\n",
    "#### All words will be lowercase. Y is not considered a vowel."
   ]
  },
  {
   "cell_type": "code",
   "execution_count": 4,
   "id": "047d57a4",
   "metadata": {},
   "outputs": [
    {
     "data": {
      "text/plain": [
       "'Output ➞ upplus und bununus'"
      ]
     },
     "execution_count": 4,
     "metadata": {},
     "output_type": "execute_result"
    }
   ],
   "source": [
    "def replace_vowels(s, new_vowel):\n",
    "    vowels = \"aeiouAEIOU\"\n",
    "    result = \"\"\n",
    "    for c in s:\n",
    "        if c in vowels:\n",
    "            result += new_vowel\n",
    "        else:\n",
    "            result += c\n",
    "    return f\"Output ➞ {result}\"\n",
    "\n",
    "replace_vowels(\"apples and bananas\", \"u\")"
   ]
  },
  {
   "cell_type": "markdown",
   "id": "01f7c850",
   "metadata": {},
   "source": [
    "## Question5\n",
    "\n",
    "## Create a function that takes a string as input and capitalizes a letter if its ASCII code is even and returns its lower case version if its ASCII code is odd.\n",
    "\n",
    "### Examples\n",
    "\n",
    "#### ascii_capitalize(&quot;to be or not to be!&quot;) ➞ &quot;To Be oR NoT To Be!&quot;\n",
    "#### ascii_capitalize(&quot;THE LITTLE MERMAID&quot;) ➞ &quot;THe LiTTLe meRmaiD&quot;\n",
    "#### ascii_capitalize(&quot;Oh what a beautiful morning.&quot;) ➞ &quot;oH wHaT a BeauTiFuL moRNiNg.&quot;"
   ]
  },
  {
   "cell_type": "code",
   "execution_count": 5,
   "id": "6a9c25a1",
   "metadata": {},
   "outputs": [
    {
     "data": {
      "text/plain": [
       "'Output ➞ To Be oR NoT To Be'"
      ]
     },
     "execution_count": 5,
     "metadata": {},
     "output_type": "execute_result"
    }
   ],
   "source": [
    "def ascii_capitalize(s):\n",
    "    result = \"\"\n",
    "    for c in s:\n",
    "        if ord(c) % 2 == 0:\n",
    "            result += c.upper()\n",
    "        else:\n",
    "            result += c.lower()\n",
    "    return f\"Output ➞ {result}\"\n",
    "\n",
    "s = \"to be or not to be\"\n",
    "ascii_capitalize(s)"
   ]
  }
 ],
 "metadata": {
  "kernelspec": {
   "display_name": "Python 3 (ipykernel)",
   "language": "python",
   "name": "python3"
  },
  "language_info": {
   "codemirror_mode": {
    "name": "ipython",
    "version": 3
   },
   "file_extension": ".py",
   "mimetype": "text/x-python",
   "name": "python",
   "nbconvert_exporter": "python",
   "pygments_lexer": "ipython3",
   "version": "3.11.0"
  }
 },
 "nbformat": 4,
 "nbformat_minor": 5
}
