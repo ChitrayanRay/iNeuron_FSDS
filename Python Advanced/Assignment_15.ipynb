{
 "cells": [
  {
   "cell_type": "markdown",
   "id": "8e49e5e0",
   "metadata": {},
   "source": [
    "## 1. What are the new features added in Python 3.8 version?"
   ]
  },
  {
   "cell_type": "markdown",
   "id": "a0b76eb6",
   "metadata": {},
   "source": [
    "New Features In Python 3.8:\n",
    "\n",
    "**1.** Assignment expressions\n",
    "\n",
    "**2.** Positional-only parameters\n",
    "\n",
    "**3.** Parallel filesystem cache for compiled bytecode files\n",
    "\n",
    "**4.** Debug build uses the same ABI as release build\n",
    "\n",
    "**5.** **f-strings support:** For self-documenting expressions and debugging\n",
    "\n",
    "**6.** Python Runtime Audit Hooks\n",
    "\n",
    "**7.** Python Initialization Configuration\n",
    "\n",
    "**8.** **Vectorcall:** A fast calling protocol for CPython\n",
    "\n",
    "**9.** Pickle protocol 5 with out-of-band data buffers"
   ]
  },
  {
   "cell_type": "markdown",
   "id": "9922c507",
   "metadata": {},
   "source": [
    "## 2. What is monkey patching in Python?"
   ]
  },
  {
   "cell_type": "markdown",
   "id": "686213ad",
   "metadata": {},
   "source": [
    "In Python, the term monkey patch refers to making dynamic (or run-time) modifications to a class or module. In simple words, we can change the behavior or working of a class / module at the runtime without changing the whole python code."
   ]
  },
  {
   "cell_type": "markdown",
   "id": "ea00cb7e",
   "metadata": {},
   "source": [
    "## 3. What is the difference between a shallow copy and deep copy?"
   ]
  },
  {
   "cell_type": "markdown",
   "id": "7b71e0b2",
   "metadata": {},
   "source": [
    "The Differences between a Shallow Copy and deep copy are as follows:\n",
    "\n",
    "When an object is copied using copy(), it is called shallow copy as changes made in copied object will also make corresponding changes in original object, because both the objects will be referencing same address location.\n",
    "\n",
    "When an object is copied using deepcopy(), it is called deep copy as changes made in copied object will not make corresponding changes in original object because both the objects will not be referencing same address location."
   ]
  },
  {
   "cell_type": "code",
   "execution_count": 1,
   "id": "c02cc46b",
   "metadata": {},
   "outputs": [
    {
     "name": "stdout",
     "output_type": "stream",
     "text": [
      "id of l1 :2656921965312\n",
      "id of l2 :2656921965312\n",
      "id of l3 :2656921960512\n",
      "[[77, 666], 2, 3]\n"
     ]
    }
   ],
   "source": [
    "from copy import deepcopy, copy\n",
    "\n",
    "l1 = [1, 2, 3]\n",
    "l2 = l1           # Shallow copy\n",
    "l3 = deepcopy(l1) # Deep copy\n",
    "\n",
    "print(f\"id of l1 :{id(l1)}\\nid of l2 :{id(l2)}\\nid of l3 :{id(l3)}\")\n",
    "\n",
    "l3[-1] = [99, 888]\n",
    "l2[0] = [77, 666]\n",
    "\n",
    "print(l1)"
   ]
  },
  {
   "cell_type": "markdown",
   "id": "e01ab027",
   "metadata": {},
   "source": [
    "## 4. What is the maximum possible length of an identifier?"
   ]
  },
  {
   "cell_type": "markdown",
   "id": "49745efb",
   "metadata": {},
   "source": [
    "In Python, the highest possible length of an identifier is 79 characters. Python is a high level programming language. It’s also a complex form and a collector of waste.\n",
    "\n",
    "Python, particularly when combined with identifiers, is case-sensitive.\n",
    "\n",
    "When writing or using identifiers in Python, it has a maximum of 79 characters.\n",
    "\n",
    "Unlikely, Python gives the identifiers unlimited length.\n",
    "\n",
    "However, the layout of PEP-8 prevents the user from breaking the rules and includes a 79-character limit."
   ]
  },
  {
   "cell_type": "markdown",
   "id": "434d857c",
   "metadata": {},
   "source": [
    "## 5. What is generator comprehension?"
   ]
  },
  {
   "cell_type": "markdown",
   "id": "7b8020b3",
   "metadata": {},
   "source": [
    "A generator comprehension is a single-line specification for defining a generator in Python.\n",
    "\n",
    "It is absolutely essential to learn this syntax in order to write simple and readable code.\n",
    "\n",
    "Generator comprehension uses round bracket unlike square bracket in list comprehension.\n",
    "\n",
    "The generator yields one item at a time and generates item only when in demand whereas in a list comprehension, Python reserves memory for the whole list. Thus, we can say that the generator expressions are memory efficient than the lists."
   ]
  }
 ],
 "metadata": {
  "kernelspec": {
   "display_name": "Python 3 (ipykernel)",
   "language": "python",
   "name": "python3"
  },
  "language_info": {
   "codemirror_mode": {
    "name": "ipython",
    "version": 3
   },
   "file_extension": ".py",
   "mimetype": "text/x-python",
   "name": "python",
   "nbconvert_exporter": "python",
   "pygments_lexer": "ipython3",
   "version": "3.11.0"
  }
 },
 "nbformat": 4,
 "nbformat_minor": 5
}
