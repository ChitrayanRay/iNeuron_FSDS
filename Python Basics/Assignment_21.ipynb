{
 "cells": [
  {
   "cell_type": "markdown",
   "id": "2f70b810",
   "metadata": {},
   "source": [
    "## 1. Add the current date to the text file today.txt as a string."
   ]
  },
  {
   "cell_type": "code",
   "execution_count": 1,
   "id": "cd080c3e",
   "metadata": {},
   "outputs": [
    {
     "name": "stdout",
     "output_type": "stream",
     "text": [
      "06-08-2023\n"
     ]
    }
   ],
   "source": [
    "import datetime\n",
    "\n",
    "# Adding current date to the today.txt file\n",
    "with open('today.txt', 'w') as fp:\n",
    "    fp.write(datetime.datetime.now().strftime(\"%d-%m-%Y\"))\n",
    "\n",
    "# Reading current date from today.txt file\n",
    "with open('today.txt','r') as fp:\n",
    "    print(fp.read())"
   ]
  },
  {
   "cell_type": "markdown",
   "id": "b4648200",
   "metadata": {},
   "source": [
    "## 2. Read the text file today.txt into the string today_string"
   ]
  },
  {
   "cell_type": "code",
   "execution_count": 2,
   "id": "8935a8b3",
   "metadata": {},
   "outputs": [
    {
     "name": "stdout",
     "output_type": "stream",
     "text": [
      "06-08-2023\n"
     ]
    }
   ],
   "source": [
    "with open('today.txt', 'r') as fp:\n",
    "    todayString = fp.read()\n",
    "    print(todayString)"
   ]
  },
  {
   "cell_type": "markdown",
   "id": "e08a6c27",
   "metadata": {},
   "source": [
    "## 3. Parse the date from today_string."
   ]
  },
  {
   "cell_type": "code",
   "execution_count": 3,
   "id": "fe54a857",
   "metadata": {},
   "outputs": [
    {
     "name": "stdout",
     "output_type": "stream",
     "text": [
      "2023-08-06 00:00:00\n"
     ]
    }
   ],
   "source": [
    "from datetime import datetime\n",
    "\n",
    "parsedData = datetime.strptime(todayString, '%d-%m-%Y')\n",
    "print(parsedData)"
   ]
  },
  {
   "cell_type": "markdown",
   "id": "4d7f79a0",
   "metadata": {},
   "source": [
    "## 4. List the files in your current directory"
   ]
  },
  {
   "cell_type": "code",
   "execution_count": 4,
   "id": "cb20d57c",
   "metadata": {},
   "outputs": [
    {
     "name": "stdout",
     "output_type": "stream",
     "text": [
      "application_log.txt\n",
      "Assignment_1.ipynb\n",
      "Assignment_10.ipynb\n",
      "Assignment_11.ipynb\n",
      "Assignment_12.ipynb\n",
      "Assignment_13.ipynb\n",
      "Assignment_14.ipynb\n",
      "Assignment_15.ipynb\n",
      "Assignment_16.ipynb\n",
      "Assignment_17.ipynb\n",
      "Assignment_18.ipynb\n",
      "Assignment_19.ipynb\n",
      "Assignment_2.ipynb\n",
      "Assignment_20.ipynb\n",
      "Assignment_21.ipynb\n",
      "Assignment_3.ipynb\n",
      "Assignment_4.ipynb\n",
      "Assignment_5.ipynb\n",
      "Assignment_6.ipynb\n",
      "Assignment_7.ipynb\n",
      "Assignment_8.ipynb\n",
      "Assignment_9.ipynb\n",
      "books.csv\n",
      "books.db\n",
      "csvTest.csv\n",
      "image.png\n",
      "ModifiedIMG.jpg\n",
      "Programming_Assignment_1.ipynb\n",
      "Programming_Assignment_10.ipynb\n",
      "Programming_Assignment_2.ipynb\n",
      "Programming_Assignment_3.ipynb\n",
      "Programming_Assignment_4.ipynb\n",
      "Programming_Assignment_5.ipynb\n",
      "Programming_Assignment_6.ipynb\n",
      "Programming_Assignment_7.ipynb\n",
      "Programming_Assignment_8.ipynb\n",
      "Programming_Assignment_9.ipynb\n",
      "test.txt\n",
      "today.txt\n",
      "zoo.py\n",
      "Assignment_10-checkpoint.ipynb\n",
      "Assignment_11-checkpoint.ipynb\n",
      "Assignment_12-checkpoint.ipynb\n",
      "Assignment_13-checkpoint.ipynb\n",
      "Assignment_14-checkpoint.ipynb\n",
      "Assignment_15-checkpoint.ipynb\n",
      "Assignment_16-checkpoint.ipynb\n",
      "Assignment_17-checkpoint.ipynb\n",
      "Assignment_18-checkpoint.ipynb\n",
      "Assignment_19-checkpoint.ipynb\n",
      "Assignment_2-checkpoint.ipynb\n",
      "Assignment_20-checkpoint.ipynb\n",
      "Assignment_21-checkpoint.ipynb\n",
      "Assignment_3-checkpoint.ipynb\n",
      "Assignment_4-checkpoint.ipynb\n",
      "Assignment_5-checkpoint.ipynb\n",
      "Assignment_6-checkpoint.ipynb\n",
      "Assignment_7-checkpoint.ipynb\n",
      "Assignment_8-checkpoint.ipynb\n",
      "Assignment_9-checkpoint.ipynb\n",
      "Programming_Assignment_1-checkpoint.ipynb\n",
      "Programming_Assignment_10-checkpoint.ipynb\n",
      "Programming_Assignment_2-checkpoint.ipynb\n",
      "Programming_Assignment_3-checkpoint.ipynb\n",
      "Programming_Assignment_4-checkpoint.ipynb\n",
      "Programming_Assignment_5-checkpoint.ipynb\n",
      "Programming_Assignment_6-checkpoint.ipynb\n",
      "Programming_Assignment_7-checkpoint.ipynb\n",
      "Programming_Assignment_8-checkpoint.ipynb\n",
      "Programming_Assignment_9-checkpoint.ipynb\n",
      "Assignment_9.ipynb\n",
      "zoo.cpython-311.pyc\n"
     ]
    }
   ],
   "source": [
    "import os\n",
    "\n",
    "for folders, subfolders, files in os.walk(os.getcwd()):\n",
    "    for file in files:\n",
    "        print(file)"
   ]
  },
  {
   "cell_type": "markdown",
   "id": "2587f4cc",
   "metadata": {},
   "source": [
    "## 5. Create a list of all of the files in your parent directory (minimum five files should be available)."
   ]
  },
  {
   "cell_type": "code",
   "execution_count": 5,
   "id": "69ff3ffb",
   "metadata": {},
   "outputs": [
    {
     "data": {
      "text/plain": [
       "['.ipynb_checkpoints',\n",
       " 'application_log.txt',\n",
       " 'Assignment_1.ipynb',\n",
       " 'Assignment_10.ipynb',\n",
       " 'Assignment_11.ipynb',\n",
       " 'Assignment_12.ipynb',\n",
       " 'Assignment_13.ipynb',\n",
       " 'Assignment_14.ipynb',\n",
       " 'Assignment_15.ipynb',\n",
       " 'Assignment_16.ipynb',\n",
       " 'Assignment_17.ipynb',\n",
       " 'Assignment_18.ipynb',\n",
       " 'Assignment_19.ipynb',\n",
       " 'Assignment_2.ipynb',\n",
       " 'Assignment_20.ipynb',\n",
       " 'Assignment_21.ipynb',\n",
       " 'Assignment_3.ipynb',\n",
       " 'Assignment_4.ipynb',\n",
       " 'Assignment_5.ipynb',\n",
       " 'Assignment_6.ipynb',\n",
       " 'Assignment_7.ipynb',\n",
       " 'Assignment_8.ipynb',\n",
       " 'Assignment_9.ipynb',\n",
       " 'books.csv',\n",
       " 'books.db',\n",
       " 'csvTest.csv',\n",
       " 'image.png',\n",
       " 'ModifiedIMG.jpg',\n",
       " 'Practice',\n",
       " 'Programming_Assignment_1.ipynb',\n",
       " 'Programming_Assignment_10.ipynb',\n",
       " 'Programming_Assignment_2.ipynb',\n",
       " 'Programming_Assignment_3.ipynb',\n",
       " 'Programming_Assignment_4.ipynb',\n",
       " 'Programming_Assignment_5.ipynb',\n",
       " 'Programming_Assignment_6.ipynb',\n",
       " 'Programming_Assignment_7.ipynb',\n",
       " 'Programming_Assignment_8.ipynb',\n",
       " 'Programming_Assignment_9.ipynb',\n",
       " 'test.txt',\n",
       " 'today.txt',\n",
       " 'zoo.py',\n",
       " '__pycache__']"
      ]
     },
     "execution_count": 5,
     "metadata": {},
     "output_type": "execute_result"
    }
   ],
   "source": [
    "import os \n",
    "\n",
    "os.listdir()"
   ]
  },
  {
   "cell_type": "markdown",
   "id": "afffb137",
   "metadata": {},
   "source": [
    "## 6. Use multiprocessing to create three separate processes. Make each one wait a random number of seconds between one and five, print the current time, and then exit."
   ]
  },
  {
   "cell_type": "code",
   "execution_count": 6,
   "id": "c156b66e",
   "metadata": {},
   "outputs": [],
   "source": [
    "import multiprocessing\n",
    "import time \n",
    "import random\n",
    "import datetime\n",
    "\n",
    "def procOne():\n",
    "    print(f'1st Process Starttime -> {datetime.datetime.now()}')\n",
    "    time.sleep(random.randint(1, 5))\n",
    "    print(f'1st Process Endtime -> {datetime.datetime.now()}')\n",
    "    \n",
    "def procTwo():\n",
    "    print(f'2nd Process Starttime -> {datetime.datetime.now()}')\n",
    "    time.sleep(random.randint(1, 5))\n",
    "    print(f'2nd Process Endtime -> {datetime.datetime.now()}')\n",
    "\n",
    "def procThree():\n",
    "    print(f'3rd Process Starttime -> {datetime.datetime.now()}')\n",
    "    time.sleep(random.randint(1, 5))\n",
    "    print(f'3rd Process Endtime -> {datetime.datetime.now()}')\n",
    "    \n",
    "if __name__ == \"__main__\":    \n",
    "    p1 = multiprocessing.Process(target = procOne)\n",
    "    p2 = multiprocessing.Process(target = procTwo)\n",
    "    p3 = multiprocessing.Process(target = procThree)\n",
    "\n",
    "    p1.start()\n",
    "    p2.start()\n",
    "    p3.start()\n",
    "\n",
    "    p1.join()\n",
    "    p2.join()\n",
    "    p3.join()"
   ]
  },
  {
   "cell_type": "markdown",
   "id": "cae99b43",
   "metadata": {},
   "source": [
    "## 7. Create a date object of your day of birth."
   ]
  },
  {
   "cell_type": "code",
   "execution_count": 7,
   "id": "34b042cb",
   "metadata": {},
   "outputs": [
    {
     "name": "stdout",
     "output_type": "stream",
     "text": [
      "1997-08-08 00:00:00 <class 'datetime.datetime'>\n"
     ]
    }
   ],
   "source": [
    "from datetime import datetime\n",
    "\n",
    "myDOB = datetime.strptime('08/08/1997', '%d/%m/%Y')\n",
    "print(myDOB, type(myDOB))"
   ]
  },
  {
   "cell_type": "markdown",
   "id": "70384829",
   "metadata": {},
   "source": [
    "## 8. What day of the week was your day of birth?"
   ]
  },
  {
   "cell_type": "code",
   "execution_count": 8,
   "id": "7d44acad",
   "metadata": {},
   "outputs": [
    {
     "data": {
      "text/plain": [
       "'Friday'"
      ]
     },
     "execution_count": 8,
     "metadata": {},
     "output_type": "execute_result"
    }
   ],
   "source": [
    "from datetime import datetime\n",
    "\n",
    "myDOB = datetime(1997,8,8)\n",
    "myDOB.strftime(\"%A\")"
   ]
  },
  {
   "cell_type": "markdown",
   "id": "ba5f3281",
   "metadata": {},
   "source": [
    "## 9. When will you be (or when were you) 10,000 days old?"
   ]
  },
  {
   "cell_type": "code",
   "execution_count": 9,
   "id": "b3011346",
   "metadata": {},
   "outputs": [
    {
     "data": {
      "text/plain": [
       "datetime.datetime(2024, 12, 24, 0, 0)"
      ]
     },
     "execution_count": 9,
     "metadata": {},
     "output_type": "execute_result"
    }
   ],
   "source": [
    "from datetime import datetime, timedelta\n",
    "\n",
    "myDOB = datetime.strptime(\"08/08/1997\", '%d/%m/%Y')\n",
    "futureDate = myDOB + timedelta(10000)\n",
    "futureDate"
   ]
  }
 ],
 "metadata": {
  "kernelspec": {
   "display_name": "Python 3 (ipykernel)",
   "language": "python",
   "name": "python3"
  },
  "language_info": {
   "codemirror_mode": {
    "name": "ipython",
    "version": 3
   },
   "file_extension": ".py",
   "mimetype": "text/x-python",
   "name": "python",
   "nbconvert_exporter": "python",
   "pygments_lexer": "ipython3",
   "version": "3.11.0"
  }
 },
 "nbformat": 4,
 "nbformat_minor": 5
}
