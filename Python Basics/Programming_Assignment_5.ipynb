{
 "cells": [
  {
   "cell_type": "markdown",
   "id": "f0c4bd23",
   "metadata": {},
   "source": [
    "## 1. Write a Python Program to Find LCM?"
   ]
  },
  {
   "cell_type": "code",
   "execution_count": 1,
   "id": "4b30eff8",
   "metadata": {},
   "outputs": [
    {
     "name": "stdout",
     "output_type": "stream",
     "text": [
      "Enter the 1st number: 7\n",
      "Enter the 2nd number: 8\n",
      "The LCM is 56\n"
     ]
    }
   ],
   "source": [
    "def findLCM(x, y):\n",
    "    if x > y:\n",
    "        greater = x\n",
    "    else:\n",
    "        greater = y\n",
    "    \n",
    "    while(True):\n",
    "        if((greater % x == 0) and (greater % y == 0)):\n",
    "            lcm = greater\n",
    "            break\n",
    "        greater += 1\n",
    "    return lcm\n",
    "\n",
    "num1 = int(input(\"Enter the 1st number: \"))\n",
    "num2 = int(input(\"Enter the 2nd number: \"))\n",
    "\n",
    "LCM = findLCM(num1, num2)\n",
    "\n",
    "print(\"The LCM is\", LCM)"
   ]
  },
  {
   "cell_type": "markdown",
   "id": "a0255819",
   "metadata": {},
   "source": [
    "## 2. Write a Python Program to Find HCF?"
   ]
  },
  {
   "cell_type": "code",
   "execution_count": 2,
   "id": "c65fbda0",
   "metadata": {},
   "outputs": [
    {
     "name": "stdout",
     "output_type": "stream",
     "text": [
      "Enter the 1st number: 24\n",
      "Enter the 2nd number: 8\n",
      "The HCF is 8\n"
     ]
    }
   ],
   "source": [
    "def findHCF(x, y):\n",
    "\n",
    "# Choosing the smaller number\n",
    "    if x > y:\n",
    "        smaller = y\n",
    "    else:\n",
    "        smaller = x\n",
    "    for i in range(1, smaller + 1):\n",
    "        if((x % i == 0) and (y % i == 0)):\n",
    "            hcf = i \n",
    "    return hcf\n",
    "\n",
    "num1 = int(input(\"Enter the 1st number: \"))\n",
    "num2 = int(input(\"Enter the 2nd number: \"))\n",
    "\n",
    "print(\"The HCF is\", findHCF(num1, num2))"
   ]
  },
  {
   "cell_type": "markdown",
   "id": "08d238f2",
   "metadata": {},
   "source": [
    "### Function to find HCF the Using Euclidian algorithm"
   ]
  },
  {
   "cell_type": "code",
   "execution_count": 3,
   "id": "96d66cdc",
   "metadata": {},
   "outputs": [
    {
     "name": "stdout",
     "output_type": "stream",
     "text": [
      "The HCF is 8\n"
     ]
    }
   ],
   "source": [
    "def findHCF(x, y):\n",
    "    while(y):\n",
    "        x, y = y, x % y\n",
    "        return x\n",
    "\n",
    "hcf = findHCF(24, 8)\n",
    "print(\"The HCF is\", hcf)"
   ]
  },
  {
   "cell_type": "markdown",
   "id": "79598e82",
   "metadata": {},
   "source": [
    "## 3. Write a Python Program to Convert Decimal to Binary, Octal and Hexadecimal?"
   ]
  },
  {
   "cell_type": "code",
   "execution_count": 4,
   "id": "1e99c301",
   "metadata": {},
   "outputs": [
    {
     "name": "stdout",
     "output_type": "stream",
     "text": [
      "Enter the Decimal Number: 19\n",
      "The decimal value of 19 is:\n",
      "0b10011 in binary\n",
      "0o23 in octal\n",
      "0x13 in hexadecimal\n"
     ]
    }
   ],
   "source": [
    "decimal = int(input(\"Enter the Decimal Number: \"))\n",
    "\n",
    "print(\"The decimal value of\", decimal, \"is:\")\n",
    "print(bin(decimal), \"in binary\")\n",
    "print(oct(decimal), \"in octal\")\n",
    "print(hex(decimal), \"in hexadecimal\")"
   ]
  },
  {
   "cell_type": "markdown",
   "id": "8923f28c",
   "metadata": {},
   "source": [
    "## 4. Write a Python Program To Find ASCII value of a character?"
   ]
  },
  {
   "cell_type": "code",
   "execution_count": 5,
   "id": "295e6227",
   "metadata": {},
   "outputs": [
    {
     "name": "stdout",
     "output_type": "stream",
     "text": [
      "Enter the Character: C\n",
      "The ASCII value of 'C' is 67\n"
     ]
    }
   ],
   "source": [
    "def findASCII():\n",
    "    ch = input(\"Enter the Character: \")\n",
    "    print(\"The ASCII value of '\" + ch + \"' is\", ord(ch))\n",
    "    \n",
    "findASCII()"
   ]
  },
  {
   "cell_type": "markdown",
   "id": "8efe20ee",
   "metadata": {},
   "source": [
    "## 5. Write a Python Program to Make a Simple Calculator with 4 basic mathematical operations?"
   ]
  },
  {
   "cell_type": "code",
   "execution_count": 6,
   "id": "205efd23",
   "metadata": {},
   "outputs": [
    {
     "name": "stdout",
     "output_type": "stream",
     "text": [
      "Select operation:\n",
      "1. Add\n",
      "2. Subtract\n",
      "3. Multiply\n",
      "4. Divide\n",
      "Enter your choice (1 to 4): 4\n",
      "Enter the 1st number: 24\n",
      "Enter the 2nd number: 8\n",
      "24.0 / 8.0 = 3.0\n",
      "Are you ready to proceed with another claculation? (yes / no): no\n"
     ]
    }
   ],
   "source": [
    "def add(x, y):\n",
    "    return x + y\n",
    "\n",
    "def subtract(x, y):\n",
    "    return x - y\n",
    "\n",
    "def multiply(x, y):\n",
    "    return x * y\n",
    "\n",
    "def divide(x, y):\n",
    "    return x / y\n",
    "\n",
    "\n",
    "print(\"Select operation:\")\n",
    "print(\"1. Add\")\n",
    "print(\"2. Subtract\")\n",
    "print(\"3. Multiply\")\n",
    "print(\"4. Divide\")\n",
    "\n",
    "while True:\n",
    "    # Taking input from the user\n",
    "    choice = input(\"Enter your choice (1 to 4): \")\n",
    "\n",
    "    # Checking if the choice is one of the four options\n",
    "    if choice in ('1', '2', '3', '4'):\n",
    "        num1 = float(input(\"Enter the 1st number: \"))\n",
    "        num2 = float(input(\"Enter the 2nd number: \"))\n",
    "\n",
    "        if choice == '1':\n",
    "            print(num1, \"+\", num2, \"=\", add(num1, num2))\n",
    "\n",
    "        elif choice == '2':\n",
    "            print(num1, \"-\", num2, \"=\", subtract(num1, num2))\n",
    "\n",
    "        elif choice == '3':\n",
    "            print(num1, \"*\", num2, \"=\", multiply(num1, num2))\n",
    "\n",
    "        elif choice == '4':\n",
    "            print(num1, \"/\", num2, \"=\", divide(num1, num2))\n",
    "        \n",
    "        # Checking if user wants another calculation\n",
    "        # Break the while loop if answer is no\n",
    "        nextCalculation = input(\"Are you ready to proceed with another claculation? (yes / no): \")\n",
    "        if nextCalculation == \"no\":\n",
    "            break\n",
    "    \n",
    "    else:\n",
    "        print(\"Invalid Input!\")"
   ]
  }
 ],
 "metadata": {
  "kernelspec": {
   "display_name": "Python 3 (ipykernel)",
   "language": "python",
   "name": "python3"
  },
  "language_info": {
   "codemirror_mode": {
    "name": "ipython",
    "version": 3
   },
   "file_extension": ".py",
   "mimetype": "text/x-python",
   "name": "python",
   "nbconvert_exporter": "python",
   "pygments_lexer": "ipython3",
   "version": "3.11.0"
  }
 },
 "nbformat": 4,
 "nbformat_minor": 5
}
