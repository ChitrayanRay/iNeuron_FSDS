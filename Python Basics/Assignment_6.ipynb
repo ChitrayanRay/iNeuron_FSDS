{
 "cells": [
  {
   "cell_type": "markdown",
   "id": "64c17e35",
   "metadata": {},
   "source": [
    "## 1. What are escape characters, and how do you use them?\n",
    "\n",
    "To insert characters that are illegal in a string, use an escape character. An escape character is a backslash \\ followed by the character you want to insert. An example of an illegal character is a double quote inside a string that is surrounded by double quotes:"
   ]
  },
  {
   "cell_type": "code",
   "execution_count": 1,
   "id": "84192209",
   "metadata": {},
   "outputs": [
    {
     "ename": "SyntaxError",
     "evalue": "invalid syntax (246385144.py, line 1)",
     "output_type": "error",
     "traceback": [
      "\u001b[1;36m  Cell \u001b[1;32mIn[1], line 1\u001b[1;36m\u001b[0m\n\u001b[1;33m    txt = \"We are the so-called \"Vikings\" from the north.\"\u001b[0m\n\u001b[1;37m                                 ^\u001b[0m\n\u001b[1;31mSyntaxError\u001b[0m\u001b[1;31m:\u001b[0m invalid syntax\n"
     ]
    }
   ],
   "source": [
    "txt = \"We are the so-called \"Vikings\" from the north.\"\n",
    "txt"
   ]
  },
  {
   "cell_type": "code",
   "execution_count": 5,
   "id": "f7982b90",
   "metadata": {},
   "outputs": [
    {
     "data": {
      "text/plain": [
       "'We are the so-called \"Vikings\" from the north.'"
      ]
     },
     "execution_count": 5,
     "metadata": {},
     "output_type": "execute_result"
    }
   ],
   "source": [
    "txt = \"We are the so-called \\\"Vikings\\\" from the north.\"\n",
    "txt"
   ]
  },
  {
   "cell_type": "markdown",
   "id": "45ba75a4",
   "metadata": {},
   "source": [
    "Other escape characters used in Python:\n",
    "* \\'\tSingle Quote\n",
    "* \\\\\tBackslash\n",
    "* \\n\tNew Line\n",
    "* \\r\tCarriage Return\n",
    "* \\t\tTab\n",
    "* \\b\tBackspace\n",
    "* \\f\tForm Feed\n",
    "* \\ooo\tOctal value\n",
    "* \\xhh\tHex value"
   ]
  },
  {
   "cell_type": "markdown",
   "id": "e1053247",
   "metadata": {},
   "source": [
    "## 2. What do the escape characters n and t stand for?\n",
    "\n",
    "n stands for new line and t stands for tab."
   ]
  },
  {
   "cell_type": "markdown",
   "id": "4df08e46",
   "metadata": {},
   "source": [
    "## 3. What is the way to include backslash characters in a string?"
   ]
  },
  {
   "cell_type": "code",
   "execution_count": 6,
   "id": "2661283b",
   "metadata": {},
   "outputs": [
    {
     "name": "stdout",
     "output_type": "stream",
     "text": [
      "This will insert one \\ (backslash).\n"
     ]
    }
   ],
   "source": [
    "txt = \"This will insert one \\\\ (backslash).\"\n",
    "print(txt)"
   ]
  },
  {
   "cell_type": "markdown",
   "id": "4022cd4b",
   "metadata": {},
   "source": [
    "## 4. The string &quot;Howl&#39;s Moving Castle&quot; is a correct value. Why isn&#39;t the single quote character in the word Howl&#39;s not escaped a problem?"
   ]
  },
  {
   "cell_type": "code",
   "execution_count": 7,
   "id": "fbab0daf",
   "metadata": {},
   "outputs": [
    {
     "data": {
      "text/plain": [
       "\"Howl's Moving Castle\""
      ]
     },
     "execution_count": 7,
     "metadata": {},
     "output_type": "execute_result"
    }
   ],
   "source": [
    "\"Howl's Moving Castle\""
   ]
  },
  {
   "cell_type": "markdown",
   "id": "762f0840",
   "metadata": {},
   "source": [
    "Double quote also used for string representation and in the above string value single quote comes under te string value."
   ]
  },
  {
   "cell_type": "markdown",
   "id": "3af41eff",
   "metadata": {},
   "source": [
    "## 5. How do you write a string of newlines if you don&#39;t want to use the n character?"
   ]
  },
  {
   "cell_type": "code",
   "execution_count": 8,
   "id": "eea5c918",
   "metadata": {},
   "outputs": [
    {
     "name": "stdout",
     "output_type": "stream",
     "text": [
      "string1\n",
      "string 2\n",
      "string3\n"
     ]
    }
   ],
   "source": [
    "print(\"string1\")\n",
    "print(\"string 2\")\n",
    "print(\"string3\")"
   ]
  },
  {
   "cell_type": "code",
   "execution_count": 9,
   "id": "9e54e05f",
   "metadata": {},
   "outputs": [
    {
     "name": "stdout",
     "output_type": "stream",
     "text": [
      "string1 string 2 string3 "
     ]
    }
   ],
   "source": [
    "print(\"string1\",end=\" \")\n",
    "print(\"string 2\",end=\" \")\n",
    "print(\"string3\",end=\" \")"
   ]
  },
  {
   "cell_type": "markdown",
   "id": "daf56d35",
   "metadata": {},
   "source": [
    "## 6. What are the values of the given expressions?\n",
    "\n",
    "* ### &#39;Hello, world!&#39;[1]\n",
    "\n",
    "* ### &#39;Hello, world!&#39;[0:5]\n",
    "\n",
    "* ### &#39;Hello, world!&#39;[:5]\n",
    "\n",
    "* ### &#39;Hello, world!&#39;[3:]"
   ]
  },
  {
   "cell_type": "code",
   "execution_count": 10,
   "id": "6baba28f",
   "metadata": {},
   "outputs": [
    {
     "data": {
      "text/plain": [
       "'e'"
      ]
     },
     "execution_count": 10,
     "metadata": {},
     "output_type": "execute_result"
    }
   ],
   "source": [
    "'Hello, world!'[1]   # Retrieving the elemet of the string at index 1"
   ]
  },
  {
   "cell_type": "code",
   "execution_count": 11,
   "id": "5b6d5932",
   "metadata": {},
   "outputs": [
    {
     "data": {
      "text/plain": [
       "'Hello'"
      ]
     },
     "execution_count": 11,
     "metadata": {},
     "output_type": "execute_result"
    }
   ],
   "source": [
    "'Hello, world!'[0:5]   # Retrieving the string from index 0 to 5 excluding 5"
   ]
  },
  {
   "cell_type": "code",
   "execution_count": 12,
   "id": "f293a844",
   "metadata": {},
   "outputs": [
    {
     "data": {
      "text/plain": [
       "'Hello'"
      ]
     },
     "execution_count": 12,
     "metadata": {},
     "output_type": "execute_result"
    }
   ],
   "source": [
    "'Hello, world!'[:5]     # Retrieving the element of the string from the initial index beginnig to 5 excluding 5"
   ]
  },
  {
   "cell_type": "code",
   "execution_count": 13,
   "id": "3e0ec330",
   "metadata": {},
   "outputs": [
    {
     "data": {
      "text/plain": [
       "'lo, world!'"
      ]
     },
     "execution_count": 13,
     "metadata": {},
     "output_type": "execute_result"
    }
   ],
   "source": [
    "'Hello, world!'[3:]     # Retrieving the string from index 3 to the end"
   ]
  },
  {
   "cell_type": "markdown",
   "id": "72f10290",
   "metadata": {},
   "source": [
    "## 7. What are the values of the following expressions?\n",
    "\n",
    "* ### &#39;Hello&#39;.upper()\n",
    "\n",
    "* ### &#39;Hello&#39;.upper().isupper()\n",
    "\n",
    "* ### &#39;Hello&#39;.upper().islower()"
   ]
  },
  {
   "cell_type": "code",
   "execution_count": 14,
   "id": "424a81e7",
   "metadata": {},
   "outputs": [
    {
     "data": {
      "text/plain": [
       "'HELLO'"
      ]
     },
     "execution_count": 14,
     "metadata": {},
     "output_type": "execute_result"
    }
   ],
   "source": [
    "'Hello'.upper()   # Converting the string to uppaer case"
   ]
  },
  {
   "cell_type": "code",
   "execution_count": 15,
   "id": "62ac33ed",
   "metadata": {},
   "outputs": [
    {
     "data": {
      "text/plain": [
       "True"
      ]
     },
     "execution_count": 15,
     "metadata": {},
     "output_type": "execute_result"
    }
   ],
   "source": [
    "'Hello'.upper().isupper()  # Checking if the output is upper case or not"
   ]
  },
  {
   "cell_type": "code",
   "execution_count": 16,
   "id": "45871c83",
   "metadata": {},
   "outputs": [
    {
     "data": {
      "text/plain": [
       "False"
      ]
     },
     "execution_count": 16,
     "metadata": {},
     "output_type": "execute_result"
    }
   ],
   "source": [
    "'Hello'.upper().islower()    # Checking if the otput is lower case or not"
   ]
  },
  {
   "cell_type": "markdown",
   "id": "7dc9db0f",
   "metadata": {},
   "source": [
    "## 8. What are the values of the following expressions?\n",
    "\n",
    "* ### &#39;Remember, remember, the fifth of July.&#39;.split()\n",
    "\n",
    "* ### &#39;-&#39;.join(&#39;There can only one.&#39;.split())"
   ]
  },
  {
   "cell_type": "code",
   "execution_count": 17,
   "id": "ebc0e76b",
   "metadata": {},
   "outputs": [
    {
     "data": {
      "text/plain": [
       "['Remember,', 'remember,', 'the', 'fifth', 'of', 'July.']"
      ]
     },
     "execution_count": 17,
     "metadata": {},
     "output_type": "execute_result"
    }
   ],
   "source": [
    "'Remember, remember, the fifth of July.'.split()  # Spliting the string with respect to space"
   ]
  },
  {
   "cell_type": "code",
   "execution_count": 18,
   "id": "68fd54f2",
   "metadata": {},
   "outputs": [
    {
     "data": {
      "text/plain": [
       "'There-can-only-one.'"
      ]
     },
     "execution_count": 18,
     "metadata": {},
     "output_type": "execute_result"
    }
   ],
   "source": [
    "'-'.join('There can only one.'.split())  # Joining the words which are seperated by space with \"-\""
   ]
  },
  {
   "cell_type": "markdown",
   "id": "7e66a4e3",
   "metadata": {},
   "source": [
    "## 9. What are the methods for right-justifying, left-justifying, and centering a string?\n",
    "\n",
    "String alignment is frequently used in many day-day applications. Python in its language offers several functions that helps to align string. Also, offers a way to add user specified padding instead of blank space."
   ]
  },
  {
   "cell_type": "code",
   "execution_count": 19,
   "id": "6732a196",
   "metadata": {},
   "outputs": [
    {
     "name": "stdout",
     "output_type": "stream",
     "text": [
      "The original string is : \n",
      " FSDS \n",
      "\n",
      "The center aligned string is : \n",
      "                  FSDS                   \n",
      "\n",
      "Center aligned string with fillchr: \n",
      "##################FSDS##################\n"
     ]
    }
   ],
   "source": [
    "s = \"FSDS\"\n",
    "  \n",
    "# Printing the original string\n",
    "\n",
    "print (\"The original string is : \\n\", s, \"\\n\")\n",
    "  \n",
    "# Printing the center aligned string \n",
    "\n",
    "print (\"The center aligned string is : \")\n",
    "print (s.center(40), \"\\n\")\n",
    "  \n",
    "# Printing the center aligned \n",
    "# string with fillchr\n",
    "\n",
    "print (\"Center aligned string with fillchr: \")\n",
    "print (s.center(40, '#'))"
   ]
  },
  {
   "cell_type": "code",
   "execution_count": 20,
   "id": "69edee6c",
   "metadata": {},
   "outputs": [
    {
     "name": "stdout",
     "output_type": "stream",
     "text": [
      "The original string is : \n",
      " FSDS \n",
      "\n",
      "The left aligned string is : \n",
      "FSDS------------------------------------\n"
     ]
    }
   ],
   "source": [
    "# Working of ljust()\n",
    "\n",
    "lstr = \"FSDS\"\n",
    "\n",
    "# Printing the original string\n",
    "\n",
    "print (\"The original string is : \\n\", lstr, \"\\n\")\n",
    "\n",
    "# Printing the left aligned\n",
    "# string with \"-\" padding\n",
    "\n",
    "print (\"The left aligned string is : \")\n",
    "print (lstr.ljust(40, '-'))"
   ]
  },
  {
   "cell_type": "code",
   "execution_count": 21,
   "id": "75dac457",
   "metadata": {},
   "outputs": [
    {
     "name": "stdout",
     "output_type": "stream",
     "text": [
      "The original string is : \n",
      " FSDS \n",
      "\n",
      "The right aligned string is : \n",
      "------------------------------------FSDS\n"
     ]
    }
   ],
   "source": [
    "# Working of rjust()\n",
    "\n",
    "rstr = \"FSDS\"\n",
    "\n",
    "# Printing the original string\n",
    "\n",
    "print (\"The original string is : \\n\", rstr, \"\\n\")\n",
    "\n",
    "# Printing the right aligned string\n",
    "# with \"-\" padding\n",
    "\n",
    "print (\"The right aligned string is : \")\n",
    "print (rstr.rjust(40, '-'))"
   ]
  },
  {
   "cell_type": "markdown",
   "id": "caac1810",
   "metadata": {},
   "source": [
    "## 10. What is the best way to remove whitespace characters from the start or end?\n",
    "\n",
    "The Python String strip() method is part of the built-in function available in python. The function will remove given characters from the start and end of the original string. This function is very helpful in removing the whitespaces at the start and end of the given string, as shown in the example."
   ]
  },
  {
   "cell_type": "code",
   "execution_count": 22,
   "id": "3c35a752",
   "metadata": {},
   "outputs": [
    {
     "data": {
      "text/plain": [
       "'fsds'"
      ]
     },
     "execution_count": 22,
     "metadata": {},
     "output_type": "execute_result"
    }
   ],
   "source": [
    "s = \"       fsds       \"\n",
    "s.strip()"
   ]
  },
  {
   "cell_type": "code",
   "execution_count": 23,
   "id": "b26d9c7f",
   "metadata": {},
   "outputs": [
    {
     "data": {
      "text/plain": [
       "'fsds'"
      ]
     },
     "execution_count": 23,
     "metadata": {},
     "output_type": "execute_result"
    }
   ],
   "source": [
    "s = \"   fsds\"\n",
    "s.strip()"
   ]
  },
  {
   "cell_type": "code",
   "execution_count": 24,
   "id": "cbbce9b2",
   "metadata": {},
   "outputs": [
    {
     "data": {
      "text/plain": [
       "'fsds'"
      ]
     },
     "execution_count": 24,
     "metadata": {},
     "output_type": "execute_result"
    }
   ],
   "source": [
    "s = \"fsds     \"\n",
    "s.strip()"
   ]
  }
 ],
 "metadata": {
  "kernelspec": {
   "display_name": "Python 3 (ipykernel)",
   "language": "python",
   "name": "python3"
  },
  "language_info": {
   "codemirror_mode": {
    "name": "ipython",
    "version": 3
   },
   "file_extension": ".py",
   "mimetype": "text/x-python",
   "name": "python",
   "nbconvert_exporter": "python",
   "pygments_lexer": "ipython3",
   "version": "3.11.0"
  }
 },
 "nbformat": 4,
 "nbformat_minor": 5
}
