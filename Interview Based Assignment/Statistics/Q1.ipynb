{
 "cells": [
  {
   "cell_type": "markdown",
   "id": "023641a5",
   "metadata": {},
   "source": [
    "**Q-1.** A university wants to understand the relationship between the SAT scores of its\n",
    "applicants and their college GPA. They collect data on 500 students, including their SAT\n",
    "scores (out of 1600) and their college GPA (on a 4.0 scale). They find that the correlation\n",
    "coefficient between SAT scores and college GPA is 0.7. What does this correlation\n",
    "coefficient indicate about the relationship between SAT scores and college GPA?"
   ]
  },
  {
   "cell_type": "markdown",
   "id": "d0af23ac",
   "metadata": {},
   "source": [
    "**Ans.** A correlation coefficient of 0.7 indicates a strong positive relationship between SAT scores and college GPA in this scenario.\n",
    "\n",
    "A correlation coefficient measures the strength and direction of the linear relationship between two variables. The value of the correlation coefficient ranges from -1 to +1. A positive correlation coefficient indicates a positive relationship, where higher values of one variable tend to be associated with higher values of the other variable. A negative correlation coefficient indicates a negative relationship, where higher values of one variable tend to be associated with lower values of the other variable.\n",
    "\n",
    "In this case, a correlation coefficient of 0.7 suggests a strong positive relationship between SAT scores and college GPA. It means that higher SAT scores are associated with higher college GPAs among the 500 students in the dataset. The closer the correlation coefficient is to +1, the stronger the positive relationship between the variables.\n",
    "\n",
    "It's important to note that correlation does not imply causation. While the correlation coefficient indicates a strong positive relationship between SAT scores and college GPA, it does not necessarily imply that higher SAT scores directly cause higher college GPAs. Other factors can also influence college GPA."
   ]
  }
 ],
 "metadata": {
  "kernelspec": {
   "display_name": "Python 3 (ipykernel)",
   "language": "python",
   "name": "python3"
  },
  "language_info": {
   "codemirror_mode": {
    "name": "ipython",
    "version": 3
   },
   "file_extension": ".py",
   "mimetype": "text/x-python",
   "name": "python",
   "nbconvert_exporter": "python",
   "pygments_lexer": "ipython3",
   "version": "3.10.7"
  }
 },
 "nbformat": 4,
 "nbformat_minor": 5
}
