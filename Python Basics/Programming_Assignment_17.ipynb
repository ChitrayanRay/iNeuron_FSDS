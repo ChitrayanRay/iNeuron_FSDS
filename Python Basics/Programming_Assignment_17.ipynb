{
 "cells": [
  {
   "cell_type": "markdown",
   "id": "fc90ed71",
   "metadata": {},
   "source": [
    "## Question1\n",
    "\n",
    "## Create a function that takes three arguments a, b, c and returns the sum of the numbers that are evenly divided by c from the range a, b inclusive.\n",
    "\n",
    "### Examples\n",
    "\n",
    "#### evenly_divisible(1, 10, 20) ➞ 0\n",
    "#### No number between 1 and 10 can be evenly divided by 20.\n",
    "#### evenly_divisible(1, 10, 2) ➞ 30\n",
    "#### 2 + 4 + 6 + 8 + 10 = 30\n",
    "#### evenly_divisible(1, 10, 3) ➞ 18\n",
    "#### 3 + 6 + 9 = 18"
   ]
  },
  {
   "cell_type": "code",
   "execution_count": 1,
   "id": "89537d0f",
   "metadata": {},
   "outputs": [
    {
     "name": "stdout",
     "output_type": "stream",
     "text": [
      "Enter starting range:1\n",
      "Enter ending range:10\n",
      "Enter a number:2\n",
      "(1, 10, 2) ➞ 30\n"
     ]
    }
   ],
   "source": [
    "def evenly_divisible():\n",
    "    a = int(input(\"Enter starting range:\"))\n",
    "    b = int(input(\"Enter ending range:\"))\n",
    "    c = int(input(\"Enter a number:\"))\n",
    "    total = 0\n",
    "    for i in range(a, b + 1):\n",
    "        if i % c == 0:\n",
    "            total += i\n",
    "    return (a, b, c, total)\n",
    "\n",
    "result = evenly_divisible()\n",
    "print(f\"{result[:3]} ➞ {result[3]}\")"
   ]
  },
  {
   "cell_type": "markdown",
   "id": "50acdc04",
   "metadata": {},
   "source": [
    "## Question2\n",
    "\n",
    "## Create a function that returns True if a given inequality expression is correct and False otherwise.\n",
    "\n",
    "### Examples\n",
    "\n",
    "#### correct_signs(&quot;3 &lt; 7 &lt; 11&quot;) ➞ True\n",
    "#### correct_signs(&quot;13 &gt; 44 &gt; 33 &gt; 1&quot;) ➞ False\n",
    "#### correct_signs(&quot;1 &lt; 2 &lt; 6 &lt; 9 &gt; 3&quot;) ➞ True"
   ]
  },
  {
   "cell_type": "code",
   "execution_count": 2,
   "id": "96accb7e",
   "metadata": {},
   "outputs": [
    {
     "name": "stdout",
     "output_type": "stream",
     "text": [
      "Enter an expression:13>44>33>1\n"
     ]
    },
    {
     "data": {
      "text/plain": [
       "'(13>44>33>1) ➞ False'"
      ]
     },
     "execution_count": 2,
     "metadata": {},
     "output_type": "execute_result"
    }
   ],
   "source": [
    "def correct_signs():\n",
    "    expression = input(\"Enter an expression:\")\n",
    "    return f\"({expression}) ➞ {eval(expression)}\"\n",
    "\n",
    "correct_signs()"
   ]
  },
  {
   "cell_type": "markdown",
   "id": "aa5e0041",
   "metadata": {},
   "source": [
    "## Question3\n",
    "\n",
    "## Create a function that replaces all the vowels in a string with a specified character.\n",
    "\n",
    "### Examples\n",
    "\n",
    "#### replace_vowels(&quot;the aardvark&quot;, &quot;#&quot;) ➞ &quot;th# ##rdv#rk&quot;\n",
    "#### replace_vowels(&quot;minnie mouse&quot;, &quot;?&quot;) ➞ &quot;m?nn?? m??s?&quot;\n",
    "#### replace_vowels(&quot;shakespeare&quot;, &quot;*&quot;) ➞ &quot;sh*k*sp**r*&quot;"
   ]
  },
  {
   "cell_type": "code",
   "execution_count": 3,
   "id": "034a89a0",
   "metadata": {},
   "outputs": [
    {
     "name": "stdout",
     "output_type": "stream",
     "text": [
      "Enter a string:minnie mouse\n",
      "Enter replacement character:?\n"
     ]
    },
    {
     "data": {
      "text/plain": [
       "'(minnie mouse,?) ➞ m?nn?? m??s?'"
      ]
     },
     "execution_count": 3,
     "metadata": {},
     "output_type": "execute_result"
    }
   ],
   "source": [
    "def replace_vowels():\n",
    "    string = input(\"Enter a string:\")\n",
    "    replacement = input(\"Enter replacement character:\")\n",
    "    vowels = \"aeiouAEIOU\"\n",
    "    result = \"\"\n",
    "    for char in string:\n",
    "        if char in vowels:\n",
    "            result += replacement\n",
    "        else:\n",
    "            result += char\n",
    "    return f\"({string},{replacement}) ➞ {result}\"\n",
    "    \n",
    "replace_vowels()"
   ]
  },
  {
   "cell_type": "markdown",
   "id": "86340598",
   "metadata": {},
   "source": [
    "## Question4\n",
    "\n",
    "## Write a function that calculates the factorial of a number recursively.\n",
    "\n",
    "### Examples\n",
    "\n",
    "#### factorial(5) ➞ 120\n",
    "#### factorial(3) ➞ 6\n",
    "#### factorial(1) ➞ 1\n",
    "#### factorial(0) ➞ 1"
   ]
  },
  {
   "cell_type": "code",
   "execution_count": 4,
   "id": "bbba1963",
   "metadata": {},
   "outputs": [
    {
     "name": "stdout",
     "output_type": "stream",
     "text": [
      "Enter a number:5\n",
      "Factorial of 5 ➞ 120\n"
     ]
    }
   ],
   "source": [
    "def factorial(n):\n",
    "    if n == 0:\n",
    "        return 1\n",
    "    else:\n",
    "        return n * factorial(n - 1)\n",
    "n = int(input(\"Enter a number:\"))\n",
    "result = factorial(n)\n",
    "print(f\"Factorial of {n} ➞ {result}\")"
   ]
  },
  {
   "cell_type": "markdown",
   "id": "fe1d8fd3",
   "metadata": {},
   "source": [
    "## Question 5\n",
    "\n",
    "## Hamming distance is the number of characters that differ between two strings.\n",
    "\n",
    "### To illustrate:\n",
    "\n",
    "#### String1: &quot;abcbba&quot;\n",
    "#### String2: &quot;abcbda&quot;\n",
    "\n",
    "#### Hamming Distance: 1 - &quot;b&quot; vs. &quot;d&quot; is the only difference.\n",
    "\n",
    "## Create a function that computes the hamming distance between two strings.\n",
    "\n",
    "### Examples\n",
    "\n",
    "#### hamming_distance(&quot;abcde&quot;, &quot;bcdef&quot;) ➞ 5\n",
    "#### hamming_distance(&quot;abcde&quot;, &quot;abcde&quot;) ➞ 0\n",
    "#### hamming_distance(&quot;strong&quot;, &quot;strung&quot;) ➞ 1"
   ]
  },
  {
   "cell_type": "code",
   "execution_count": 5,
   "id": "e7717b5f",
   "metadata": {},
   "outputs": [
    {
     "name": "stdout",
     "output_type": "stream",
     "text": [
      "Enter 1st string:abcde\n",
      "Enter 2nd string:bcdef\n",
      "The Hamming distance between abcde and bcdef ➞ 5\n"
     ]
    }
   ],
   "source": [
    "def hamming_distance(str1, str2):\n",
    "    if len(str1) != len(str2):\n",
    "        raise ValueError(\"Strings must have equal length\")\n",
    "    distance = 0\n",
    "    for i in range(len(str1)):\n",
    "        if str1[i] != str2[i]:\n",
    "            distance += 1\n",
    "    return distance\n",
    "str1 = input(\"Enter 1st string:\")\n",
    "str2 = input(\"Enter 2nd string:\")\n",
    "distance = hamming_distance(str1, str2)\n",
    "print(f\"The Hamming distance between {str1} and {str2} ➞ {distance}\")"
   ]
  }
 ],
 "metadata": {
  "kernelspec": {
   "display_name": "Python 3 (ipykernel)",
   "language": "python",
   "name": "python3"
  },
  "language_info": {
   "codemirror_mode": {
    "name": "ipython",
    "version": 3
   },
   "file_extension": ".py",
   "mimetype": "text/x-python",
   "name": "python",
   "nbconvert_exporter": "python",
   "pygments_lexer": "ipython3",
   "version": "3.11.0"
  }
 },
 "nbformat": 4,
 "nbformat_minor": 5
}
