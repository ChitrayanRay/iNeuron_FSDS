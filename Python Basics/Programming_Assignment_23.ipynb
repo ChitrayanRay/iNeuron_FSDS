{
 "cells": [
  {
   "cell_type": "markdown",
   "id": "ad64bc90",
   "metadata": {},
   "source": [
    "## Question 1\n",
    "\n",
    "## Create a function that takes a number as an argument and returns True or False depending on whether the number is symmetrical or not. A number is symmetrical when it is the same as its reverse.\n",
    "\n",
    "### Examples\n",
    "\n",
    "#### is_symmetrical(7227) ➞ True\n",
    "#### is_symmetrical(12567) ➞ False\n",
    "#### is_symmetrical(44444444) ➞ True\n",
    "#### is_symmetrical(9939) ➞ False\n",
    "#### is_symmetrical(1112111) ➞ True"
   ]
  },
  {
   "cell_type": "code",
   "execution_count": 1,
   "id": "17cae33b",
   "metadata": {},
   "outputs": [
    {
     "name": "stdout",
     "output_type": "stream",
     "text": [
      "Enter a number: 1112111\n",
      "Output ➞ True\n"
     ]
    }
   ],
   "source": [
    "def is_symmetrical(n):\n",
    "    return str(n) == str(n)[::-1]\n",
    "\n",
    "n = input(\"Enter a number: \")\n",
    "print(f\"Output ➞ {is_symmetrical(n)}\")"
   ]
  },
  {
   "cell_type": "markdown",
   "id": "2cf3d0da",
   "metadata": {},
   "source": [
    "## Question 2\n",
    "\n",
    "## Given a string of numbers separated by a comma and space, return the product of the numbers.\n",
    "\n",
    "### Examples\n",
    "\n",
    "#### multiply_nums(&quot;2, 3&quot;) ➞ 6\n",
    "#### multiply_nums(&quot;1, 2, 3, 4&quot;) ➞ 24\n",
    "#### multiply_nums(&quot;54, 75, 453, 0&quot;) ➞ 0\n",
    "#### multiply_nums(&quot;10, -2&quot;) ➞ -20"
   ]
  },
  {
   "cell_type": "code",
   "execution_count": 2,
   "id": "16ae1853",
   "metadata": {},
   "outputs": [
    {
     "name": "stdout",
     "output_type": "stream",
     "text": [
      "Output ➞ 24\n"
     ]
    }
   ],
   "source": [
    "def multiply_nums(nums):\n",
    "    num_list = nums.split(\", \")\n",
    "    product = 1\n",
    "    for num in num_list:\n",
    "        product *= int(num)\n",
    "    return product\n",
    "\n",
    "nums = (\"1, 2, 3, 4\")\n",
    "print(f\"Output ➞ {multiply_nums(nums)}\")"
   ]
  },
  {
   "cell_type": "markdown",
   "id": "8089a4ab",
   "metadata": {},
   "source": [
    "## Question 3\n",
    "\n",
    "## Create a function that squares every digit of a number.\n",
    "\n",
    "### Examples\n",
    "\n",
    "#### square_digits(9119) ➞ 811181\n",
    "#### square_digits(2483) ➞ 416649\n",
    "#### square_digits(3212) ➞ 9414\n",
    "\n",
    "### Notes\n",
    "\n",
    "#### The function receives an integer and must return an integer."
   ]
  },
  {
   "cell_type": "code",
   "execution_count": 3,
   "id": "09e73738",
   "metadata": {},
   "outputs": [
    {
     "name": "stdout",
     "output_type": "stream",
     "text": [
      "Enter a number: 2483\n",
      "Output ➞ 416649\n"
     ]
    }
   ],
   "source": [
    "def square_digits(num):\n",
    "    result = \"\"\n",
    "    for digit in str(num):\n",
    "        square = int(digit) ** 2\n",
    "        result += str(square)\n",
    "    return int(result)\n",
    "\n",
    "num = input(\"Enter a number: \")\n",
    "print(f\"Output ➞ {square_digits(num)}\")"
   ]
  },
  {
   "cell_type": "markdown",
   "id": "dd8bd093",
   "metadata": {},
   "source": [
    "## Question 4\n",
    "\n",
    "## Create a function that sorts a list and removes all duplicate items from it.\n",
    "\n",
    "### Examples\n",
    "\n",
    "#### setify([1, 3, 3, 5, 5]) ➞ [1, 3, 5]\n",
    "#### setify([4, 4, 4, 4]) ➞ [4]\n",
    "#### setify([5, 7, 8, 9, 10, 15]) ➞ [5, 7, 8, 9, 10, 15]\n",
    "#### setify([3, 3, 3, 2, 1]) ➞ [1, 2, 3]"
   ]
  },
  {
   "cell_type": "code",
   "execution_count": 4,
   "id": "6c229f8b",
   "metadata": {},
   "outputs": [
    {
     "name": "stdout",
     "output_type": "stream",
     "text": [
      "Enter the list of elements separated by comma(,):1,3,3,5,5\n"
     ]
    },
    {
     "data": {
      "text/plain": [
       "\"Output ➞ ['1', '3', '5']\""
      ]
     },
     "execution_count": 4,
     "metadata": {},
     "output_type": "execute_result"
    }
   ],
   "source": [
    "def setify():\n",
    "    lst = [i for i in input(\"Enter the list of elements separated by comma(,):\").split(\",\")]\n",
    "    sorted_list = sorted(lst)\n",
    "    result = []\n",
    "    for item in sorted_list:\n",
    "        if item not in result:\n",
    "            result.append(item)\n",
    "    return f\"Output ➞ {result}\"\n",
    "\n",
    "setify()"
   ]
  },
  {
   "cell_type": "markdown",
   "id": "b2cbf979",
   "metadata": {},
   "source": [
    "## Question 5\n",
    "\n",
    "## Create a function that returns the mean of all digits.\n",
    "\n",
    "### Examples\n",
    "\n",
    "#### mean(42) ➞ 3\n",
    "#### mean(12345) ➞ 3\n",
    "#### mean(666) ➞ 6\n",
    "\n",
    "### Notes\n",
    "\n",
    "####  The mean of all digits is the sum of digits / how many digits there are (e.g. mean of digits in 512 is (5+1+2)/3(number of digits) = 8/3=2).\n",
    "####  The mean will always be an integer."
   ]
  },
  {
   "cell_type": "code",
   "execution_count": 5,
   "id": "aa2e3b43",
   "metadata": {},
   "outputs": [
    {
     "name": "stdout",
     "output_type": "stream",
     "text": [
      "Enter a number:12345\n"
     ]
    },
    {
     "data": {
      "text/plain": [
       "'Output ➞ 3'"
      ]
     },
     "execution_count": 5,
     "metadata": {},
     "output_type": "execute_result"
    }
   ],
   "source": [
    "def mean_of_digits():\n",
    "    num = input(\"Enter a number:\")\n",
    "    digits = [int(digit) for digit in str(num)]\n",
    "    mean = sum(digits) / len(digits)\n",
    "    return f\"Output ➞ {int(mean)}\"\n",
    "\n",
    "mean_of_digits()"
   ]
  }
 ],
 "metadata": {
  "kernelspec": {
   "display_name": "Python 3 (ipykernel)",
   "language": "python",
   "name": "python3"
  },
  "language_info": {
   "codemirror_mode": {
    "name": "ipython",
    "version": 3
   },
   "file_extension": ".py",
   "mimetype": "text/x-python",
   "name": "python",
   "nbconvert_exporter": "python",
   "pygments_lexer": "ipython3",
   "version": "3.11.0"
  }
 },
 "nbformat": 4,
 "nbformat_minor": 5
}
