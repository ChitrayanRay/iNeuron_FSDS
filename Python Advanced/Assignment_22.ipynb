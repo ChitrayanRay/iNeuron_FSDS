{
 "cells": [
  {
   "cell_type": "markdown",
   "id": "f4146ff3",
   "metadata": {},
   "source": [
    "## Q1. What are the benefits of the built-in array package, if any?"
   ]
  },
  {
   "cell_type": "markdown",
   "id": "204c526d",
   "metadata": {},
   "source": [
    "Arrays represent multiple data items of the same type using a single name. In arrays, the elements can be accessed randomly by using the index number. Arrays allocate memory in contiguous memory locations for all it's elements. Hence, there is no chance of extra memory being allocated in case of arrays. This avoids memory overflow or shortage of memory in arrays."
   ]
  },
  {
   "cell_type": "markdown",
   "id": "f2e307ee",
   "metadata": {},
   "source": [
    "## Q2. What are some of the array package&#39;s limitations?"
   ]
  },
  {
   "cell_type": "markdown",
   "id": "45f70120",
   "metadata": {},
   "source": [
    "The number of elements to be stored in an array should be known in advance. An array is a static structure (which means the array is of fixed size). Once declared the size of the array cannot be modified. The memory which is allocated to it cannot be increased or decreased.\n",
    "\n",
    "Insertion and deletion are quite difficult in an array as the elements are stored in consecutive memory locations and the shifting operation is costly.\n",
    "\n",
    "Allocating more memory than the requirement leads to wastage of memory space and less allocation of memory also leads to a problem."
   ]
  },
  {
   "cell_type": "markdown",
   "id": "4009db2c",
   "metadata": {},
   "source": [
    "## Q3. Describe the main differences between the array and numpy packages."
   ]
  },
  {
   "cell_type": "markdown",
   "id": "91c2d034",
   "metadata": {},
   "source": [
    "The array package doesn't provide any help with numerical calculation with the items insdie it in number form while NumPy give you a wide variety of numerical operations.\n",
    "\n",
    "An array is a single dimensional entity which hold the numerical data, while Numpy can have more than 1 dimension.\n",
    "\n",
    "In case of array, item can be accessed by its index position and it is easy task while in Numpy, item is accessed by it's column and row index, which makes it slightly time taking. Same goes with appending operation.\n",
    "\n",
    "In case of array, we do not form a tabular structure while in Numpy, it forms a tabular structure."
   ]
  },
  {
   "cell_type": "markdown",
   "id": "8380504b",
   "metadata": {},
   "source": [
    "## Q4. Explain the distinctions between the empty, ones, and zeros functions."
   ]
  },
  {
   "cell_type": "markdown",
   "id": "0368e269",
   "metadata": {},
   "source": [
    "The distinctions between the empty, ones, and zero functions are as follows:\n",
    "\n",
    "**Empty function:** An empty function is a function that does not contain any statement within it's body. If you try to write a function definition without any statement in python, it will return an error. To avoid this, we use pass statement. **pass** is a special statement in Python that does nothing. It only works as a dummy statement.\n",
    "\n",
    "**Ones:** This function returns a new array of given shape and data type, where the element’s value is 1.\n",
    "\n",
    "**Zeros:** This function returns a new array of given shape and data type, where the element’s value is 0."
   ]
  },
  {
   "cell_type": "markdown",
   "id": "63f518d5",
   "metadata": {},
   "source": [
    "## Q5. In the fromfunction function, which is used to construct new arrays, what is the role of the callable argument?"
   ]
  },
  {
   "cell_type": "markdown",
   "id": "acc71a58",
   "metadata": {},
   "source": [
    "It's function is to execute the function over each co-ordinate and the resulting array. The function is called with N parameters, where N is the rank of shape. Each parameter represents the co-ordinates of the array varying along a specific axis."
   ]
  },
  {
   "cell_type": "markdown",
   "id": "804f8b25",
   "metadata": {},
   "source": [
    "## Q6. What happens when a numpy array is combined with a single-value operand (a scalar, such as an int or a floating-point value) through addition, as in the expression A + n?"
   ]
  },
  {
   "cell_type": "markdown",
   "id": "a22558ce",
   "metadata": {},
   "source": [
    "If any scaler value such as integer is added to the Numpy array, then all the elements inside the array will add that value in it."
   ]
  },
  {
   "cell_type": "markdown",
   "id": "ecdc615a",
   "metadata": {},
   "source": [
    "## Q7. Can array-to-scalar operations use combined operation-assign operators (such as += or *=)? What is the outcome?"
   ]
  },
  {
   "cell_type": "markdown",
   "id": "e1235bf7",
   "metadata": {},
   "source": [
    "An array is a collection of elements of the same data type, while a scalar is a single value of that data type. When performing an array-to-scalar operation, the array is reduced to a single value (a scalar) using a reduction operation such as sum, min, or max."
   ]
  },
  {
   "cell_type": "markdown",
   "id": "5b67fd95",
   "metadata": {},
   "source": [
    "## Q8. Does a numpy array contain fixed-length strings? What happens if you allocate a longer string to one of these arrays?"
   ]
  },
  {
   "cell_type": "markdown",
   "id": "6570692e",
   "metadata": {},
   "source": [
    "Yes, it is possible that we can include a string of fixed length in Numpy array. The dtype of any Numpy array containing string values is the maximum length of any string present in the array. Once set, it will only be able to store new string having length not more than the maximum length at the time of the creation. If we try to reassign some another string value having length greater than the maximum length of the existing elements, it simply discards all the values beyond the maximum length accept upto those values which are under the limit."
   ]
  },
  {
   "cell_type": "markdown",
   "id": "07203c6d",
   "metadata": {},
   "source": [
    "## Q9. What happens when you combine two numpy arrays using an operation like addition (+) or multiplication (*)? What are the conditions for combining two numpy arrays?"
   ]
  },
  {
   "cell_type": "markdown",
   "id": "982db2b8",
   "metadata": {},
   "source": [
    "While combining two numpy arrays using an operation like addition (+) or multiplication (*), it will simply add or miltiply element to element at same position."
   ]
  },
  {
   "cell_type": "markdown",
   "id": "990bf90a",
   "metadata": {},
   "source": [
    "## Q10. What is the best way to use a Boolean array to mask another array?"
   ]
  },
  {
   "cell_type": "markdown",
   "id": "1f9eb7a7",
   "metadata": {},
   "source": [
    "The best way to use a Boolean array to mask another array is by using masked_where of Numpy package."
   ]
  },
  {
   "cell_type": "markdown",
   "id": "3a63dd7b",
   "metadata": {},
   "source": [
    "## Q11. What are three different ways to get the standard deviation of a wide collection of data using both standard Python and its packages? Sort the three of them by how quickly they execute."
   ]
  },
  {
   "cell_type": "markdown",
   "id": "f4d61253",
   "metadata": {},
   "source": [
    "Three different ways to get the standard deviation of a wide collection of data using both standard Python and its packages:\n",
    "\n",
    "**a) NumPy package:** The Numpy package is widely used in Python for numerical computations and offers a fast and efficient way to calculate the standard deviation of an array of data."
   ]
  },
  {
   "cell_type": "code",
   "execution_count": 1,
   "id": "21c8424a",
   "metadata": {},
   "outputs": [
    {
     "name": "stdout",
     "output_type": "stream",
     "text": [
      "STD of data:  1.4142135623730951\n"
     ]
    }
   ],
   "source": [
    "import numpy as np\n",
    "\n",
    "# Create an array of data\n",
    "data = np.array([1, 2, 3, 4, 5])\n",
    "\n",
    "# Calculate the standard deviation using numpy\n",
    "std_dev = np.std(data)\n",
    "\n",
    "print(\"STD of data: \", std_dev)"
   ]
  },
  {
   "cell_type": "markdown",
   "id": "0ecbdbec",
   "metadata": {},
   "source": [
    "**b) Statistics package:** The statistics package is included in the standard library of Python and provides a set of functions for statistical computations."
   ]
  },
  {
   "cell_type": "code",
   "execution_count": 2,
   "id": "07e0e6d0",
   "metadata": {},
   "outputs": [
    {
     "name": "stdout",
     "output_type": "stream",
     "text": [
      "STD of data:  1.5811388300841898\n"
     ]
    }
   ],
   "source": [
    "import statistics\n",
    "\n",
    "# Create a list of data\n",
    "data = [1, 2, 3, 4, 5]\n",
    "\n",
    "# Calculate the standard deviation using statistics\n",
    "std_dev = statistics.stdev(data)\n",
    "\n",
    "print(\"STD of data: \", std_dev)"
   ]
  },
  {
   "cell_type": "markdown",
   "id": "1532eb15",
   "metadata": {},
   "source": [
    "**c) Manual calculation:** A manual calculation of the standard deviation can also be done using standard Python, although it is not as efficient as using the numpy or statistics packages."
   ]
  },
  {
   "cell_type": "code",
   "execution_count": 3,
   "id": "8e700b38",
   "metadata": {},
   "outputs": [
    {
     "name": "stdout",
     "output_type": "stream",
     "text": [
      "STD of data:  1.4142135623730951\n"
     ]
    }
   ],
   "source": [
    "# Create a list of data\n",
    "data = [1, 2, 3, 4, 5]\n",
    "\n",
    "# Calculate the mean of the data\n",
    "mean = sum(data) / len(data)\n",
    "\n",
    "# Calculate the variance of the data\n",
    "variance = sum([((x - mean) ** 2) for x in data]) / len(data)\n",
    "\n",
    "# Calculate the standard deviation using the variance\n",
    "std_dev = variance ** 0.5\n",
    "\n",
    "print(\"STD of data: \", std_dev)"
   ]
  },
  {
   "cell_type": "markdown",
   "id": "8e94a2c0",
   "metadata": {},
   "source": [
    "## 12. What is the dimensionality of a Boolean mask-generated array?"
   ]
  },
  {
   "cell_type": "markdown",
   "id": "b84cd1ff",
   "metadata": {},
   "source": [
    "It will have the same dimensionality as input array."
   ]
  }
 ],
 "metadata": {
  "kernelspec": {
   "display_name": "Python 3 (ipykernel)",
   "language": "python",
   "name": "python3"
  },
  "language_info": {
   "codemirror_mode": {
    "name": "ipython",
    "version": 3
   },
   "file_extension": ".py",
   "mimetype": "text/x-python",
   "name": "python",
   "nbconvert_exporter": "python",
   "pygments_lexer": "ipython3",
   "version": "3.11.0"
  }
 },
 "nbformat": 4,
 "nbformat_minor": 5
}
