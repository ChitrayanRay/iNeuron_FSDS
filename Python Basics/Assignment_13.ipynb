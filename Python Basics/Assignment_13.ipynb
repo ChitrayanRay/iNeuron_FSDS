{
 "cells": [
  {
   "cell_type": "markdown",
   "id": "7fb7cf21",
   "metadata": {},
   "source": [
    "## 1. What advantages do Excel spreadsheets have over CSV spreadsheets?\n",
    "\n",
    "- While Excel (XLS and XLSX) file formats are better for storing more complex data, CSV files are supported by nearly all data upload interfaces. If you are planning to move your data between platforms, export and import it from one interface to another, you might be better off with the CSV file format.\n",
    "\n",
    "- **CSV:** CSV refers to Comma-Separated Values. It holds plain text as a series of values (cells) separated by commas (, ) in a series of lines (rows). CSV file can actually open in a text editor and read it. There are lots of applications for reading CSV files, and many languages provide built-in functions that simplify reading/writing CSV format. These files are majority used by professionals in data analysis or visualizations.\n",
    "\n",
    "- **Excel:** Microsoft Excel is used to displays the data in horizontal and vertical rows. The data are usually stored in the cells. We have an option of formulas in Excel that can be used for data and its place of storage. You can even add any charts, graphics, etc. to make it more presentable."
   ]
  },
  {
   "cell_type": "markdown",
   "id": "2b653aed",
   "metadata": {},
   "source": [
    "## 2.What do you pass to csv.reader() and csv.writer() to create reader and writer objects?\n",
    "\n",
    "- **CSV (Comma Separated Values)** is a simple file format used to store tabular data, such as a spreadsheet or database. A CSV file stores tabular data (numbers and text) in plain text. Each line of the file is a data record. Each record consists of one or more fields, separated by commas. The use of the comma as a field separator is the source of the name for this file format.\n",
    "- For working CSV files in Python, there is an **inbuilt module called csv**."
   ]
  },
  {
   "cell_type": "code",
   "execution_count": 1,
   "id": "4d75b5ec",
   "metadata": {},
   "outputs": [
    {
     "name": "stdout",
     "output_type": "stream",
     "text": [
      "Total number of rows: 11\n",
      "Field names are:Name, Departments, Salary\n",
      "\n",
      "First 5 rows are:\n",
      "\n",
      "         A Data Science      10000 \n",
      "\n",
      "         A        IOT       5000 \n",
      "\n",
      "         B   Big Data       4000 \n",
      "\n",
      "         A   Big Data       4000 \n",
      "\n",
      "         B Data Science       3000 \n",
      "\n"
     ]
    }
   ],
   "source": [
    "# Importing the csv module\n",
    "import csv\n",
    " \n",
    "# csv file name\n",
    "filename = \"csvTest.csv\"\n",
    " \n",
    "# Initializing the titles and rows list\n",
    "fields = []\n",
    "rows = []\n",
    " \n",
    "# Reading the csv file\n",
    "with open(filename, 'r') as csvfile:\n",
    "    \n",
    "    # Creating a csv reader object\n",
    "    csvreader = csv.reader(csvfile) \n",
    "    \n",
    "    # Extracting the field names through the first row\n",
    "    fields = next(csvreader)\n",
    " \n",
    "    # Extracting each data row one by one\n",
    "    for row in csvreader:\n",
    "        rows.append(row)\n",
    " \n",
    "    # Getting total number of rows\n",
    "    print(\"Total number of rows: %d\"%(csvreader.line_num))\n",
    " \n",
    "\n",
    " # Printing the field names\n",
    "print('Field names are:' + ', '.join(field for field in fields))\n",
    " \n",
    "# Printing the first 5 rows\n",
    "print('\\nFirst 5 rows are:\\n')\n",
    "\n",
    "for row in rows[:5]:\n",
    "    \n",
    "    # Parsing each column of a row\n",
    "    for col in row:\n",
    "        print(\"%10s\"%col, end = \" \"),\n",
    "    print('\\n')"
   ]
  },
  {
   "cell_type": "code",
   "execution_count": 2,
   "id": "13a58928",
   "metadata": {},
   "outputs": [],
   "source": [
    "# Importing the csv module\n",
    "import csv\n",
    " \n",
    "# Field names\n",
    "fields = ['Name', 'Departments', 'Salary']\n",
    " \n",
    "# Data rows of the csv file\n",
    "rows = [ ['Nikhil', 'COE', '20000'],\n",
    "        ['Sanchit', 'COE', '15000'],\n",
    "        ['Aditya', 'IT', '40000'],\n",
    "        ['Sagar', 'SE', '25000'],\n",
    "        ['Prateek', 'MCE', '50000'],\n",
    "        ['Sahil', 'EP', '35000']]\n",
    " \n",
    "# Name of the csv file\n",
    "filename = \"csvTest.csv\"\n",
    " \n",
    "# Writing to the csv file\n",
    "with open(filename, 'w') as csvfile:\n",
    "    \n",
    "    # Creating a csv writer object\n",
    "    csvwriter = csv.writer(csvfile)\n",
    "     \n",
    "    # Writing the fields\n",
    "    csvwriter.writerow(fields)\n",
    "     \n",
    "    # Writing the data rows\n",
    "    csvwriter.writerows(rows)"
   ]
  },
  {
   "cell_type": "markdown",
   "id": "3554a0ee",
   "metadata": {},
   "source": [
    "## 3. What modes do File objects for reader and writer objects need to be opened in?\n",
    "\n",
    "- There are many modes for opening a file: \n",
    "\n",
    "**1. r -** open a file in read mode. \n",
    "\n",
    "**2. w -** opens or create a text file in write mode. \n",
    "\n",
    "**3. a -** opens a file in append mode.\n",
    "\n",
    "- In Python, we can also open a file using with clause. The syntax of with clause is:\n",
    "\n",
    "```python\n",
    "with open (fileName, accessMode) as fileObject:\n",
    " ```\n",
    "\n",
    "- The advantage of using with clause is that any file that is opened using this clause is closed automatically, once the control comes outside the with clause. In case the user forgets to close the file explicitly or if an exception occurs, the file is closed automatically. Also, it provides a simpler syntax.\n",
    "\n",
    "```python \n",
    "with open(“myfile.txt”, ”r+”) as myObject:\n",
    " content = myObject.read()\n",
    "```\n",
    "\n",
    "- Here, we don’t have to close the file explicitly using close() statement. Python will automatically close the file"
   ]
  },
  {
   "cell_type": "markdown",
   "id": "2c1209a4",
   "metadata": {},
   "source": [
    "## 4. What method takes a list argument and writes it to a CSV file?\n",
    "\n",
    "- We can convert a list to CSV in python easily by importing an in-built CSV module in python. In this method, we use file handling in python to read the data of a list and then write it into a CSV file.\n",
    "\n",
    "```python\n",
    "\n",
    "import csv\n",
    "  \n",
    "fields = ['Employee', 'ID', 'Salary'] \n",
    "    \n",
    "rows = [ ['XYZ', '021', '30000'], \n",
    "         ['ABC', '032', '50000'],\n",
    "         ['PQR', '685', '25000'],\n",
    "         ['EFG', '258', '60000'] ] \n",
    "  \n",
    "with open('EmployeeData.csv', 'w') as f:\n",
    "      \n",
    "    csv_writer = csv.writer(f)\n",
    "    csv_writer.writerow(fields)\n",
    "    csv_writer.writerows(rows)\n",
    "```"
   ]
  },
  {
   "cell_type": "markdown",
   "id": "47da4e19",
   "metadata": {},
   "source": [
    "## 5. What do the keyword arguments delimiter and line terminator do?\n",
    "\n",
    "- The delimiter is the character that appears between cells on a row. By default, the delimiter for a CSV file is a comma. The line terminator is the character that comes at the end of a row. By default, the line terminator is a newline."
   ]
  },
  {
   "cell_type": "markdown",
   "id": "dfa52fa2",
   "metadata": {},
   "source": [
    "## 6. What function takes a string of JSON data and returns a Python data structure?\n",
    "\n",
    "- **Deserialization is the opposite of Serialization**, i.e. **conversion of JSON objects into their respective Python objects**. The **load() method is used for it**. If you have used JSON data from another program or obtained it as a string format of JSON, then it can easily be deserialized with load(), which is usually used to load from a string, otherwise, the root object is in a list or dict."
   ]
  },
  {
   "cell_type": "markdown",
   "id": "ff456c38",
   "metadata": {},
   "source": [
    "## 7. What function takes a Python data structure and returns a string of JSON data?\n",
    "\n",
    "- The process of encoding JSON is usually called serialization. This term refers to the transformation of data into a series of bytes (hence serial) to be stored or transmitted across a network. To handle the data flow in a file, the JSON library in Python uses dump() function to convert the Python objects into their respective JSON object, so it makes it easy to write data to files."
   ]
  }
 ],
 "metadata": {
  "kernelspec": {
   "display_name": "Python 3 (ipykernel)",
   "language": "python",
   "name": "python3"
  },
  "language_info": {
   "codemirror_mode": {
    "name": "ipython",
    "version": 3
   },
   "file_extension": ".py",
   "mimetype": "text/x-python",
   "name": "python",
   "nbconvert_exporter": "python",
   "pygments_lexer": "ipython3",
   "version": "3.11.0"
  }
 },
 "nbformat": 4,
 "nbformat_minor": 5
}
