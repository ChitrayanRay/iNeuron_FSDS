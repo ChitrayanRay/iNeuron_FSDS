{
 "cells": [
  {
   "cell_type": "markdown",
   "id": "b4992699",
   "metadata": {},
   "source": [
    "## 1.What are the two values of the Boolean data type? How do you write them?\n",
    "\n",
    "The two values with the Boolean data type are \"True\" and \"False\"."
   ]
  },
  {
   "cell_type": "code",
   "execution_count": 1,
   "id": "f799d92f",
   "metadata": {},
   "outputs": [
    {
     "data": {
      "text/plain": [
       "bool"
      ]
     },
     "execution_count": 1,
     "metadata": {},
     "output_type": "execute_result"
    }
   ],
   "source": [
    "type(True)"
   ]
  },
  {
   "cell_type": "code",
   "execution_count": 2,
   "id": "ae1dc2e0",
   "metadata": {},
   "outputs": [
    {
     "data": {
      "text/plain": [
       "bool"
      ]
     },
     "execution_count": 2,
     "metadata": {},
     "output_type": "execute_result"
    }
   ],
   "source": [
    "type(False)"
   ]
  },
  {
   "cell_type": "markdown",
   "id": "3c69b30d",
   "metadata": {},
   "source": [
    "## 2. What are the three different types of Boolean operators?\n",
    "\n",
    "Boolean/logical operators form the basis of mathematical sets and database logic. They connect your search words together to either narrow or broaden your set of results. The three basic boolean operators are: \n",
    "   * AND\n",
    "   * OR\n",
    "   * NOT\n",
    "   \n",
    "   Output of the boolean expressions comprises of the boolean operators is boolean value i.e. True, False"
   ]
  },
  {
   "cell_type": "code",
   "execution_count": 3,
   "id": "2b0d5705",
   "metadata": {},
   "outputs": [
    {
     "data": {
      "text/plain": [
       "False"
      ]
     },
     "execution_count": 3,
     "metadata": {},
     "output_type": "execute_result"
    }
   ],
   "source": [
    "(1 == 2) and (2<=2)"
   ]
  },
  {
   "cell_type": "code",
   "execution_count": 4,
   "id": "c197814c",
   "metadata": {},
   "outputs": [
    {
     "data": {
      "text/plain": [
       "bool"
      ]
     },
     "execution_count": 4,
     "metadata": {},
     "output_type": "execute_result"
    }
   ],
   "source": [
    "type((1 == 2) and (2<=2))"
   ]
  },
  {
   "cell_type": "code",
   "execution_count": 5,
   "id": "3ebabf6f",
   "metadata": {},
   "outputs": [
    {
     "name": "stdout",
     "output_type": "stream",
     "text": [
      "False\n",
      "True\n",
      "False\n"
     ]
    }
   ],
   "source": [
    "a = True\n",
    "b = False\n",
    " \n",
    "print(a and b)\n",
    " \n",
    "print(a or b)\n",
    " \n",
    "print(not a)"
   ]
  },
  {
   "cell_type": "markdown",
   "id": "05f505cc",
   "metadata": {},
   "source": [
    "## 3. Make a list of each Boolean operator&#39;s truth tables (i.e. every possible combination of Boolean values for the operator and what it evaluate ).\n",
    "\n",
    "\n",
    "\n",
    "                                               0: False    \n",
    "                                               1: True\n",
    "                                               \n",
    "                                               \n",
    "* Truth Table of \"and\" operator:   \n",
    "\n",
    "                                  A       B       \"and\" of A and B\n",
    "                                  0       0               0\n",
    "                                  0       1               0\n",
    "                                  1       0               0\n",
    "                                  1       1               1\n",
    "\n",
    "\n",
    "\n",
    "* Truth Table of \"or\" operator:\n",
    "\n",
    "                                  A       B       \"or\" of A and B\n",
    "                                  0       0               0\n",
    "                                  0       1               1\n",
    "                                  1       0               1\n",
    "                                  1       1               1\n",
    "\n",
    "\n",
    "\n",
    "* Truth Table of \"not\" operator:(single input)\n",
    "\n",
    "                                  A                 \"not\" of A \n",
    "                                  0                      1\n",
    "                                  0                      1\n",
    "                                  1                      0\n",
    "                                  1                      0\n",
    "\n",
    "     \n",
    "                 "
   ]
  },
  {
   "cell_type": "markdown",
   "id": "7621a5d0",
   "metadata": {},
   "source": [
    "## 4. What are the values of the following expressions?\n",
    "- **(5 &gt; 4) and (3 == 5)**\n",
    "\n",
    "- **not (5 &gt; 4)**\n",
    "\n",
    "- **(5 &gt; 4) or (3 == 5)**\n",
    "\n",
    "- **not ((5 &gt; 4) or (3 == 5))**\n",
    "\n",
    "- **(True and True) and (True == False)**\n",
    "\n",
    "- **(not False) or (not True)**"
   ]
  },
  {
   "cell_type": "code",
   "execution_count": 6,
   "id": "66568370",
   "metadata": {},
   "outputs": [
    {
     "data": {
      "text/plain": [
       "False"
      ]
     },
     "execution_count": 6,
     "metadata": {},
     "output_type": "execute_result"
    }
   ],
   "source": [
    "(5 > 4) and (3 == 5)"
   ]
  },
  {
   "cell_type": "markdown",
   "id": "46611586",
   "metadata": {},
   "source": [
    "(5 > 4) this is true.\n",
    "(3 == 5) this is false.\n",
    "\"and\" operator gives true when all the conditions are true. If anyone of them goes false, it will return false."
   ]
  },
  {
   "cell_type": "code",
   "execution_count": 7,
   "id": "e16d2d58",
   "metadata": {},
   "outputs": [
    {
     "data": {
      "text/plain": [
       "False"
      ]
     },
     "execution_count": 7,
     "metadata": {},
     "output_type": "execute_result"
    }
   ],
   "source": [
    "not (5 > 4)"
   ]
  },
  {
   "cell_type": "markdown",
   "id": "a7309ccf",
   "metadata": {},
   "source": [
    "In the above expression, not operator returns the opposite of the output of the expression it is applied on. \n",
    "Here, (5 > 4) gives True. not operator makes it False."
   ]
  },
  {
   "cell_type": "code",
   "execution_count": 8,
   "id": "6d96abde",
   "metadata": {},
   "outputs": [
    {
     "data": {
      "text/plain": [
       "True"
      ]
     },
     "execution_count": 8,
     "metadata": {},
     "output_type": "execute_result"
    }
   ],
   "source": [
    "(5 > 4) or (3 == 5)"
   ]
  },
  {
   "cell_type": "markdown",
   "id": "02a33e4e",
   "metadata": {},
   "source": [
    "(5 > 4) this is true.\n",
    "(3 == 5) this is false.\n",
    "\"or\" operator gives true when anyone of the conditions are true. If none of them goes true, it will return false."
   ]
  },
  {
   "cell_type": "code",
   "execution_count": 9,
   "id": "02362f11",
   "metadata": {},
   "outputs": [
    {
     "data": {
      "text/plain": [
       "False"
      ]
     },
     "execution_count": 9,
     "metadata": {},
     "output_type": "execute_result"
    }
   ],
   "source": [
    "not ((5 > 4) or (3 == 5))"
   ]
  },
  {
   "cell_type": "markdown",
   "id": "773b404e",
   "metadata": {},
   "source": [
    "In the above expression, not operator returns the opposite of the output of the expression it is applied on.\n",
    "Here, ((5 > 4) or (3 == 5)) gives True. \"not\" operator makes it False."
   ]
  },
  {
   "cell_type": "code",
   "execution_count": 10,
   "id": "df42a5b3",
   "metadata": {},
   "outputs": [
    {
     "data": {
      "text/plain": [
       "False"
      ]
     },
     "execution_count": 10,
     "metadata": {},
     "output_type": "execute_result"
    }
   ],
   "source": [
    "(True and True) and (True == False)"
   ]
  },
  {
   "cell_type": "code",
   "execution_count": 11,
   "id": "047c04d2",
   "metadata": {},
   "outputs": [
    {
     "data": {
      "text/plain": [
       "True"
      ]
     },
     "execution_count": 11,
     "metadata": {},
     "output_type": "execute_result"
    }
   ],
   "source": [
    "(not False) or (not True)"
   ]
  },
  {
   "cell_type": "markdown",
   "id": "542e9543",
   "metadata": {},
   "source": [
    "## 5. What are the six comparison operators?\n",
    "\n",
    "    Comparison/Relational Operators:\n",
    "    Greater than, less than, equal equal to, not equal to, greater than equal to, less than equal to, \n",
    "    Output of the  expressions comprises of the comparision operators is boolean value i.e. True, False"
   ]
  },
  {
   "cell_type": "code",
   "execution_count": 12,
   "id": "cc8070fe",
   "metadata": {},
   "outputs": [
    {
     "name": "stdout",
     "output_type": "stream",
     "text": [
      "enter any integer value for a: 9\n",
      "enter any integer value for b: 2\n",
      "True\n",
      "False\n",
      "False\n",
      "True\n",
      "True\n",
      "False\n"
     ]
    }
   ],
   "source": [
    "a = int(input(\"enter any integer value for a: \"))\n",
    "\n",
    "b = int(input(\"enter any integer value for b: \"))\n",
    " \n",
    "print(a > b)\n",
    " \n",
    "print(a < b)\n",
    " \n",
    "print(a == b)\n",
    " \n",
    "print(a != b)\n",
    " \n",
    "print(a >= b)\n",
    " \n",
    "print(a <= b)"
   ]
  },
  {
   "cell_type": "markdown",
   "id": "9be4c4e6",
   "metadata": {},
   "source": [
    "## 6. How do you tell the difference between the equal to and assignment operators?Describe a condition and when you would use one.\n",
    "\n",
    "Equal to \"=\" assign value of right side of expression to left side operand. It performs a funstion of assignment operator."
   ]
  },
  {
   "cell_type": "code",
   "execution_count": 13,
   "id": "5b8ba64e",
   "metadata": {},
   "outputs": [
    {
     "data": {
      "text/plain": [
       "10"
      ]
     },
     "execution_count": 13,
     "metadata": {},
     "output_type": "execute_result"
    }
   ],
   "source": [
    "a = 10\n",
    "a"
   ]
  },
  {
   "cell_type": "markdown",
   "id": "50893eae",
   "metadata": {},
   "source": [
    "The '==' operator checks whether the two given operands are equal or not. If so, it returns true. Otherwise it returns false."
   ]
  },
  {
   "cell_type": "code",
   "execution_count": 14,
   "id": "d45dab3b",
   "metadata": {},
   "outputs": [
    {
     "data": {
      "text/plain": [
       "True"
      ]
     },
     "execution_count": 14,
     "metadata": {},
     "output_type": "execute_result"
    }
   ],
   "source": [
    "a == 10"
   ]
  },
  {
   "cell_type": "code",
   "execution_count": 15,
   "id": "b2e87ecd",
   "metadata": {},
   "outputs": [
    {
     "data": {
      "text/plain": [
       "False"
      ]
     },
     "execution_count": 15,
     "metadata": {},
     "output_type": "execute_result"
    }
   ],
   "source": [
    "a == 6"
   ]
  },
  {
   "cell_type": "markdown",
   "id": "ce5d558f",
   "metadata": {},
   "source": [
    "## 7. Identify the three blocks in this code:\n",
    "**spam = 0**\n",
    "\n",
    "**if spam == 10:**\n",
    "\n",
    "**print(&#39;eggs&#39;)**\n",
    "\n",
    "**if spam &gt; 5:**\n",
    "\n",
    "**print(&#39;bacon&#39;)**\n",
    "\n",
    "**else:**\n",
    "\n",
    "**print(&#39;ham&#39;)**\n",
    "\n",
    "**print(&#39;spam&#39;)**\n",
    "\n",
    "**print(&#39;spam&#39;)**"
   ]
  },
  {
   "cell_type": "code",
   "execution_count": 16,
   "id": "e42b7a0a",
   "metadata": {},
   "outputs": [
    {
     "name": "stdout",
     "output_type": "stream",
     "text": [
      "ham\n",
      "spam\n",
      "spam\n"
     ]
    }
   ],
   "source": [
    "spam = 0\n",
    "\n",
    "if spam == 10:\n",
    "    \n",
    "    print('eggs')\n",
    "    \n",
    "    if spam > 5:\n",
    "        \n",
    "        print('bacon')\n",
    "\n",
    "else:\n",
    "    \n",
    "    print('ham')\n",
    "    \n",
    "    print('spam')\n",
    "    \n",
    "    print('spam')"
   ]
  },
  {
   "cell_type": "markdown",
   "id": "c31243fe",
   "metadata": {},
   "source": [
    "## 8. Write code that prints Hello if 1 is stored in spam, prints Howdy if 2 is stored in spam, and prints\n",
    "\n",
    "**Greetings! if anything else is stored in spam.**"
   ]
  },
  {
   "cell_type": "code",
   "execution_count": 17,
   "id": "7821b80d",
   "metadata": {},
   "outputs": [
    {
     "name": "stdout",
     "output_type": "stream",
     "text": [
      "enter an integer: 6\n",
      "Greetings\n"
     ]
    }
   ],
   "source": [
    "spam = int(input(\"enter an integer: \"))\n",
    "\n",
    "if spam == 1:\n",
    "    \n",
    "    print(\"Hello\")\n",
    "\n",
    "if spam == 2:\n",
    "    \n",
    "    print(\"Howdy\")\n",
    "\n",
    "elif (spam != 1 and spam != 2):\n",
    "    \n",
    "    print(\"Greetings\")"
   ]
  },
  {
   "cell_type": "markdown",
   "id": "44606a37",
   "metadata": {},
   "source": [
    "## 9.If your programme is stuck in an endless loop, what keys you’ll press?\n",
    "\n",
    "   An infinite loop is a loop that runs indefinitely and it only stops with external intervention or when a break statement is found. You can stop an infinite loop with CTRL + C ."
   ]
  },
  {
   "cell_type": "markdown",
   "id": "d325a225",
   "metadata": {},
   "source": [
    "## 10. How can you tell the difference between break and continue?\n",
    "\n",
    "In Python, break and continue statements can alter the flow of a normal loop.\n",
    "\n",
    "* 'Break' in Python is a loop control statement. It is used to control the sequence of the loop. Suppose you want to terminate a loop and skip to the next code after the loop; break will help you do that. A typical scenario of using the Break in Python is when an external condition triggers the loop's termination.\n",
    "\n",
    "* Continue is also a loop control statement just like the break statement. continue statement is opposite to that of break statement, instead of terminating the loop, it forces to execute the next iteration of the loop. As the name suggest the continue statement forces the loop to continue or execute the next iteration"
   ]
  },
  {
   "cell_type": "code",
   "execution_count": 18,
   "id": "e0736bd4",
   "metadata": {},
   "outputs": [
    {
     "name": "stdout",
     "output_type": "stream",
     "text": [
      "F\n",
      "u\n",
      "l\n",
      "l\n",
      " \n",
      "S\n"
     ]
    }
   ],
   "source": [
    "s = \"Full Stack Data Science\"\n",
    "\n",
    "for i in s :\n",
    "    \n",
    "    if i == \"t\":   # when it is true then break will execute\n",
    "        \n",
    "        break      # break the if loop\n",
    "    \n",
    "    print(i)\n",
    "\n",
    "else :\n",
    "    \n",
    "    if i == 'u':\n",
    "        \n",
    "        print(\"last char was u \")\n",
    "    \n",
    "    print(\"this is a else condtion \")"
   ]
  },
  {
   "cell_type": "code",
   "execution_count": 19,
   "id": "39d99bb6",
   "metadata": {},
   "outputs": [
    {
     "name": "stdout",
     "output_type": "stream",
     "text": [
      "F\n",
      "u\n",
      "l\n",
      "l\n",
      " \n",
      "S\n",
      "a\n",
      "c\n",
      "k\n",
      " \n",
      "D\n",
      "a\n",
      "a\n",
      " \n",
      "S\n",
      "c\n",
      "i\n",
      "e\n",
      "n\n",
      "c\n",
      "e\n",
      "this is a else condtion \n"
     ]
    }
   ],
   "source": [
    "for i in s :\n",
    "    \n",
    "    if i == \"t\":\n",
    "        \n",
    "        continue # continue will give control back to for loop \n",
    "    \n",
    "    print(i)    \n",
    "\n",
    "else :\n",
    "    \n",
    "    if i == 'u':\n",
    "        \n",
    "        print(\"last char was u \")\n",
    "    \n",
    "    print(\"this is a else condtion \")"
   ]
  },
  {
   "cell_type": "markdown",
   "id": "c810cfe0",
   "metadata": {},
   "source": [
    "## 11. In a for loop, what is the difference between range(10), range(0, 10), and range(0, 10, 1)?"
   ]
  },
  {
   "cell_type": "code",
   "execution_count": 20,
   "id": "82c72e53",
   "metadata": {},
   "outputs": [
    {
     "name": "stdout",
     "output_type": "stream",
     "text": [
      "0\n",
      "1\n",
      "2\n",
      "3\n",
      "4\n",
      "5\n",
      "6\n",
      "7\n",
      "8\n",
      "9\n"
     ]
    }
   ],
   "source": [
    "for i in range(10):\n",
    "    \n",
    "    print(i)"
   ]
  },
  {
   "cell_type": "code",
   "execution_count": 21,
   "id": "e979c2bb",
   "metadata": {},
   "outputs": [
    {
     "name": "stdout",
     "output_type": "stream",
     "text": [
      "0\n",
      "1\n",
      "2\n",
      "3\n",
      "4\n",
      "5\n",
      "6\n",
      "7\n",
      "8\n",
      "9\n"
     ]
    }
   ],
   "source": [
    "for i in range(0,10):\n",
    "    \n",
    "    print(i)"
   ]
  },
  {
   "cell_type": "code",
   "execution_count": 22,
   "id": "d2fc088f",
   "metadata": {},
   "outputs": [
    {
     "name": "stdout",
     "output_type": "stream",
     "text": [
      "0\n",
      "1\n",
      "2\n",
      "3\n",
      "4\n",
      "5\n",
      "6\n",
      "7\n",
      "8\n",
      "9\n"
     ]
    }
   ],
   "source": [
    "for i in range(0, 10, 1):\n",
    "    \n",
    "    print(i)"
   ]
  },
  {
   "cell_type": "markdown",
   "id": "05fec18a",
   "metadata": {},
   "source": [
    "In a for loop, range(10), range(0, 10), and range(0, 10, 1) give same output. However the difference between them is given below:\n",
    "* range(10): By default, it consider the [0] indexed element as the first iteration for \"for loop.\n",
    "* range(0, 10): In this expression, the initial element of the range has been defined as the element at index \"0\". \n",
    "* range(0, 10, 1): Here, step size is also considered. By default 1 is the step size in range function. Therefore, the jump is 1 element."
   ]
  },
  {
   "cell_type": "markdown",
   "id": "7e0d59c0",
   "metadata": {},
   "source": [
    "## 12. Write a short program that prints the numbers 1 to 10 using a for loop. Then write an equivalent program that prints the numbers 1 to 10 using a while loop."
   ]
  },
  {
   "cell_type": "code",
   "execution_count": 23,
   "id": "2c8cd10f",
   "metadata": {},
   "outputs": [
    {
     "name": "stdout",
     "output_type": "stream",
     "text": [
      "1\n",
      "2\n",
      "3\n",
      "4\n",
      "5\n",
      "6\n",
      "7\n",
      "8\n",
      "9\n",
      "10\n"
     ]
    }
   ],
   "source": [
    "for i in range (1, 11):\n",
    "    \n",
    "    print(i)"
   ]
  },
  {
   "cell_type": "code",
   "execution_count": 24,
   "id": "b21a4664",
   "metadata": {},
   "outputs": [
    {
     "name": "stdout",
     "output_type": "stream",
     "text": [
      "1\n",
      "2\n",
      "3\n",
      "4\n",
      "5\n",
      "6\n",
      "7\n",
      "8\n",
      "9\n",
      "10\n"
     ]
    }
   ],
   "source": [
    "i = 1\n",
    "\n",
    "while i <= 10:\n",
    "    \n",
    "    print(i)\n",
    "    \n",
    "    i += 1"
   ]
  },
  {
   "cell_type": "markdown",
   "id": "668b47e8",
   "metadata": {},
   "source": [
    "## 13. If you had a function named bacon() inside a module named spam, how would you call it after importing spam?"
   ]
  },
  {
   "cell_type": "code",
   "execution_count": 25,
   "id": "7d8a5083",
   "metadata": {},
   "outputs": [
    {
     "ename": "ModuleNotFoundError",
     "evalue": "No module named 'spam'",
     "output_type": "error",
     "traceback": [
      "\u001b[1;31m---------------------------------------------------------------------------\u001b[0m",
      "\u001b[1;31mModuleNotFoundError\u001b[0m                       Traceback (most recent call last)",
      "Cell \u001b[1;32mIn[25], line 1\u001b[0m\n\u001b[1;32m----> 1\u001b[0m \u001b[38;5;28;01mimport\u001b[39;00m \u001b[38;5;21;01mspam\u001b[39;00m    \u001b[38;5;66;03m# we need to put this command,`import` keyword along with the name of the module you want to import\u001b[39;00m\n\u001b[0;32m      2\u001b[0m spam\u001b[38;5;241m.\u001b[39mbacon()   \u001b[38;5;66;03m# Use dot operator to access bacon() inside module \"spam\"\u001b[39;00m\n",
      "\u001b[1;31mModuleNotFoundError\u001b[0m: No module named 'spam'"
     ]
    }
   ],
   "source": [
    "import spam    # we need to put this command,`import` keyword along with the name of the module you want to import\n",
    "spam.bacon()   # Use dot operator to access bacon() inside module \"spam\""
   ]
  }
 ],
 "metadata": {
  "kernelspec": {
   "display_name": "Python 3 (ipykernel)",
   "language": "python",
   "name": "python3"
  },
  "language_info": {
   "codemirror_mode": {
    "name": "ipython",
    "version": 3
   },
   "file_extension": ".py",
   "mimetype": "text/x-python",
   "name": "python",
   "nbconvert_exporter": "python",
   "pygments_lexer": "ipython3",
   "version": "3.11.0"
  }
 },
 "nbformat": 4,
 "nbformat_minor": 5
}
