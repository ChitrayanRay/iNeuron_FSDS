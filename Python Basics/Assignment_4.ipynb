{
 "cells": [
  {
   "cell_type": "markdown",
   "id": "1aaff5fe",
   "metadata": {},
   "source": [
    "## 1. What exactly is []?\n",
    "\n",
    "   * This is a empty list.\n",
    "   * List uses square brackets for identitifying a variable as list in Python programming language."
   ]
  },
  {
   "cell_type": "code",
   "execution_count": 1,
   "id": "715aa0f8",
   "metadata": {},
   "outputs": [
    {
     "data": {
      "text/plain": [
       "list"
      ]
     },
     "execution_count": 1,
     "metadata": {},
     "output_type": "execute_result"
    }
   ],
   "source": [
    "l = []\n",
    "type(l)"
   ]
  },
  {
   "cell_type": "code",
   "execution_count": 2,
   "id": "135dad7c",
   "metadata": {},
   "outputs": [],
   "source": [
    "a = [1,\"one\",3+2j]"
   ]
  },
  {
   "cell_type": "code",
   "execution_count": 3,
   "id": "8af118d7",
   "metadata": {},
   "outputs": [
    {
     "data": {
      "text/plain": [
       "[1, 'one', (3+2j)]"
      ]
     },
     "execution_count": 3,
     "metadata": {},
     "output_type": "execute_result"
    }
   ],
   "source": [
    "a"
   ]
  },
  {
   "cell_type": "code",
   "execution_count": 4,
   "id": "24e08605",
   "metadata": {},
   "outputs": [
    {
     "data": {
      "text/plain": [
       "list"
      ]
     },
     "execution_count": 4,
     "metadata": {},
     "output_type": "execute_result"
    }
   ],
   "source": [
    "type(a)"
   ]
  },
  {
   "cell_type": "markdown",
   "id": "d2ea9c40",
   "metadata": {},
   "source": [
    "## 2. In a list of values stored in a variable called spam, how would you assign the value &#39;hello&#39; as the third value? (Assume [2, 4, 6, 8, 10] are in spam.) \n",
    "\n",
    "## Let&#39;s pretend the spam includes the list [&#39;a&#39;, &#39;b&#39;, &#39;c&#39;, &#39;d&#39;] for the next three queries."
   ]
  },
  {
   "cell_type": "code",
   "execution_count": 5,
   "id": "69d112ab",
   "metadata": {},
   "outputs": [],
   "source": [
    "spam = [2, 4, 6, 8, 10]"
   ]
  },
  {
   "cell_type": "code",
   "execution_count": 6,
   "id": "a2fc95f6",
   "metadata": {},
   "outputs": [],
   "source": [
    "spam"
   ]
  },
  {
   "cell_type": "code",
   "execution_count": null,
   "id": "3d188886",
   "metadata": {},
   "outputs": [],
   "source": [
    "spam.insert(2,\"hello\")     # Using \"insert()\" function with index = 2 i.e. the third value in the list and object \"hello\""
   ]
  },
  {
   "cell_type": "code",
   "execution_count": 8,
   "id": "f0fa64c0",
   "metadata": {},
   "outputs": [
    {
     "data": {
      "text/plain": [
       "[2, 4, 'hello', 6, 8, 10]"
      ]
     },
     "execution_count": 8,
     "metadata": {},
     "output_type": "execute_result"
    }
   ],
   "source": [
    "spam"
   ]
  },
  {
   "cell_type": "markdown",
   "id": "52bab54d",
   "metadata": {},
   "source": [
    "## 3. What is the value of spam[int(int(&#39;3&#39; * 2) / 11)]?"
   ]
  },
  {
   "cell_type": "code",
   "execution_count": 9,
   "id": "8059ba4c",
   "metadata": {},
   "outputs": [],
   "source": [
    "spam = ['a', 'b', 'c', 'd']"
   ]
  },
  {
   "cell_type": "code",
   "execution_count": 10,
   "id": "cb04b9dd",
   "metadata": {},
   "outputs": [
    {
     "data": {
      "text/plain": [
       "['a', 'b', 'c', 'd']"
      ]
     },
     "execution_count": 10,
     "metadata": {},
     "output_type": "execute_result"
    }
   ],
   "source": [
    "spam"
   ]
  },
  {
   "cell_type": "code",
   "execution_count": 11,
   "id": "b19bbccf",
   "metadata": {},
   "outputs": [
    {
     "data": {
      "text/plain": [
       "'d'"
      ]
     },
     "execution_count": 11,
     "metadata": {},
     "output_type": "execute_result"
    }
   ],
   "source": [
    "spam[int(int('3' * 2) / 11)]"
   ]
  },
  {
   "cell_type": "code",
   "execution_count": 12,
   "id": "ec493c33",
   "metadata": {},
   "outputs": [
    {
     "data": {
      "text/plain": [
       "3"
      ]
     },
     "execution_count": 12,
     "metadata": {},
     "output_type": "execute_result"
    }
   ],
   "source": [
    "int(int('3' * 2) / 11)"
   ]
  },
  {
   "cell_type": "markdown",
   "id": "3a8af2ea",
   "metadata": {},
   "source": [
    "* int(int('3' * 2) / 11)  returns 3.\n",
    "* spam[int(int('3' * 2) / 11)] will extract the element from spam list at index = 3 i.e. \"d\""
   ]
  },
  {
   "cell_type": "markdown",
   "id": "2d08f6b5",
   "metadata": {},
   "source": [
    "## 4. What is the value of spam[-1]?"
   ]
  },
  {
   "cell_type": "code",
   "execution_count": 13,
   "id": "8c3b71e3",
   "metadata": {},
   "outputs": [
    {
     "data": {
      "text/plain": [
       "'d'"
      ]
     },
     "execution_count": 13,
     "metadata": {},
     "output_type": "execute_result"
    }
   ],
   "source": [
    "spam[-1]"
   ]
  },
  {
   "cell_type": "markdown",
   "id": "e6dd4039",
   "metadata": {},
   "source": [
    "## 5. What is the value of spam[:2]? \n",
    "\n",
    "## Let&#39;s pretend bacon has the list [3.14, &#39;cat,&#39; 11, &#39;cat,&#39; True] for the next three questions."
   ]
  },
  {
   "cell_type": "code",
   "execution_count": 14,
   "id": "380e995f",
   "metadata": {},
   "outputs": [
    {
     "data": {
      "text/plain": [
       "'d'"
      ]
     },
     "execution_count": 14,
     "metadata": {},
     "output_type": "execute_result"
    }
   ],
   "source": [
    "spam[-1]"
   ]
  },
  {
   "cell_type": "markdown",
   "id": "d967f763",
   "metadata": {},
   "source": [
    "## 6. What is the value of bacon.index(&#39;cat&#39;)?"
   ]
  },
  {
   "cell_type": "code",
   "execution_count": 15,
   "id": "837f1c17",
   "metadata": {},
   "outputs": [],
   "source": [
    "bacon = [3.14, 'cat', 11, 'cat', True]"
   ]
  },
  {
   "cell_type": "code",
   "execution_count": 16,
   "id": "d100814e",
   "metadata": {},
   "outputs": [
    {
     "data": {
      "text/plain": [
       "[3.14, 'cat', 11, 'cat', True]"
      ]
     },
     "execution_count": 16,
     "metadata": {},
     "output_type": "execute_result"
    }
   ],
   "source": [
    "bacon"
   ]
  },
  {
   "cell_type": "code",
   "execution_count": 17,
   "id": "702cbcad",
   "metadata": {},
   "outputs": [
    {
     "data": {
      "text/plain": [
       "1"
      ]
     },
     "execution_count": 17,
     "metadata": {},
     "output_type": "execute_result"
    }
   ],
   "source": [
    "bacon.index('cat')     # Returns the index of the first occurence of \"cat\""
   ]
  },
  {
   "cell_type": "markdown",
   "id": "e504d3ce",
   "metadata": {},
   "source": [
    "## 7. How does bacon.append(99) change the look of the list value in bacon?"
   ]
  },
  {
   "cell_type": "code",
   "execution_count": 18,
   "id": "8f77e4bd",
   "metadata": {},
   "outputs": [
    {
     "data": {
      "text/plain": [
       "[3.14, 'cat', 11, 'cat', True]"
      ]
     },
     "execution_count": 18,
     "metadata": {},
     "output_type": "execute_result"
    }
   ],
   "source": [
    "bacon"
   ]
  },
  {
   "cell_type": "code",
   "execution_count": 19,
   "id": "c8e0fa05",
   "metadata": {},
   "outputs": [],
   "source": [
    "bacon.append(99)     # Appending object to the end of the list"
   ]
  },
  {
   "cell_type": "code",
   "execution_count": 20,
   "id": "9a42f45e",
   "metadata": {},
   "outputs": [
    {
     "data": {
      "text/plain": [
       "[3.14, 'cat', 11, 'cat', True, 99]"
      ]
     },
     "execution_count": 20,
     "metadata": {},
     "output_type": "execute_result"
    }
   ],
   "source": [
    "bacon"
   ]
  },
  {
   "cell_type": "markdown",
   "id": "e3dab5a0",
   "metadata": {},
   "source": [
    "## 8. How does bacon.remove(&#39;cat&#39;) change the look of the list in bacon?"
   ]
  },
  {
   "cell_type": "code",
   "execution_count": 21,
   "id": "9f73ab78",
   "metadata": {},
   "outputs": [
    {
     "data": {
      "text/plain": [
       "[3.14, 'cat', 11, 'cat', True, 99]"
      ]
     },
     "execution_count": 21,
     "metadata": {},
     "output_type": "execute_result"
    }
   ],
   "source": [
    "bacon"
   ]
  },
  {
   "cell_type": "code",
   "execution_count": 22,
   "id": "7dd9cf2c",
   "metadata": {},
   "outputs": [],
   "source": [
    "bacon.remove('cat')            # Removes the first occurrence of \"cat\""
   ]
  },
  {
   "cell_type": "code",
   "execution_count": 23,
   "id": "f64e9e0d",
   "metadata": {},
   "outputs": [
    {
     "data": {
      "text/plain": [
       "[3.14, 11, 'cat', True, 99]"
      ]
     },
     "execution_count": 23,
     "metadata": {},
     "output_type": "execute_result"
    }
   ],
   "source": [
    "bacon"
   ]
  },
  {
   "cell_type": "markdown",
   "id": "6d935de2",
   "metadata": {},
   "source": [
    "## 9. What are the list concatenation and list replication operators?"
   ]
  },
  {
   "cell_type": "code",
   "execution_count": 24,
   "id": "9480c973",
   "metadata": {},
   "outputs": [],
   "source": [
    "FS = [\"Full\", \"Stack\"]\n",
    "DS = [\"Data\", \"Science\"]"
   ]
  },
  {
   "cell_type": "markdown",
   "id": "13b8ed16",
   "metadata": {},
   "source": [
    "List Concatenation Operator: The operator for list concatenation is \" + \"."
   ]
  },
  {
   "cell_type": "code",
   "execution_count": 25,
   "id": "189af0a3",
   "metadata": {},
   "outputs": [
    {
     "data": {
      "text/plain": [
       "['Full', 'Stack', 'Data', 'Science']"
      ]
     },
     "execution_count": 25,
     "metadata": {},
     "output_type": "execute_result"
    }
   ],
   "source": [
    "FSDS = FS + DS \n",
    "FSDS"
   ]
  },
  {
   "cell_type": "markdown",
   "id": "65e24c64",
   "metadata": {},
   "source": [
    "List Replication Operator: The operator for list replication is \" * \""
   ]
  },
  {
   "cell_type": "code",
   "execution_count": 26,
   "id": "b8e46661",
   "metadata": {},
   "outputs": [
    {
     "data": {
      "text/plain": [
       "['Full', 'Stack', 'Full', 'Stack']"
      ]
     },
     "execution_count": 26,
     "metadata": {},
     "output_type": "execute_result"
    }
   ],
   "source": [
    "FSDS = FS * 2\n",
    "FSDS"
   ]
  },
  {
   "cell_type": "markdown",
   "id": "9ee40116",
   "metadata": {},
   "source": [
    "## 10. What is difference between the list methods append() and insert()?\n",
    "\n",
    "* **Signature:** FS.append(object, /)\n",
    "  - **Docstring:** Append object to the end of the list.\n",
    "  - **Type:**      builtin_function_or_method\n",
    "\n",
    "\n",
    "* **Signature:** FS.insert(index, object, /)\n",
    "  - **Docstring:** Insert object before index.\n",
    "  - **Type:**      builtin_function_or_method"
   ]
  },
  {
   "cell_type": "code",
   "execution_count": 27,
   "id": "aac19e39",
   "metadata": {},
   "outputs": [
    {
     "data": {
      "text/plain": [
       "['Full', 'Stack', ['Data', 'Science']]"
      ]
     },
     "execution_count": 27,
     "metadata": {},
     "output_type": "execute_result"
    }
   ],
   "source": [
    "FS = [\"Full\", \"Stack\"]\n",
    "DS = [\"Data\", \"Science\"]\n",
    "\n",
    "FS.append(DS)\n",
    "FS"
   ]
  },
  {
   "cell_type": "code",
   "execution_count": 28,
   "id": "00c14d35",
   "metadata": {},
   "outputs": [
    {
     "data": {
      "text/plain": [
       "[['Data', 'Science'], 'Full', 'Stack']"
      ]
     },
     "execution_count": 28,
     "metadata": {},
     "output_type": "execute_result"
    }
   ],
   "source": [
    "FS = [\"Full\", \"Stack\"]\n",
    "DS = [\"Data\", \"Science\"]\n",
    "\n",
    "FS.insert(0,DS)  \n",
    "FS"
   ]
  },
  {
   "cell_type": "markdown",
   "id": "6fe35566",
   "metadata": {},
   "source": [
    "## 11. What are the two methods for removing items from a list?\n",
    "\n",
    "* **Signature:** list.pop(index=-1, /)\n",
    "  - **Docstring:** Remove and return item at index (default last). Raises IndexError if list is empty or index is out of range.\n",
    "  - **Type:**      builtin_function_or_method\n",
    "\n",
    "\n",
    "* **Signature:** list.remove(value, /)\n",
    "  - **Docstring:** Remove first occurrence of value. Raises ValueError if the value is not present.\n",
    "  - **Type:**      builtin_function_or_method"
   ]
  },
  {
   "cell_type": "code",
   "execution_count": 29,
   "id": "3b48620b",
   "metadata": {},
   "outputs": [
    {
     "name": "stdout",
     "output_type": "stream",
     "text": [
      "The pop function removed the last element from the list which is 7\n",
      "The pop function removed the element at index 2 from the list which is 3\n",
      "Now the list is [1, 2, 4, 5, 6]\n"
     ]
    }
   ],
   "source": [
    "l = [1,2,3,4,5,6,7]    \n",
    "l\n",
    "\n",
    "a = l.pop()                  # Removing through index and stored on another variable\n",
    "b = l.pop(2)\n",
    "print(\"The pop function removed the last element from the list which is {}\".format(a))\n",
    "print(\"The pop function removed the element at index 2 from the list which is {}\".format(b))\n",
    "print(\"Now the list is {}\".format(l))"
   ]
  },
  {
   "cell_type": "code",
   "execution_count": 30,
   "id": "0fa2acde",
   "metadata": {},
   "outputs": [
    {
     "name": "stdout",
     "output_type": "stream",
     "text": [
      "The remove function removed the first occurrence of element from the list which is None\n",
      "The remove function removed the first occurrence of element from the list which is None\n",
      "Now the list is [1, 3, 2, 4, 5, 7]\n"
     ]
    }
   ],
   "source": [
    "r = [1,2,3,2,4,5,6,7]\n",
    "r\n",
    "\n",
    "s = r.remove(2) \n",
    "t = r.remove(6)\n",
    "print(\"The remove function removed the first occurrence of element from the list which is {}\".format(s))  # Returns none \n",
    "print(\"The remove function removed the first occurrence of element from the list which is {}\".format(t))\n",
    "print(\"Now the list is {}\".format(r))"
   ]
  },
  {
   "cell_type": "markdown",
   "id": "6a68ba1d",
   "metadata": {},
   "source": [
    "we can not extract the removed element while using remove function however pop function allows us to store the removed element in another variable."
   ]
  },
  {
   "cell_type": "markdown",
   "id": "eef8216d",
   "metadata": {},
   "source": [
    "## 12. Describe how list values and string values are identical.\n",
    "\n",
    "* The similarity between Lists and Strings in Python is that both are sequences. Lists are similar to strings, which are ordered collections of characters.\n",
    "   * The values that make up a list are called its elements, the elements of a list can have any type. List values can be hetero datatype while string values can't.\n",
    "   * Lists are mutable but Strings are immutable."
   ]
  },
  {
   "cell_type": "markdown",
   "id": "9b5c5367",
   "metadata": {},
   "source": [
    "## 13. What&#39;s the difference between tuples and lists?\n",
    "\n",
    "   * Tuples are immutable collection of data however, lists are mutable collection of data. \n",
    "   * Tuples allow appending elements at the new location only however, list allow assigning new element at new and old location.\n",
    "   * To hold the data in tuple use () however, to hold the data in string use [ ]\n",
    "   * In case of tuple, we get \"count()\" and \"index()\" only because tuple is a immutable variable while in case of list we get a  lot of functions and methods because list is a mutable variable.  \n",
    "   * In case of tuple, direct insertion is not allowed. we have to convert tuple into list using list() function, append and then convert it back to tuple using tuple() function.\n",
    "   * Tuples can be used for safty of a data as anyone can not change or modify the data store in the location while in string data can be modified easily."
   ]
  },
  {
   "cell_type": "code",
   "execution_count": 31,
   "id": "6976a654",
   "metadata": {},
   "outputs": [],
   "source": [
    "t = (\"Full\", \"Stack\", \"Data\", \"Science\", 2021)       # For storing the data in tuple, we use ()\n",
    "l = [\"Full\", \"Stack\", \"Data\", \"Science\", 2021]        # For storing the data in string, we use []"
   ]
  },
  {
   "cell_type": "code",
   "execution_count": 32,
   "id": "1518f9da",
   "metadata": {},
   "outputs": [
    {
     "ename": "TypeError",
     "evalue": "'tuple' object does not support item assignment",
     "output_type": "error",
     "traceback": [
      "\u001b[1;31m---------------------------------------------------------------------------\u001b[0m",
      "\u001b[1;31mTypeError\u001b[0m                                 Traceback (most recent call last)",
      "Cell \u001b[1;32mIn[32], line 1\u001b[0m\n\u001b[1;32m----> 1\u001b[0m \u001b[43mt\u001b[49m\u001b[43m[\u001b[49m\u001b[38;5;241;43m-\u001b[39;49m\u001b[38;5;241;43m1\u001b[39;49m\u001b[43m]\u001b[49m \u001b[38;5;241m=\u001b[39m \u001b[38;5;241m2022\u001b[39m\n",
      "\u001b[1;31mTypeError\u001b[0m: 'tuple' object does not support item assignment"
     ]
    }
   ],
   "source": [
    "t[-1] = 2022"
   ]
  },
  {
   "cell_type": "code",
   "execution_count": 33,
   "id": "50194761",
   "metadata": {},
   "outputs": [
    {
     "data": {
      "text/plain": [
       "['Full', 'Stack', 'Data', 'Science', 2022]"
      ]
     },
     "execution_count": 33,
     "metadata": {},
     "output_type": "execute_result"
    }
   ],
   "source": [
    "l[-1] = 2022\n",
    "l"
   ]
  },
  {
   "cell_type": "code",
   "execution_count": 34,
   "id": "6707ab80",
   "metadata": {},
   "outputs": [
    {
     "data": {
      "text/plain": [
       "('Full', 'Stack', 'Data', 'Science', 2021, 'FSDS', 'iNeuron')"
      ]
     },
     "execution_count": 34,
     "metadata": {},
     "output_type": "execute_result"
    }
   ],
   "source": [
    "T = (\"FSDS\",\"iNeuron\")                                 # Append is allowed in tuple, assigning elements in new location\n",
    "t + T"
   ]
  },
  {
   "cell_type": "markdown",
   "id": "e864c8a0",
   "metadata": {},
   "source": [
    "## 14. How do you type a tuple value that only contains the integer 42?"
   ]
  },
  {
   "cell_type": "code",
   "execution_count": 35,
   "id": "b238a410",
   "metadata": {},
   "outputs": [
    {
     "data": {
      "text/plain": [
       "(42,)"
      ]
     },
     "execution_count": 35,
     "metadata": {},
     "output_type": "execute_result"
    }
   ],
   "source": [
    "l = [42]                        # At first, we'll create a list with tuple values\n",
    "tv = tuple(l)                   # In-built function tuple to convert the list to tuple\n",
    "tv"
   ]
  },
  {
   "cell_type": "code",
   "execution_count": 36,
   "id": "330cef58",
   "metadata": {},
   "outputs": [
    {
     "data": {
      "text/plain": [
       "tuple"
      ]
     },
     "execution_count": 36,
     "metadata": {},
     "output_type": "execute_result"
    }
   ],
   "source": [
    "type(tv)"
   ]
  },
  {
   "cell_type": "markdown",
   "id": "62fea597",
   "metadata": {},
   "source": [
    "## 15. How do you get a list value&#39;s tuple form? How do you get a tuple value&#39;s list form?"
   ]
  },
  {
   "cell_type": "code",
   "execution_count": 37,
   "id": "461ab52c",
   "metadata": {},
   "outputs": [
    {
     "name": "stdout",
     "output_type": "stream",
     "text": [
      "List is: ['Full', 'Stack', 'Data', 'Science', 2022]\n",
      "List values converted in tuple form: ('Full', 'Stack', 'Data', 'Science', 2022)\n",
      "Type is: <class 'tuple'>\n"
     ]
    }
   ],
   "source": [
    "l = [\"Full\", \"Stack\", \"Data\", \"Science\", 2022]        # For storing the data in string, we use [] \n",
    "\n",
    "# For getting the list values in tuple form, we'll use tuple() in-built function\n",
    "\n",
    "listToTuple = tuple(l)\n",
    "\n",
    "print(\"List is: {}\".format(l))\n",
    "\n",
    "print(\"List values converted in tuple form: {}\".format(listToTuple))\n",
    "\n",
    "print(\"Type is: {}\".format(type(listToTuple)))"
   ]
  },
  {
   "cell_type": "code",
   "execution_count": 38,
   "id": "2f162029",
   "metadata": {},
   "outputs": [
    {
     "name": "stdout",
     "output_type": "stream",
     "text": [
      "Tuple is: ('Full', 'Stack', 'Data', 'Science', 2022)\n",
      "Tuple values converted in list form: ['Full', 'Stack', 'Data', 'Science', 2022]\n",
      "Type is: <class 'list'>\n"
     ]
    }
   ],
   "source": [
    "t = (\"Full\", \"Stack\", \"Data\", \"Science\", 2022)       # For storing the data in tuple, we use ()     \n",
    "\n",
    "# For getting the tuple values in list form, we'll use list() function\n",
    "\n",
    "tupleToList = list(t)\n",
    "\n",
    "print(\"Tuple is: {}\".format(t))\n",
    "\n",
    "print(\"Tuple values converted in list form: {}\".format(tupleToList))\n",
    "\n",
    "print(\"Type is: {}\".format(type(tupleToList)))"
   ]
  },
  {
   "cell_type": "markdown",
   "id": "7cc4759b",
   "metadata": {},
   "source": [
    "## 16. Variables that &quot;contain&quot; list values are not necessarily lists themselves. Instead, what do they contain?\n",
    "\n",
    "They contain references to list values. Reference to list value concept is explained in next question by the concept of shallow and deep copy."
   ]
  },
  {
   "cell_type": "markdown",
   "id": "9c06a440",
   "metadata": {},
   "source": [
    "## 17. How do you distinguish between copy.copy() and copy.deepcopy()?\n",
    "\n",
    "* Essentially, sometimes you may want to have the original values unchanged and only modify the new values or vice versa. In Python, there are two ways to create copies:\n",
    "    * **Shallow Copy**\n",
    "    * **Deep Copy**\n",
    "* To make these copy work, we use the **copy module**.\n",
    "   \n",
    "   \n",
    "   \n",
    "   * **copy.copy():** A shallow copy creates a new object which stores the **reference** of the original elements. So, a shallow copy doesn't create a copy of nested objects, instead it just copies the reference of nested objects. This means, a copy process does not recurse or create copies of nested objects itself. if we apply changes on the elements of old list, those will visible in the new list.\n",
    "   \n",
    "   \n",
    "   * **copy.deepcopy():** If we deepcopy a list, changes apply on the elements of old list will not visible in the new list."
   ]
  },
  {
   "cell_type": "code",
   "execution_count": 39,
   "id": "50f16a7c",
   "metadata": {},
   "outputs": [
    {
     "name": "stdout",
     "output_type": "stream",
     "text": [
      "Old List: [[1, 2, 3], [4, 5, 6], [7, 8, 9]]\n",
      "ID of Old List: 3290711946944\n",
      "New List: [[1, 2, 3], [4, 5, 6], [7, 8, 9]]\n",
      "ID of New List: 3290711946944\n"
     ]
    }
   ],
   "source": [
    "# Copying using '=' operator\n",
    "\n",
    "oldList = [[1, 2, 3], [4, 5, 6], [7, 8, 'a']]\n",
    "newList = oldList\n",
    "\n",
    "newList[2][2] = 9\n",
    "\n",
    "print('Old List:', oldList)\n",
    "print('ID of Old List:', id(oldList))\n",
    "\n",
    "print('New List:', newList)\n",
    "print('ID of New List:', id(newList))"
   ]
  },
  {
   "cell_type": "markdown",
   "id": "b56b0cad",
   "metadata": {},
   "source": [
    "As we can see from the output both variables, oldList and newList shares the same id.\n",
    "\n",
    "So, if we want to modify any values in newList or oldList, the changes are visible in both."
   ]
  },
  {
   "cell_type": "markdown",
   "id": "2c6f0a92",
   "metadata": {},
   "source": [
    "### Shallow Copy"
   ]
  },
  {
   "cell_type": "code",
   "execution_count": 40,
   "id": "916df23a",
   "metadata": {},
   "outputs": [
    {
     "name": "stdout",
     "output_type": "stream",
     "text": [
      "Old list: [[1, 2, 3], [4, 5, 6], [7, 8, 9]]\n",
      "ID of Old List: 3290711954048\n",
      "New list: [[1, 2, 3], [4, 5, 6], [7, 8, 9]]\n",
      "ID of New List: 3290711962880\n"
     ]
    }
   ],
   "source": [
    "# Creating a copy using shallow copy\n",
    "\n",
    "import copy\n",
    "\n",
    "oldList = [[1, 2, 3], [4, 5, 6], [7, 8, 9]]\n",
    "newList = copy.copy(oldList)\n",
    "\n",
    "print(\"Old list:\", oldList)\n",
    "print('ID of Old List:', id(oldList))\n",
    "\n",
    "print(\"New list:\", newList)\n",
    "print('ID of New List:', id(newList))"
   ]
  },
  {
   "cell_type": "markdown",
   "id": "88bcf528",
   "metadata": {},
   "source": [
    "As you can see from the output both variables oldList and newList shares the different id.\n",
    "\n",
    "In above program, we created a nested list and then shallow copy it using copy() method.\n",
    "\n",
    "This means it will create new and independent object with same content. To verify this, we print the both oldList and newList.\n",
    "To confirm that newList is different from oldList, we try to add new nested object to original and check it."
   ]
  },
  {
   "cell_type": "code",
   "execution_count": 41,
   "id": "379abdc8",
   "metadata": {},
   "outputs": [
    {
     "name": "stdout",
     "output_type": "stream",
     "text": [
      "Old list: [[1, 2, 3], [4, 5, 6], [7, 8, 9], [4, 4, 4]]\n",
      "New list: [[1, 2, 3], [4, 5, 6], [7, 8, 9]]\n"
     ]
    }
   ],
   "source": [
    "# Adding [4, 4, 4] to oldList, using shallow copy\n",
    "\n",
    "\n",
    "oldList.append([4, 4, 4])\n",
    "\n",
    "print(\"Old list:\", oldList)\n",
    "print(\"New list:\", newList)"
   ]
  },
  {
   "cell_type": "markdown",
   "id": "c80d9274",
   "metadata": {},
   "source": [
    "In the above program, we created a shallow copy of oldList. The newList contains references to original nested objects stored in oldList. Then we add the new list i.e [4, 4, 4] into oldList. This new sublist was not copied in newList.\n",
    "\n",
    "However, when you change any nested objects in oldList, the changes appear in newList."
   ]
  },
  {
   "cell_type": "code",
   "execution_count": 42,
   "id": "bb69c1dc",
   "metadata": {},
   "outputs": [
    {
     "name": "stdout",
     "output_type": "stream",
     "text": [
      "Old list: [[1, 2, 3], [4, 'AA', 6], [7, 8, 9], [4, 4, 4]]\n",
      "New list: [[1, 2, 3], [4, 'AA', 6], [7, 8, 9]]\n"
     ]
    }
   ],
   "source": [
    "# Adding new nested object using Shallow copy\n",
    "\n",
    "\n",
    "oldList[1][1] = 'AA'              # Old location in old list\n",
    "\n",
    "print(\"Old list:\", oldList)\n",
    "print(\"New list:\", newList)"
   ]
  },
  {
   "cell_type": "markdown",
   "id": "c17a4363",
   "metadata": {},
   "source": [
    "In the above program, we made changes to oldList i.e oldList[1][1] = 'AA'. Both sublists of oldList and newList at index [1][1] were modified. This is because, **both lists share the reference of same nested objects.**"
   ]
  },
  {
   "cell_type": "markdown",
   "id": "052158ef",
   "metadata": {},
   "source": [
    "### Deepcopy"
   ]
  },
  {
   "cell_type": "code",
   "execution_count": 43,
   "id": "c3535cea",
   "metadata": {},
   "outputs": [
    {
     "name": "stdout",
     "output_type": "stream",
     "text": [
      "Old list: [[1, 1, 1], [2, 2, 2], [3, 3, 3]]\n",
      "New list: [[1, 1, 1], [2, 2, 2], [3, 3, 3]]\n"
     ]
    }
   ],
   "source": [
    "# Copying a list using deepcopy()\n",
    "\n",
    "\n",
    "oldList = [[1, 1, 1], [2, 2, 2], [3, 3, 3]]\n",
    "newList = copy.deepcopy(oldList)\n",
    "\n",
    "print(\"Old list:\", oldList)\n",
    "print(\"New list:\", newList)"
   ]
  },
  {
   "cell_type": "markdown",
   "id": "c9f7eb23",
   "metadata": {},
   "source": [
    "In the above program, we use deepcopy() function to create copy which looks similar.\n",
    "\n",
    "However, if you make changes to any nested objects in original object oldList, you’ll see no changes to the copy newList."
   ]
  },
  {
   "cell_type": "code",
   "execution_count": 44,
   "id": "a83c5777",
   "metadata": {},
   "outputs": [
    {
     "name": "stdout",
     "output_type": "stream",
     "text": [
      "Old list: [[1, 1, 1], ['BB', 2, 2], [3, 3, 3]]\n",
      "New list: [[1, 1, 1], [2, 2, 2], [3, 3, 3]]\n"
     ]
    }
   ],
   "source": [
    "# Adding a new nested object in the list using Deep copy\n",
    "\n",
    "\n",
    "oldList[1][0] = 'BB'\n",
    "\n",
    "print(\"Old list:\", oldList)\n",
    "print(\"New list:\", newList)"
   ]
  },
  {
   "cell_type": "markdown",
   "id": "81711a5e",
   "metadata": {},
   "source": [
    "In the above program, when we assign a new value to old_list, we can see only the oldList is modified. This means, both the oldList and the newList are independent. This is because the oldList was recursively copied, which is true for all its nested objects."
   ]
  }
 ],
 "metadata": {
  "kernelspec": {
   "display_name": "Python 3 (ipykernel)",
   "language": "python",
   "name": "python3"
  },
  "language_info": {
   "codemirror_mode": {
    "name": "ipython",
    "version": 3
   },
   "file_extension": ".py",
   "mimetype": "text/x-python",
   "name": "python",
   "nbconvert_exporter": "python",
   "pygments_lexer": "ipython3",
   "version": "3.11.0"
  }
 },
 "nbformat": 4,
 "nbformat_minor": 5
}
