{
 "cells": [
  {
   "cell_type": "markdown",
   "id": "9d3cd9d5",
   "metadata": {},
   "source": [
    "## Q1. What is a probability distribution, exactly? If the values are meant to be random, how can you predict them at all?"
   ]
  },
  {
   "cell_type": "markdown",
   "id": "261a1ccb",
   "metadata": {},
   "source": [
    "A probability distribution describes how a random variable is distributed.\n",
    "\n",
    "It tells us which values a random variable is most likely to take on and which values are less likely. Based on the previous data and the occurences of the random event, we can predict the outcome in terms of probabilities."
   ]
  },
  {
   "cell_type": "markdown",
   "id": "5783d24a",
   "metadata": {},
   "source": [
    "## Q2. Is there a distinction between true random numbers and pseudo-random numbers, if there is one? Why are the latter considered “good enough”?"
   ]
  },
  {
   "cell_type": "markdown",
   "id": "a4a2d14b",
   "metadata": {},
   "source": [
    "True Random Numbers are true physical values while Pseudo-Random numbers are generated internally by a program. The latter is considered good enough as they have sort of uniform distribution."
   ]
  },
  {
   "cell_type": "markdown",
   "id": "9910bd50",
   "metadata": {},
   "source": [
    "## Q3. What are the two main factors that influence the behaviour of a &quot;normal&quot; probability distribution?"
   ]
  },
  {
   "cell_type": "markdown",
   "id": "81597b27",
   "metadata": {},
   "source": [
    "Normal Probability Distribution are influenced by two factors, mean and the variance."
   ]
  },
  {
   "cell_type": "markdown",
   "id": "bcf88612",
   "metadata": {},
   "source": [
    "## Q4. Provide a real-life example of a normal distribution."
   ]
  },
  {
   "cell_type": "markdown",
   "id": "ac1ad94e",
   "metadata": {},
   "source": [
    "One example of a real-life normal distribution is the height of adult males. If you measure the height of a large group of adult males and plot the data on a graph, you would likely get a bell-shaped curve that is symmetrical around the mean (average) height. Most adult males will have a height that is close to the mean, with fewer individuals having heights that are farther away from the mean."
   ]
  },
  {
   "cell_type": "markdown",
   "id": "41e3f1e8",
   "metadata": {},
   "source": [
    "## Q5. In the short term, how can you expect a probability distribution to behave? What do you think will happen as the number of trials grows?"
   ]
  },
  {
   "cell_type": "markdown",
   "id": "379c2010",
   "metadata": {},
   "source": [
    "In the short term, a probability distribution may not necessarily behave according to it's expected theoretical distribution. This is because probability distributions are based on probabilities and probabilities are subject to random fluctuations in the short term. However, as the number of trials or sample size grows, Variance will decrease with number of trials."
   ]
  },
  {
   "cell_type": "markdown",
   "id": "c3f36792",
   "metadata": {},
   "source": [
    "## Q6. What kind of object can be shuffled by using random.shuffle?"
   ]
  },
  {
   "cell_type": "markdown",
   "id": "d89019ee",
   "metadata": {},
   "source": [
    "lists (list), strings (str) and tuples (tuple) objects can be shuffled by using random.shuffle."
   ]
  },
  {
   "cell_type": "markdown",
   "id": "f4151b45",
   "metadata": {},
   "source": [
    "## Q7. Describe the math package&#39;s general categories of functions."
   ]
  },
  {
   "cell_type": "markdown",
   "id": "11a753fb",
   "metadata": {},
   "source": [
    "The Math package's general categories of functions are:\n",
    "\n",
    "**1.** Trigonometric functions\n",
    "\n",
    "**2.** Quadratic functions\n",
    "\n",
    "**3.** Exponential functions\n",
    "\n",
    "**4.** Hyperbolic functions\n",
    "\n",
    "**5.** Periodic functions\n",
    "\n",
    "**6.** Arithmetic functions\n",
    "\n",
    "**7.** Logarithimic functions\n",
    "\n",
    "**8.** Conversions to Integer"
   ]
  },
  {
   "cell_type": "markdown",
   "id": "b6240f7f",
   "metadata": {},
   "source": [
    "## Q8. What is the relationship between exponentiation and logarithms?"
   ]
  },
  {
   "cell_type": "markdown",
   "id": "32fb3366",
   "metadata": {},
   "source": [
    "Exponentiation and logarithms are inverse of each other.The relationship between exponentiation and logarithms can be expressed mathematically as follows:\n",
    "\n",
    "If b^x = y, then logb(y) = x"
   ]
  },
  {
   "cell_type": "markdown",
   "id": "4a583180",
   "metadata": {},
   "source": [
    "## Q9. What are the three logarithmic functions that Python supports?"
   ]
  },
  {
   "cell_type": "markdown",
   "id": "35435baa",
   "metadata": {},
   "source": [
    "The Three Logarithmic Functions that Python supports are:\n",
    "\n",
    "**1.** log2(x) - Logarithmic value of x to the base 2\n",
    "\n",
    "**2.** log10(x) - Logarithmic value of x to the base 10\n",
    "\n",
    "**3.** log1p(a) - This function is used to compute logarithm(1 + a) ."
   ]
  }
 ],
 "metadata": {
  "kernelspec": {
   "display_name": "Python 3 (ipykernel)",
   "language": "python",
   "name": "python3"
  },
  "language_info": {
   "codemirror_mode": {
    "name": "ipython",
    "version": 3
   },
   "file_extension": ".py",
   "mimetype": "text/x-python",
   "name": "python",
   "nbconvert_exporter": "python",
   "pygments_lexer": "ipython3",
   "version": "3.11.0"
  }
 },
 "nbformat": 4,
 "nbformat_minor": 5
}
