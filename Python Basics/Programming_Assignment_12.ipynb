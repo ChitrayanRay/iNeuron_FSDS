{
 "cells": [
  {
   "cell_type": "markdown",
   "id": "a7d9cb78",
   "metadata": {},
   "source": [
    "## 1. Write a Python program to Extract Unique values dictionary values?"
   ]
  },
  {
   "cell_type": "code",
   "execution_count": 1,
   "id": "a8efdd90",
   "metadata": {},
   "outputs": [
    {
     "name": "stdout",
     "output_type": "stream",
     "text": [
      "Enter the number of keys:3\n",
      "Enter the Key:2\n",
      "Enter the value:c\n",
      "Enter the Key:3\n",
      "Enter the value:k\n",
      "Enter the Key:4\n",
      "Enter the value:c\n",
      "The entered dictionary is: {'2': 'c', '3': 'k', '4': 'c'}\n",
      "dict_values(['c', 'k', 'c'])\n",
      "Unique Values in the dictionary are: {'k', 'c'}\n"
     ]
    }
   ],
   "source": [
    "d = {}\n",
    "n = int(input(\"Enter the number of keys:\"))\n",
    "\n",
    "for i in range(n):\n",
    "    key = input(\"Enter the Key:\")\n",
    "    values = input(\"Enter the value:\")\n",
    "    d[key] = values\n",
    "\n",
    "print(\"The entered dictionary is:\", d)\n",
    "\n",
    "def uniqueValDict(dict):\n",
    "    print(dict.values())\n",
    "    print(\"Unique Values in the dictionary are:\", set(dict.values()))\n",
    "\n",
    "uniqueValDict(d)"
   ]
  },
  {
   "cell_type": "markdown",
   "id": "c6c6ba62",
   "metadata": {},
   "source": [
    "## 2. Write a Python program to find the sum of all items in a dictionary?"
   ]
  },
  {
   "cell_type": "code",
   "execution_count": 2,
   "id": "dbf77a34",
   "metadata": {},
   "outputs": [
    {
     "name": "stdout",
     "output_type": "stream",
     "text": [
      "Enter the number of keys:2\n",
      "Enter the Key:c\n",
      "Enter the value:8\n",
      "Enter the Key:g\n",
      "Enter the value:24\n",
      "The entered dictionary is: {'c': 8, 'g': 24}\n",
      "Sum of the entered dictionary values is: 32\n"
     ]
    }
   ],
   "source": [
    "d = {}\n",
    "n = int(input(\"Enter the number of keys:\"))\n",
    "\n",
    "for i in range(n):\n",
    "    key = input(\"Enter the Key:\")\n",
    "    values = int(input(\"Enter the value:\"))\n",
    "    d[key] = values\n",
    "\n",
    "print(\"The entered dictionary is:\", d)\n",
    "\n",
    "def sumDict(dict):\n",
    "    summation = 0\n",
    "    for i in dict.values():\n",
    "        summation += i\n",
    "    print(\"Sum of the entered dictionary values is:\", summation)\n",
    "\n",
    "sumDict(d)"
   ]
  },
  {
   "cell_type": "markdown",
   "id": "f968c5f6",
   "metadata": {},
   "source": [
    "## 3. Write a Python program to Merging two Dictionaries?"
   ]
  },
  {
   "cell_type": "code",
   "execution_count": 3,
   "id": "dd252d2d",
   "metadata": {},
   "outputs": [
    {
     "name": "stdout",
     "output_type": "stream",
     "text": [
      "{'B': 27, 'N': 53}\n"
     ]
    }
   ],
   "source": [
    "d1 = {'B': 27}\n",
    "d2 = {'N': 53}\n",
    "\n",
    "d1.update(d2)\n",
    "\n",
    "print(d1)"
   ]
  },
  {
   "cell_type": "markdown",
   "id": "d5dddbc6",
   "metadata": {},
   "source": [
    "## 4. Write a Python program to convert key-values list to flat dictionary?"
   ]
  },
  {
   "cell_type": "code",
   "execution_count": 4,
   "id": "4781fb0c",
   "metadata": {},
   "outputs": [
    {
     "data": {
      "text/plain": [
       "{'A': 1000,\n",
       " 'B': 2000,\n",
       " 'C': 3000,\n",
       " 'D': 40000,\n",
       " 'E': 5000,\n",
       " 'F': 60,\n",
       " 'G': 70,\n",
       " 'H': 80,\n",
       " 'I': 90,\n",
       " 'J': 100,\n",
       " 'K': 110}"
      ]
     },
     "execution_count": 4,
     "metadata": {},
     "output_type": "execute_result"
    }
   ],
   "source": [
    "inList = [('A', 1000), ('B', 2000), ('C', 3000), ('D', 40000), ('E', 5000), ('F', 60), ('G', 70), ('H', 80), ('I', 90), ('J', 100), ('K', 110)]\n",
    "\n",
    "dict(inList)"
   ]
  },
  {
   "cell_type": "markdown",
   "id": "5255ca06",
   "metadata": {},
   "source": [
    "## 5. Write a Python program to insertion at the beginning in OrderedDict?"
   ]
  },
  {
   "cell_type": "code",
   "execution_count": 5,
   "id": "d7c5c9b6",
   "metadata": {},
   "outputs": [
    {
     "name": "stdout",
     "output_type": "stream",
     "text": [
      "OrderedDict([('A', '100'), ('B', '200'), ('C', '300'), ('D', '400')])\n",
      "Resultant Dictionary: OrderedDict([('D', '400'), ('A', '100'), ('B', '200'), ('C', '300')])\n"
     ]
    }
   ],
   "source": [
    "from collections import OrderedDict  \n",
    "\n",
    "dict = OrderedDict([('A', '100'), ('B', '200'), ('C', '300')])\n",
    "\n",
    "dict.update({\"D\": '400'})\n",
    "print(dict)\n",
    "\n",
    "dict.move_to_end(\"D\", last = False)\n",
    "  \n",
    "\n",
    "print (\"Resultant Dictionary:\", dict)"
   ]
  },
  {
   "cell_type": "markdown",
   "id": "e2eea35f",
   "metadata": {},
   "source": [
    "## 6. Write a Python program to check order of character in string using OrderedDict()?"
   ]
  },
  {
   "cell_type": "code",
   "execution_count": 6,
   "id": "ae26de42",
   "metadata": {},
   "outputs": [
    {
     "name": "stdout",
     "output_type": "stream",
     "text": [
      "{'a': 1000, 'f': 200, 'd': 300, 'c': 400, 'b': 500, 'e': 600}\n",
      "OrderedDict([('a', 1000), ('b', 500), ('c', 400), ('d', 300), ('e', 600), ('f', 200)])\n"
     ]
    }
   ],
   "source": [
    "from collections import OrderedDict\n",
    "\n",
    "initialList = {'a': 1000, 'f': 200, 'd': 300, 'c': 400, 'b': 500, 'e': 600}\n",
    "print(initialList)\n",
    "\n",
    "finalList = OrderedDict(sorted(initialList.items()))\n",
    "print(finalList)"
   ]
  },
  {
   "cell_type": "markdown",
   "id": "7e039fcf",
   "metadata": {},
   "source": [
    "## 7. Write a Python program to sort Python Dictionaries by Key or Value?"
   ]
  },
  {
   "cell_type": "code",
   "execution_count": 7,
   "id": "9897b773",
   "metadata": {},
   "outputs": [
    {
     "name": "stdout",
     "output_type": "stream",
     "text": [
      "OrderedDict([('Banana', 60), ('Grape', 13), ('Mango', 100), ('PineApple', 22)])\n",
      "OrderedDict([('Grape', 13), ('PineApple', 22), ('Banana', 60), ('Mango', 100)])\n"
     ]
    }
   ],
   "source": [
    "dictItems = {'Mango': 100, 'PineApple': 22, 'Banana': 60, 'Grape': 13}\n",
    "\n",
    "def sortDict(inDict, sortType):\n",
    "    if sortType == 'key':\n",
    "        print(OrderedDict(sorted(inDict.items(), key = lambda x: x[0], reverse = False)))\n",
    "    else:\n",
    "        print(OrderedDict(sorted(inDict.items(), key = lambda x:x[1], reverse = False)))\n",
    "        \n",
    "sortDict(dictItems, 'key')        \n",
    "sortDict(dictItems, 'value')"
   ]
  }
 ],
 "metadata": {
  "kernelspec": {
   "display_name": "Python 3 (ipykernel)",
   "language": "python",
   "name": "python3"
  },
  "language_info": {
   "codemirror_mode": {
    "name": "ipython",
    "version": 3
   },
   "file_extension": ".py",
   "mimetype": "text/x-python",
   "name": "python",
   "nbconvert_exporter": "python",
   "pygments_lexer": "ipython3",
   "version": "3.11.0"
  }
 },
 "nbformat": 4,
 "nbformat_minor": 5
}
