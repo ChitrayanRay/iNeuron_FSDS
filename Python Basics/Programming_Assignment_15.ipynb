{
 "cells": [
  {
   "cell_type": "markdown",
   "id": "f1eca8e1",
   "metadata": {},
   "source": [
    "## Question 1:\n",
    "\n",
    "### Please write a program using generator to print the numbers which can be divisible by 5 and 7 between 0 and n in comma separated form while n is input by console.\n",
    "\n",
    "### Example:\n",
    "\n",
    "### If the following n is given as input to the program:\n",
    "\n",
    "#### 100\n",
    "\n",
    "### Then, the output of the program should be:\n",
    "\n",
    "#### 0,35,70"
   ]
  },
  {
   "cell_type": "code",
   "execution_count": 1,
   "id": "0a9dc777",
   "metadata": {},
   "outputs": [
    {
     "name": "stdout",
     "output_type": "stream",
     "text": [
      "Enter a number:100\n",
      "0,35,70\n"
     ]
    }
   ],
   "source": [
    "def divisibleBy5And7(n):\n",
    "    i = 0\n",
    "    while i <= n:\n",
    "        yield i\n",
    "        i += 35\n",
    "\n",
    "n = int(input(\"Enter a number:\"))\n",
    "result = divisibleBy5And7(n)\n",
    "numbers = [str(num) for num in result if num >= 0]\n",
    "output = ','.join(numbers)\n",
    "\n",
    "print(output)"
   ]
  },
  {
   "cell_type": "markdown",
   "id": "2f60beea",
   "metadata": {},
   "source": [
    "## Question 2:\n",
    "\n",
    "### Please write a program using generator to print the even numbers between 0 and n in comma separated form while n is input by console.\n",
    "\n",
    "### Example:\n",
    "\n",
    "### If the following n is given as input to the program:\n",
    "\n",
    "#### 10\n",
    "\n",
    "### Then, the output of the program should be:\n",
    "\n",
    "#### 0,2,4,6,8,10"
   ]
  },
  {
   "cell_type": "code",
   "execution_count": 2,
   "id": "c3c05382",
   "metadata": {},
   "outputs": [
    {
     "name": "stdout",
     "output_type": "stream",
     "text": [
      "Enter a number:10\n",
      "0,2,4,6,8,10\n"
     ]
    }
   ],
   "source": [
    "def genEvenNumbers(n):\n",
    "    for i in range(n+1):\n",
    "        if i % 2 == 0:\n",
    "            yield i\n",
    "\n",
    "n = int(input(\"Enter a number:\"))\n",
    "evenNums = genEvenNumbers(n)\n",
    "print(\",\".join(str(num) for num in evenNums))"
   ]
  },
  {
   "cell_type": "markdown",
   "id": "68ae89f2",
   "metadata": {},
   "source": [
    "## Question 3:\n",
    "\n",
    "### The Fibonacci Sequence is computed based on the following formula:\n",
    "\n",
    "#### f(n)=0 if n=0\n",
    "#### f(n)=1 if n=1\n",
    "#### f(n)=f(n-1)+f(n-2) if n&gt;1\n",
    "\n",
    "### Please write a program using list comprehension to print the Fibonacci Sequence in comma separated form with a given n input by console.\n",
    "\n",
    "### Example:\n",
    "\n",
    "### If the following n is given as input to the program:\n",
    "\n",
    "#### 7\n",
    "\n",
    "### Then, the output of the program should be:\n",
    "\n",
    "#### 0,1,1,2,3,5,8,13"
   ]
  },
  {
   "cell_type": "code",
   "execution_count": 3,
   "id": "c0e57eb9",
   "metadata": {},
   "outputs": [
    {
     "name": "stdout",
     "output_type": "stream",
     "text": [
      "Enter a number:7\n",
      "Fibonacci Series:\n",
      "0,1,1,2,3,5,8,13\n"
     ]
    }
   ],
   "source": [
    "def fibonacci(n):\n",
    "    if n <= 1:\n",
    "        return n\n",
    "    else:\n",
    "        return fibonacci(n - 1) + fibonacci(n - 2)\n",
    "\n",
    "n = int(input(\"Enter a number:\"))\n",
    "fibSequence = [fibonacci(i) for i in range(n + 1)]\n",
    "print(\"Fibonacci Series:\")\n",
    "print(','.join(map(str, fibSequence)))"
   ]
  },
  {
   "cell_type": "markdown",
   "id": "f435cf82",
   "metadata": {},
   "source": [
    "## Question 4:\n",
    "\n",
    "### Assuming that we have some email addresses in the &quot;username@companyname.com&quot; format, please write program to print the user name of a given email address. Both user names and company names are composed of letters only.\n",
    "\n",
    "### Example:\n",
    "\n",
    "### If the following email address is given as input to the program:\n",
    "\n",
    "#### john@google.com\n",
    "\n",
    "### Then, the output of the program should be:\n",
    "\n",
    "#### john"
   ]
  },
  {
   "cell_type": "code",
   "execution_count": 4,
   "id": "1ed81088",
   "metadata": {},
   "outputs": [
    {
     "name": "stdout",
     "output_type": "stream",
     "text": [
      "Enter the email address:john@google.com\n",
      "Username for the Entered Email Address john@google.com is:\n",
      "john\n"
     ]
    }
   ],
   "source": [
    "def extractUsername(email):\n",
    "    username = email.split('@')[0]\n",
    "    return username\n",
    "\n",
    "# Example\n",
    "email = input(\"Enter the email address:\")\n",
    "username = extractUsername(email)\n",
    "\n",
    "print(f\"Username for the Entered Email Address {email} is:\")\n",
    "print(username)"
   ]
  },
  {
   "cell_type": "markdown",
   "id": "39b24678",
   "metadata": {},
   "source": [
    "## Question 5:\n",
    "\n",
    "### Define a class named Shape and its subclass Square. The Square class has an init function which takes a length as argument. Both classes have a area function which can print the area of the shape where Shape&#39;s area is 0 by default."
   ]
  },
  {
   "cell_type": "code",
   "execution_count": 5,
   "id": "fd3003c6",
   "metadata": {},
   "outputs": [
    {
     "name": "stdout",
     "output_type": "stream",
     "text": [
      "Area of the Square is 400\n"
     ]
    }
   ],
   "source": [
    "class Shape:\n",
    "    def area(self):\n",
    "        return 0\n",
    "\n",
    "class Square(Shape):\n",
    "    def __init__(self, length):\n",
    "        self.length = length\n",
    "    def area(self):\n",
    "        return self.length * self.length\n",
    "\n",
    "square = Square(20)\n",
    "print(f\"Area of the Square is {square.area()}\")"
   ]
  }
 ],
 "metadata": {
  "kernelspec": {
   "display_name": "Python 3 (ipykernel)",
   "language": "python",
   "name": "python3"
  },
  "language_info": {
   "codemirror_mode": {
    "name": "ipython",
    "version": 3
   },
   "file_extension": ".py",
   "mimetype": "text/x-python",
   "name": "python",
   "nbconvert_exporter": "python",
   "pygments_lexer": "ipython3",
   "version": "3.11.0"
  }
 },
 "nbformat": 4,
 "nbformat_minor": 5
}
