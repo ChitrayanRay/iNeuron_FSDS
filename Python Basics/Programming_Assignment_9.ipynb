{
 "cells": [
  {
   "cell_type": "markdown",
   "id": "d629febd",
   "metadata": {},
   "source": [
    "## 1. Write a Python program to check if the given number is a Disarium Number?\n",
    "\n",
    "- A number is called Disarium if sum of its digits powered with their respective positions is equal to the number itself.\n",
    "\n",
    "**Input   :** n = 135\n",
    "\n",
    "**Output  :** Yes \n",
    "\n",
    "**1^1 + 3^2 + 5^3 = 135**\n",
    "\n",
    "Therefore, 135 is a Disarium number\n",
    "\n",
    "- The idea is to first count digits in given numbers. Once we have count, we traverse all digits from right most (using % operator), raise its power to digit count and decrement the digit count."
   ]
  },
  {
   "cell_type": "code",
   "execution_count": 1,
   "id": "788f61ec",
   "metadata": {},
   "outputs": [
    {
     "name": "stdout",
     "output_type": "stream",
     "text": [
      "Enter a Number: 90\n",
      "90 is not a Disarium Number\n"
     ]
    }
   ],
   "source": [
    "def disarium():\n",
    "    n=int(input(\"Enter a Number: \"))\n",
    "    if n<=0:\n",
    "        print(\"Inalid Input!\")\n",
    "    else:\n",
    "        sum=0\n",
    "        for i in range(len(str(n))):\n",
    "            sum+=int(str(n)[i]) ** (i+1)\n",
    "        if sum==n:\n",
    "            print(f\"{n} is a Disarium Number\")\n",
    "        else:\n",
    "            print(f\"{n} is not a Disarium Number\")\n",
    "\n",
    "disarium()"
   ]
  },
  {
   "cell_type": "markdown",
   "id": "093b7b36",
   "metadata": {},
   "source": [
    "## 2. Write a Python program to print all disarium numbers between 1 to 100?"
   ]
  },
  {
   "cell_type": "code",
   "execution_count": 2,
   "id": "eaf049c0",
   "metadata": {},
   "outputs": [
    {
     "name": "stdout",
     "output_type": "stream",
     "text": [
      "1\t2\t3\t4\t5\t6\t7\t8\t9\t89\t"
     ]
    }
   ],
   "source": [
    "def disarium():\n",
    "    for n in range(1,101):\n",
    "        sum=0\n",
    "        for i in range(len(str(n))):\n",
    "            sum+=int(str(n)[i]) ** (i+1)\n",
    "        if sum==n:\n",
    "            print(n,end=\"\\t\")\n",
    "        \n",
    "disarium()"
   ]
  },
  {
   "cell_type": "markdown",
   "id": "e3f0fbf8",
   "metadata": {},
   "source": [
    "## 3. Write a Python program to check if the given number is Happy Number?"
   ]
  },
  {
   "cell_type": "code",
   "execution_count": 3,
   "id": "cd482053",
   "metadata": {},
   "outputs": [
    {
     "name": "stdout",
     "output_type": "stream",
     "text": [
      "Enter a Number: 49\n"
     ]
    },
    {
     "data": {
      "text/plain": [
       "True"
      ]
     },
     "execution_count": 3,
     "metadata": {},
     "output_type": "execute_result"
    }
   ],
   "source": [
    "def isHappyNum():\n",
    "    n=int(input(\"Enter a Number: \"))\n",
    "    if n<=0:\n",
    "        print(\"Inalid Input\")\n",
    "    else:\n",
    "        temp = []\n",
    "        while n != 1:\n",
    "            n = sum(int(i)**2 for i in str(n))\n",
    "            if n in temp:\n",
    "                return False\n",
    "            temp.append(n)\n",
    "        return True\n",
    "\n",
    "isHappyNum()"
   ]
  },
  {
   "cell_type": "markdown",
   "id": "c0158d30",
   "metadata": {},
   "source": [
    "## 4. Write a Python program to print all happy numbers between 1 and 100?"
   ]
  },
  {
   "cell_type": "code",
   "execution_count": 4,
   "id": "fbc75092",
   "metadata": {},
   "outputs": [
    {
     "name": "stdout",
     "output_type": "stream",
     "text": [
      "Happy Numbers Between 1 to 100:\n",
      " [1, 7, 10, 13, 19, 23, 28, 31, 32, 44, 49, 68, 70, 79, 82, 86, 91, 94, 97, 100]\n"
     ]
    }
   ],
   "source": [
    "def happyNum(n):\n",
    "    \n",
    "        temp = []\n",
    "        while n != 1:\n",
    "            n = sum(int(i)**2 for i in str(n))\n",
    "            if n in temp:\n",
    "                return False\n",
    "            temp.append(n)\n",
    "        \n",
    "        return True\n",
    "\n",
    "print(\"Happy Numbers Between 1 to 100:\\n\",[x for x in range(101) if happyNum(x)])"
   ]
  },
  {
   "cell_type": "markdown",
   "id": "b4963664",
   "metadata": {},
   "source": [
    "## 5. Write a Python program to determine whether the given number is a Harshad Number?"
   ]
  },
  {
   "cell_type": "code",
   "execution_count": 5,
   "id": "12dc0013",
   "metadata": {},
   "outputs": [
    {
     "name": "stdout",
     "output_type": "stream",
     "text": [
      "Enter a Number: 156\n",
      "156 is a Harshad Number\n"
     ]
    }
   ],
   "source": [
    "def isHarshadNum():\n",
    "    n=int(input(\"Enter a Number: \"))\n",
    "    if n<=0:\n",
    "        print(\"Inalid Input\")\n",
    "    else:\n",
    "        sum=0\n",
    "        for i in range(len(str(n))):\n",
    "            sum+=int(str(n)[i])\n",
    "        if n%sum == 0:\n",
    "            print(f\"{n} is a Harshad Number\")\n",
    "        else:\n",
    "            print(f\"{n} is not Harshad Number\")\n",
    "\n",
    "isHarshadNum()"
   ]
  },
  {
   "cell_type": "markdown",
   "id": "db868f73",
   "metadata": {},
   "source": [
    "## 6. Write a Python program to print all pronic numbers between 1 and 100?"
   ]
  },
  {
   "cell_type": "code",
   "execution_count": 6,
   "id": "f17d3dc4",
   "metadata": {},
   "outputs": [
    {
     "name": "stdout",
     "output_type": "stream",
     "text": [
      "Pronic Numbers between 1 and 100: \n",
      " [2, 6, 12, 20, 30, 42, 56, 72, 90]\n"
     ]
    }
   ],
   "source": [
    "def pronic():\n",
    "    l=[]\n",
    "    for i in range(1,101):\n",
    "        for j in range(1,101):\n",
    "            if j*(j+1)==i:\n",
    "                    l.append(i)\n",
    "    print(\"Pronic Numbers between 1 and 100: \\n\",l)\n",
    "\n",
    "pronic()"
   ]
  }
 ],
 "metadata": {
  "kernelspec": {
   "display_name": "Python 3 (ipykernel)",
   "language": "python",
   "name": "python3"
  },
  "language_info": {
   "codemirror_mode": {
    "name": "ipython",
    "version": 3
   },
   "file_extension": ".py",
   "mimetype": "text/x-python",
   "name": "python",
   "nbconvert_exporter": "python",
   "pygments_lexer": "ipython3",
   "version": "3.11.0"
  }
 },
 "nbformat": 4,
 "nbformat_minor": 5
}
