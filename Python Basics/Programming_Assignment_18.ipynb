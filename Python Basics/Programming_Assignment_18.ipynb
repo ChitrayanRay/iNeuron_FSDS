{
 "cells": [
  {
   "cell_type": "markdown",
   "id": "bf868d1d",
   "metadata": {},
   "source": [
    "## Question 1\n",
    "\n",
    "## Create a function that takes a list of non-negative integers and strings and return a new listwithout the strings.\n",
    "\n",
    "### Examples\n",
    "\n",
    "#### filter_list([1, 2, &quot;a&quot;, &quot;b&quot;]) ➞ [1, 2]\n",
    "#### filter_list([1, &quot;a&quot;, &quot;b&quot;, 0, 15]) ➞ [1, 0, 15]\n",
    "#### filter_list([1, 2, &quot;aasf&quot;, &quot;1&quot;, &quot;123&quot;, 123]) ➞ [1, 2, 123]"
   ]
  },
  {
   "cell_type": "code",
   "execution_count": 1,
   "id": "58746863",
   "metadata": {},
   "outputs": [
    {
     "name": "stdout",
     "output_type": "stream",
     "text": [
      "Entered List:[1, 2, 'aasf', '1', '123', 123] ➞ Filtered Values:[1, 2, 123]\n"
     ]
    }
   ],
   "source": [
    "def filter_list(lst):\n",
    "    \n",
    "    filter = [x for x in lst if isinstance(x, int)]\n",
    "    return filter\n",
    "\n",
    "lst=[1, 2, \"aasf\", \"1\", \"123\", 123]\n",
    "\n",
    "result = filter_list(lst)\n",
    "\n",
    "print(f\"Entered List:{lst} ➞ Filtered Values:{result}\")"
   ]
  },
  {
   "cell_type": "markdown",
   "id": "9f9ed4ca",
   "metadata": {},
   "source": [
    "## Question 2\n",
    "\n",
    "## The &quot;Reverser&quot; takes a string as input and returns that string in reverse order, with the opposite case.\n",
    "\n",
    "### Examples\n",
    "\n",
    "#### reverse(&quot;Hello World&quot;) ➞ &quot;DLROw OLLEh&quot;\n",
    "#### reverse(&quot;ReVeRsE&quot;) ➞ &quot;eSrEvEr&quot;\n",
    "#### reverse(&quot;Radar&quot;) ➞ &quot;RADAr&quot;"
   ]
  },
  {
   "cell_type": "code",
   "execution_count": 2,
   "id": "ac6d2d96",
   "metadata": {},
   "outputs": [
    {
     "name": "stdout",
     "output_type": "stream",
     "text": [
      "Enter a string: Hello World\n"
     ]
    },
    {
     "data": {
      "text/plain": [
       "'Output: DLROw OLLEh'"
      ]
     },
     "execution_count": 2,
     "metadata": {},
     "output_type": "execute_result"
    }
   ],
   "source": [
    "def reverser():\n",
    "    string = input(\"Enter a string: \")\n",
    "    reversedString = string[::-1].swapcase()\n",
    "    return f\"Output: {reversedString}\"\n",
    "\n",
    "reverser()"
   ]
  },
  {
   "cell_type": "markdown",
   "id": "cfce7de8",
   "metadata": {},
   "source": [
    "## Question 3\n",
    "\n",
    "### You can assign variables from lists like this:\n",
    "\n",
    "#### lst = [1, 2, 3, 4, 5, 6]\n",
    "#### first = lst[0]\n",
    "#### middle = lst[1:-1]\n",
    "#### last = lst[-1]\n",
    "#### print(first) ➞ outputs 1\n",
    "#### print(middle) ➞ outputs [2, 3, 4, 5]\n",
    "#### print(last) ➞ outputs 6\n",
    "\n",
    "#### With Python 3, you can assign variables from lists in a much more succinct way. Create variables first, middle and last from the given list using destructuring assignment (check the Resources tab for some examples), where:\n",
    "\n",
    "#### first ➞ 1\n",
    "#### middle ➞ [2, 3, 4, 5]\n",
    "#### last ➞ 6\n",
    "\n",
    "#### Your task is to unpack the list writeyourcodehere into three variables, being first, middle, and last, with middle being everything in between the first and last element. Then print all three variables."
   ]
  },
  {
   "cell_type": "code",
   "execution_count": 3,
   "id": "56c4f15d",
   "metadata": {},
   "outputs": [
    {
     "name": "stdout",
     "output_type": "stream",
     "text": [
      "First: 1\n",
      "Middle: [2, 3, 4, 5]\n",
      "Last: 6\n"
     ]
    }
   ],
   "source": [
    "first, *middle, last=[1, 2, 3, 4, 5, 6]\n",
    "\n",
    "print(f\"First: {first}\\nMiddle: {middle}\\nLast: {last}\")"
   ]
  },
  {
   "cell_type": "markdown",
   "id": "bcb78754",
   "metadata": {},
   "source": [
    "## Question 4\n",
    "\n",
    "## Write a function that calculates the factorial of a number recursively.\n",
    "\n",
    "### Examples\n",
    "\n",
    "#### factorial(5) ➞ 120\n",
    "#### factorial(3) ➞ 6\n",
    "#### factorial(1) ➞ 1\n",
    "#### factorial(0) ➞ 1"
   ]
  },
  {
   "cell_type": "code",
   "execution_count": 4,
   "id": "fbf09299",
   "metadata": {},
   "outputs": [
    {
     "name": "stdout",
     "output_type": "stream",
     "text": [
      "Enter a number:5\n",
      "Factorial of 5 ➞ 120\n"
     ]
    }
   ],
   "source": [
    "def factorial(n):\n",
    "    if n == 0:\n",
    "        return 1\n",
    "    else:\n",
    "        return n * factorial(n-1)\n",
    "\n",
    "n = int(input(\"Enter a number:\"))\n",
    "result = factorial(n)\n",
    "print(f\"Factorial of {n} ➞ {result}\")"
   ]
  },
  {
   "cell_type": "markdown",
   "id": "1252d788",
   "metadata": {},
   "source": [
    "## Question 5\n",
    "\n",
    "## Write a function that moves all elements of one type to the end of the list.\n",
    "\n",
    "### Examples\n",
    "\n",
    "#### move_to_end([1, 3, 2, 4, 4, 1], 1) ➞ [3, 2, 4, 4, 1, 1]\n",
    "#### Move all the 1s to the end of the array.\n",
    "#### move_to_end([7, 8, 9, 1, 2, 3, 4], 9) ➞ [7, 8, 1, 2, 3, 4, 9]\n",
    "#### move_to_end([&quot;a&quot;, &quot;a&quot;, &quot;a&quot;, &quot;b&quot;], &quot;a&quot;) ➞ [&quot;b&quot;, &quot;a&quot;, &quot;a&quot;, &quot;a&quot;]"
   ]
  },
  {
   "cell_type": "code",
   "execution_count": 5,
   "id": "fb70ca8a",
   "metadata": {},
   "outputs": [
    {
     "data": {
      "text/plain": [
       "['b', 'a', 'a', 'a']"
      ]
     },
     "execution_count": 5,
     "metadata": {},
     "output_type": "execute_result"
    }
   ],
   "source": [
    "def move_to_end(lst, element):\n",
    "    result = []\n",
    "    end = []\n",
    "    for i in lst:\n",
    "        if i == element:\n",
    "            end.append(i)\n",
    "        else:\n",
    "            result.append(i)\n",
    "    return result + end\n",
    "\n",
    "lst = [\"a\", \"a\", \"a\", \"b\"]\n",
    "ele = \"a\"\n",
    "move_to_end(lst, ele)"
   ]
  }
 ],
 "metadata": {
  "kernelspec": {
   "display_name": "Python 3 (ipykernel)",
   "language": "python",
   "name": "python3"
  },
  "language_info": {
   "codemirror_mode": {
    "name": "ipython",
    "version": 3
   },
   "file_extension": ".py",
   "mimetype": "text/x-python",
   "name": "python",
   "nbconvert_exporter": "python",
   "pygments_lexer": "ipython3",
   "version": "3.11.0"
  }
 },
 "nbformat": 4,
 "nbformat_minor": 5
}
