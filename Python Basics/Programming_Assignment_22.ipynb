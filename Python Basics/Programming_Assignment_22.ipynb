{
 "cells": [
  {
   "cell_type": "markdown",
   "id": "36c73354",
   "metadata": {},
   "source": [
    "## Question1\n",
    "\n",
    "## Create a function that takes three parameters where:\n",
    "\n",
    "####  x is the start of the range (inclusive).\n",
    "####  y is the end of the range (inclusive).\n",
    "####  n is the divisor to be checked against.\n",
    "\n",
    "### Return an ordered list with numbers in the range that are divisible by the third parameter n.\n",
    "### Return an empty list if there are no numbers that are divisible by n.\n",
    "\n",
    "### Examples\n",
    "\n",
    "#### list_operation(1, 10, 3) ➞ [3, 6, 9]\n",
    "#### list_operation(7, 9, 2) ➞ [8]\n",
    "#### list_operation(15, 20, 7) ➞ []"
   ]
  },
  {
   "cell_type": "code",
   "execution_count": 1,
   "id": "051f91e6",
   "metadata": {},
   "outputs": [
    {
     "data": {
      "text/plain": [
       "[3, 6, 9]"
      ]
     },
     "execution_count": 1,
     "metadata": {},
     "output_type": "execute_result"
    }
   ],
   "source": [
    "def divisible_by_n(x, y, n):\n",
    "    numbers = []\n",
    "    for i in range(x, y + 1):\n",
    "        if i % n == 0:\n",
    "            numbers.append(i)\n",
    "    return numbers\n",
    "\n",
    "divisible_by_n(1, 10, 3)"
   ]
  },
  {
   "cell_type": "markdown",
   "id": "468df02c",
   "metadata": {},
   "source": [
    "## Question2\n",
    "\n",
    "## Create a function that takes in two lists and returns True if the second list follows the first list by one element, and False otherwise. In other words, determine if the second list is the first list shifted to the right by 1.\n",
    "\n",
    "### Examples\n",
    "\n",
    "#### simon_says([1, 2], [5, 1]) ➞ True\n",
    "#### simon_says([1, 2], [5, 5]) ➞ False\n",
    "#### simon_says([1, 2, 3, 4, 5], [0, 1, 2, 3, 4]) ➞ True\n",
    "#### simon_says([1, 2, 3, 4, 5], [5, 5, 1, 2, 3]) ➞ False\n",
    "\n",
    "### Notes\n",
    "\n",
    "####  Both input lists will be of the same length, and will have a minimum length of 2.\n",
    "####  The values of the 0-indexed element in the second list and the n-1th indexed element in the first list do not matter."
   ]
  },
  {
   "cell_type": "code",
   "execution_count": 2,
   "id": "64a881b8",
   "metadata": {},
   "outputs": [
    {
     "name": "stdout",
     "output_type": "stream",
     "text": [
      "([1, 2], [5, 1]) ➞ True\n",
      "([1, 2], [5, 5]) ➞ False\n",
      "([1, 2, 3, 4, 5], [0, 1, 2, 3, 4]) ➞ True\n",
      "([1, 2, 3, 4, 5], [5, 5, 1, 2, 3]) ➞ False\n"
     ]
    }
   ],
   "source": [
    "def simon_says(list1, list2):\n",
    "    if len(list1) == len(list2) and len(list1) >= 2 and len(list2) >= 2:\n",
    "        if(list1[:-1] == list2[1:]):\n",
    "            print(f'{list1, list2} ➞ {True}')\n",
    "        else:\n",
    "            print(f'{list1, list2} ➞ {False}')\n",
    "            \n",
    "simon_says([1, 2], [5, 1])\n",
    "simon_says([1, 2], [5, 5])\n",
    "simon_says([1, 2, 3, 4, 5], [0, 1, 2, 3, 4])\n",
    "simon_says([1, 2, 3, 4, 5], [5, 5, 1, 2, 3])"
   ]
  },
  {
   "cell_type": "markdown",
   "id": "39295a57",
   "metadata": {},
   "source": [
    "## Question3\n",
    "\n",
    "### A group of friends have decided to start a secret society. The name will be the first letter of each of their names, sorted in alphabetical order.\n",
    "\n",
    "## Create a function that takes in a list of names and returns the name of the secret society.\n",
    "\n",
    "### Examples\n",
    "\n",
    "#### society_name([&quot;Adam&quot;, &quot;Sarah&quot;, &quot;Malcolm&quot;]) ➞ &quot;AMS&quot;\n",
    "#### society_name([&quot;Harry&quot;, &quot;Newt&quot;, &quot;Luna&quot;, &quot;Cho&quot;]) ➞ &quot;CHLN&quot;\n",
    "#### society_name([&quot;Phoebe&quot;, &quot;Chandler&quot;, &quot;Rachel&quot;, &quot;Ross&quot;, &quot;Monica&quot;, &quot;Joey&quot;])"
   ]
  },
  {
   "cell_type": "code",
   "execution_count": 3,
   "id": "d06e10d0",
   "metadata": {},
   "outputs": [
    {
     "name": "stdout",
     "output_type": "stream",
     "text": [
      "Society Name ➞ CHLN\n"
     ]
    }
   ],
   "source": [
    "def society_name(names):\n",
    "    letters = [name[0] for name in names]\n",
    "    sorted_letters = sorted(letters)\n",
    "    society_name = \"\".join(sorted_letters)\n",
    "    return society_name\n",
    "\n",
    "names=[\"Harry\", \"Newt\", \"Luna\", \"Cho\"]\n",
    "print(f\"Society Name ➞ {society_name(names)}\")"
   ]
  },
  {
   "cell_type": "markdown",
   "id": "650cebe7",
   "metadata": {},
   "source": [
    "## Question4\n",
    "\n",
    "### An isogram is a word that has no duplicate letters.\n",
    "\n",
    "## Create a function that takes a string and returns either True or False depending on whether or not it&#39;s an &quot;isogram&quot;.\n",
    "\n",
    "### Examples\n",
    "\n",
    "#### is_isogram(&quot;Algorism&quot;) ➞ True\n",
    "#### is_isogram(&quot;PasSword&quot;) ➞ False\n",
    "#### Not case sensitive.\n",
    "#### is_isogram(&quot;Consecutive&quot;) ➞ False\n",
    "\n",
    "### Notes\n",
    "\n",
    "####  Ignore letter case (should not be case sensitive).\n",
    "####  All test cases contain valid one word strings."
   ]
  },
  {
   "cell_type": "code",
   "execution_count": 4,
   "id": "061a3658",
   "metadata": {},
   "outputs": [
    {
     "name": "stdout",
     "output_type": "stream",
     "text": [
      "Enter a string:Consecutive\n",
      "Output ➞ False\n"
     ]
    }
   ],
   "source": [
    "def is_isogram(string):\n",
    "    string = string.lower()\n",
    "    for char in string:\n",
    "        if string.count(char) > 1:\n",
    "            return False\n",
    "    return True\n",
    "\n",
    "string = input(\"Enter a string:\")\n",
    "print(f\"Output ➞ {is_isogram(string)}\")"
   ]
  },
  {
   "cell_type": "markdown",
   "id": "889769ec",
   "metadata": {},
   "source": [
    "## Question5\n",
    "\n",
    "## Create a function that takes a string and returns True or False, depending on whether the characters are in order or not.\n",
    "\n",
    "### Examples\n",
    "\n",
    "#### is_in_order(&quot;abc&quot;) ➞ True\n",
    "#### is_in_order(&quot;edabit&quot;) ➞ False\n",
    "#### is_in_order(&quot;123&quot;) ➞ True\n",
    "#### is_in_order(&quot;xyzz&quot;) ➞ True\n",
    "\n",
    "### Notes\n",
    "\n",
    "#### You don&#39;t have to handle empty strings."
   ]
  },
  {
   "cell_type": "code",
   "execution_count": 5,
   "id": "afa5233b",
   "metadata": {},
   "outputs": [
    {
     "name": "stdout",
     "output_type": "stream",
     "text": [
      "Enter a string: edabit\n",
      "Output ➞ False\n"
     ]
    }
   ],
   "source": [
    "def is_in_order(string):\n",
    "    chars = list(string)   \n",
    "    sorted_chars = sorted(chars)    \n",
    "    return chars == sorted_chars\n",
    "\n",
    "string = input(\"Enter a string: \")\n",
    "print(f\"Output ➞ {is_in_order(string)}\")"
   ]
  }
 ],
 "metadata": {
  "kernelspec": {
   "display_name": "Python 3 (ipykernel)",
   "language": "python",
   "name": "python3"
  },
  "language_info": {
   "codemirror_mode": {
    "name": "ipython",
    "version": 3
   },
   "file_extension": ".py",
   "mimetype": "text/x-python",
   "name": "python",
   "nbconvert_exporter": "python",
   "pygments_lexer": "ipython3",
   "version": "3.11.0"
  }
 },
 "nbformat": 4,
 "nbformat_minor": 5
}
