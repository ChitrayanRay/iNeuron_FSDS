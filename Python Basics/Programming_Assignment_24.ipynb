{
 "cells": [
  {
   "cell_type": "markdown",
   "id": "c4732f5b",
   "metadata": {},
   "source": [
    "## Question1\n",
    "\n",
    "## Create a function that takes an integer and returns a list from 1 to the given number, where:\n",
    "\n",
    "#### 1. If the number can be divided evenly by 4, amplify it by 10 (i.e. return 10 times the number).\n",
    "#### 2. If the number cannot be divided evenly by 4, simply return the number.\n",
    "\n",
    "### Examples\n",
    "\n",
    "#### amplify(4) ➞ [1, 2, 3, 40]\n",
    "#### amplify(3) ➞ [1, 2, 3]\n",
    "#### amplify(25) ➞ [1, 2, 3, 40, 5, 6, 7, 80, 9, 10, 11, 120, 13, 14, 15, 160, 17, 18, 19, 200, 21, 22, 23, 240, 25]\n",
    "\n",
    "### Notes\n",
    "\n",
    "####  The given integer will always be equal to or greater than 1.\n",
    "####  Include the number (see example above).\n",
    "####  To perform this problem with its intended purpose, try doing it with list comprehensions. If that&#39;s too difficult, just solve the challenge any way you can."
   ]
  },
  {
   "cell_type": "code",
   "execution_count": 1,
   "id": "6562e70f",
   "metadata": {},
   "outputs": [
    {
     "data": {
      "text/plain": [
       "'Output ➞ [1, 2, 3, 40, 5, 6, 7, 80, 9, 10, 11, 120, 13, 14, 15, 160, 17, 18, 19, 200, 21, 22, 23, 240, 25]'"
      ]
     },
     "execution_count": 1,
     "metadata": {},
     "output_type": "execute_result"
    }
   ],
   "source": [
    "def amplify(num):\n",
    "    result = []\n",
    "    for i in range(1, num + 1):\n",
    "        if i % 4 == 0:\n",
    "            result.append(i * 10)\n",
    "        else:\n",
    "            result.append(i)\n",
    "    return f\"Output ➞ {result}\"\n",
    "\n",
    "amplify(25)"
   ]
  },
  {
   "cell_type": "markdown",
   "id": "208e6fd4",
   "metadata": {},
   "source": [
    "## Question2\n",
    "\n",
    "## Create a function that takes a list of numbers and return the number that&#39;s unique.\n",
    "\n",
    "### Examples\n",
    "\n",
    "#### unique([3, 3, 3, 7, 3, 3]) ➞ 7\n",
    "#### unique([0, 0, 0.77, 0, 0]) ➞ 0.77\n",
    "#### unique([0, 1, 1, 1, 1, 1, 1, 1]) ➞ 0\n",
    "\n",
    "### Notes\n",
    "\n",
    "#### Test cases will always have exactly one unique number while all others are the same."
   ]
  },
  {
   "cell_type": "code",
   "execution_count": 2,
   "id": "4dea9ab4",
   "metadata": {},
   "outputs": [
    {
     "data": {
      "text/plain": [
       "'Output ➞ 7'"
      ]
     },
     "execution_count": 2,
     "metadata": {},
     "output_type": "execute_result"
    }
   ],
   "source": [
    "def unique(lst):\n",
    "    for num in lst:\n",
    "        if lst.count(num) == 1:\n",
    "            return f\"Output ➞ {num}\"\n",
    "\n",
    "unique([3, 3, 3, 7, 3, 3])"
   ]
  },
  {
   "cell_type": "markdown",
   "id": "9c7e72e5",
   "metadata": {},
   "source": [
    "## Question3\n",
    "\n",
    "## Your task is to create a Circle constructor that creates a circle with a radius provided by an argument. The circles constructed must have two getters getArea() (PIr^2) and getPerimeter() (2PI*r) which give both respective areas and perimeter (circumference).\n",
    "\n",
    "### For help with this class, I have provided you with a Rectangle constructor which you can use as a base example.\n",
    "\n",
    "### Examples\n",
    "\n",
    "#### circy = Circle(11)\n",
    "#### circy.getArea()\n",
    "\n",
    "# Should return 380.132711084365\n",
    "\n",
    "#### circy = Circle(4.44)\n",
    "#### circy.getPerimeter()\n",
    "\n",
    "# Should return 27.897342763877365\n",
    "\n",
    "### Notes\n",
    "\n",
    "#### Round results up to the nearest integer."
   ]
  },
  {
   "cell_type": "code",
   "execution_count": 3,
   "id": "7c5aa90b",
   "metadata": {},
   "outputs": [
    {
     "data": {
      "text/plain": [
       "69.11498"
      ]
     },
     "execution_count": 3,
     "metadata": {},
     "output_type": "execute_result"
    }
   ],
   "source": [
    "class Circle:\n",
    "    def __init__(self, radius):\n",
    "        self.radius = radius\n",
    "\n",
    "    def getArea(self):\n",
    "        return 3.14159 * self.radius ** 2\n",
    "\n",
    "    def getPerimeter(self):\n",
    "        return 2 * 3.14159 * self.radius\n",
    "\n",
    "circy = Circle(11)\n",
    "circy.getPerimeter()"
   ]
  },
  {
   "cell_type": "markdown",
   "id": "ad86605b",
   "metadata": {},
   "source": [
    "## Question4\n",
    "\n",
    "## Create a function that takes a list of strings and return a list, sorted from shortest to longest.\n",
    "\n",
    "### Examples\n",
    "\n",
    "#### sort_by_length([&quot;Google&quot;, &quot;Apple&quot;, &quot;Microsoft&quot;])\n",
    "➞ [&quot;Apple&quot;, &quot;Google&quot;, &quot;Microsoft&quot;]\n",
    "\n",
    "#### sort_by_length([&quot;Leonardo&quot;, &quot;Michelangelo&quot;, &quot;Raphael&quot;, &quot;Donatello&quot;])\n",
    "➞ [&quot;Raphael&quot;, &quot;Leonardo&quot;, &quot;Donatello&quot;, &quot;Michelangelo&quot;]\n",
    "\n",
    "#### sort_by_length([&quot;Turing&quot;, &quot;Einstein&quot;, &quot;Jung&quot;])\n",
    "➞ [&quot;Jung&quot;, &quot;Turing&quot;, &quot;Einstein&quot;]\n",
    "\n",
    "### Notes\n",
    "\n",
    "#### All test cases contain lists with strings of different lengths, so you won&#39;t have to deal with multiple strings of the same length."
   ]
  },
  {
   "cell_type": "code",
   "execution_count": 4,
   "id": "23cccf2a",
   "metadata": {},
   "outputs": [
    {
     "data": {
      "text/plain": [
       "\"Output ➞ ['Raphael', 'Leonardo', 'Donatello', 'Michelangelo']\""
      ]
     },
     "execution_count": 4,
     "metadata": {},
     "output_type": "execute_result"
    }
   ],
   "source": [
    "def sort_by_length(lst):\n",
    "    return f\"Output ➞ {sorted(lst, key = len)}\"\n",
    "\n",
    "sort_by_length([\"Leonardo\", \"Michelangelo\", \"Raphael\", \"Donatello\"])"
   ]
  },
  {
   "cell_type": "markdown",
   "id": "a156611a",
   "metadata": {},
   "source": [
    "## Question5\n",
    "\n",
    "## Create a function that validates whether three given integers form a Pythagorean triplet. The sum of the squares of the two smallest integers must equal the square of the largest number to be validated.\n",
    "\n",
    "### Examples\n",
    "\n",
    "#### is_triplet(3, 4, 5) ➞ True\n",
    "\n",
    "# 3² + 4² = 25\n",
    "# 5² = 25\n",
    "\n",
    "#### is_triplet(13, 5, 12) ➞ True\n",
    "\n",
    "# 5² + 12² = 169\n",
    "# 13² = 169\n",
    "\n",
    "#### is_triplet(1, 2, 3) ➞ False\n",
    "\n",
    "# 1² + 2² = 5\n",
    "# 3² = 9\n",
    "\n",
    "### Notes\n",
    "\n",
    "#### Numbers may not be given in a sorted order."
   ]
  },
  {
   "cell_type": "code",
   "execution_count": 5,
   "id": "20854ef3",
   "metadata": {},
   "outputs": [
    {
     "name": "stdout",
     "output_type": "stream",
     "text": [
      "Enter three numbers separated by comma(,):13,5,12\n",
      "Output ➞ True\n"
     ]
    }
   ],
   "source": [
    "def is_triplet():\n",
    "    a, b, c = map(int, input(\"Enter three numbers separated by comma(,):\").split(\",\"))\n",
    "    return a ** 2 + b ** 2 == c ** 2 or a ** 2 + c ** 2 == b ** 2 or b ** 2 + c ** 2 == a ** 2\n",
    "\n",
    "print(f\"Output ➞ {is_triplet()}\")"
   ]
  }
 ],
 "metadata": {
  "kernelspec": {
   "display_name": "Python 3 (ipykernel)",
   "language": "python",
   "name": "python3"
  },
  "language_info": {
   "codemirror_mode": {
    "name": "ipython",
    "version": 3
   },
   "file_extension": ".py",
   "mimetype": "text/x-python",
   "name": "python",
   "nbconvert_exporter": "python",
   "pygments_lexer": "ipython3",
   "version": "3.11.0"
  }
 },
 "nbformat": 4,
 "nbformat_minor": 5
}
