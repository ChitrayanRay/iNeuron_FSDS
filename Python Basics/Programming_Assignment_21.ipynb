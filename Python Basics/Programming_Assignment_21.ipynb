{
 "cells": [
  {
   "cell_type": "markdown",
   "id": "49318627",
   "metadata": {},
   "source": [
    "## Question1\n",
    "\n",
    "## Write a function that takes a list and a number as arguments. Add the number to the end of the list, then remove the first element of the list. The function should then return the updated list.\n",
    "\n",
    "### Examples\n",
    "\n",
    "#### next_in_line([5, 6, 7, 8, 9], 1) ➞ [6, 7, 8, 9, 1]\n",
    "#### next_in_line([7, 6, 3, 23, 17], 10) ➞ [6, 3, 23, 17, 10]\n",
    "#### next_in_line([1, 10, 20, 42 ], 6) ➞ [10, 20, 42, 6]\n",
    "#### next_in_line([], 6) ➞ &quot;No list has been selected&quot;"
   ]
  },
  {
   "cell_type": "code",
   "execution_count": 1,
   "id": "18308407",
   "metadata": {},
   "outputs": [
    {
     "data": {
      "text/plain": [
       "'Output ➞ [6, 7, 8, 9, 1]'"
      ]
     },
     "execution_count": 1,
     "metadata": {},
     "output_type": "execute_result"
    }
   ],
   "source": [
    "def next_in_line(lst, num):\n",
    "    lst.append(num)\n",
    "    lst.pop(0)\n",
    "    return f\"Output ➞ {lst}\"\n",
    "\n",
    "next_in_line([5, 6, 7, 8, 9], 1)"
   ]
  },
  {
   "cell_type": "markdown",
   "id": "b3deb527",
   "metadata": {},
   "source": [
    "## Question2\n",
    "\n",
    "## Create the function that takes a list of dictionaries and returns the sum of people&#39;s budgets.\n",
    "\n",
    "### Examples\n",
    "\n",
    "#### get_budgets([\n",
    "{ &quot;name&quot;: &quot;John&quot;, &quot;age&quot;: 21, &quot;budget&quot;: 23000 },\n",
    "{ &quot;name&quot;: &quot;Steve&quot;, &quot;age&quot;: 32, &quot;budget&quot;: 40000 },\n",
    "{ &quot;name&quot;: &quot;Martin&quot;, &quot;age&quot;: 16, &quot;budget&quot;: 2700 }\n",
    "]) ➞ 65700\n",
    "#### get_budgets([\n",
    "{ &quot;name&quot;: &quot;John&quot;, &quot;age&quot;: 21, &quot;budget&quot;: 29000 },\n",
    "{ &quot;name&quot;: &quot;Steve&quot;, &quot;age&quot;: 32, &quot;budget&quot;: 32000 },\n",
    "{ &quot;name&quot;: &quot;Martin&quot;, &quot;age&quot;: 16, &quot;budget&quot;: 1600 }\n",
    "]) ➞ 62600"
   ]
  },
  {
   "cell_type": "code",
   "execution_count": 2,
   "id": "915654e4",
   "metadata": {},
   "outputs": [
    {
     "data": {
      "text/plain": [
       "'Total➞65700'"
      ]
     },
     "execution_count": 2,
     "metadata": {},
     "output_type": "execute_result"
    }
   ],
   "source": [
    "def get_budgets(people_list):\n",
    "    total = 0\n",
    "    for person in people_list:\n",
    "        total += person[\"budget\"]\n",
    "    return f\"Total➞{total}\"\n",
    "\n",
    "people_list=[{ \"name\": \"John\", \"age\": 21, \"budget\": 23000 },\n",
    "             { \"name\": \"Steve\", \"age\": 32, \"budget\": 40000 },\n",
    "             { \"name\": \"Martin\", \"age\": 16, \"budget\": 2700 } ]\n",
    "\n",
    "get_budgets(people_list)"
   ]
  },
  {
   "cell_type": "markdown",
   "id": "605431b5",
   "metadata": {},
   "source": [
    "## Question3\n",
    "\n",
    "## Create a function that takes a string and returns a string with its letters in alphabetical order.\n",
    "\n",
    "### Examples\n",
    "\n",
    "#### alphabet_soup(&quot;hello&quot;) ➞ &quot;ehllo&quot;\n",
    "#### alphabet_soup(&quot;edabit&quot;) ➞ &quot;abdeit&quot;\n",
    "#### alphabet_soup(&quot;hacker&quot;) ➞ &quot;acehkr&quot;\n",
    "#### alphabet_soup(&quot;geek&quot;) ➞ &quot;eegk&quot;\n",
    "#### alphabet_soup(&quot;javascript&quot;) ➞ &quot;aacijprstv&quot;"
   ]
  },
  {
   "cell_type": "code",
   "execution_count": 3,
   "id": "89531475",
   "metadata": {},
   "outputs": [
    {
     "name": "stdout",
     "output_type": "stream",
     "text": [
      "Enter a string:javascript\n",
      "Output: aacijprstv\n"
     ]
    }
   ],
   "source": [
    "def alphabetical_soup(string):\n",
    "    return ''.join(sorted(string))\n",
    "\n",
    "string = input(\"Enter a string:\")\n",
    "result = alphabetical_soup(string)\n",
    "print(f\"Output: {result}\")"
   ]
  },
  {
   "cell_type": "markdown",
   "id": "1244474e",
   "metadata": {},
   "source": [
    "## Question4\n",
    "\n",
    "## Suppose that you invest $10,000 for 10 years at an interest rate of 6% compounded monthly. What will be the value of your investment at the end of the 10 year period? Create a function that accepts the principal p, the term in years t, the interest rate r, and the number of compounding periods per year n. The function returns the value at the end of term rounded to the nearest cent.\n",
    "\n",
    "### For the example above:\n",
    "\n",
    "#### compound_interest(10000, 10, 0.06, 12) ➞ 18193.97\n",
    "\n",
    "### Note that the interest rate is given as a decimal and n=12 because with monthly compounding there are 12 periods per year. Compounding can also be done annually, quarterly, weekly, or daily.\n",
    "\n",
    "### Examples\n",
    "\n",
    "#### compound_interest(100, 1, 0.05, 1) ➞ 105.0\n",
    "#### compound_interest(3500, 15, 0.1, 4) ➞ 15399.26\n",
    "#### compound_interest(100000, 20, 0.15, 365) ➞ 2007316.26"
   ]
  },
  {
   "cell_type": "code",
   "execution_count": 4,
   "id": "b27417b7",
   "metadata": {},
   "outputs": [
    {
     "name": "stdout",
     "output_type": "stream",
     "text": [
      "Enter the Principal Amount:100000\n",
      "Enter the Term in Years:20\n",
      "Enter the Rate of Interest:0.15\n",
      "Enter the number of compounding periods per year:365\n"
     ]
    },
    {
     "data": {
      "text/plain": [
       "'Amount invested 100000.0 for 20.0 Years @ 15.0% Interest Rate will result in Payout Amount ➞ 2007316.26'"
      ]
     },
     "execution_count": 4,
     "metadata": {},
     "output_type": "execute_result"
    }
   ],
   "source": [
    "def compound_interest():\n",
    "    \n",
    "    p = float(input(\"Enter the Principal Amount:\"))\n",
    "    \n",
    "    t = float(input(\"Enter the Term in Years:\"))\n",
    "    \n",
    "    r = float(input(\"Enter the Rate of Interest:\"))\n",
    "    \n",
    "    n = float(input(\"Enter the number of compounding periods per year:\"))\n",
    "    \n",
    "    amount = p * (1 + r / n) ** (n * t)\n",
    "    \n",
    "    rounded_amount = round(amount, 2)\n",
    "    \n",
    "    return f\"Amount invested {p} for {t} Years @ {r*100}% Interest Rate will result in Payout Amount ➞ {rounded_amount}\"\n",
    "\n",
    "compound_interest()"
   ]
  },
  {
   "cell_type": "markdown",
   "id": "c3572db8",
   "metadata": {},
   "source": [
    "## Question5\n",
    "\n",
    "## Write a function that takes a list of elements and returns only the integers.\n",
    "\n",
    "### Examples\n",
    "\n",
    "#### return_only_integer([9, 2, &quot;space&quot;, &quot;car&quot;, &quot;lion&quot;, 16]) ➞ [9, 2, 16]\n",
    "#### return_only_integer([&quot;hello&quot;, 81, &quot;basketball&quot;, 123, &quot;fox&quot;]) ➞ [81, 123]\n",
    "#### return_only_integer([10, &quot;121&quot;, 56, 20, &quot;car&quot;, 3, &quot;lion&quot;]) ➞ [10, 56, 20, 3]\n",
    "#### return_only_integer([&quot;String&quot;, True, 3.3, 1]) ➞ [1]"
   ]
  },
  {
   "cell_type": "code",
   "execution_count": 5,
   "id": "ed1aa97f",
   "metadata": {},
   "outputs": [
    {
     "name": "stdout",
     "output_type": "stream",
     "text": [
      "Entered list:['hello', 81, 'basketball', 123, 'fox'] ➞ Filtered Values:[81, 123]\n"
     ]
    }
   ],
   "source": [
    "def return_only_integer(lst):\n",
    "    \n",
    "    filter = [x for x in lst if isinstance(x, int)]\n",
    "    return filter\n",
    "\n",
    "lst = [\"hello\", 81, \"basketball\", 123, \"fox\"]\n",
    "result = return_only_integer(lst)\n",
    "print(f\"Entered list:{lst} ➞ Filtered Values:{result}\")"
   ]
  }
 ],
 "metadata": {
  "kernelspec": {
   "display_name": "Python 3 (ipykernel)",
   "language": "python",
   "name": "python3"
  },
  "language_info": {
   "codemirror_mode": {
    "name": "ipython",
    "version": 3
   },
   "file_extension": ".py",
   "mimetype": "text/x-python",
   "name": "python",
   "nbconvert_exporter": "python",
   "pygments_lexer": "ipython3",
   "version": "3.11.0"
  }
 },
 "nbformat": 4,
 "nbformat_minor": 5
}
