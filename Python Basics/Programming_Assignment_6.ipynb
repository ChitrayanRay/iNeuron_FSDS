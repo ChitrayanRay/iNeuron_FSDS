{
 "cells": [
  {
   "cell_type": "markdown",
   "id": "60df45b2",
   "metadata": {},
   "source": [
    "## 1. Write a Python Program to Display Fibonacci Sequence Using Recursion?"
   ]
  },
  {
   "cell_type": "code",
   "execution_count": 1,
   "id": "c183ae9e",
   "metadata": {},
   "outputs": [
    {
     "name": "stdout",
     "output_type": "stream",
     "text": [
      "Enter the number to show fibonacci series upto: 7\n",
      "Fibonacci series upto 7 :\n",
      "0\n",
      "1\n",
      "1\n",
      "2\n",
      "3\n",
      "5\n",
      "8\n"
     ]
    }
   ],
   "source": [
    "def fibonacciRecursion(n):\n",
    "    if n <= 1:                                    # to return 0 & 1\n",
    "        return n\n",
    "    else:                                         \n",
    "        return(fibonacciRecursion(n - 1) + fibonacciRecursion(n - 2))\n",
    "\n",
    "nterms = int(input(\"Enter the number to show fibonacci series upto: \"))\n",
    "\n",
    "# Checking if the number of terms is valid\n",
    "if nterms <= 0:\n",
    "    print(\"Kindly enter a positive integer!\")\n",
    "else:\n",
    "    print(\"Fibonacci series upto\", nterms, \":\")\n",
    "    for i in range(nterms):\n",
    "        print(fibonacciRecursion(i))"
   ]
  },
  {
   "cell_type": "markdown",
   "id": "cf0ec0d1",
   "metadata": {},
   "source": [
    "## 2. Write a Python Program to Find Factorial of Number Using Recursion?"
   ]
  },
  {
   "cell_type": "code",
   "execution_count": 2,
   "id": "93742c04",
   "metadata": {},
   "outputs": [
    {
     "name": "stdout",
     "output_type": "stream",
     "text": [
      "Enter the number to calculate factorial of: 8\n",
      "The factorial of 8 is 40320\n"
     ]
    }
   ],
   "source": [
    "def factorialRecursion(n):\n",
    "    if n == 1:                    # Fcatorial of 1 is 1\n",
    "        return n\n",
    "    else:\n",
    "        return n * factorialRecursion(n - 1)  \n",
    "\n",
    "num = int(input(\"Enter the number to calculate factorial of: \"))\n",
    "\n",
    "# Checking if the number is negative\n",
    "if num < 0:\n",
    "    print(\"Factorial is not applicable for negative numbers!\")\n",
    "elif num == 0:\n",
    "    print(\"The factorial of 0 is 1\")\n",
    "else:\n",
    "    print(\"The factorial of\", num, \"is\", factorialRecursion(num))"
   ]
  },
  {
   "cell_type": "markdown",
   "id": "eb17a255",
   "metadata": {},
   "source": [
    "## 3. Write a Python Program to calculate your Body Mass Index?\n",
    "\n",
    "The Body Mass Index (BMI) or Quetelet index is a value derived from the mass (weight) and height of an individual, male or female. The BMI is defined as the body mass divided by the square of the body height and is universally expressed in units of kg/m2, resulting from the mass in kilograms and height in meters."
   ]
  },
  {
   "cell_type": "code",
   "execution_count": 3,
   "id": "70ee3c5c",
   "metadata": {},
   "outputs": [
    {
     "name": "stdout",
     "output_type": "stream",
     "text": [
      "Enter the height in meters: 1.8\n",
      "Enter the weight in Kgs: 70\n",
      "The BMI is 21.604938271604937 so Healthy\n"
     ]
    }
   ],
   "source": [
    "def findBMI(height, weight):\n",
    "    bmi = weight / (height ** 2)\n",
    "    return bmi\n",
    " \n",
    "# Driver code\n",
    "height = float(input(\"Enter the height in meters: \"))\n",
    "weight = float(input(\"Enter the weight in Kgs: \"))\n",
    " \n",
    "# Calling the BMI function\n",
    "bmi = findBMI(height, weight)\n",
    "\n",
    "print(\"The BMI is\", bmi, \"so \", end='')\n",
    "\n",
    "# Conditions to find out BMI category\n",
    "if (bmi < 18.5):\n",
    "    print(\"Underweight\")\n",
    "elif ( bmi >= 18.5 and bmi < 24.9):\n",
    "    print(\"Healthy\")\n",
    "elif ( bmi >= 24.9 and bmi < 30):\n",
    "    print(\"Overweight\")\n",
    "elif ( bmi >=30):\n",
    "    print(\"Suffering from Obesity\")"
   ]
  },
  {
   "cell_type": "markdown",
   "id": "74241ae0",
   "metadata": {},
   "source": [
    "## 4. Write a Python Program to calculate the natural logarithm of any number?\n",
    "\n",
    "* **Syntax:** math.log(a, Base)\n",
    "* **Parameters:** \n",
    "     * **a:** The numeric value\n",
    "     * **Base:**  Base to which the logarithm has to be computed.\n",
    "* **Return Value:** Returns natural log if 1 argument is passed and log with specified base if 2 arguments are passed.\n",
    "* **Exceptions:** Raises ValueError if a negative no. is passed as argument."
   ]
  },
  {
   "cell_type": "code",
   "execution_count": 4,
   "id": "10c97ef3",
   "metadata": {},
   "outputs": [
    {
     "name": "stdout",
     "output_type": "stream",
     "text": [
      "Enter the number: 24\n",
      "The Natural Loarithm of 24 is 3.1780538303479458\n"
     ]
    }
   ],
   "source": [
    "num = int(input(\"Enter the number: \"))\n",
    "\n",
    "if num < 0:\n",
    "    print(\"Kindly enter any positive number!\")\n",
    "else:\n",
    "    import math\n",
    "    print(\"The Natural Loarithm of\" , num , \"is\" , math.log(num))"
   ]
  },
  {
   "cell_type": "markdown",
   "id": "3be91b79",
   "metadata": {},
   "source": [
    "## 5. Write a Python Program for cube sum of first n natural numbers?"
   ]
  },
  {
   "cell_type": "code",
   "execution_count": 5,
   "id": "a5af9a9e",
   "metadata": {},
   "outputs": [
    {
     "name": "stdout",
     "output_type": "stream",
     "text": [
      "Enter the number of natural numbers to find the cube of: 7\n",
      "0\n",
      "1\n",
      "8\n",
      "27\n",
      "64\n",
      "125\n",
      "216\n",
      "The sum of cube of first 7 natural numbers is  441\n"
     ]
    }
   ],
   "source": [
    "num = int(input(\"Enter the number of natural numbers to find the cube of: \"))\n",
    "\n",
    "if num < 0:\n",
    "    print(\"Kindly enter any positive number!\")\n",
    "else:\n",
    "    summation = 0\n",
    "    for i in range(num):\n",
    "        print(i ** 3)\n",
    "        summation = summation + i ** 3\n",
    "    print(\"The sum of cube of first\",num,\"natural numbers is \",summation)"
   ]
  }
 ],
 "metadata": {
  "kernelspec": {
   "display_name": "Python 3 (ipykernel)",
   "language": "python",
   "name": "python3"
  },
  "language_info": {
   "codemirror_mode": {
    "name": "ipython",
    "version": 3
   },
   "file_extension": ".py",
   "mimetype": "text/x-python",
   "name": "python",
   "nbconvert_exporter": "python",
   "pygments_lexer": "ipython3",
   "version": "3.11.0"
  }
 },
 "nbformat": 4,
 "nbformat_minor": 5
}
