{
 "cells": [
  {
   "cell_type": "markdown",
   "id": "5124faa1",
   "metadata": {},
   "source": [
    "## 1. What does RGBA stand for?\n",
    "\n",
    "- The RGBA color format is an extension of the RGB scheme with an added alpha channel that specifies the opacity of the color.\n",
    "- In CSS, the RGBA color format can be specified using:\n",
    "\n",
    "```python\n",
    "        rgba(red, green, blue, alpha)\n",
    "```\n",
    "\n",
    "- Each parameter in rgb() function defines the intensity of colors in a range of 0 to 255. The value 0 defines no color of that type being used while 255 defines the highest value of that color being used.\n",
    "- The alpha value is declared as a decimal number from 0 to 1, where 0 is fully transparent and 1 is fully opaque."
   ]
  },
  {
   "cell_type": "markdown",
   "id": "235c1fc3",
   "metadata": {},
   "source": [
    "## 2. From the Pillow module, how do you get the RGBA value of any images?\n",
    "\n",
    "- **Pillow:** Python Imaging Library\n",
    "- The Python Imaging Library adds image processing capabilities to your Python interpreter.\n",
    "- This library provides extensive file format support, an efficient internal representation, and fairly powerful image processing capabilities.\n",
    "- The core image library is designed for fast access to data stored in a few basic pixel formats. It should provide a solid foundation for a general image processing tool.\n",
    "\n",
    "- Pillow offers the \n",
    "\n",
    "```python\n",
    "     from PIL import Image\n",
    "\n",
    "     with Image.open(\"imageName.jpg\") as im:\n",
    "        pixelValue= list(im.getdata())\n",
    "        print(pixelValue)\n",
    "```\n",
    "\n",
    "- **Image.getdata()** returns the contents of this image as a **sequence object** containing pixel values. The sequence object is flattened, so that values for line one follow directly after the values of line zero, and so on.\n",
    "- Note that the sequence object returned by this method is an internal PIL data type, which only supports certain sequence operations. To convert it to an ordinary sequence (e.g. for printing), use list(im.getdata()).\n",
    "- **PARAMETERS:**\n",
    "  **band** – What band to return. The default is to return all bands. To return a single band, pass in the index value (e.g. 0 to get the “R” band from an “RGB” image)."
   ]
  },
  {
   "cell_type": "code",
   "execution_count": 1,
   "id": "d72ce0b5",
   "metadata": {},
   "outputs": [
    {
     "name": "stderr",
     "output_type": "stream",
     "text": [
      "IOPub data rate exceeded.\n",
      "The notebook server will temporarily stop sending output\n",
      "to the client in order to avoid crashing it.\n",
      "To change this limit, set the config variable\n",
      "`--NotebookApp.iopub_data_rate_limit`.\n",
      "\n",
      "Current values:\n",
      "NotebookApp.iopub_data_rate_limit=1000000.0 (bytes/sec)\n",
      "NotebookApp.rate_limit_window=3.0 (secs)\n",
      "\n"
     ]
    }
   ],
   "source": [
    "from PIL import Image\n",
    "\n",
    "with Image.open(\"image.png\") as im:\n",
    "    \n",
    "    pixelValue= list(im.getdata())\n",
    "    \n",
    "    pixelValFlat = [x for sets in pixelValue for x in sets]\n",
    "    \n",
    "    print(\"Pixel values as a set of 4 values(R,G,B.A): \",pixelValue)\n",
    "    \n",
    "    print(\"All Pixel Values in List: \",pixelValFlat)\n",
    "    \n",
    "    im.show()"
   ]
  },
  {
   "cell_type": "markdown",
   "id": "a0dd65c2",
   "metadata": {},
   "source": [
    "## 3. What is a box tuple, and how does it work?\n",
    "\n",
    "- The **box.tuple submodule** provides read-only access for the tuple userdata type. It allows, for a single tuple: selective retrieval of the field contents, retrieval of information about size, iteration over all the fields, and conversion to a Lua table."
   ]
  },
  {
   "cell_type": "markdown",
   "id": "287b7859",
   "metadata": {},
   "source": [
    "## 4. Use your image and load in notebook then, How can you find out the width and height of an Image object?"
   ]
  },
  {
   "cell_type": "code",
   "execution_count": 2,
   "id": "eb5759b8",
   "metadata": {},
   "outputs": [
    {
     "name": "stdout",
     "output_type": "stream",
     "text": [
      "The height of the image is:  434\n",
      "The width of the image is:  660\n"
     ]
    }
   ],
   "source": [
    "# Approach 1: Using the Image.height and Image.width attributes\n",
    "\n",
    "with Image.open(\"image.png\") as im:\n",
    "    \n",
    "    # Displaying the width and height\n",
    "    print(\"The height of the image is: \", im.height)\n",
    "    print(\"The width of the image is: \", im.width)\n",
    "    im.show()"
   ]
  },
  {
   "cell_type": "code",
   "execution_count": 3,
   "id": "d36c3f87",
   "metadata": {},
   "outputs": [
    {
     "name": "stdout",
     "output_type": "stream",
     "text": [
      "The height of the image is:  434\n",
      "The width of the image is:  660\n"
     ]
    }
   ],
   "source": [
    "# Approach 2: Using the Image.size attribute\n",
    "\n",
    "with Image.open(\"image.png\") as im:\n",
    "    \n",
    "    # Tuple unpacking on size\n",
    "    width, height = im.size\n",
    "    \n",
    "    # Displaying the width and height\n",
    "    print(\"The height of the image is: \", height)\n",
    "    print(\"The width of the image is: \", width)\n",
    "    im.show()"
   ]
  },
  {
   "cell_type": "code",
   "execution_count": 4,
   "id": "0ccac92f",
   "metadata": {},
   "outputs": [
    {
     "name": "stdout",
     "output_type": "stream",
     "text": [
      "The height of the image is:  434\n",
      "The width of the image is:  660\n"
     ]
    }
   ],
   "source": [
    "# Approach 3: Using opencv-3\n",
    "\n",
    "# Importing the required module\n",
    "import cv3\n",
    "  \n",
    "# Getting the image\n",
    "filepath = \"image.png\"\n",
    "image = cv3.imread(filepath)\n",
    "  \n",
    "# Getting the width and height\n",
    "height, width = image.shape[:2]\n",
    "  \n",
    "# Displaying the width and height\n",
    "print(\"The height of the image is: \", height)\n",
    "print(\"The width of the image is: \", width)"
   ]
  },
  {
   "cell_type": "markdown",
   "id": "96ac3585",
   "metadata": {},
   "source": [
    "## 5. What method would you call to get Image object for a 100×100 image, excluding the lower-left quarter of it?"
   ]
  },
  {
   "cell_type": "code",
   "execution_count": 5,
   "id": "9994674e",
   "metadata": {},
   "outputs": [
    {
     "name": "stdout",
     "output_type": "stream",
     "text": [
      "The Size of the image is:  (660, 434)\n"
     ]
    }
   ],
   "source": [
    "from PIL import Image\n",
    "import numpy as np      \n",
    "  \n",
    "# Opening the image and converting it to RGB color mode\n",
    "img = Image.open(r\"image.png\").convert('RGB')\n",
    "\n",
    "# Size of the image\n",
    "print(\"The Size of the image is: \", img.size)\n",
    "\n",
    "# Extracting the image data &\n",
    "# Creating a numpy array out of it\n",
    "imgArr = np.array(img)\n",
    "  \n",
    "# Turning the pixel values of the 100*100 pixels to black \n",
    "imgArr[99: 199, 0:100 ] = (0, 0, 0)\n",
    "  \n",
    "# Creating an image out of the previously modified array\n",
    "img = Image.fromarray(imgArr)\n",
    "  \n",
    "# Displaying the image\n",
    "img.show()"
   ]
  },
  {
   "cell_type": "markdown",
   "id": "bd96420d",
   "metadata": {},
   "source": [
    "## 6. After making changes to an Image object, how could you save it as an image file?"
   ]
  },
  {
   "cell_type": "code",
   "execution_count": 6,
   "id": "c4962b7c",
   "metadata": {},
   "outputs": [],
   "source": [
    "# Saving an image using extension in present working directory\n",
    "\n",
    "img = img.save(\"ModifiedIMG.jpg\")"
   ]
  },
  {
   "cell_type": "markdown",
   "id": "25725464",
   "metadata": {},
   "source": [
    "## 7. What module contains Pillow’s shape-drawing code?\n",
    "\n",
    "- **ImageDraw** provides a variety of methods to, as its name suggests, draw on images. With the help of this module, we can draw lines, circles, rectangles and, even write and format text on an image."
   ]
  },
  {
   "cell_type": "code",
   "execution_count": 7,
   "id": "de2b733b",
   "metadata": {},
   "outputs": [],
   "source": [
    "from PIL import Image, ImageDraw\n",
    "\n",
    "with Image.open(\"image.png\") as im:\n",
    "    draw = ImageDraw.Draw(im)\n",
    "    draw.rectangle(xy = (50, 50, 100, 100),\n",
    "               fill = (0, 127, 0),\n",
    "               outline = (255, 255, 255),\n",
    "               width = 1)\n",
    "    im.show()"
   ]
  },
  {
   "cell_type": "code",
   "execution_count": 8,
   "id": "bb42f116",
   "metadata": {},
   "outputs": [],
   "source": [
    "with Image.open(\"image.png\") as im:\n",
    "    draw = ImageDraw.Draw(im)\n",
    "    draw.line(xy = (50, 50, 100, 100),\n",
    "               fill = (0, 127, 0),\n",
    "               width = 2)\n",
    "    im.show()"
   ]
  },
  {
   "cell_type": "markdown",
   "id": "494d8ea0",
   "metadata": {},
   "source": [
    "## 8. Image objects do not have drawing methods. What kind of object does? How do you get this kind of object?\n",
    "\n",
    "- **ImageDraw objects have shape-drawing methods** such as **point(), line(), or rectangle()**.They are returned by **passing the Image object to the ImageDraw.Draw() function**."
   ]
  }
 ],
 "metadata": {
  "kernelspec": {
   "display_name": "Python 3 (ipykernel)",
   "language": "python",
   "name": "python3"
  },
  "language_info": {
   "codemirror_mode": {
    "name": "ipython",
    "version": 3
   },
   "file_extension": ".py",
   "mimetype": "text/x-python",
   "name": "python",
   "nbconvert_exporter": "python",
   "pygments_lexer": "ipython3",
   "version": "3.11.0"
  }
 },
 "nbformat": 4,
 "nbformat_minor": 5
}
