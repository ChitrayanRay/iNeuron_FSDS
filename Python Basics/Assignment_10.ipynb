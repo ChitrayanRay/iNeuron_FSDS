{
 "cells": [
  {
   "cell_type": "markdown",
   "id": "09145da8",
   "metadata": {},
   "source": [
    "## 1. How do you distinguish between shutil.copy() and shutil.copytree()?\n",
    "\n",
    "- The shutil.copy() function will copy a single file, while shutil.copytree() will copy an entire folder, along with all its contents.\n",
    "- The shutil (or shell utilities) module has functions to let you copy, move, rename, and delete files in your Python programs. \n",
    "- To use the shutil functions, you will first need to use import shutil. \n",
    "- The shutil module provides functions for copying files, as well as entire folders.\n",
    "- Calling shutil.copy(source, destination) will copy the file at the path source to the folder at the path destination. (Both source and destination are strings.) \n",
    "- If destination is a filename, it will be used as the new name of the copied file. This function returns a string of the path of the copied file.\n",
    "\n",
    "This is how shutil.copy() works:"
   ]
  },
  {
   "cell_type": "code",
   "execution_count": 1,
   "id": "bb0d6d15",
   "metadata": {},
   "outputs": [
    {
     "data": {
      "text/plain": [
       "'C:\\\\Users\\\\Guddu_2\\\\Downloads\\\\iNeuron_FSDS\\\\Python Basics'"
      ]
     },
     "execution_count": 1,
     "metadata": {},
     "output_type": "execute_result"
    }
   ],
   "source": [
    "import shutil, os\n",
    "\n",
    "# Checking the current working directory\n",
    "os.getcwd()"
   ]
  },
  {
   "cell_type": "code",
   "execution_count": 2,
   "id": "41c0ae4a",
   "metadata": {},
   "outputs": [
    {
     "data": {
      "text/plain": [
       "['.ipynb_checkpoints',\n",
       " 'Assignment_1.ipynb',\n",
       " 'Assignment_10.ipynb',\n",
       " 'Assignment_2.ipynb',\n",
       " 'Assignment_3.ipynb',\n",
       " 'Assignment_4.ipynb',\n",
       " 'Assignment_5.ipynb',\n",
       " 'Assignment_6.ipynb',\n",
       " 'Assignment_7.ipynb',\n",
       " 'Assignment_8.ipynb',\n",
       " 'Assignment_9.ipynb',\n",
       " 'Practice']"
      ]
     },
     "execution_count": 2,
     "metadata": {},
     "output_type": "execute_result"
    }
   ],
   "source": [
    "# Files in this directory\n",
    "\n",
    "os.listdir()"
   ]
  },
  {
   "cell_type": "code",
   "execution_count": 3,
   "id": "95b2d363",
   "metadata": {},
   "outputs": [
    {
     "name": "stdout",
     "output_type": "stream",
     "text": [
      "Help on function copy in module shutil:\n",
      "\n",
      "copy(src, dst, *, follow_symlinks=True)\n",
      "    Copy data and mode bits (\"cp src dst\"). Return the file's destination.\n",
      "    \n",
      "    The destination may be a directory.\n",
      "    \n",
      "    If follow_symlinks is false, symlinks won't be followed. This\n",
      "    resembles GNU's \"cp -P src dst\".\n",
      "    \n",
      "    If source and destination are the same file, a SameFileError will be\n",
      "    raised.\n",
      "\n"
     ]
    }
   ],
   "source": [
    "help(shutil.copy)"
   ]
  },
  {
   "cell_type": "markdown",
   "id": "13597471",
   "metadata": {},
   "source": [
    "```python\n",
    "copy(src, dst, *, follow_symlinks=True)\n",
    "```\n",
    "- source(src): ipynb files named 'Assignmnet_9.ipynb'\n",
    "- destination(dst): Directory named 'Practice'"
   ]
  },
  {
   "cell_type": "code",
   "execution_count": 4,
   "id": "f44caab0",
   "metadata": {},
   "outputs": [
    {
     "data": {
      "text/plain": [
       "'C:\\\\Users\\\\Guddu_2\\\\Downloads\\\\iNeuron_FSDS\\\\Python Basics\\\\Practice\\\\Assignment_9.ipynb'"
      ]
     },
     "execution_count": 4,
     "metadata": {},
     "output_type": "execute_result"
    }
   ],
   "source": [
    "# copying 'Assignment_9' to 'Practice'\n",
    "shutil.copy('C:\\\\Users\\\\Guddu_2\\\\Downloads\\\\iNeuron_FSDS\\\\Python Basics\\\\Assignment_9.ipynb','C:\\\\Users\\\\Guddu_2\\\\Downloads\\\\iNeuron_FSDS\\\\Python Basics\\\\Practice')"
   ]
  },
  {
   "cell_type": "code",
   "execution_count": 5,
   "id": "09dc8387",
   "metadata": {},
   "outputs": [
    {
     "data": {
      "text/plain": [
       "'C:\\\\Users\\\\Guddu_2\\\\Downloads\\\\iNeuron_FSDS\\\\Python Basics\\\\Practice'"
      ]
     },
     "execution_count": 5,
     "metadata": {},
     "output_type": "execute_result"
    }
   ],
   "source": [
    "os.chdir('C:\\\\Users\\\\Guddu_2\\\\Downloads\\\\iNeuron_FSDS\\\\Python Basics\\\\Practice')\n",
    "\n",
    "os.getcwd()"
   ]
  },
  {
   "cell_type": "code",
   "execution_count": 6,
   "id": "7a139def",
   "metadata": {},
   "outputs": [
    {
     "data": {
      "text/plain": [
       "['Assignment_9.ipynb']"
      ]
     },
     "execution_count": 6,
     "metadata": {},
     "output_type": "execute_result"
    }
   ],
   "source": [
    "os.listdir()"
   ]
  },
  {
   "cell_type": "markdown",
   "id": "7192b32e",
   "metadata": {},
   "source": [
    "'Assignment_9.ipynb' copied to 'Practice' Successfully using shutil.copy()."
   ]
  },
  {
   "cell_type": "code",
   "execution_count": 7,
   "id": "b7ee29ba",
   "metadata": {},
   "outputs": [
    {
     "data": {
      "text/plain": [
       "'C:\\\\Users\\\\Guddu_2\\\\Downloads\\\\iNeuron_FSDS\\\\Python Basics'"
      ]
     },
     "execution_count": 7,
     "metadata": {},
     "output_type": "execute_result"
    }
   ],
   "source": [
    "# Returning back to 'Python Basics' directory\n",
    "\n",
    "os.chdir('C:\\\\Users\\\\Guddu_2\\\\Downloads\\\\iNeuron_FSDS\\\\Python Basics')\n",
    "\n",
    "os.getcwd()"
   ]
  },
  {
   "cell_type": "markdown",
   "id": "493af3e0",
   "metadata": {},
   "source": [
    "### shutil.copytree()\n",
    "\n",
    "Calling shutil.copytree(source, destination) will copy the folder at the path source, along with all of its files and subfolders, to the folder at the path destination. The source and destination parameters are both strings. The function returns a string of the path of the copied folder."
   ]
  },
  {
   "cell_type": "code",
   "execution_count": 8,
   "id": "0a61061a",
   "metadata": {},
   "outputs": [
    {
     "name": "stdout",
     "output_type": "stream",
     "text": [
      "Help on function copytree in module shutil:\n",
      "\n",
      "copytree(src, dst, symlinks=False, ignore=None, copy_function=<function copy2 at 0x000001466E141800>, ignore_dangling_symlinks=False, dirs_exist_ok=False)\n",
      "    Recursively copy a directory tree and return the destination directory.\n",
      "    \n",
      "    If exception(s) occur, an Error is raised with a list of reasons.\n",
      "    \n",
      "    If the optional symlinks flag is true, symbolic links in the\n",
      "    source tree result in symbolic links in the destination tree; if\n",
      "    it is false, the contents of the files pointed to by symbolic\n",
      "    links are copied. If the file pointed by the symlink doesn't\n",
      "    exist, an exception will be added in the list of errors raised in\n",
      "    an Error exception at the end of the copy process.\n",
      "    \n",
      "    You can set the optional ignore_dangling_symlinks flag to true if you\n",
      "    want to silence this exception. Notice that this has no effect on\n",
      "    platforms that don't support os.symlink.\n",
      "    \n",
      "    The optional ignore argument is a callable. If given, it\n",
      "    is called with the `src` parameter, which is the directory\n",
      "    being visited by copytree(), and `names` which is the list of\n",
      "    `src` contents, as returned by os.listdir():\n",
      "    \n",
      "        callable(src, names) -> ignored_names\n",
      "    \n",
      "    Since copytree() is called recursively, the callable will be\n",
      "    called once for each directory that is copied. It returns a\n",
      "    list of names relative to the `src` directory that should\n",
      "    not be copied.\n",
      "    \n",
      "    The optional copy_function argument is a callable that will be used\n",
      "    to copy each file. It will be called with the source path and the\n",
      "    destination path as arguments. By default, copy2() is used, but any\n",
      "    function that supports the same signature (like copy()) can be used.\n",
      "    \n",
      "    If dirs_exist_ok is false (the default) and `dst` already exists, a\n",
      "    `FileExistsError` is raised. If `dirs_exist_ok` is true, the copying\n",
      "    operation will continue if it encounters existing directories, and files\n",
      "    within the `dst` tree will be overwritten by corresponding files from the\n",
      "    `src` tree.\n",
      "\n"
     ]
    }
   ],
   "source": [
    "help(shutil.copytree)"
   ]
  },
  {
   "cell_type": "markdown",
   "id": "f0d6414e",
   "metadata": {},
   "source": [
    "## 2. What function is used to rename files??\n",
    "\n",
    "- The shutil.move() function is used for renaming files, as well as moving them"
   ]
  },
  {
   "cell_type": "code",
   "execution_count": 9,
   "id": "4af6c318",
   "metadata": {},
   "outputs": [
    {
     "name": "stdout",
     "output_type": "stream",
     "text": [
      "Help on function move in module shutil:\n",
      "\n",
      "move(src, dst, copy_function=<function copy2 at 0x000001466E141800>)\n",
      "    Recursively move a file or directory to another location. This is\n",
      "    similar to the Unix \"mv\" command. Return the file or directory's\n",
      "    destination.\n",
      "    \n",
      "    If the destination is a directory or a symlink to a directory, the source\n",
      "    is moved inside the directory. The destination path must not already\n",
      "    exist.\n",
      "    \n",
      "    If the destination already exists but is not a directory, it may be\n",
      "    overwritten depending on os.rename() semantics.\n",
      "    \n",
      "    If the destination is on our current filesystem, then rename() is used.\n",
      "    Otherwise, src is copied to the destination and then removed. Symlinks are\n",
      "    recreated under the new name if os.rename() fails because of cross\n",
      "    filesystem renames.\n",
      "    \n",
      "    The optional `copy_function` argument is a callable that will be used\n",
      "    to copy the source or it will be delegated to `copytree`.\n",
      "    By default, copy2() is used, but any function that supports the same\n",
      "    signature (like copy()) can be used.\n",
      "    \n",
      "    A lot more could be done here...  A look at a mv.c shows a lot of\n",
      "    the issues this implementation glosses over.\n",
      "\n"
     ]
    }
   ],
   "source": [
    "help(shutil.move)"
   ]
  },
  {
   "cell_type": "markdown",
   "id": "fec0577c",
   "metadata": {},
   "source": [
    "## 3. What is the difference between the delete functions in the send2trash and shutil modules?\n",
    "\n",
    "- The send2trash functions will move a file or folder to the recycle bin, while shutil functions will permanently delete files and folders."
   ]
  },
  {
   "cell_type": "markdown",
   "id": "12979c94",
   "metadata": {},
   "source": [
    "## 4.ZipFile objects have a close() method just like File objects’ close() method. What ZipFile method is equivalent to File objects’ open() method?\n",
    "\n",
    "The zipfile.ZipFile() function is equivalent to the open() function; the first argument is the filename, and the second argument is the mode to open the ZIP file in (read, write, or append)."
   ]
  },
  {
   "cell_type": "markdown",
   "id": "5d2660dc",
   "metadata": {},
   "source": [
    "## 5. Create a programme that searches a folder tree for files with a certain file extension (such as .pdf or .jpg). Copy these files from whatever location they are in to a new folder."
   ]
  },
  {
   "cell_type": "code",
   "execution_count": 10,
   "id": "2d1a91e0",
   "metadata": {},
   "outputs": [
    {
     "name": "stdout",
     "output_type": "stream",
     "text": [
      "Enter the absolute path of the source folder: C:\\\\Users\\\\Guddu_2\\\\Downloads\n",
      "Enter the type of file to copy (such as .pdf or .jpg): .jpg\n",
      "Enter the absolute path of the destination folder: C:\\\\Users\\\\Guddu_2\\\\Downloads\\\\JPG FILES\n",
      "C:\\\\Users\\\\Guddu_2\\\\Downloads\\2020-Porsche-Taycan-Turbo-006-2160.jpg\n",
      "C:\\\\Users\\\\Guddu_2\\\\Downloads\\2020-Porsche-Taycan-Turbo-006-2160.jpg\n",
      "C:\\\\Users\\\\Guddu_2\\\\Downloads\\Chirantan Ray New Aadhaar Card.jpg\n",
      "C:\\\\Users\\\\Guddu_2\\\\Downloads\\Chirantan Ray New Aadhaar Card.jpg\n",
      "C:\\\\Users\\\\Guddu_2\\\\Downloads\\Chitrayan_Ray_New_Aadhaar_Card.jpg\n",
      "C:\\\\Users\\\\Guddu_2\\\\Downloads\\Chitrayan_Ray_New_Aadhaar_Card.jpg\n",
      "C:\\\\Users\\\\Guddu_2\\\\Downloads\\Chittaranjan Ray New Aadhaar.jpg\n",
      "C:\\\\Users\\\\Guddu_2\\\\Downloads\\Chittaranjan Ray New Aadhaar.jpg\n",
      "C:\\\\Users\\\\Guddu_2\\\\Downloads\\dive-into-docker-web-framework-starter-projects-ad6b5bb4d93fa4907deb082f99df1e83b442994e4c80728890a48e55a44992f2.jpg\n",
      "C:\\\\Users\\\\Guddu_2\\\\Downloads\\dive-into-docker-web-framework-starter-projects-ad6b5bb4d93fa4907deb082f99df1e83b442994e4c80728890a48e55a44992f2.jpg\n",
      "C:\\\\Users\\\\Guddu_2\\\\Downloads\\facebook_1667411724778_6993631666887027291.jpg\n",
      "C:\\\\Users\\\\Guddu_2\\\\Downloads\\facebook_1667411724778_6993631666887027291.jpg\n",
      "C:\\\\Users\\\\Guddu_2\\\\Downloads\\IMG-20230414-WA0002.jpg\n",
      "C:\\\\Users\\\\Guddu_2\\\\Downloads\\IMG-20230414-WA0002.jpg\n",
      "C:\\\\Users\\\\Guddu_2\\\\Downloads\\IMG_20230528_0001.jpg\n",
      "C:\\\\Users\\\\Guddu_2\\\\Downloads\\IMG_20230528_0001.jpg\n",
      "C:\\\\Users\\\\Guddu_2\\\\Downloads\\maa epf photo - Copy.jpg\n",
      "C:\\\\Users\\\\Guddu_2\\\\Downloads\\maa epf photo - Copy.jpg\n",
      "C:\\\\Users\\\\Guddu_2\\\\Downloads\\maa epf photo.jpg\n",
      "C:\\\\Users\\\\Guddu_2\\\\Downloads\\maa epf photo.jpg\n",
      "C:\\\\Users\\\\Guddu_2\\\\Downloads\\rima 2021 (1).jpg\n",
      "C:\\\\Users\\\\Guddu_2\\\\Downloads\\rima 2021 (1).jpg\n",
      "C:\\\\Users\\\\Guddu_2\\\\Downloads\\rima 2021.jpg\n",
      "C:\\\\Users\\\\Guddu_2\\\\Downloads\\rima 2021.jpg\n",
      "C:\\\\Users\\\\Guddu_2\\\\Downloads\\schedule.JPG\n",
      "C:\\\\Users\\\\Guddu_2\\\\Downloads\\schedule.JPG\n",
      "C:\\\\Users\\\\Guddu_2\\\\Downloads\\UC-3364975b-df5a-4363-8f5c-25793a18ba4d.jpg\n",
      "C:\\\\Users\\\\Guddu_2\\\\Downloads\\UC-3364975b-df5a-4363-8f5c-25793a18ba4d.jpg\n",
      "C:\\\\Users\\\\Guddu_2\\\\Downloads\\UC-36ac1500-cf7e-4487-975f-da4611520599.jpg\n",
      "C:\\\\Users\\\\Guddu_2\\\\Downloads\\UC-36ac1500-cf7e-4487-975f-da4611520599.jpg\n",
      "C:\\\\Users\\\\Guddu_2\\\\Downloads\\UC-50f6a7e7-2502-4862-8305-c6f2ec979c61.jpg\n",
      "C:\\\\Users\\\\Guddu_2\\\\Downloads\\UC-50f6a7e7-2502-4862-8305-c6f2ec979c61.jpg\n",
      "C:\\\\Users\\\\Guddu_2\\\\Downloads\\UC-5cfd3ba6-786b-4cc5-8180-8f0a11fdad79.jpg\n",
      "C:\\\\Users\\\\Guddu_2\\\\Downloads\\UC-5cfd3ba6-786b-4cc5-8180-8f0a11fdad79.jpg\n",
      "C:\\\\Users\\\\Guddu_2\\\\Downloads\\UC-67d6ad6b-6c0e-4a69-a36b-4a40ce492aa5.jpg\n",
      "C:\\\\Users\\\\Guddu_2\\\\Downloads\\UC-67d6ad6b-6c0e-4a69-a36b-4a40ce492aa5.jpg\n",
      "C:\\\\Users\\\\Guddu_2\\\\Downloads\\UC-684b66f1-b2bb-4440-b068-38d85f3ce274.jpg\n",
      "C:\\\\Users\\\\Guddu_2\\\\Downloads\\UC-684b66f1-b2bb-4440-b068-38d85f3ce274.jpg\n",
      "C:\\\\Users\\\\Guddu_2\\\\Downloads\\UC-81bdc00e-3294-4a9b-ab83-2eade78a9217.jpg\n",
      "C:\\\\Users\\\\Guddu_2\\\\Downloads\\UC-81bdc00e-3294-4a9b-ab83-2eade78a9217.jpg\n",
      "C:\\\\Users\\\\Guddu_2\\\\Downloads\\UC-a1715f76-c441-4bcf-adb2-737590fecaf5.jpg\n",
      "C:\\\\Users\\\\Guddu_2\\\\Downloads\\UC-a1715f76-c441-4bcf-adb2-737590fecaf5.jpg\n",
      "C:\\\\Users\\\\Guddu_2\\\\Downloads\\UC-c7d82e17-1c22-4e36-a11c-45997625028a.jpg\n",
      "C:\\\\Users\\\\Guddu_2\\\\Downloads\\UC-c7d82e17-1c22-4e36-a11c-45997625028a.jpg\n",
      "C:\\\\Users\\\\Guddu_2\\\\Downloads\\UC-cca0ed0f-a7bd-46e5-a35e-366ece3c40ec.jpg\n",
      "C:\\\\Users\\\\Guddu_2\\\\Downloads\\UC-cca0ed0f-a7bd-46e5-a35e-366ece3c40ec.jpg\n",
      "C:\\\\Users\\\\Guddu_2\\\\Downloads\\UC-e1e36f32-314d-4aaf-9c30-36fc31b2bae4.jpg\n",
      "C:\\\\Users\\\\Guddu_2\\\\Downloads\\UC-e1e36f32-314d-4aaf-9c30-36fc31b2bae4.jpg\n",
      "C:\\\\Users\\\\Guddu_2\\\\Downloads\\UC-f34d89be-0310-4b4b-9273-f99d6d381a6c.jpg\n",
      "C:\\\\Users\\\\Guddu_2\\\\Downloads\\UC-f34d89be-0310-4b4b-9273-f99d6d381a6c.jpg\n",
      "C:\\\\Users\\\\Guddu_2\\\\Downloads\\UC-f908661a-c686-4cc9-acb3-27e330d8da88.jpg\n",
      "C:\\\\Users\\\\Guddu_2\\\\Downloads\\UC-f908661a-c686-4cc9-acb3-27e330d8da88.jpg\n",
      "C:\\\\Users\\\\Guddu_2\\\\Downloads\\Backup\\Data\\2023-06-17-132550\\Setting\\AodBackup\\aod\\handpaint\\1\\finishBitmap.jpg\n",
      "C:\\\\Users\\\\Guddu_2\\\\Downloads\\Backup\\Data\\2023-06-17-132550\\Setting\\AodBackup\\aod\\handpaint\\1\\finishBitmap.jpg\n",
      "C:\\\\Users\\\\Guddu_2\\\\Downloads\\Backup\\Data\\2023-06-17-132550\\Setting\\AodBackup\\aod\\handpaint\\1\\startBitmap.jpg\n",
      "C:\\\\Users\\\\Guddu_2\\\\Downloads\\Backup\\Data\\2023-06-17-132550\\Setting\\AodBackup\\aod\\handpaint\\1\\startBitmap.jpg\n",
      "C:\\\\Users\\\\Guddu_2\\\\Downloads\\Backup\\Data\\2023-06-17-132550\\Setting\\AodBackup\\aod\\handpaint\\2\\finishBitmap.jpg\n",
      "C:\\\\Users\\\\Guddu_2\\\\Downloads\\Backup\\Data\\2023-06-17-132550\\Setting\\AodBackup\\aod\\handpaint\\2\\finishBitmap.jpg\n",
      "C:\\\\Users\\\\Guddu_2\\\\Downloads\\Backup\\Data\\2023-06-17-132550\\Setting\\AodBackup\\aod\\handpaint\\2\\startBitmap.jpg\n",
      "C:\\\\Users\\\\Guddu_2\\\\Downloads\\Backup\\Data\\2023-06-17-132550\\Setting\\AodBackup\\aod\\handpaint\\2\\startBitmap.jpg\n",
      "C:\\\\Users\\\\Guddu_2\\\\Downloads\\Backup\\Data\\2023-06-17-132550\\Setting\\AodBackup\\aod\\handpaint\\3\\finishBitmap.jpg\n",
      "C:\\\\Users\\\\Guddu_2\\\\Downloads\\Backup\\Data\\2023-06-17-132550\\Setting\\AodBackup\\aod\\handpaint\\3\\finishBitmap.jpg\n",
      "C:\\\\Users\\\\Guddu_2\\\\Downloads\\Backup\\Data\\2023-06-17-132550\\Setting\\AodBackup\\aod\\handpaint\\3\\startBitmap.jpg\n",
      "C:\\\\Users\\\\Guddu_2\\\\Downloads\\Backup\\Data\\2023-06-17-132550\\Setting\\AodBackup\\aod\\handpaint\\3\\startBitmap.jpg\n",
      "C:\\\\Users\\\\Guddu_2\\\\Downloads\\Backup\\Data\\2023-06-17-132550\\Setting\\AodBackup\\aod\\handpaint\\4\\finishBitmap.jpg\n",
      "C:\\\\Users\\\\Guddu_2\\\\Downloads\\Backup\\Data\\2023-06-17-132550\\Setting\\AodBackup\\aod\\handpaint\\4\\finishBitmap.jpg\n",
      "C:\\\\Users\\\\Guddu_2\\\\Downloads\\Backup\\Data\\2023-06-17-132550\\Setting\\AodBackup\\aod\\handpaint\\4\\startBitmap.jpg\n",
      "C:\\\\Users\\\\Guddu_2\\\\Downloads\\Backup\\Data\\2023-06-17-132550\\Setting\\AodBackup\\aod\\handpaint\\4\\startBitmap.jpg\n",
      "C:\\\\Users\\\\Guddu_2\\\\Downloads\\Backup\\Data\\2023-06-17-132550\\Setting\\AodBackup\\aod\\handpaint\\5\\finishBitmap.jpg\n",
      "C:\\\\Users\\\\Guddu_2\\\\Downloads\\Backup\\Data\\2023-06-17-132550\\Setting\\AodBackup\\aod\\handpaint\\5\\finishBitmap.jpg\n",
      "C:\\\\Users\\\\Guddu_2\\\\Downloads\\Backup\\Data\\2023-06-17-132550\\Setting\\AodBackup\\aod\\handpaint\\5\\startBitmap.jpg\n",
      "C:\\\\Users\\\\Guddu_2\\\\Downloads\\Backup\\Data\\2023-06-17-132550\\Setting\\AodBackup\\aod\\handpaint\\5\\startBitmap.jpg\n",
      "C:\\\\Users\\\\Guddu_2\\\\Downloads\\Backup\\Data\\2023-06-17-132550\\Setting\\AodBackup\\aod\\handpaint\\6\\finishBitmap.jpg\n",
      "C:\\\\Users\\\\Guddu_2\\\\Downloads\\Backup\\Data\\2023-06-17-132550\\Setting\\AodBackup\\aod\\handpaint\\6\\finishBitmap.jpg\n",
      "C:\\\\Users\\\\Guddu_2\\\\Downloads\\Backup\\Data\\2023-06-17-132550\\Setting\\AodBackup\\aod\\handpaint\\6\\startBitmap.jpg\n",
      "C:\\\\Users\\\\Guddu_2\\\\Downloads\\Backup\\Data\\2023-06-17-132550\\Setting\\AodBackup\\aod\\handpaint\\6\\startBitmap.jpg\n",
      "C:\\\\Users\\\\Guddu_2\\\\Downloads\\Backup\\Data\\2023-06-17-132550\\Setting\\AodBackup\\aod\\handpaint\\7\\finishBitmap.jpg\n",
      "C:\\\\Users\\\\Guddu_2\\\\Downloads\\Backup\\Data\\2023-06-17-132550\\Setting\\AodBackup\\aod\\handpaint\\7\\finishBitmap.jpg\n",
      "C:\\\\Users\\\\Guddu_2\\\\Downloads\\Backup\\Data\\2023-06-17-132550\\Setting\\AodBackup\\aod\\handpaint\\7\\startBitmap.jpg\n",
      "C:\\\\Users\\\\Guddu_2\\\\Downloads\\Backup\\Data\\2023-06-17-132550\\Setting\\AodBackup\\aod\\handpaint\\7\\startBitmap.jpg\n",
      "C:\\\\Users\\\\Guddu_2\\\\Downloads\\Backup\\Data\\2023-06-17-132550\\Setting\\AodBackup\\aod\\handpaint\\8\\finishBitmap.jpg\n",
      "C:\\\\Users\\\\Guddu_2\\\\Downloads\\Backup\\Data\\2023-06-17-132550\\Setting\\AodBackup\\aod\\handpaint\\8\\finishBitmap.jpg\n",
      "C:\\\\Users\\\\Guddu_2\\\\Downloads\\Backup\\Data\\2023-06-17-132550\\Setting\\AodBackup\\aod\\handpaint\\8\\startBitmap.jpg\n",
      "C:\\\\Users\\\\Guddu_2\\\\Downloads\\Backup\\Data\\2023-06-17-132550\\Setting\\AodBackup\\aod\\handpaint\\8\\startBitmap.jpg\n",
      "C:\\\\Users\\\\Guddu_2\\\\Downloads\\Backup\\Data\\2023-06-17-132550\\Setting\\AodBackup\\aod\\handpaint\\9\\finishBitmap.jpg\n",
      "C:\\\\Users\\\\Guddu_2\\\\Downloads\\Backup\\Data\\2023-06-17-132550\\Setting\\AodBackup\\aod\\handpaint\\9\\finishBitmap.jpg\n",
      "C:\\\\Users\\\\Guddu_2\\\\Downloads\\Backup\\Data\\2023-06-17-132550\\Setting\\AodBackup\\aod\\handpaint\\9\\startBitmap.jpg\n",
      "C:\\\\Users\\\\Guddu_2\\\\Downloads\\Backup\\Data\\2023-06-17-132550\\Setting\\AodBackup\\aod\\handpaint\\9\\startBitmap.jpg\n",
      "C:\\\\Users\\\\Guddu_2\\\\Downloads\\code_v2022-12-16\\s3\\beach.jpg\n",
      "C:\\\\Users\\\\Guddu_2\\\\Downloads\\code_v2022-12-16\\s3\\beach.jpg\n",
      "C:\\\\Users\\\\Guddu_2\\\\Downloads\\code_v2022-12-16\\s3\\coffee.jpg\n",
      "C:\\\\Users\\\\Guddu_2\\\\Downloads\\code_v2022-12-16\\s3\\coffee.jpg\n",
      "C:\\\\Users\\\\Guddu_2\\\\Downloads\\Ineuron-FSDS-main\\Assignments\\Python\\Python Basics\\pic.jpg\n",
      "C:\\\\Users\\\\Guddu_2\\\\Downloads\\Ineuron-FSDS-main\\Assignments\\Python\\Python Basics\\pic.jpg\n",
      "C:\\\\Users\\\\Guddu_2\\\\Downloads\\Ineuron-FSDS-main\\Assignments\\Python\\Python Basics\\pic2.jpg\n",
      "C:\\\\Users\\\\Guddu_2\\\\Downloads\\Ineuron-FSDS-main\\Assignments\\Python\\Python Basics\\pic2.jpg\n",
      "C:\\\\Users\\\\Guddu_2\\\\Downloads\\JPG FILES\\2020-Porsche-Taycan-Turbo-006-2160.jpg\n",
      "C:\\\\Users\\\\Guddu_2\\\\Downloads\\JPG FILES\\2020-Porsche-Taycan-Turbo-006-2160.jpg\n"
     ]
    },
    {
     "ename": "SameFileError",
     "evalue": "'C:\\\\\\\\Users\\\\\\\\Guddu_2\\\\\\\\Downloads\\\\JPG FILES\\\\2020-Porsche-Taycan-Turbo-006-2160.jpg' and 'C:\\\\\\\\Users\\\\\\\\Guddu_2\\\\\\\\Downloads\\\\\\\\JPG FILES\\\\2020-Porsche-Taycan-Turbo-006-2160.jpg' are the same file",
     "output_type": "error",
     "traceback": [
      "\u001b[1;31m---------------------------------------------------------------------------\u001b[0m",
      "\u001b[1;31mSameFileError\u001b[0m                             Traceback (most recent call last)",
      "Cell \u001b[1;32mIn[10], line 13\u001b[0m\n\u001b[0;32m     11\u001b[0m     copySourcePath \u001b[38;5;241m=\u001b[39m os\u001b[38;5;241m.\u001b[39mpath\u001b[38;5;241m.\u001b[39mjoin(foldername, filename)\n\u001b[0;32m     12\u001b[0m     \u001b[38;5;28mprint\u001b[39m(copySourcePath)\n\u001b[1;32m---> 13\u001b[0m     \u001b[43mshutil\u001b[49m\u001b[38;5;241;43m.\u001b[39;49m\u001b[43mcopy\u001b[49m\u001b[43m(\u001b[49m\u001b[43mcopySourcePath\u001b[49m\u001b[43m,\u001b[49m\u001b[43m \u001b[49m\u001b[43mdestPath\u001b[49m\u001b[43m)\u001b[49m\n\u001b[0;32m     14\u001b[0m \u001b[38;5;28;01melse\u001b[39;00m:\n\u001b[0;32m     15\u001b[0m     \u001b[38;5;28;01mcontinue\u001b[39;00m\n",
      "File \u001b[1;32m~\\AppData\\Local\\Programs\\Python\\Python311\\Lib\\shutil.py:419\u001b[0m, in \u001b[0;36mcopy\u001b[1;34m(src, dst, follow_symlinks)\u001b[0m\n\u001b[0;32m    417\u001b[0m \u001b[38;5;28;01mif\u001b[39;00m os\u001b[38;5;241m.\u001b[39mpath\u001b[38;5;241m.\u001b[39misdir(dst):\n\u001b[0;32m    418\u001b[0m     dst \u001b[38;5;241m=\u001b[39m os\u001b[38;5;241m.\u001b[39mpath\u001b[38;5;241m.\u001b[39mjoin(dst, os\u001b[38;5;241m.\u001b[39mpath\u001b[38;5;241m.\u001b[39mbasename(src))\n\u001b[1;32m--> 419\u001b[0m \u001b[43mcopyfile\u001b[49m\u001b[43m(\u001b[49m\u001b[43msrc\u001b[49m\u001b[43m,\u001b[49m\u001b[43m \u001b[49m\u001b[43mdst\u001b[49m\u001b[43m,\u001b[49m\u001b[43m \u001b[49m\u001b[43mfollow_symlinks\u001b[49m\u001b[38;5;241;43m=\u001b[39;49m\u001b[43mfollow_symlinks\u001b[49m\u001b[43m)\u001b[49m\n\u001b[0;32m    420\u001b[0m copymode(src, dst, follow_symlinks\u001b[38;5;241m=\u001b[39mfollow_symlinks)\n\u001b[0;32m    421\u001b[0m \u001b[38;5;28;01mreturn\u001b[39;00m dst\n",
      "File \u001b[1;32m~\\AppData\\Local\\Programs\\Python\\Python311\\Lib\\shutil.py:236\u001b[0m, in \u001b[0;36mcopyfile\u001b[1;34m(src, dst, follow_symlinks)\u001b[0m\n\u001b[0;32m    233\u001b[0m sys\u001b[38;5;241m.\u001b[39maudit(\u001b[38;5;124m\"\u001b[39m\u001b[38;5;124mshutil.copyfile\u001b[39m\u001b[38;5;124m\"\u001b[39m, src, dst)\n\u001b[0;32m    235\u001b[0m \u001b[38;5;28;01mif\u001b[39;00m _samefile(src, dst):\n\u001b[1;32m--> 236\u001b[0m     \u001b[38;5;28;01mraise\u001b[39;00m SameFileError(\u001b[38;5;124m\"\u001b[39m\u001b[38;5;132;01m{!r}\u001b[39;00m\u001b[38;5;124m and \u001b[39m\u001b[38;5;132;01m{!r}\u001b[39;00m\u001b[38;5;124m are the same file\u001b[39m\u001b[38;5;124m\"\u001b[39m\u001b[38;5;241m.\u001b[39mformat(src, dst))\n\u001b[0;32m    238\u001b[0m file_size \u001b[38;5;241m=\u001b[39m \u001b[38;5;241m0\u001b[39m\n\u001b[0;32m    239\u001b[0m \u001b[38;5;28;01mfor\u001b[39;00m i, fn \u001b[38;5;129;01min\u001b[39;00m \u001b[38;5;28menumerate\u001b[39m([src, dst]):\n",
      "\u001b[1;31mSameFileError\u001b[0m: 'C:\\\\\\\\Users\\\\\\\\Guddu_2\\\\\\\\Downloads\\\\JPG FILES\\\\2020-Porsche-Taycan-Turbo-006-2160.jpg' and 'C:\\\\\\\\Users\\\\\\\\Guddu_2\\\\\\\\Downloads\\\\\\\\JPG FILES\\\\2020-Porsche-Taycan-Turbo-006-2160.jpg' are the same file"
     ]
    }
   ],
   "source": [
    "import os, shutil\n",
    "\n",
    "sourcePath = input('Enter the absolute path of the source folder: ')\n",
    "fileExtType = input('Enter the type of file to copy (such as .pdf or .jpg): ').lower()\n",
    "destPath = input('Enter the absolute path of the destination folder: ')\n",
    "\n",
    "for foldername, subfolders, filenames in os.walk(sourcePath):\n",
    "    for filename in filenames:\n",
    "        if filename.lower().endswith(fileExtType):\n",
    "            print(foldername + '\\\\' + filename)\n",
    "            copySourcePath = os.path.join(foldername, filename)\n",
    "            print(copySourcePath)\n",
    "            shutil.copy(copySourcePath, destPath)\n",
    "        else:\n",
    "            continue"
   ]
  }
 ],
 "metadata": {
  "kernelspec": {
   "display_name": "Python 3 (ipykernel)",
   "language": "python",
   "name": "python3"
  },
  "language_info": {
   "codemirror_mode": {
    "name": "ipython",
    "version": 3
   },
   "file_extension": ".py",
   "mimetype": "text/x-python",
   "name": "python",
   "nbconvert_exporter": "python",
   "pygments_lexer": "ipython3",
   "version": "3.11.0"
  }
 },
 "nbformat": 4,
 "nbformat_minor": 5
}
