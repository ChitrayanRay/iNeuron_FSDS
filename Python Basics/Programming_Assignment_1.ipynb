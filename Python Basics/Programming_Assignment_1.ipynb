{
 "cells": [
  {
   "cell_type": "markdown",
   "id": "7d3aa18d",
   "metadata": {},
   "source": [
    "## 1. Write a Python program to print &quot;Hello Python&quot;?"
   ]
  },
  {
   "cell_type": "code",
   "execution_count": 1,
   "id": "2d15453f",
   "metadata": {},
   "outputs": [
    {
     "name": "stdout",
     "output_type": "stream",
     "text": [
      "Hello Python\n"
     ]
    }
   ],
   "source": [
    "print(\"Hello Python\")"
   ]
  },
  {
   "cell_type": "markdown",
   "id": "0dd6b10e",
   "metadata": {},
   "source": [
    "## 2. Write a Python program to do arithmetical operations addition and division.?"
   ]
  },
  {
   "cell_type": "code",
   "execution_count": 2,
   "id": "e671a742",
   "metadata": {},
   "outputs": [
    {
     "name": "stdout",
     "output_type": "stream",
     "text": [
      "Enter a number: 14\n",
      "Enter b number: 7\n",
      "The addition of a and b is 21\n",
      "The division of a and b is 2.0\n"
     ]
    }
   ],
   "source": [
    "num1 = int(input(\"Enter a number: \"))\n",
    "num2 = int(input(\"Enter b number: \"))\n",
    "\n",
    "add = num1+num2\n",
    "div = num1/num2\n",
    "\n",
    "print(\"The addition of a and b is {}\".format(add))\n",
    "print(\"The division of a and b is {}\".format(div))"
   ]
  },
  {
   "cell_type": "markdown",
   "id": "fe23a5ff",
   "metadata": {},
   "source": [
    "## 3. Write a Python program to find the area of a triangle?"
   ]
  },
  {
   "cell_type": "code",
   "execution_count": 3,
   "id": "14a2d26f",
   "metadata": {},
   "outputs": [
    {
     "name": "stdout",
     "output_type": "stream",
     "text": [
      "Enter the height of the triangle in cm: 20\n",
      "Enter the base of the triangle in cm: 6\n",
      "The area of the triangle is 60.0\n"
     ]
    }
   ],
   "source": [
    "h = int(input(\"Enter the height of the triangle in cm: \"))\n",
    "b = int(input(\"Enter the base of the triangle in cm: \"))\n",
    "\n",
    "area = .5*h*b\n",
    "\n",
    "print(\"The area of the triangle is {}\".format(area))"
   ]
  },
  {
   "cell_type": "markdown",
   "id": "fce5d908",
   "metadata": {},
   "source": [
    "## 4. Write a Python program to swap two variables?"
   ]
  },
  {
   "cell_type": "code",
   "execution_count": 4,
   "id": "caa1a4a6",
   "metadata": {},
   "outputs": [
    {
     "name": "stdout",
     "output_type": "stream",
     "text": [
      "Enter a number: 34\n",
      "Enter b number: 56\n",
      "The value of a is 34\n",
      "The value of b is 56\n",
      "The value of a after swapping is 56\n",
      "The value of b after swapping is 34\n"
     ]
    }
   ],
   "source": [
    "num1 = int(input(\"Enter a number: \"))\n",
    "num2 = int(input(\"Enter b number: \"))\n",
    "print(\"The value of a is {}\".format(num1))\n",
    "print(\"The value of b is {}\".format(num2))\n",
    "\n",
    "# Swapping the values of two variables\n",
    "tempNum = 0\n",
    "tempNum = num1\n",
    "num1 = num2\n",
    "num2 = tempNum\n",
    "\n",
    "print(\"The value of a after swapping is {}\".format(num1))\n",
    "print(\"The value of b after swapping is {}\".format(num2))"
   ]
  },
  {
   "cell_type": "markdown",
   "id": "3efbcca3",
   "metadata": {},
   "source": [
    "## 5. Write a Python program to generate a random number?\n",
    "\n",
    "* Signature: random.randint(a, b)\n",
    "* Docstring: Returns random integer in range [a, b], including both end points.\n",
    "* Type:      method"
   ]
  },
  {
   "cell_type": "code",
   "execution_count": 5,
   "id": "d142a973",
   "metadata": {},
   "outputs": [
    {
     "name": "stdout",
     "output_type": "stream",
     "text": [
      "3\n"
     ]
    }
   ],
   "source": [
    "# Importing the random module\n",
    "import random\n",
    "\n",
    "print(random.randint(1,10))     "
   ]
  }
 ],
 "metadata": {
  "kernelspec": {
   "display_name": "Python 3 (ipykernel)",
   "language": "python",
   "name": "python3"
  },
  "language_info": {
   "codemirror_mode": {
    "name": "ipython",
    "version": 3
   },
   "file_extension": ".py",
   "mimetype": "text/x-python",
   "name": "python",
   "nbconvert_exporter": "python",
   "pygments_lexer": "ipython3",
   "version": "3.11.0"
  }
 },
 "nbformat": 4,
 "nbformat_minor": 5
}
