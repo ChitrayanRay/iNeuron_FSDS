{
 "cells": [
  {
   "cell_type": "markdown",
   "id": "ac7899e5",
   "metadata": {},
   "source": [
    "## 1. What is the relationship between def statements and lambda expressions ?"
   ]
  },
  {
   "cell_type": "markdown",
   "id": "1937a9a5",
   "metadata": {},
   "source": [
    "**def** statement is used to create a normal function whereas lambda expressions are used to create Anonymous functions which can be assigned to a variable and can be called using the variable later in function.\n",
    "\n",
    "**Lambda** is a single expression and not a block of statements like def statement. The lambda expression's body is similar to what we put in a def body's return statement. We simply type the result as an expression instead of explicitly returning  it. Because it is limited to an expression, a lambda is less general than a def statement."
   ]
  },
  {
   "cell_type": "markdown",
   "id": "40a2e248",
   "metadata": {},
   "source": [
    "## 2. What is the benefit of lambda?"
   ]
  },
  {
   "cell_type": "markdown",
   "id": "26b66982",
   "metadata": {},
   "source": [
    "The following are some of the benefits of lambda expressions:\n",
    "\n",
    "- Can be used to create Nameless/Anonymous functions inside some complex functions if we are planning to use it only once.\n",
    "- Moderate to small functions can be created in a single line.\n",
    "- Fuctions created using lambda expressions can be assigned to a variable and can be used by simply calling the variable."
   ]
  },
  {
   "cell_type": "markdown",
   "id": "1889bf5d",
   "metadata": {},
   "source": [
    "## 3. Compare and contrast map, filter, and reduce."
   ]
  },
  {
   "cell_type": "markdown",
   "id": "2ca1a030",
   "metadata": {},
   "source": [
    "The differences between map, filter and reduce are:\n",
    "\n",
    "- **map():** The map() function is a type of a higher-order function. This function takes another function as a parameter along with a sequence of iterables and returns an output after applying the function to each iterable present in the sequence. \n",
    "- **filter():** The filter() function is used to create an output list consisting of values for which the function returns true.\n",
    "- **reduce():** The reduce() function, as the name describes, applies a given function to the iterables and returns a single value."
   ]
  },
  {
   "cell_type": "code",
   "execution_count": 1,
   "id": "fb62e68a",
   "metadata": {},
   "outputs": [
    {
     "name": "stdout",
     "output_type": "stream",
     "text": [
      "[1, 2, 3, 4, 5, 6, 7, 8, 9]\n",
      "Square of the elements - Map ==> [1, 4, 9, 16, 25, 36, 49, 64, 81]\n",
      "Filtering the even elements - Filter ==> [2, 4, 6, 8]\n",
      "Sum of all the elements - Reduce ==> 45\n"
     ]
    }
   ],
   "source": [
    "from functools import reduce\n",
    "\n",
    "lst = [1, 2, 3, 4, 5, 6, 7, 8, 9]\n",
    "print(lst)\n",
    "\n",
    "# Map function\n",
    "print('Square of the elements - Map ==>', list(map(lambda x: x ** 2, [1, 2, 3, 4, 5, 6, 7, 8, 9])))\n",
    "\n",
    "# Filter function\n",
    "print('Filtering the even elements - Filter ==>', list(filter(lambda x: x % 2 == 0, [1, 2, 3, 4, 5, 6, 7, 8, 9])))\n",
    "\n",
    "# Reduce function\n",
    "print('Sum of all the elements - Reduce ==>', reduce(lambda x, y: x + y, [1, 2, 3, 4, 5, 6, 7, 8, 9]))"
   ]
  },
  {
   "cell_type": "markdown",
   "id": "5bdd513c",
   "metadata": {},
   "source": [
    "## 4. What are function annotations, and how are they used?"
   ]
  },
  {
   "cell_type": "markdown",
   "id": "908454fb",
   "metadata": {},
   "source": [
    "Function annotations provide a way of associating various parts of a function with arbitrary python expressions at compile time.\n",
    "\n",
    "Annotations of simple parameters def func(x: expression, y: expression = 20):\n",
    "Whereas the annotations for excess parameters are as − def func (**args: expression, **kwargs: expression):"
   ]
  },
  {
   "cell_type": "markdown",
   "id": "1d59331d",
   "metadata": {},
   "source": [
    "## 5. What are recursive functions, and how are they used?"
   ]
  },
  {
   "cell_type": "markdown",
   "id": "0db17881",
   "metadata": {},
   "source": [
    "A recursive function is a function that calls itself during it's execution. The process may repeat several times, displaying the result at the end of each iteration."
   ]
  },
  {
   "cell_type": "markdown",
   "id": "ff70c52e",
   "metadata": {},
   "source": [
    "## 6. What are some general design guidelines for coding functions?"
   ]
  },
  {
   "cell_type": "markdown",
   "id": "4e35f9ed",
   "metadata": {},
   "source": [
    "Some of the general design guidelines for coding functions are:\n",
    "\n",
    "- Always use a docstring to explain the functionality of the function\n",
    "- Avoid using or limited use of global variables\n",
    "- Proper Identation to increase the code readability\n",
    "- Try to follow a naming convention for function names (pascalCase or camelCase) and stick with the same convention throughout the application.\n",
    "- Avoid using digits while choosing a variable name\n",
    "- Try to use a name for the function which conveys the purpose of the function\n",
    "- Local variables should be named using camelCase format (ex: localVariable) whereas Global variables names should be using PascalCase (ex: GlobalVariable).\n",
    "- Constants should be represented in allcaps (ex:CONSTANT)."
   ]
  },
  {
   "cell_type": "markdown",
   "id": "16481659",
   "metadata": {},
   "source": [
    "## 7. Name three or more ways that functions can communicate results to a caller."
   ]
  },
  {
   "cell_type": "markdown",
   "id": "4ac35d65",
   "metadata": {},
   "source": [
    "Some of the ways in which a function can communicate with the calling function is:\n",
    "\n",
    "- print\n",
    "- return\n",
    "- yield"
   ]
  }
 ],
 "metadata": {
  "kernelspec": {
   "display_name": "Python 3 (ipykernel)",
   "language": "python",
   "name": "python3"
  },
  "language_info": {
   "codemirror_mode": {
    "name": "ipython",
    "version": 3
   },
   "file_extension": ".py",
   "mimetype": "text/x-python",
   "name": "python",
   "nbconvert_exporter": "python",
   "pygments_lexer": "ipython3",
   "version": "3.11.0"
  }
 },
 "nbformat": 4,
 "nbformat_minor": 5
}
