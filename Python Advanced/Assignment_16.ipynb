{
 "cells": [
  {
   "cell_type": "markdown",
   "id": "dbef4ab0",
   "metadata": {},
   "source": [
    "## Q1. What is the benefit of regular expressions?"
   ]
  },
  {
   "cell_type": "markdown",
   "id": "165d94bf",
   "metadata": {},
   "source": [
    "Regular Expressions, also known as regex or regexp, are used to match strings of text such as particular characters, words, or patterns of characters. It means that we can match and extract any string pattern from the text with the help of regular expressions. It helps the programmers to write less and cleaner code. It also avoids multiple use of if / else statements."
   ]
  },
  {
   "cell_type": "markdown",
   "id": "a2c9cff2",
   "metadata": {},
   "source": [
    "## Q2. Describe the difference between the effects of &quot;(ab)c+&quot; and &quot;a(bc)+.&quot; Which of these, if any, is the unqualified pattern &quot;abc+&quot;?"
   ]
  },
  {
   "cell_type": "markdown",
   "id": "345d2cc1",
   "metadata": {},
   "source": [
    "Both (ab)c+ and a(bc)+ are valid patterns. The difference between both these patterns is in **(ab)c+**, **ab is group** whereas in **a(bc)+**, **bc is a group**."
   ]
  },
  {
   "cell_type": "markdown",
   "id": "7d3e096e",
   "metadata": {},
   "source": [
    "## Q3. How much do you need to use the following sentence while using regular expressions?\n",
    "\n",
    "### import re"
   ]
  },
  {
   "cell_type": "markdown",
   "id": "8dd49b85",
   "metadata": {},
   "source": [
    "import re statement always has to be imported once before using regular expressions."
   ]
  },
  {
   "cell_type": "markdown",
   "id": "52322166",
   "metadata": {},
   "source": [
    "## Q4. Which characters have special significance in square brackets when expressing a range, and under what circumstances?"
   ]
  },
  {
   "cell_type": "markdown",
   "id": "1d527bfa",
   "metadata": {},
   "source": [
    "The Characters ., *, ?, ^, or, () have a special signiface when used with square brackets. They need not be explicitly escaped by \\ as in case of pattern texts in a raw string."
   ]
  },
  {
   "cell_type": "markdown",
   "id": "d62e2e4b",
   "metadata": {},
   "source": [
    "## Q5. How does compiling a regular-expression object benefit you?"
   ]
  },
  {
   "cell_type": "markdown",
   "id": "173a416b",
   "metadata": {},
   "source": [
    "We can combine a regular expression pattern into pattern objects which can be used for pattern matching. It also helps to search a pattern again without rewriting it."
   ]
  },
  {
   "cell_type": "markdown",
   "id": "8111b2cb",
   "metadata": {},
   "source": [
    "## Q6. What are some examples of how to use the match object returned by re.match and re.search?"
   ]
  },
  {
   "cell_type": "markdown",
   "id": "2ca5172b",
   "metadata": {},
   "source": [
    "The re.search() and re.match() both are functions of re module in python. These functions are very efficient and fast for searching in strings. The function searches for some substring in a string and returns a match object if found, else it returns none.\n",
    "\n",
    "There is a difference between the use of both functions. Both return the first match of a substring found in the string, but re.match() searches only from the beginning of the string and return match object if found. But if a match of substring is found somewhere in the middle of the string, it returns none.\n",
    "\n",
    "While re.search() searches for the whole string even if the string contains multi-lines and tries to find a match of the substring in all the lines of string."
   ]
  },
  {
   "cell_type": "code",
   "execution_count": 1,
   "id": "6e404a69",
   "metadata": {},
   "outputs": [
    {
     "name": "stdout",
     "output_type": "stream",
     "text": [
      "<re.Match object; span=(19, 22), match='how'>\n",
      "None\n",
      "<re.Match object; span=(0, 3), match='how'>\n",
      "<re.Match object; span=(0, 3), match='how'>\n"
     ]
    }
   ],
   "source": [
    "import re\n",
    "\n",
    "String ='how' \n",
    "String_1 ='good morning Alex, how are you ?' \n",
    "String_2='how are you all ,hello everyone'\n",
    "\n",
    "print(re.search(String, String_1, re.IGNORECASE))\n",
    "print(re.match(String, String_1, re.IGNORECASE))\n",
    "print(re.search(String, String_2, re.IGNORECASE))\n",
    "print(re.match(String, String_2, re.IGNORECASE))"
   ]
  },
  {
   "cell_type": "markdown",
   "id": "dd6ee790",
   "metadata": {},
   "source": [
    "## Q7. What is the difference between using a vertical bar (|) as an alteration and using square brackets as a character set?"
   ]
  },
  {
   "cell_type": "markdown",
   "id": "eb85f03a",
   "metadata": {},
   "source": [
    "When | is used then patterns searches for the option i.e. <pattern_1>|<pattern_2> means it searches as <pattern_1>or<<pattern_2> in the searched string. The first occurence of the matched string will be returned as the Match Object. Using Character set in square Brackets searches for all the character set in the square bracket and if match is found, it returns it."
   ]
  },
  {
   "cell_type": "markdown",
   "id": "b26f236c",
   "metadata": {},
   "source": [
    "## Q8. In regular-expression search patterns, why is it necessary to use the raw-string indicator (r)? In   replacement strings?"
   ]
  },
  {
   "cell_type": "markdown",
   "id": "4e5183df",
   "metadata": {},
   "source": [
    "Raw Strings are used in the regular-expression search patterns, so that blackslashes do not have to be escaped."
   ]
  }
 ],
 "metadata": {
  "kernelspec": {
   "display_name": "Python 3 (ipykernel)",
   "language": "python",
   "name": "python3"
  },
  "language_info": {
   "codemirror_mode": {
    "name": "ipython",
    "version": 3
   },
   "file_extension": ".py",
   "mimetype": "text/x-python",
   "name": "python",
   "nbconvert_exporter": "python",
   "pygments_lexer": "ipython3",
   "version": "3.11.0"
  }
 },
 "nbformat": 4,
 "nbformat_minor": 5
}
