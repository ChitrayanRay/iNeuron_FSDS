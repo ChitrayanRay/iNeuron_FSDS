{
 "cells": [
  {
   "cell_type": "markdown",
   "id": "bd2b816d",
   "metadata": {},
   "source": [
    "**Q-12.** A pharmaceutical company develops a new drug and wants to compare its\n",
    "effectiveness against a standard drug for treating a particular condition. They conduct a\n",
    "study with two groups: Group A receives the new drug, and Group B receives the standard\n",
    "drug. The company measures the improvement in a specific symptom for both groups after\n",
    "a 4-week treatment period.\n",
    "\n",
    "**a.** The company collects data from 30 patients in each group and calculates the\n",
    "mean improvement score and the standard deviation of improvement for each\n",
    "group. The mean improvement score for Group A is 2.5 with a standard\n",
    "deviation of 0.8, while the mean improvement score for Group B is 2.2 with a\n",
    "standard deviation of 0.6. Conduct a t-test to determine if there is a significant\n",
    "difference in the mean improvement scores between the two groups. Use a\n",
    "significance level of 0.05.\n",
    "\n",
    "**b.** Based on the t-test results, state whether the null hypothesis should be\n",
    "rejected or not. Provide a conclusion in the context of the study."
   ]
  },
  {
   "cell_type": "code",
   "execution_count": 1,
   "id": "e36278ad",
   "metadata": {},
   "outputs": [
    {
     "name": "stdout",
     "output_type": "stream",
     "text": [
      "t-statistic: 2.323790007724449\n",
      "p-value: 0.023662215835435905\n",
      "Reject the null hypothesis.\n",
      "There is a significant difference in the mean improvement scores between Group A and Group B.\n"
     ]
    }
   ],
   "source": [
    "import scipy.stats as stats\n",
    "\n",
    "mean_A = 2.5\n",
    "std_A = 0.8\n",
    "n_A = 30\n",
    "\n",
    "mean_B = 2.2\n",
    "std_B = 0.6\n",
    "n_B = 30\n",
    "\n",
    "# Calculate the pooled standard deviation\n",
    "\n",
    "pooled_std = ((n_A - 1) * std_A ** 2 + (n_B - 1) * std_B ** 2) / (n_A + n_B - 2)\n",
    "\n",
    "# Calculate the t-statistic\n",
    "\n",
    "t_stat = (mean_A - mean_B) / (pooled_std * ((1 / n_A) + (1 / n_B)) ** 0.5)\n",
    "\n",
    "# Calculate the degrees of freedom\n",
    "\n",
    "df = n_A + n_B - 2\n",
    "\n",
    "# Calculate the p-value\n",
    "\n",
    "p_value = stats.t.sf(abs(t_stat), df) * 2\n",
    "\n",
    "print(\"t-statistic:\", t_stat)\n",
    "\n",
    "print(\"p-value:\", p_value)\n",
    "\n",
    "significance_level = 0.05\n",
    "\n",
    "if p_value < significance_level:\n",
    "    \n",
    "    print(\"Reject the null hypothesis.\")\n",
    "    \n",
    "    print(\"There is a significant difference in the mean improvement scores between Group A and Group B.\")\n",
    "\n",
    "else:\n",
    "    \n",
    "    print(\"Fail to reject the null hypothesis.\")\n",
    "    \n",
    "    print(\"There is no significant difference in the mean improvement scores between Group A and Group B.\")"
   ]
  }
 ],
 "metadata": {
  "kernelspec": {
   "display_name": "Python 3 (ipykernel)",
   "language": "python",
   "name": "python3"
  },
  "language_info": {
   "codemirror_mode": {
    "name": "ipython",
    "version": 3
   },
   "file_extension": ".py",
   "mimetype": "text/x-python",
   "name": "python",
   "nbconvert_exporter": "python",
   "pygments_lexer": "ipython3",
   "version": "3.10.7"
  }
 },
 "nbformat": 4,
 "nbformat_minor": 5
}
