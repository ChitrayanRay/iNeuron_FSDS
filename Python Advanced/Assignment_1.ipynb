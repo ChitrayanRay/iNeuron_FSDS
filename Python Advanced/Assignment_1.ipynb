{
 "cells": [
  {
   "cell_type": "markdown",
   "id": "079f07d7",
   "metadata": {},
   "source": [
    "## Q1. What is the purpose of Python&#39;s OOP?"
   ]
  },
  {
   "cell_type": "markdown",
   "id": "eda3cc2f",
   "metadata": {},
   "source": [
    "The main concept of OOPs is to bind the data and the functions that work on that together as a single unit so that no other part of the code can access this data.\n",
    "\n",
    "It comes up with the following advantages:\n",
    "\n",
    "**1.** Objects allows us to store Large Volume of Data (Platform Independent)\n",
    "\n",
    "**2.** The Data is visiting between two machines in the form of Cipher Text (encrypted Format). So that we can achieve the Security \n",
    "\n",
    "**3.** The Large Volume of Data can be transferred between multiple machines all at once in the form of objects and obtains effective communication.\n",
    "\n",
    "**4.** With Objects we can build high effective Re-Usable Applications.\n",
    "\n",
    "**5.** The Data is always available around Objects (Effective Memory Usage) and functions can operate on the objects."
   ]
  },
  {
   "cell_type": "markdown",
   "id": "6ec3192a",
   "metadata": {},
   "source": [
    "## Q2. Where does an inheritance search look for an attribute?"
   ]
  },
  {
   "cell_type": "markdown",
   "id": "50a660bc",
   "metadata": {},
   "source": [
    "Python searches for an attribute in an upward tree of attributes. it first searches for the attribute in its instance and then looks in the class it is generated from, to all super classes listed in its class header."
   ]
  },
  {
   "cell_type": "markdown",
   "id": "5bb92c33",
   "metadata": {},
   "source": [
    "## Q3. How do you distinguish between a class object and an instance object?"
   ]
  },
  {
   "cell_type": "markdown",
   "id": "699d9322",
   "metadata": {},
   "source": [
    "The differences between a class object and an instance object are:\n",
    "\n",
    "**1.** Class is a template for creating objects whereas object is an instance of class.\n",
    "\n",
    "**2.** Seperate memory is allocated for each object whenever an object is created but for a class this does not happen.\n",
    "\n",
    "**3.** A Class is created once. Many objects are created using a class.\n",
    "\n",
    "**4.** As Classes have no allocated memory, they can't be manipulated but objects can be manipulated."
   ]
  },
  {
   "cell_type": "markdown",
   "id": "39d7f368",
   "metadata": {},
   "source": [
    "## Q4. What makes the first argument in a class’s method function special?"
   ]
  },
  {
   "cell_type": "markdown",
   "id": "177ed13b",
   "metadata": {},
   "source": [
    "Python Classes usually have three types of methods which are:\n",
    "\n",
    "**1.** Instance Methods (object level methods)\n",
    "\n",
    "**2.** Class Methods (class level methods)\n",
    "\n",
    "**3.** Static Methods (general utility methods)\n",
    " \n",
    "**self** is the first argument for instance methods which refers to the object itself.\n",
    " \n",
    "**cls** is the first argument for class methods which refers to the class itself."
   ]
  },
  {
   "cell_type": "markdown",
   "id": "ca7199a9",
   "metadata": {},
   "source": [
    "## Q5. What is the purpose of the __init__ method?"
   ]
  },
  {
   "cell_type": "markdown",
   "id": "7754ed67",
   "metadata": {},
   "source": [
    "The purpose of Constructors(__init__ method) is to Initialize the object. A Constructor is one of the Special Method which is automatically or implicitly called by PVM during object creation and whose role is to initialize the object without leaving object empty.This method is called when an object is created from a class and it allows the class to initialize the attributes of the class."
   ]
  },
  {
   "cell_type": "markdown",
   "id": "97f811cb",
   "metadata": {},
   "source": [
    "## Q6. What is the process for creating a class instance?"
   ]
  },
  {
   "cell_type": "markdown",
   "id": "3629ab9c",
   "metadata": {},
   "source": [
    "To create a class instance, we need to call the class by its name and pass the arguments to the class, which its init method accepts.\n",
    "\n",
    "**Example:** my_variable = my_course(\"bkp\", \"xyz\")\n",
    "\n",
    "Here my_variable is an instance of class my_course with attributes \"bkp\" and \"xyz\"."
   ]
  },
  {
   "cell_type": "markdown",
   "id": "5f558992",
   "metadata": {},
   "source": [
    "## Q7. What is the process for creating a class?"
   ]
  },
  {
   "cell_type": "markdown",
   "id": "40a1fd3e",
   "metadata": {},
   "source": [
    "class in python can be created by using keyword \"class\". The syntax to create a class in python is class <classname>:\n",
    "\n",
    "**Example:** class Vehicle: ➞ this creates a class called Vehicle"
   ]
  },
  {
   "cell_type": "markdown",
   "id": "5998bec2",
   "metadata": {},
   "source": [
    "## Q8. How would you define the superclasses of a class?"
   ]
  },
  {
   "cell_type": "markdown",
   "id": "af8725a1",
   "metadata": {},
   "source": [
    "Super class / Parent class is given as an arugment to the child class.\n",
    "\n",
    "**Example:** class Employee(Person): Here child class Employee inherits the attributes and methofs from Super class / Parent Person."
   ]
  }
 ],
 "metadata": {
  "kernelspec": {
   "display_name": "Python 3 (ipykernel)",
   "language": "python",
   "name": "python3"
  },
  "language_info": {
   "codemirror_mode": {
    "name": "ipython",
    "version": 3
   },
   "file_extension": ".py",
   "mimetype": "text/x-python",
   "name": "python",
   "nbconvert_exporter": "python",
   "pygments_lexer": "ipython3",
   "version": "3.11.0"
  }
 },
 "nbformat": 4,
 "nbformat_minor": 5
}
