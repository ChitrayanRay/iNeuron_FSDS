{
 "cells": [
  {
   "cell_type": "markdown",
   "id": "350feac3",
   "metadata": {},
   "source": [
    "## Question 1:\n",
    "\n",
    "### Define a class with a generator which can iterate the numbers, which are divisible by 7, between a given range 0 and n."
   ]
  },
  {
   "cell_type": "code",
   "execution_count": 1,
   "id": "e10a24d1",
   "metadata": {},
   "outputs": [
    {
     "name": "stdout",
     "output_type": "stream",
     "text": [
      "0\n",
      "7\n",
      "14\n",
      "21\n",
      "28\n",
      "35\n",
      "42\n",
      "49\n",
      "56\n",
      "63\n",
      "70\n",
      "77\n",
      "84\n",
      "91\n",
      "98\n"
     ]
    }
   ],
   "source": [
    "class divisibleBySeven:\n",
    "    def __init__(self, n):\n",
    "        self.n = n\n",
    "\n",
    "    def numbers(self):\n",
    "        for i in range(self.n + 1):\n",
    "            if i % 7 == 0:\n",
    "                yield i\n",
    "                \n",
    "                \n",
    "divisBySeven = divisibleBySeven(100)\n",
    "\n",
    "for number in divisBySeven.numbers():\n",
    "    print(number)"
   ]
  },
  {
   "cell_type": "markdown",
   "id": "afd8ea8f",
   "metadata": {},
   "source": [
    "## Question 2:\n",
    "\n",
    "### Write a program to compute the frequency of the words from the input. The output should output after sorting the key alphanumerically.\n",
    "\n",
    "### Suppose the following input is supplied to the program:\n",
    "\n",
    "### New to Python or choosing between Python 2 and Python 3? Read Python 2 or Python 3.\n",
    "\n",
    "### Then, the output should be:\n",
    "\n",
    "#### 2:2\n",
    "\n",
    "#### 3.:1\n",
    "\n",
    "#### 3?:1\n",
    "\n",
    "#### New:1\n",
    "\n",
    "#### Python:5\n",
    "\n",
    "#### Read:1\n",
    "\n",
    "#### and:1\n",
    "\n",
    "#### between:1\n",
    "\n",
    "#### choosing:1\n",
    "\n",
    "#### or:2\n",
    "\n",
    "#### to:1"
   ]
  },
  {
   "cell_type": "code",
   "execution_count": 2,
   "id": "9ef33fa4",
   "metadata": {},
   "outputs": [
    {
     "name": "stdout",
     "output_type": "stream",
     "text": [
      "Enter text:New to Python or choosing between Python 2 and Python 3? Read Python 2 or Python 3.\n",
      "Output:\n",
      "2:2\n",
      "3.:1\n",
      "3?:1\n",
      "New:1\n",
      "Python:5\n",
      "Read:1\n",
      "and:1\n",
      "between:1\n",
      "choosing:1\n",
      "or:2\n",
      "to:1\n"
     ]
    }
   ],
   "source": [
    "text = input(\"Enter text:\")\n",
    "words = text.split()\n",
    "wordFreq = {}\n",
    "\n",
    "for word in words:\n",
    "    if word not in wordFreq:\n",
    "        wordFreq[word] = 1\n",
    "    else:\n",
    "        wordFreq[word] += 1\n",
    "\n",
    "sortedWords = sorted(wordFreq.keys())\n",
    "\n",
    "print(\"Output:\")\n",
    "\n",
    "for word in sortedWords:\n",
    "    \n",
    "    print(f\"{word}:{wordFreq[word]}\")"
   ]
  },
  {
   "cell_type": "markdown",
   "id": "b1b38ed0",
   "metadata": {},
   "source": [
    "## Question 3:\n",
    "\n",
    "### Define a class Person and its two child classes: Male and Female. All classes have a method &quot;getGender&quot; which can print &quot;Male&quot; for Male class and &quot;Female&quot; for Female class."
   ]
  },
  {
   "cell_type": "code",
   "execution_count": 3,
   "id": "9ab0b742",
   "metadata": {},
   "outputs": [
    {
     "name": "stdout",
     "output_type": "stream",
     "text": [
      "Male\n",
      "Female\n"
     ]
    }
   ],
   "source": [
    "class Person:\n",
    "    def getGender(self):\n",
    "        pass\n",
    "\n",
    "class Male(Person):\n",
    "    def getGender(self):\n",
    "        print(\"Male\")\n",
    "\n",
    "class Female(Person):\n",
    "    def getGender(self):\n",
    "        print(\"Female\")\n",
    "\n",
    "male = Male()\n",
    "female = Female()\n",
    "\n",
    "male.getGender()  \n",
    "female.getGender() "
   ]
  },
  {
   "cell_type": "markdown",
   "id": "84bea268",
   "metadata": {},
   "source": [
    "## Question 4:\n",
    "\n",
    "### Please write a program to generate all sentences where subject is in [&quot;I&quot;, &quot;You&quot;] and verb is in [&quot;Play&quot;, &quot;Love&quot;] and the object is in [&quot;Hockey&quot;,&quot;Football&quot;]."
   ]
  },
  {
   "cell_type": "code",
   "execution_count": 4,
   "id": "2646d95f",
   "metadata": {},
   "outputs": [
    {
     "name": "stdout",
     "output_type": "stream",
     "text": [
      "I Play Hockey.\n",
      "I Play Football.\n",
      "I Love Hockey.\n",
      "I Love Football.\n",
      "You Play Hockey.\n",
      "You Play Football.\n",
      "You Love Hockey.\n",
      "You Love Football.\n"
     ]
    }
   ],
   "source": [
    "subjects = [\"I\", \"You\"]\n",
    "verbs = [\"Play\", \"Love\"]\n",
    "objects = [\"Hockey\", \"Football\"]\n",
    "sentences = []\n",
    "\n",
    "def generateSentence():\n",
    "    for subject in subjects:\n",
    "        for verb in verbs:\n",
    "            for obj in objects:\n",
    "                sentence = f\"{subject} {verb} {obj}.\"\n",
    "                sentences.append(sentence)\n",
    "    for sentence in sentences:\n",
    "        print(sentence)\n",
    "        \n",
    "generateSentence()"
   ]
  },
  {
   "cell_type": "markdown",
   "id": "9b69b6a8",
   "metadata": {},
   "source": [
    "## Question 5:\n",
    "\n",
    "### Please write a program to compress and decompress the string &quot;hello world!hello world!hello world!hello world!&quot;."
   ]
  },
  {
   "cell_type": "code",
   "execution_count": 5,
   "id": "87c4ff79",
   "metadata": {},
   "outputs": [
    {
     "name": "stdout",
     "output_type": "stream",
     "text": [
      "Enter a string: hello world!hello world!hello world!hello world!\n",
      "Compressed String:\n",
      " hel2o world!hel2o world!hel2o world!hel2o world!\n",
      "Decompressed String:\n",
      " hello world!hello world!hello world!hello world!\n"
     ]
    }
   ],
   "source": [
    "inStr = input(\"Enter a string: \")\n",
    "\n",
    "def compressString(string):\n",
    "    output = string[0]\n",
    "    count = 1\n",
    "    for i in range(len(string) - 1):\n",
    "        if string[i] == string[i + 1]:\n",
    "            count += 1\n",
    "        else:\n",
    "            if count > 1:\n",
    "                output += str(count)\n",
    "            output += string[i + 1]\n",
    "            count = 1\n",
    "    if count > 1:\n",
    "        output += str(count)            \n",
    "    print(\"Compressed String:\\n\", output)\n",
    "\n",
    "\n",
    "def decompressString(string):\n",
    "    output = ''\n",
    "    for i in range(len(string)):\n",
    "        if string[i].isdigit():\n",
    "            output += output[-1] * (int(string[i]) - 1)\n",
    "        else:\n",
    "            output += string[i]\n",
    "    print(\"Decompressed String:\\n\", output)\n",
    "    \n",
    "compressString(inStr)\n",
    "decompressString(inStr)"
   ]
  },
  {
   "cell_type": "markdown",
   "id": "3ed8ba6a",
   "metadata": {},
   "source": [
    "## Question 6:\n",
    "\n",
    "### Please write a binary search function which searches an item in a sorted list. The function should return the index of element to be searched in the list."
   ]
  },
  {
   "cell_type": "code",
   "execution_count": 6,
   "id": "8a8226e7",
   "metadata": {},
   "outputs": [],
   "source": [
    "def inputArr():\n",
    "    arr = [int(v) for v in input(\"Enter elements separated by commas: \").split(\",\")]\n",
    "    arr.sort()\n",
    "    print(\"Sorted Array:\", arr)\n",
    "    return arr\n",
    "\n",
    "def binaryArrSearch(arr, x):\n",
    "    low = 0\n",
    "    high = len(arr) - 1\n",
    "    \n",
    "    while low <= high:\n",
    "        mid = (low + high) // 2\n",
    "        \n",
    "        if arr[mid] == x:\n",
    "            return mid\n",
    "        \n",
    "        elif arr[mid] < x:\n",
    "            low = mid + 1\n",
    "        \n",
    "        else:\n",
    "            high = mid - 1\n",
    "    \n",
    "    return -1"
   ]
  },
  {
   "cell_type": "code",
   "execution_count": 7,
   "id": "7c510b82",
   "metadata": {},
   "outputs": [
    {
     "name": "stdout",
     "output_type": "stream",
     "text": [
      "Enter elements separated by commas: 1,6,17,39,181,45\n",
      "Sorted Array: [1, 6, 17, 39, 45, 181]\n",
      "Enter the elementto be searched: 45\n",
      "Element found at index 4\n"
     ]
    }
   ],
   "source": [
    "arr = inputArr()\n",
    "\n",
    "x = int(input(\"Enter the elementto be searched: \"))\n",
    "\n",
    "index = binaryArrSearch(arr, x)\n",
    "\n",
    "if index == -1:\n",
    "    print(\"Element not found!\")\n",
    "else:\n",
    "    print(f\"Element found at index {index}\")"
   ]
  }
 ],
 "metadata": {
  "kernelspec": {
   "display_name": "Python 3 (ipykernel)",
   "language": "python",
   "name": "python3"
  },
  "language_info": {
   "codemirror_mode": {
    "name": "ipython",
    "version": 3
   },
   "file_extension": ".py",
   "mimetype": "text/x-python",
   "name": "python",
   "nbconvert_exporter": "python",
   "pygments_lexer": "ipython3",
   "version": "3.11.0"
  }
 },
 "nbformat": 4,
 "nbformat_minor": 5
}
