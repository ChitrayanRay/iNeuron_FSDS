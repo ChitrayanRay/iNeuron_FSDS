{
 "cells": [
  {
   "cell_type": "markdown",
   "id": "fc0ffd4f",
   "metadata": {},
   "source": [
    "## 1. Write a Python program to convert kilometers to miles?"
   ]
  },
  {
   "cell_type": "code",
   "execution_count": 1,
   "id": "8ff79254",
   "metadata": {},
   "outputs": [
    {
     "name": "stdout",
     "output_type": "stream",
     "text": [
      "Enter the distance in Kilometers: 35.7\n",
      "The distance in Miles is: 22.182909000000002\n"
     ]
    }
   ],
   "source": [
    "km = float(input(\"Enter the distance in Kilometers: \"))\n",
    "\n",
    "# The conversion factor used to convert kilometers to miles is 0.62137 because:  1 kilometer (km) = 0.62137 miles (mi)\n",
    "\n",
    "conversionFactor = 0.62137\n",
    "miles = km * conversionFactor\n",
    "\n",
    "print(\"The distance in Miles is: {}\".format(miles))"
   ]
  },
  {
   "cell_type": "markdown",
   "id": "6528068f",
   "metadata": {},
   "source": [
    "## 2. Write a Python program to convert Celsius to Fahrenheit?"
   ]
  },
  {
   "cell_type": "code",
   "execution_count": 2,
   "id": "5dd87c6f",
   "metadata": {},
   "outputs": [
    {
     "name": "stdout",
     "output_type": "stream",
     "text": [
      "Enter the temperature in Celsius: 25\n",
      "The temperature in Fahrenheit is: 77.0\n"
     ]
    }
   ],
   "source": [
    "celsius = float(input(\"Enter the temperature in Celsius: \"))\n",
    "\n",
    "# To convert temperatures in degrees Celsius to Fahrenheit, multiply by 1.8 (or 9/5) and add 32.\n",
    "fahrenheit = (celsius * 1.8) + 32\n",
    "\n",
    "print(\"The temperature in Fahrenheit is: {}\".format(fahrenheit))"
   ]
  },
  {
   "cell_type": "markdown",
   "id": "fb037640",
   "metadata": {},
   "source": [
    "## 3. Write a Python program to display calendar?\n",
    "\n",
    "* Signature: calendar.month(theyear, themonth, w=0, l=0)\n",
    "* Docstring: Return a month's calendar string (multi-line).\n",
    "* Type:      method"
   ]
  },
  {
   "cell_type": "code",
   "execution_count": 3,
   "id": "4454b9ca",
   "metadata": {},
   "outputs": [
    {
     "name": "stdout",
     "output_type": "stream",
     "text": [
      "Enter the year: 2023\n",
      "Enter the month: 8\n",
      "    August 2023\n",
      "Mo Tu We Th Fr Sa Su\n",
      "    1  2  3  4  5  6\n",
      " 7  8  9 10 11 12 13\n",
      "14 15 16 17 18 19 20\n",
      "21 22 23 24 25 26 27\n",
      "28 29 30 31\n",
      "\n"
     ]
    }
   ],
   "source": [
    "# Importing calendar module\n",
    "import calendar\n",
    "\n",
    "year = int(input(\"Enter the year: \"))\n",
    "month = int(input(\"Enter the month: \"))\n",
    "\n",
    "# Showing the calendar\n",
    "print(calendar.month(year, month))"
   ]
  },
  {
   "cell_type": "markdown",
   "id": "a665d879",
   "metadata": {},
   "source": [
    "## 4. Write a Python program to solve quadratic equation?\n",
    "\n",
    "* The standard form of a quadratic equation is:\n",
    "    - ax2 + bx + c = 0, where a, b and c are real numbers and a ≠ 0\n",
    "    \n",
    "    \n",
    "* The solutions of this quadratic equation is given by:   (-b ±  (b ** 2 - 4 * a * c) ** 0.5)  / (2 * a)"
   ]
  },
  {
   "cell_type": "code",
   "execution_count": 4,
   "id": "a539faac",
   "metadata": {},
   "outputs": [
    {
     "name": "stdout",
     "output_type": "stream",
     "text": [
      "Enter 1st number: 2\n",
      "Enter 2nd number: 8\n",
      "Enter 3rd number: 24\n",
      "The solutions are (-2-2.8284271247461903j) and (-2+2.8284271247461903j)\n"
     ]
    }
   ],
   "source": [
    "# Solving the quadratic equation ax**2 + bx + c = 0\n",
    "\n",
    "# Importing complex math module\n",
    "import cmath\n",
    "\n",
    "num1 = int(input(\"Enter 1st number: \"))\n",
    "num2 = int(input(\"Enter 2nd number: \"))\n",
    "num3 = int(input(\"Enter 3rd number: \"))\n",
    "\n",
    "\n",
    "# Calculating the discriminant\n",
    "d = (num2 ** 2) - (4 * num1 * num3)\n",
    "\n",
    "# Finding the two solutions\n",
    "sol1 = (- num2 - cmath.sqrt(d)) / (2 * num1)\n",
    "sol2 = (- num2 + cmath.sqrt(d)) / (2 * num1)\n",
    "\n",
    "print('The solutions are {0} and {1}'.format(sol1, sol2))"
   ]
  },
  {
   "cell_type": "markdown",
   "id": "df08a887",
   "metadata": {},
   "source": [
    "## 5. Write a Python program to swap two variables without temp variable?"
   ]
  },
  {
   "cell_type": "markdown",
   "id": "bb94102e",
   "metadata": {},
   "source": [
    "### Method 1: Using built-in method "
   ]
  },
  {
   "cell_type": "code",
   "execution_count": 5,
   "id": "ffd0a39c",
   "metadata": {},
   "outputs": [
    {
     "name": "stdout",
     "output_type": "stream",
     "text": [
      "Enter 1st number: 5\n",
      "Enter 2nd number: 7\n",
      "Before swapping: \n",
      "1st number: 5 and 2nd number: 7\n",
      "After swapping: \n",
      "1st number: 7 and 2nd number: 5\n"
     ]
    }
   ],
   "source": [
    "num1 = int(input(\"Enter 1st number: \"))\n",
    "num2 = int(input(\"Enter 2nd number: \"))\n",
    "\n",
    "print (\"Before swapping: \")\n",
    "print(\"1st number:\", num1, \"and 2nd number:\", num2)\n",
    " \n",
    "# Code to swap 1st number and 2nd number\n",
    "num1, num2 = num2, num1\n",
    " \n",
    "print (\"After swapping: \")\n",
    "print(\"1st number:\", num1, \"and 2nd number:\", num2)"
   ]
  },
  {
   "cell_type": "markdown",
   "id": "93444d2d",
   "metadata": {},
   "source": [
    "### Method 2: Using Bitwise XOR operator\n",
    "\n",
    "- **Note:** This method only works for integers and works faster because this method uses bit operation (for same values, output = 0 and for different values, output = 1)."
   ]
  },
  {
   "cell_type": "code",
   "execution_count": 6,
   "id": "b64ca309",
   "metadata": {},
   "outputs": [
    {
     "name": "stdout",
     "output_type": "stream",
     "text": [
      "Enter 1st number: 3\n",
      "Enter 2nd number: 9\n",
      "Before swapping: \n",
      "1st number: 3 and 2nd number: 9\n",
      "After swapping: \n",
      "1st number: 9 and 2nd number: 3\n"
     ]
    }
   ],
   "source": [
    "num1 = int(input(\"Enter 1st number: \"))\n",
    "num2 = int(input(\"Enter 2nd number: \"))\n",
    "\n",
    "print (\"Before swapping: \")\n",
    "print(\"1st number:\", num1, \"and 2nd number:\", num2)\n",
    " \n",
    "# Swap using bitwise XOR(denoted by '^' in Python) code\n",
    "num1 ^= num2 \n",
    "num2 ^= num1\n",
    "num1 ^= num2 \n",
    " \n",
    "print (\"After swapping: \")\n",
    "print(\"1st number:\", num1, \"and 2nd number:\", num2)"
   ]
  }
 ],
 "metadata": {
  "kernelspec": {
   "display_name": "Python 3 (ipykernel)",
   "language": "python",
   "name": "python3"
  },
  "language_info": {
   "codemirror_mode": {
    "name": "ipython",
    "version": 3
   },
   "file_extension": ".py",
   "mimetype": "text/x-python",
   "name": "python",
   "nbconvert_exporter": "python",
   "pygments_lexer": "ipython3",
   "version": "3.11.0"
  }
 },
 "nbformat": 4,
 "nbformat_minor": 5
}
