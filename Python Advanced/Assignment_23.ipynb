{
 "cells": [
  {
   "cell_type": "markdown",
   "id": "75d81b0d",
   "metadata": {},
   "source": [
    "## Q1. If you have any, what are your choices for increasing the comparison between different figures on the same graph?"
   ]
  },
  {
   "cell_type": "markdown",
   "id": "05053eb2",
   "metadata": {},
   "source": [
    "Matplotlib provides a convenient method called subplots for increasing the comparison between different figures on the same graph. Subplots mean a group of smaller axes (where each axis is a plot) that can exist together within a single figure."
   ]
  },
  {
   "cell_type": "markdown",
   "id": "88e34668",
   "metadata": {},
   "source": [
    "## Q2. Can you explain the benefit of compound interest over a higher rate of interest that does not compound after reading this chapter?"
   ]
  },
  {
   "cell_type": "markdown",
   "id": "8d337052",
   "metadata": {},
   "source": [
    "Compound interest makes a sum of money grow at a faster rate than simple interest, because in addition to earning returns on the money you invest, you also earn returns on those returns at the end of every compounding period which could be daily, monthly, quarterly or annually."
   ]
  },
  {
   "cell_type": "markdown",
   "id": "c4b4219b",
   "metadata": {},
   "source": [
    "## Q3. What is a histogram, exactly? Name a numpy method for creating such a graph."
   ]
  },
  {
   "cell_type": "markdown",
   "id": "a6da0163",
   "metadata": {},
   "source": [
    "Histogram shows total values of X w.r.t. Y which means at any particular position of X, Y value shows the total number of counts or data below that value of X. **numpy.histogram()** is the built in function used."
   ]
  },
  {
   "cell_type": "markdown",
   "id": "0edc1846",
   "metadata": {},
   "source": [
    "## Q4. If necessary, how do you change the aspect ratios between the X and Y axes?"
   ]
  },
  {
   "cell_type": "markdown",
   "id": "5172245d",
   "metadata": {},
   "source": [
    "We can use **figure(figsize=(10, 8))** function inside the **matplot.pyplot** library which we scale down or up the graph."
   ]
  },
  {
   "cell_type": "markdown",
   "id": "de359b0d",
   "metadata": {},
   "source": [
    "## Q5. Compare and contrast the three types of array multiplication between two numpy arrays: dot product, outer product, and regular multiplication of two numpy arrays."
   ]
  },
  {
   "cell_type": "markdown",
   "id": "255382db",
   "metadata": {},
   "source": [
    "In regular multiplication, values of same index get multiplied.\n",
    "\n",
    "In dot product, there is row wise multiplication, row of one array with column of second array and so on.\n",
    "\n",
    "In outer multiplication, every element of first array a1 will be multiply by every element of other array a2 such the number of columns will be equal to the number of element in another array a2."
   ]
  },
  {
   "cell_type": "markdown",
   "id": "5f2b2eba",
   "metadata": {},
   "source": [
    "## Q6. Before you buy a home, which numpy function will you use to measure your monthly mortgage payment?"
   ]
  },
  {
   "cell_type": "markdown",
   "id": "d1f1b566",
   "metadata": {},
   "source": [
    "We will be using the **np.pmt(rate, nper, pv)** function in order to calculate monthly mortgage payment before you purchase a house.\n",
    "\n",
    "**1.** rate: The periodic interest rate\n",
    "\n",
    "**2.** nper: The number of payment periods\n",
    "\n",
    "**3.** pv: The total value of the mortgage loan"
   ]
  },
  {
   "cell_type": "markdown",
   "id": "9a30717c",
   "metadata": {},
   "source": [
    "## Q7. Can string data be stored in numpy arrays? If so, list at least one restriction that applies to this data."
   ]
  },
  {
   "cell_type": "markdown",
   "id": "4fbb7edd",
   "metadata": {},
   "source": [
    "Yes, an array can store the string. The limitation which is imposed on the string data is, whenever we store the data of string dtype, it should be kept in mind that the string which is having the maximum length is the limit."
   ]
  }
 ],
 "metadata": {
  "kernelspec": {
   "display_name": "Python 3 (ipykernel)",
   "language": "python",
   "name": "python3"
  },
  "language_info": {
   "codemirror_mode": {
    "name": "ipython",
    "version": 3
   },
   "file_extension": ".py",
   "mimetype": "text/x-python",
   "name": "python",
   "nbconvert_exporter": "python",
   "pygments_lexer": "ipython3",
   "version": "3.11.0"
  }
 },
 "nbformat": 4,
 "nbformat_minor": 5
}
