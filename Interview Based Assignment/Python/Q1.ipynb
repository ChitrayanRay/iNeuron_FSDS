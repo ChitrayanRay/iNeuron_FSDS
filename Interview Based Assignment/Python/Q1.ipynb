{
 "cells": [
  {
   "cell_type": "markdown",
   "id": "e6c8eb60",
   "metadata": {},
   "source": [
    "**Question 1: -**\n",
    "\n",
    "Write a program that takes a string as input, and counts the frequency of each word in the string, there might\n",
    "be repeated characters in the string. Your task is to find the highest frequency and returns the length of the\n",
    "highest-frequency word.\n",
    "\n",
    "**Note -** You have to write at least 2 additional test cases in which your program will run successfully and provide\n",
    "\n",
    "an explanation for the same.\n",
    "\n",
    "**Example input -** string = “write write write all the number from from from 1 to 100”\n",
    "\n",
    "**Example output -** 5\n",
    "\n",
    "**Explanation -** From the given string we can note that the most frequent words are “write” and “from” and\n",
    "the maximum value of both the values is “write” and its corresponding length is 5"
   ]
  },
  {
   "cell_type": "code",
   "execution_count": 1,
   "id": "7eb346fd",
   "metadata": {},
   "outputs": [
    {
     "name": "stdout",
     "output_type": "stream",
     "text": [
      "5\n"
     ]
    }
   ],
   "source": [
    "def wordFrequencyCount(inputString):\n",
    "    inputString = inputString.lower()\n",
    "    inputString = inputString.replace(',', '').replace('.', '')\n",
    "\n",
    "    words = inputString.split()\n",
    "\n",
    "    wordFrequency = {}\n",
    "    for word in words:\n",
    "        wordFrequency[word] = wordFrequency.get(word, 0) + 1\n",
    "\n",
    "    maxFrequency = max(wordFrequency.values())\n",
    "\n",
    "    highestFrequencyWordLength = max(len(word) for word, frequency in wordFrequency.items() if frequency == maxFrequency)\n",
    "\n",
    "    return highestFrequencyWordLength\n",
    "\n",
    "inputString = \"write write write all the number from from from 1 to 100\"\n",
    "result = wordFrequencyCount(inputString)\n",
    "print(result)"
   ]
  }
 ],
 "metadata": {
  "kernelspec": {
   "display_name": "Python 3 (ipykernel)",
   "language": "python",
   "name": "python3"
  },
  "language_info": {
   "codemirror_mode": {
    "name": "ipython",
    "version": 3
   },
   "file_extension": ".py",
   "mimetype": "text/x-python",
   "name": "python",
   "nbconvert_exporter": "python",
   "pygments_lexer": "ipython3",
   "version": "3.10.7"
  }
 },
 "nbformat": 4,
 "nbformat_minor": 5
}
