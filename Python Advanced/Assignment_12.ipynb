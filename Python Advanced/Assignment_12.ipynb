{
 "cells": [
  {
   "cell_type": "markdown",
   "id": "08cecb90",
   "metadata": {},
   "source": [
    "## Q1. Does assigning a value to a string&#39;s indexed character violate Python&#39;s string immutability?"
   ]
  },
  {
   "cell_type": "markdown",
   "id": "6dc690ff",
   "metadata": {},
   "source": [
    "String’s indexed character cannot to be assigned a New value , as Strings are immutable."
   ]
  },
  {
   "cell_type": "code",
   "execution_count": 1,
   "id": "2d384ce2",
   "metadata": {},
   "outputs": [
    {
     "name": "stdout",
     "output_type": "stream",
     "text": [
      "1395199617136\n"
     ]
    }
   ],
   "source": [
    "#Example:\n",
    "name = \"Ineuron\"\n",
    "print(id(name)) #1395199617136\n",
    "#name[0] = \"V\" # Raises TypeError: 'str' object does not support item assignment"
   ]
  },
  {
   "cell_type": "markdown",
   "id": "ccaadc57",
   "metadata": {},
   "source": [
    "## Q2. Does using the += operator to concatenate strings violate Python&#39;s string immutability? Why or why not?"
   ]
  },
  {
   "cell_type": "markdown",
   "id": "176845f8",
   "metadata": {},
   "source": [
    "+= operator is used to concatenate strings, it does not violate Python’s string immutability Property. Because doing so new creates a new association with data and variable. E.g. str_1 = \"a\" and str_1 += \"b. Effect of this statements to create string ab and reassign it to variable str_1, any string data is not actually modified."
   ]
  },
  {
   "cell_type": "code",
   "execution_count": 2,
   "id": "8ba3af88",
   "metadata": {},
   "outputs": [
    {
     "name": "stdout",
     "output_type": "stream",
     "text": [
      "140711929807744\n",
      "1395199680368\n",
      "ab\n"
     ]
    }
   ],
   "source": [
    "str_1 = 'a'\n",
    "print(id(str_1))\n",
    "str_1 += 'b'\n",
    "print(id(str_1)) # Does not Modify existing string, Creates a New String Object\n",
    "print(str_1)"
   ]
  },
  {
   "cell_type": "markdown",
   "id": "e6febb09",
   "metadata": {},
   "source": [
    "## Q3. In Python, how many different ways are there to index a character?"
   ]
  },
  {
   "cell_type": "markdown",
   "id": "31db4a96",
   "metadata": {},
   "source": [
    "A Character in string can be indexed using string name followed by index number of character in square bracket. Positive Indexing i.e. first index is 0 an so on, or Negative Indexing i.e. last letter is -1 and so on can be used to index a character."
   ]
  },
  {
   "cell_type": "code",
   "execution_count": 3,
   "id": "75fec2a0",
   "metadata": {},
   "outputs": [
    {
     "name": "stdout",
     "output_type": "stream",
     "text": [
      "e i c\n",
      "e i c\n"
     ]
    }
   ],
   "source": [
    "str_input = \"iNeuron Full Stack Data Science\"\n",
    "print(str_input[30], str_input[26], str_input[29]) # Positive Indexing\n",
    "print(str_input[-1], str_input[-5], str_input[-2]) # Negative Indexing"
   ]
  },
  {
   "cell_type": "markdown",
   "id": "e52cbd77",
   "metadata": {},
   "source": [
    "## Q4. What is the relationship between indexing and slicing?"
   ]
  },
  {
   "cell_type": "markdown",
   "id": "14fc9901",
   "metadata": {},
   "source": [
    "We can access elements of sequence datatypes by using slicing and indexing. Indexing is used to obtaining individual element while slicing for sequence of elements."
   ]
  },
  {
   "cell_type": "code",
   "execution_count": 4,
   "id": "2653818f",
   "metadata": {},
   "outputs": [
    {
     "name": "stdout",
     "output_type": "stream",
     "text": [
      "N e u r o n\n",
      "Neuron\n"
     ]
    }
   ],
   "source": [
    "str_input = \"iNeuron Full Stack Data Science\"\n",
    "print(str_input[1], str_input[2], str_input[3], str_input[4], str_input[5], str_input[6]) # Indexing\n",
    "print(str_input[1:7]) # Slicing"
   ]
  },
  {
   "cell_type": "markdown",
   "id": "e9539118",
   "metadata": {},
   "source": [
    "## Q5. What is an indexed character&#39;s exact data type? What is the data form of a slicing-generated substring?"
   ]
  },
  {
   "cell_type": "markdown",
   "id": "e6d44432",
   "metadata": {},
   "source": [
    "Indexed characters and sliced substrings have datatype String."
   ]
  },
  {
   "cell_type": "code",
   "execution_count": 5,
   "id": "90eb1907",
   "metadata": {},
   "outputs": [
    {
     "name": "stdout",
     "output_type": "stream",
     "text": [
      "<class 'str'>\n",
      "<class 'str'>\n"
     ]
    }
   ],
   "source": [
    "str_input = \"iNeuron Full Stack Data Science\"\n",
    "print(type(str_input[3])) # Indexing -> str\n",
    "print(type(str_input[1:10])) # Indexing -> str"
   ]
  },
  {
   "cell_type": "markdown",
   "id": "941ee55a",
   "metadata": {},
   "source": [
    "## Q6. What is the relationship between string and character &quot;types&quot; in Python?"
   ]
  },
  {
   "cell_type": "markdown",
   "id": "5fca5e92",
   "metadata": {},
   "source": [
    "Object that contains sequence of character datatypes are called String."
   ]
  },
  {
   "cell_type": "markdown",
   "id": "4cbd6b31",
   "metadata": {},
   "source": [
    "## Q7. Identify at least two operators and one method that allow you to combine one or more smaller strings to create a larger string."
   ]
  },
  {
   "cell_type": "markdown",
   "id": "bfb63c30",
   "metadata": {},
   "source": [
    "+, += and * allow to combine one or more smaller strings to create a larger string. <string>.join(<sep>) method joins element of iterable type like list and tuple to get a combined string."
   ]
  },
  {
   "cell_type": "code",
   "execution_count": 6,
   "id": "73e654ee",
   "metadata": {},
   "outputs": [
    {
     "name": "stdout",
     "output_type": "stream",
     "text": [
      "iNeuron Full Stack Data Science FSDS\n",
      "iNeuron Full Stack Data ScienceiNeuron Full Stack Data Science\n",
      "I N E U R O N\n",
      "i n e u r o n\n"
     ]
    }
   ],
   "source": [
    "str_input = 'iNeuron '\n",
    "str_input += 'Full Stack Data Science'\n",
    "print(str_input + ' FSDS')\n",
    "print(str_input * 2)\n",
    "print(\" \".join(['I', 'N', 'E', 'U', 'R', 'O', 'N'])) # List Iterable\n",
    "print(\" \".join(('I', 'N', 'E', 'U', 'R', 'O', 'N')).lower()) # Tuple Iterable"
   ]
  },
  {
   "cell_type": "markdown",
   "id": "97a73f48",
   "metadata": {},
   "source": [
    "## Q8. What is the benefit of first checking the target string with in or not in before using the index method to find a substring?"
   ]
  },
  {
   "cell_type": "markdown",
   "id": "042688c6",
   "metadata": {},
   "source": [
    "Checking the target string with in or not Operators before using the index method to find a substring just helps confirming availability of substring and thus avoid raising of ValueError.\n",
    "\n",
    "Example:\n",
    "\n",
    "in_string = \"ineuron\"\n",
    "\n",
    "in_string.index('x') # Raises ValueError\n",
    "\n",
    "in_string.index('u') # 3"
   ]
  },
  {
   "cell_type": "markdown",
   "id": "0b838849",
   "metadata": {},
   "source": [
    "## Q9. Which operators and built-in string methods produce simple Boolean (true/false) results?"
   ]
  },
  {
   "cell_type": "markdown",
   "id": "28131505",
   "metadata": {},
   "source": [
    "The String Operators and built-in methods to produce simple Boolean (True/False) results are:\n",
    "\n",
    "**1.** in\n",
    "\n",
    "**2.** not\n",
    "\n",
    "**3.** string.isalpha()\n",
    "\n",
    "**4.** string.isalnum()\n",
    "\n",
    "**5.** string.isdecimal()\n",
    "\n",
    "**6.** string.isdigit()\n",
    "\n",
    "**7.** string.islower()\n",
    "\n",
    "**8.** string.isnumeric()\n",
    "\n",
    "**9.** string.isprintable()\n",
    "\n",
    "**10.** string.isspace()\n",
    "\n",
    "**11.** string.istitle()"
   ]
  }
 ],
 "metadata": {
  "kernelspec": {
   "display_name": "Python 3 (ipykernel)",
   "language": "python",
   "name": "python3"
  },
  "language_info": {
   "codemirror_mode": {
    "name": "ipython",
    "version": 3
   },
   "file_extension": ".py",
   "mimetype": "text/x-python",
   "name": "python",
   "nbconvert_exporter": "python",
   "pygments_lexer": "ipython3",
   "version": "3.11.0"
  }
 },
 "nbformat": 4,
 "nbformat_minor": 5
}
