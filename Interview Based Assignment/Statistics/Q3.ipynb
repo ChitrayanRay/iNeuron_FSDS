{
 "cells": [
  {
   "cell_type": "markdown",
   "id": "6044279f",
   "metadata": {},
   "source": [
    "**Q-3.** Consider the ‘Blood Pressure Before’ and ‘Blood Pressure After’ columns from the\n",
    "data and calculate the following\n",
    "\n",
    "https://drive.google.com/file/d/1mCjtYHiX--mMUjicuaP2gH3k-SnFxt8Y/view?usp=share_\n",
    "\n",
    "**a.** Measure the dispersion in both and interpret the results.\n",
    "\n",
    "**b.** Calculate mean and 5% confidence interval and plot it in a graph\n",
    "\n",
    "**c.** Calculate the Mean absolute deviation and Standard deviation and interpret\n",
    "the results.\n",
    "\n",
    "**d.** Calculate the correlation coefficient and check the significance of it at 1% level\n",
    "of significance."
   ]
  },
  {
   "cell_type": "markdown",
   "id": "0102bf20",
   "metadata": {},
   "source": [
    "**Ans:**\n",
    "\n",
    "**3a.** Measure the dispersion in both and interpret the results.\n",
    "\n",
    "To measure the dispersion in the dataset, we can calculate the range, variance, and standard deviation.\n",
    "\n",
    "For **\"Blood Pressure Before\"**:\n",
    "\n",
    "**Range:** The range is the difference between the maximum and minimum values.\n",
    "\n",
    "**Variance:** The variance measures the average squared deviation from the mean.\n",
    "\n",
    "**Standard Deviation:** The standard deviation is the square root of the variance and provides a measure of the dispersion of data points around the mean.\n",
    "\n",
    "For **\"Blood Pressure After\"**:\n",
    "\n",
    "Range\n",
    "Variance\n",
    "Standard Deviation\n",
    "\n",
    "Let's calculate these measures:"
   ]
  },
  {
   "cell_type": "code",
   "execution_count": 1,
   "id": "242d4b17",
   "metadata": {},
   "outputs": [
    {
     "name": "stdout",
     "output_type": "stream",
     "text": [
      "Blood Pressure Before:\n",
      "Range: 28\n",
      "Variance: 43.53727272727272\n",
      "Standard Deviation: 6.598278012275076\n",
      "\n",
      "Blood Pressure After:\n",
      "Range: 23\n",
      "Variance: 47.44484848484848\n",
      "Standard Deviation: 6.888022102523226\n"
     ]
    }
   ],
   "source": [
    "import pandas as pd\n",
    "\n",
    "# Downloading the dataset to Present Working Directory from the given link and load the dataset.\n",
    "\n",
    "data=pd.read_csv(\"BPdata.csv\")\n",
    "\n",
    "# Creating a DataFrame from the provided dataset\n",
    "\n",
    "df = pd.DataFrame(data)\n",
    "\n",
    "# Calculating dispersion measures for 'Blood Pressure Before'\n",
    "\n",
    "bp_before_range = df[' Blood Pressure Before (mmHg)'].max() - df[' Blood Pressure Before (mmHg)'].min()\n",
    "\n",
    "bp_before_variance = df[' Blood Pressure Before (mmHg)'].var()\n",
    "\n",
    "bp_before_std = df[' Blood Pressure Before (mmHg)'].std()\n",
    "\n",
    "# Calculating dispersion measures for 'Blood Pressure After'\n",
    "\n",
    "bp_after_range = df[' Blood Pressure After (mmHg)'].max() - df[' Blood Pressure After (mmHg)'].min()\n",
    "\n",
    "bp_after_variance = df[' Blood Pressure After (mmHg)'].var()\n",
    "\n",
    "bp_after_std = df[' Blood Pressure After (mmHg)'].std()\n",
    "\n",
    "print(\"Blood Pressure Before:\")\n",
    "\n",
    "print(\"Range:\", bp_before_range)\n",
    "\n",
    "print(\"Variance:\", bp_before_variance)\n",
    "\n",
    "print(\"Standard Deviation:\", bp_before_std)\n",
    "\n",
    "print()\n",
    "\n",
    "print(\"Blood Pressure After:\")\n",
    "\n",
    "print(\"Range:\", bp_after_range)\n",
    "\n",
    "print(\"Variance:\", bp_after_variance)\n",
    "\n",
    "print(\"Standard Deviation:\", bp_after_std)"
   ]
  },
  {
   "cell_type": "markdown",
   "id": "c1e06786",
   "metadata": {},
   "source": [
    "**Interpretation:**\n",
    "\n",
    "The range represents the spread between the minimum and maximum values. For both \"Blood Pressure Before\" and \"Blood Pressure After,\" the range indicates the extent of variability in the respective measurements. The variance measures the average squared deviation from the mean. A higher variance suggests greater dispersion of data points from the mean. The standard deviation is the square root of the variance and provides a measure of the dispersion of data points around the mean. It indicates the average amount by which the data points deviate from the mean. A higher standard deviation indicates a higher degree of dispersion."
   ]
  },
  {
   "cell_type": "markdown",
   "id": "df6d18c9",
   "metadata": {},
   "source": [
    "**Ans:**\n",
    "\n",
    "**3b.** Calculate the mean and 5% confidence interval and plot it in a graph\n",
    "\n",
    "To calculate the mean and 5% confidence interval for each column, we can use the formula for the confidence interval:\n",
    "\n",
    "Confidence Interval = Mean ± (Critical Value * Standard Error)"
   ]
  },
  {
   "cell_type": "code",
   "execution_count": 2,
   "id": "94edb043",
   "metadata": {},
   "outputs": [
    {
     "data": {
      "image/png": "[encoded data removed]",
      "text/plain": [
       "<Figure size 640x480 with 1 Axes>"
      ]
     },
     "metadata": {},
     "output_type": "display_data"
    }
   ],
   "source": [
    "import numpy as np\n",
    "import matplotlib.pyplot as plt\n",
    "\n",
    "# Calculate mean and confidence interval for 'Blood Pressure Before'\n",
    "\n",
    "bp_before_mean = df[' Blood Pressure Before (mmHg)'].mean()\n",
    "\n",
    "bp_before_std_error = df[' Blood Pressure Before (mmHg)'].std() / np.sqrt(len(df))\n",
    "\n",
    "bp_before_critical_value = 1.96  # Assuming a normal distribution and 95% confidence level\n",
    "\n",
    "bp_before_confidence_interval = (bp_before_mean - bp_before_critical_value * bp_before_std_error,\n",
    "                                 bp_before_mean + bp_before_critical_value * bp_before_std_error)\n",
    "\n",
    "# Calculate mean and confidence interval for 'Blood Pressure After'\n",
    "\n",
    "bp_after_mean = df[' Blood Pressure After (mmHg)'].mean()\n",
    "\n",
    "bp_after_std_error = df[' Blood Pressure After (mmHg)'].std() / np.sqrt(len(df))\n",
    "\n",
    "bp_after_critical_value = 1.96  # Assuming a normal distribution and 95% confidence level\n",
    "\n",
    "bp_after_confidence_interval = (bp_after_mean - bp_after_critical_value * bp_after_std_error,\n",
    "                                bp_after_mean + bp_after_critical_value * bp_after_std_error)\n",
    "\n",
    "# Plotting\n",
    "\n",
    "labels = ['Blood Pressure Before', 'Blood Pressure After']\n",
    "\n",
    "means = [bp_before_mean, bp_after_mean]\n",
    "\n",
    "confidence_intervals = [bp_before_confidence_interval, bp_after_confidence_interval]\n",
    "\n",
    "x = np.arange(len(labels))\n",
    "\n",
    "plt.bar(x, means, yerr=[(upper - lower) / 2 for lower, upper in confidence_intervals])\n",
    "\n",
    "plt.xticks(x, labels)\n",
    "\n",
    "plt.ylabel('Mean')\n",
    "\n",
    "plt.title('Mean and 95% Confidence Interval')\n",
    "\n",
    "# Add data labels\n",
    "\n",
    "for i, mean in enumerate(means):\n",
    "    \n",
    "    lower, upper = confidence_intervals[i]\n",
    "    \n",
    "    label = f'{mean:.2f}'\n",
    "    \n",
    "    plt.text(i, mean, label, ha='center', va='bottom')\n",
    "\n",
    "plt.show()"
   ]
  },
  {
   "cell_type": "markdown",
   "id": "c2187fbd",
   "metadata": {},
   "source": [
    "**Ans:**\n",
    "\n",
    "**3c.** Calculate the Mean absolute deviation and Standard deviation and interpret the results.\n",
    "\n",
    "Mean Absolute Deviation (MAD) and Standard Deviation are measures of dispersion that quantify the average deviation of data points from the mean."
   ]
  },
  {
   "cell_type": "code",
   "execution_count": 3,
   "id": "01418901",
   "metadata": {},
   "outputs": [
    {
     "data": {
      "text/html": [
       "<div>\n",
       "<style scoped>\n",
       "    .dataframe tbody tr th:only-of-type {\n",
       "        vertical-align: middle;\n",
       "    }\n",
       "\n",
       "    .dataframe tbody tr th {\n",
       "        vertical-align: top;\n",
       "    }\n",
       "\n",
       "    .dataframe thead th {\n",
       "        text-align: right;\n",
       "    }\n",
       "</style>\n",
       "<table border=\"1\" class=\"dataframe\">\n",
       "  <thead>\n",
       "    <tr style=\"text-align: right;\">\n",
       "      <th></th>\n",
       "      <th>Patient ID</th>\n",
       "      <th>Blood Pressure Before (mmHg)</th>\n",
       "      <th>Blood Pressure After (mmHg)</th>\n",
       "    </tr>\n",
       "  </thead>\n",
       "  <tbody>\n",
       "    <tr>\n",
       "      <th>0</th>\n",
       "      <td>1</td>\n",
       "      <td>130</td>\n",
       "      <td>120</td>\n",
       "    </tr>\n",
       "    <tr>\n",
       "      <th>1</th>\n",
       "      <td>2</td>\n",
       "      <td>142</td>\n",
       "      <td>135</td>\n",
       "    </tr>\n",
       "    <tr>\n",
       "      <th>2</th>\n",
       "      <td>3</td>\n",
       "      <td>120</td>\n",
       "      <td>118</td>\n",
       "    </tr>\n",
       "    <tr>\n",
       "      <th>3</th>\n",
       "      <td>4</td>\n",
       "      <td>135</td>\n",
       "      <td>127</td>\n",
       "    </tr>\n",
       "    <tr>\n",
       "      <th>4</th>\n",
       "      <td>5</td>\n",
       "      <td>148</td>\n",
       "      <td>140</td>\n",
       "    </tr>\n",
       "    <tr>\n",
       "      <th>...</th>\n",
       "      <td>...</td>\n",
       "      <td>...</td>\n",
       "      <td>...</td>\n",
       "    </tr>\n",
       "    <tr>\n",
       "      <th>95</th>\n",
       "      <td>96</td>\n",
       "      <td>136</td>\n",
       "      <td>129</td>\n",
       "    </tr>\n",
       "    <tr>\n",
       "      <th>96</th>\n",
       "      <td>97</td>\n",
       "      <td>143</td>\n",
       "      <td>137</td>\n",
       "    </tr>\n",
       "    <tr>\n",
       "      <th>97</th>\n",
       "      <td>98</td>\n",
       "      <td>127</td>\n",
       "      <td>123</td>\n",
       "    </tr>\n",
       "    <tr>\n",
       "      <th>98</th>\n",
       "      <td>99</td>\n",
       "      <td>139</td>\n",
       "      <td>135</td>\n",
       "    </tr>\n",
       "    <tr>\n",
       "      <th>99</th>\n",
       "      <td>100</td>\n",
       "      <td>135</td>\n",
       "      <td>130</td>\n",
       "    </tr>\n",
       "  </tbody>\n",
       "</table>\n",
       "<p>100 rows × 3 columns</p>\n",
       "</div>"
      ],
      "text/plain": [
       "    Patient ID   Blood Pressure Before (mmHg)   Blood Pressure After (mmHg)\n",
       "0            1                            130                           120\n",
       "1            2                            142                           135\n",
       "2            3                            120                           118\n",
       "3            4                            135                           127\n",
       "4            5                            148                           140\n",
       "..         ...                            ...                           ...\n",
       "95          96                            136                           129\n",
       "96          97                            143                           137\n",
       "97          98                            127                           123\n",
       "98          99                            139                           135\n",
       "99         100                            135                           130\n",
       "\n",
       "[100 rows x 3 columns]"
      ]
     },
     "execution_count": 3,
     "metadata": {},
     "output_type": "execute_result"
    }
   ],
   "source": [
    "df"
   ]
  },
  {
   "cell_type": "code",
   "execution_count": 4,
   "id": "cf51c39a",
   "metadata": {},
   "outputs": [
    {
     "name": "stdout",
     "output_type": "stream",
     "text": [
      "Blood Pressure Before:\n",
      "Mean Absolute Deviation: 5.7118\n",
      "Standard Deviation: 6.598278012275076\n",
      "\n",
      "Blood Pressure After:\n",
      "Mean Absolute Deviation: 5.9\n",
      "Standard Deviation: 6.888022102523226\n"
     ]
    }
   ],
   "source": [
    "# Calculate Mean Absolute Deviation (MAD) for 'Blood Pressure Before'\n",
    "\n",
    "bp_before_mean = df[' Blood Pressure Before (mmHg)'].mean()\n",
    "\n",
    "bp_before_deviations = abs(df[' Blood Pressure Before (mmHg)'] - bp_before_mean)\n",
    "\n",
    "bp_before_mad = bp_before_deviations.mean()\n",
    "\n",
    "# Calculate Mean Absolute Deviation (MAD) for 'Blood Pressure After'\n",
    "\n",
    "bp_after_mean = df[' Blood Pressure After (mmHg)'].mean()\n",
    "\n",
    "bp_after_deviations = abs(df[' Blood Pressure After (mmHg)'] - bp_after_mean)\n",
    "\n",
    "bp_after_mad = bp_after_deviations.mean()\n",
    "\n",
    "print(\"Blood Pressure Before:\")\n",
    "\n",
    "print(\"Mean Absolute Deviation:\", bp_before_mad)\n",
    "\n",
    "print(\"Standard Deviation:\", bp_before_std)\n",
    "\n",
    "print()\n",
    "\n",
    "print(\"Blood Pressure After:\")\n",
    "\n",
    "print(\"Mean Absolute Deviation:\", bp_after_mad)\n",
    "\n",
    "print(\"Standard Deviation:\", bp_after_std)"
   ]
  },
  {
   "cell_type": "markdown",
   "id": "00f6c0b5",
   "metadata": {},
   "source": [
    "**Interpretation:**\n",
    "\n",
    "Mean Absolute Deviation (MAD) measures the average absolute deviation of data points from the mean. It provides a measure of dispersion that is less affected by extreme values compared to the standard deviation.\n",
    "Standard Deviation measures the average deviation of data points from the mean. It quantifies the spread of data points around the mean and is influenced by extreme values."
   ]
  },
  {
   "cell_type": "markdown",
   "id": "72ef9be6",
   "metadata": {},
   "source": [
    "**Ans:**\n",
    "\n",
    "**3d.** Calculate the correlation coefficient and check the significance of it at the 1% level of significance.\n",
    "\n",
    "To calculate the correlation coefficient and check its significance, we can use the Pearson correlation coefficient (r) and perform a hypothesis test."
   ]
  },
  {
   "cell_type": "code",
   "execution_count": 5,
   "id": "1dbef6f6",
   "metadata": {},
   "outputs": [
    {
     "name": "stdout",
     "output_type": "stream",
     "text": [
      "Correlation Coefficient: 0.9779485966556016\n",
      "Is the correlation significant at the 1% level? :  True\n"
     ]
    }
   ],
   "source": [
    "# Calculate the correlation coefficient\n",
    "\n",
    "correlation_coefficient = df[' Blood Pressure Before (mmHg)'].corr(df[' Blood Pressure After (mmHg)'])\n",
    "\n",
    "# Perform a hypothesis test for significance at the 1% level\n",
    "\n",
    "n = len(df)\n",
    "\n",
    "degrees_of_freedom = n - 2\n",
    "\n",
    "t_critical = 2.617  # From t-distribution table for a two-tailed test with alpha = 0.01 and df = 98\n",
    "\n",
    "t_value = correlation_coefficient * np.sqrt((n - 2) / (1 - correlation_coefficient**2))\n",
    "\n",
    "is_significant = abs(t_value) > t_critical\n",
    "\n",
    "print(\"Correlation Coefficient:\", correlation_coefficient)\n",
    "\n",
    "print(\"Is the correlation significant at the 1% level? : \",is_significant)"
   ]
  },
  {
   "cell_type": "markdown",
   "id": "7d2f78f0",
   "metadata": {},
   "source": [
    "**Interpretation:**\n",
    "\n",
    "The correlation coefficient (r) measures the strength and direction of the linear relationship between \"Blood Pressure Before\" and \"Blood Pressure After.\" It ranges from -1 to 1, where -1 indicates a perfect negative correlation, 1 indicates a perfect positive correlation, and 0 indicates no linear correlation.\n",
    "\n",
    "By performing a hypothesis test, we can check if the correlation coefficient is significantly different from zero. If the absolute value of the calculated t-value is greater than the critical value at the chosen significance level (1% here), we can conclude that the correlation is significant."
   ]
  }
 ],
 "metadata": {
  "kernelspec": {
   "display_name": "Python 3 (ipykernel)",
   "language": "python",
   "name": "python3"
  },
  "language_info": {
   "codemirror_mode": {
    "name": "ipython",
    "version": 3
   },
   "file_extension": ".py",
   "mimetype": "text/x-python",
   "name": "python",
   "nbconvert_exporter": "python",
   "pygments_lexer": "ipython3",
   "version": "3.10.7"
  }
 },
 "nbformat": 4,
 "nbformat_minor": 5
}
