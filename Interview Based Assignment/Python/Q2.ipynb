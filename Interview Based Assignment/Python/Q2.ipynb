{
 "cells": [
  {
   "cell_type": "markdown",
   "id": "6995be5b",
   "metadata": {},
   "source": [
    "**Question 2: -**\n",
    "\n",
    "Consider a string to be valid if all characters of the string appear the same number of times. It is also valid if\n",
    "he can remove just one character at the index in the string, and the remaining characters will occur the same\n",
    "number of times. Given a string, determine if it is valid. If so, return YES , otherwise return NO .\n",
    "\n",
    "**Note -** You have to write at least 2 additional test cases in which your program will run successfully and provide\n",
    "an explanation for the same.\n",
    "\n",
    "**Example input 1 -** s = “abc”. This is a valid string because frequencies are { “a”: 1, “b”: 1, “c”: 1 }\n",
    "\n",
    "**Example output 1-** YES\n",
    "\n",
    "**Example input 2 -** s “abcc”. This string is not valid as we can remove only 1 occurrence of “c”. That leaves\n",
    "character frequencies of { “a”: 1, “b”: 1 , “c”: 2 }\n",
    "\n",
    "**Example output 2 -** NO"
   ]
  },
  {
   "cell_type": "code",
   "execution_count": 1,
   "id": "d6c432f7",
   "metadata": {},
   "outputs": [
    {
     "name": "stdout",
     "output_type": "stream",
     "text": [
      "NO\n"
     ]
    }
   ],
   "source": [
    "from collections import Counter\n",
    "\n",
    "def isValidString(inputString):\n",
    "    charFreq = Counter(inputString)\n",
    "    freqCount = Counter(charFreq.values())\n",
    "\n",
    "    if len(freqCount) == 1:\n",
    "        return \"YES\"\n",
    "\n",
    "    elif len(freqCount) == 2:\n",
    "        maxFreq, minFreq = max(freqCount), min(freqCount)\n",
    "        if freqCount[maxFreq] == 1 and (maxFreq - minFreq == 1 or minFreq == 1):\n",
    "            return \"YES\"\n",
    "\n",
    "    return \"NO\"\n",
    "\n",
    "inputString = \"abbccc\"\n",
    "result = isValidString(inputString)\n",
    "print(result)"
   ]
  }
 ],
 "metadata": {
  "kernelspec": {
   "display_name": "Python 3 (ipykernel)",
   "language": "python",
   "name": "python3"
  },
  "language_info": {
   "codemirror_mode": {
    "name": "ipython",
    "version": 3
   },
   "file_extension": ".py",
   "mimetype": "text/x-python",
   "name": "python",
   "nbconvert_exporter": "python",
   "pygments_lexer": "ipython3",
   "version": "3.10.7"
  }
 },
 "nbformat": 4,
 "nbformat_minor": 5
}
