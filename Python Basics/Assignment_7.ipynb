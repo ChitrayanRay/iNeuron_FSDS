{
 "cells": [
  {
   "cell_type": "markdown",
   "id": "f8733896",
   "metadata": {},
   "source": [
    "## 1. What is the name of the feature responsible for generating Regex objects?\n",
    "\n",
    "The re. compile() function returns Regex objects.\n",
    "\n",
    "RegEx, or Regular Expression, is a sequence of characters that forms a search pattern. RegEx can be used to check if a string contains the specified search pattern. A Regular Expression (RegEx) is a sequence of characters that defines a search pattern. For example:"
   ]
  },
  {
   "cell_type": "markdown",
   "id": "dd954279",
   "metadata": {},
   "source": [
    "```python\n",
    "^a...s$\n",
    "```"
   ]
  },
  {
   "cell_type": "markdown",
   "id": "e4e246f1",
   "metadata": {},
   "source": [
    "The above code defines a RegEx pattern. The pattern is: any five letter string starting with 'a' and ending with 's'."
   ]
  },
  {
   "cell_type": "markdown",
   "id": "762f8c83",
   "metadata": {},
   "source": [
    "## 2. Why do raw strings often appear in Regex objects?\n",
    "\n",
    "- Raw strings are used so that backslashes do not have to be escaped.\n",
    "- Python Raw Strings are string literals prefixed with a \"r\" or \"R\". For example, r\"Hello\" is a raw string. Raw Strings do not treat backslashes (\"\") as part of an escape sequence. It will be printed normally as a result. \n",
    "- Python raw string treats the backslash character (\\) as a literal character. Raw string is useful when a string needs to contain a backslash, such as for a regular expression or Windows directory path, and you don't want it to be treated as an escape character.\n",
    "- The normal string in print() function translates escape characters (such as \\n , \\t etc.) if any, while those in a raw string are not."
   ]
  },
  {
   "cell_type": "markdown",
   "id": "38cff821",
   "metadata": {},
   "source": [
    "## 3. What is the return value of the search() method?\n",
    "\n",
    "- The re.search() method takes two arguments: a pattern and a string. The method looks for the first location where the RegEx pattern produces a match with the string.\n",
    "- If the search is successful, re.search() returns a match object; if not, it returns None.\n",
    "\n",
    "```python\n",
    "match = re.search(pattern, str)\n",
    "```"
   ]
  },
  {
   "cell_type": "code",
   "execution_count": 1,
   "id": "f19271e5",
   "metadata": {},
   "outputs": [
    {
     "name": "stdout",
     "output_type": "stream",
     "text": [
      "pattern found inside the string\n"
     ]
    }
   ],
   "source": [
    "import re\n",
    "\n",
    "string = \"Python is fun\"\n",
    "\n",
    "# Checking if 'Python' is at the beginning\n",
    "match = re.search('\\APython', string)\n",
    "\n",
    "if match:\n",
    "  print(\"pattern found inside the string\")\n",
    "else:\n",
    "  print(\"pattern not found\")  "
   ]
  },
  {
   "cell_type": "markdown",
   "id": "20e246b2",
   "metadata": {},
   "source": [
    "## 4. From a Match item, how do you get the actual strings that match the pattern?\n",
    "\n",
    "- The “re” package provides several methods to actually perform queries on an input string. We will see the methods of re in Python:\n",
    "    - re.match()\n",
    "    - re.search()\n",
    "    - re.findall()\n",
    "- re.match() function of re in Python will search the regular expression pattern and return the first occurrence. The Python RegEx Match method checks for a match only at the beginning of the string. So, if a match is found in the first line, it returns the match object. But if a match is found in some other line, the Python RegEx Match function returns null."
   ]
  },
  {
   "cell_type": "code",
   "execution_count": 2,
   "id": "9d517a81",
   "metadata": {},
   "outputs": [
    {
     "name": "stdout",
     "output_type": "stream",
     "text": [
      "one\n",
      "only\n",
      "on\n",
      "off\n"
     ]
    }
   ],
   "source": [
    "import re\n",
    "\n",
    "mylist=['one', 'only', 'on', 'off', 'two']\n",
    "\n",
    "for i in mylist:\n",
    "    z = re.match(\"(o\\w+)\", i)\n",
    "    if z:\n",
    "        print (z.group())"
   ]
  },
  {
   "cell_type": "markdown",
   "id": "822ea1ac",
   "metadata": {},
   "source": [
    "- **re.search()** function will search the regular expression pattern and return the first occurrence. Unlike Python re.match(), it will check all lines of the input string. The Python re.search() function returns a match object when the pattern is found and “null” if the pattern is not found\n",
    "\n",
    "- In order to use **search()** function, you need to import Python re module first and then execute the code. The Python re.search() function takes the “pattern” and “text” to scan from our main string"
   ]
  },
  {
   "cell_type": "code",
   "execution_count": 3,
   "id": "92b1b213",
   "metadata": {},
   "outputs": [
    {
     "name": "stdout",
     "output_type": "stream",
     "text": [
      "Looking for \"one\" in \"one and only\":  Found a Match\n",
      "Looking for \"only\" in \"one and only\":  Found a Match\n",
      "Looking for \"on\" in \"one and only\":  Found a Match\n",
      "Looking for \"off\" in \"one and only\":  No Match found\n",
      "Looking for \"two\" in \"one and only\":  No Match found\n"
     ]
    }
   ],
   "source": [
    "patterns =['one', 'only', 'on', 'off', 'two']\n",
    "text= 'one and only'\n",
    "\n",
    "for pattern in patterns:\n",
    "    print('Looking for \"%s\" in \"%s\": '% (pattern ,text), end = ' ')\n",
    "    \n",
    "    if re.search(pattern,text):\n",
    "        print('Found a Match')\n",
    "    else:\n",
    "        print('No Match found')"
   ]
  },
  {
   "cell_type": "markdown",
   "id": "c213cc3d",
   "metadata": {},
   "source": [
    "- **findall() module** is used to search for “all” occurrences that match a given pattern. In contrast, search() module will only return the first occurrence that matches the specified pattern. findall() will iterate over all the lines of the file and will return all non-overlapping matches of pattern in a single step.\n",
    "- **Use**: Here we have a list of e-mail addresses, and we want all the e-mail addresses to be fetched out from the list, we use the method re.findall() in Python. It will find all the e-mail addresses from the list."
   ]
  },
  {
   "cell_type": "code",
   "execution_count": 4,
   "id": "705d5d0d",
   "metadata": {},
   "outputs": [
    {
     "name": "stdout",
     "output_type": "stream",
     "text": [
      "abc99@google.com\n",
      "abc99@hotmail.com\n",
      "abc@yahoomail.com\n"
     ]
    }
   ],
   "source": [
    "abc = 'abc99@google.com, fullnames, abc99@hotmail.com, abc@yahoomail.com , names'\n",
    "emails = re.findall(r'[\\w\\.-]+@[\\w\\.-]+', abc)\n",
    "\n",
    "for email in emails:\n",
    "    print(email)"
   ]
  },
  {
   "cell_type": "markdown",
   "id": "d8a0a51f",
   "metadata": {},
   "source": [
    "## 5. In the regex which created from the r&#39;(\\d\\d\\d)-(\\d\\d\\d-\\d\\d\\d\\d)&#39;, what does group zero cover? Group 2? Group 1?\n",
    "\n",
    "Ans: Group 0 is the entire match, group 1 covers the first set of parentheses, and group 2 covers the second set of parentheses."
   ]
  },
  {
   "cell_type": "markdown",
   "id": "9a8ae637",
   "metadata": {},
   "source": [
    "## 6. In standard expression syntax, parentheses and intervals have distinct meanings. How can you tell a regex that you want it to fit real parentheses and periods?\n",
    "\n",
    "- Periods and parentheses can be escaped with a backslash: \\., \\(, and \\).\n",
    "- Parentheses are used for grouping in regular expressions, as in arithmetic. They can be used to concatenate regular expressions containing the alternation operator, ' | '. For example, ' @(samp|code)\\{[^}]+\\} ' matches both ' @code{foo} ' and ' @samp{bar} '."
   ]
  },
  {
   "cell_type": "markdown",
   "id": "feefa8c9",
   "metadata": {},
   "source": [
    "## 7. The findall() method returns a string list or a list of string tuples. What causes it to return one of the two options?\n",
    "\n",
    "-  If the regex has no groups, a list of strings is returned. \n",
    "- If the regex has groups, a list of tuples of strings is returned.\n",
    "- If the pattern is not found, re. findall() returns an empty list."
   ]
  },
  {
   "cell_type": "markdown",
   "id": "5357f8ab",
   "metadata": {},
   "source": [
    "## 8. In standard expressions, what does the | character mean?\n",
    "\n",
    "- The | character signifies matching “either, or” between two groups.\n",
    "- The vertical bar, |, is a glyph with various uses in mathematics, computing, and typography. It has many names, often related to particular meanings: Sheffer stroke (in logic), pipe, bar, or (literally the word \"or\"), vbar, and others.\n",
    "- The vertical bar is used as a mathematical symbol in numerous ways: absolute value,cardinality, conditional probability, determinant, and many more.\n",
    "- In many programming languages, the vertical bar is used to designate the logic operation or, either bitwise or or logical or. \n",
    "- In regular expression syntax, the vertical bar again indicates logical or (alternation)."
   ]
  },
  {
   "cell_type": "markdown",
   "id": "717e6910",
   "metadata": {},
   "source": [
    "## 9. In regular expressions, what does the character stand for?\n",
    "\n",
    "- Character: All characters, except those having special meaning in regex, matches themselves. E.g., the regex x matches substring \"x\"; regex 9 matches \"9\"; regex = matches \"=\"; and regex @ matches \"@\".\n",
    "- Special Regex Characters: These characters have special meaning in regex (to be discussed below): ., +, *, ?, ^, $, (, ), [, ], {, }, |, \\.\n",
    "- Escape Sequences (\\char): To match a character having special meaning in regex, you need to use a escape sequence prefix with a backslash (\\). E.g., \\. matches \".\"; regex \\+ matches \"+\"; and regex \\( matches \"(\". You also need to use regex \\\\ to match \"\\\" (back-slash). Regex recognizes common escape sequences such as \\n for newline, \\t for tab, \\r for carriage-return, \\nnn for a up to 3-digit octal number, \\xhh for a two-digit hex code, \\uhhhh for a 4-digit Unicode, \\uhhhhhhhh for a 8-digit Unicode.\n",
    "- A Sequence of Characters (or String): Strings can be matched via combining a sequence of characters (called sub-expressions). E.g., the regex Saturday matches \"Saturday\". The matching, by default, is case-sensitive, but can be set to case-insensitive via modifier.\n",
    "- OR Operator (|): E.g., the regex four|4 accepts strings \"four\" or \"4\"."
   ]
  },
  {
   "cell_type": "markdown",
   "id": "90d0d7cc",
   "metadata": {},
   "source": [
    "## 10.In regular expressions, what is the difference between the + and * characters?\n",
    "\n",
    "- They are quantifiers.\n",
    "    - '+' means 1 or many (at least one occurrence for the match to succeed)\n",
    "    - '*' means 0 or many (the match succeeds regardless of the presence of the search string)"
   ]
  },
  {
   "cell_type": "markdown",
   "id": "34f38a4f",
   "metadata": {},
   "source": [
    "## 11. What is the difference between {4} and {4,5} in regular expression?\n",
    "\n",
    "- {4} means that the preceding character is to be repeated 4 times. {4,5} means that the preceding character is repeated atleast min 4 & atmost max 5 times. \n",
    "- The curly braces {…}: It tells the computer to repeat the preceding character (or set of characters) for as many times as the value inside this bracket. Example : {2} means that the preceding character is to be repeated 2  times, {min,} means the preceding character is matches min or  more  times. {min,max} means that the preceding character is repeated atleast min & atmost max times."
   ]
  },
  {
   "cell_type": "markdown",
   "id": "ea185e00",
   "metadata": {},
   "source": [
    "## 12. What do you mean by the \\d, \\w, and \\s shorthand character classes signify in regular expressions?\n",
    "\n",
    "- A character class matches any one of a set of characters. It is used to match the most basic element of a language like a letter, a digit, space, a symbol etc. \n",
    "- /s : matches any whitespace characters such as space and tab \n",
    "- /S : matches any non-whitespace characters \n",
    "- /d : matches any digit character \n",
    "- /D : matches any non-digit characters \n",
    "- /w : matches any word character (basically alpha-numeric) \n",
    "- /W : matches any non-word character \n",
    "- /b : matches any word boundary (this would include spaces, dashes, commas, semi-colons, etc) \n",
    "- [set_of_characters] – Matches any single character in set_of_characters. By default, the match is case-sensitive."
   ]
  },
  {
   "cell_type": "markdown",
   "id": "4781fa3d",
   "metadata": {},
   "source": [
    "## 13. What do means by \\D, \\W, and \\S shorthand character classes signify in regular expressions?\n",
    "\n",
    "Same question as above."
   ]
  },
  {
   "cell_type": "markdown",
   "id": "3585ed25",
   "metadata": {},
   "source": [
    "## 14. What is the difference between .*? and .*?\n",
    "\n",
    "- Repetition in regex by default is greedy: they try to match as many reps as possible, and when this doesn't work and they have to backtrack, they try to match one fewer rep at a time, until a match of the whole pattern is found. As a result, when a match finally happens, a greedy repetition would match as many reps as possible.\n",
    "- The ? as a repetition quantifier changes this behavior into non-greedy, also called reluctant (in e.g. Java) (and sometimes \"lazy\"). In contrast, this repetition will first try to match as few reps as possible, and when this doesn't work and they have to backtrack, they start matching one more rept a time. As a result, when a match finally happens, a reluctant repetition would match as few reps as possible."
   ]
  },
  {
   "cell_type": "markdown",
   "id": "939e7519",
   "metadata": {},
   "source": [
    "## 15. What is the syntax for matching both numbers and lowercase letters with a character class?\n",
    "\n",
    "Either [0-9a-z] or [a-z0-9]"
   ]
  },
  {
   "cell_type": "markdown",
   "id": "06657b1e",
   "metadata": {},
   "source": [
    "## 16. What is the procedure for making a normal expression in regax case insensitive?\n",
    "\n",
    "- Passing re.I or re.IGNORECASE as the second argument to re.compile() will make the matching case insensitive."
   ]
  },
  {
   "cell_type": "markdown",
   "id": "a66742f1",
   "metadata": {},
   "source": [
    "## 17. What does the . character normally match? What does it match if re.DOTALL is passed as 2nd argument in re.compile()?\n",
    "\n",
    "- The . character normally matches any character except the newline character. If re.DOTALL is passed as the second argument to re.compile(), then the dot will also match newline characters."
   ]
  },
  {
   "cell_type": "markdown",
   "id": "57fc85c4",
   "metadata": {},
   "source": [
    "## 18. If numReg = re.compile(r&#39;\\d+&#39;), what will numRegex.sub(&#39;X&#39;, &#39;11 drummers, 10 pipers, five rings, 4 hen&#39;) return?\n",
    "\n",
    "- 'X drummers, X pipers, five rings, X hens'"
   ]
  },
  {
   "cell_type": "code",
   "execution_count": 5,
   "id": "312d6ed9",
   "metadata": {},
   "outputs": [
    {
     "data": {
      "text/plain": [
       "'X drummers, X pipers, five rings, X hen'"
      ]
     },
     "execution_count": 5,
     "metadata": {},
     "output_type": "execute_result"
    }
   ],
   "source": [
    "import re\n",
    "\n",
    "numReg = re.compile(r'\\d+')\n",
    "\n",
    "numReg.sub('X', '11 drummers, 10 pipers, five rings, 4 hen')"
   ]
  },
  {
   "cell_type": "markdown",
   "id": "ea10691d",
   "metadata": {},
   "source": [
    "## 19. What does passing re.VERBOSE as the 2nd argument to re.compile() allow to do?\n",
    "\n",
    "- The re.VERBOSE argument allows you to add whitespace and comments to the string passed to re.compile()"
   ]
  },
  {
   "cell_type": "markdown",
   "id": "f3635b26",
   "metadata": {},
   "source": [
    "## 20. How would you write a regex that match a number with comma for every three digits? It must match the given following:\n",
    "\n",
    "- &#39;42&#39;\n",
    "- &#39;1,234&#39;\n",
    "- &#39;6,368,745&#39;\n",
    "\n",
    "## but not the following:\n",
    "\n",
    "- &#39;12,34,567&#39; (which has only two digits between the commas)\n",
    "- &#39;1234&#39; (which lacks commas)\n",
    "\n",
    "\n",
    "re.compile(r'^\\d{1,3}(,{3})*$') will create this regex, but other regex strings can produce a similar regular expression."
   ]
  },
  {
   "cell_type": "code",
   "execution_count": 6,
   "id": "893e5c5d",
   "metadata": {},
   "outputs": [
    {
     "data": {
      "text/plain": [
       "re.compile(r'^\\d{1,3}(,{3})*$', re.UNICODE)"
      ]
     },
     "execution_count": 6,
     "metadata": {},
     "output_type": "execute_result"
    }
   ],
   "source": [
    "re.compile(r'^\\d{1,3}(,{3})*$')"
   ]
  },
  {
   "cell_type": "markdown",
   "id": "79d3e0b4",
   "metadata": {},
   "source": [
    "## 21. How would you write a regex that matches the full name of someone whose last name is Watanabe? You can assume that the first name that comes before it will always be one word that begins with a capital letter. The regex must match the following:\n",
    "\n",
    "- &#39;Haruto Watanabe&#39;\n",
    "- &#39;Alice Watanabe&#39;\n",
    "- &#39;RoboCop Watanabe&#39;\n",
    "\n",
    "## but not the following:\n",
    "\n",
    "- &#39;haruto Watanabe&#39; (where the first name is not capitalized)\n",
    "- &#39;Mr. Watanabe&#39; (where the preceding word has a nonletter character)\n",
    "- &#39;Watanabe&#39; (which has no first name)\n",
    "- &#39;Haruto watanabe&#39; (where Watanabe is not capitalized)"
   ]
  },
  {
   "cell_type": "code",
   "execution_count": 7,
   "id": "b335df0e",
   "metadata": {},
   "outputs": [
    {
     "data": {
      "text/plain": [
       "re.compile(r'[A-Z][a-z]*\\sWatanabe', re.UNICODE)"
      ]
     },
     "execution_count": 7,
     "metadata": {},
     "output_type": "execute_result"
    }
   ],
   "source": [
    "re.compile(r'[A-Z][a-z]*\\sWatanabe')"
   ]
  },
  {
   "cell_type": "markdown",
   "id": "8816c195",
   "metadata": {},
   "source": [
    "## 22. How would you write a regex that matches a sentence where the first word is either Alice, Bob, or Carol; the second word is either eats, pets, or throws; the third word is apples, cats, or baseballs; and the sentence ends with a period? This regex should be case-insensitive. It must match the following:\n",
    "\n",
    "- &#39;Alice eats apples.&#39;\n",
    "- &#39;Bob pets cats.&#39;\n",
    "- &#39;Carol throws baseballs.&#39;\n",
    "- &#39;Alice throws Apples.&#39;\n",
    "- &#39;BOB EATS CATS.&#39;\n",
    "\n",
    "## but not the following:\n",
    "\n",
    "- &#39;RoboCop eats apples.&#39;\n",
    "- &#39;ALICE THROWS FOOTBALLS.&#39;\n",
    "- &#39;Carol eats 7 cats.&#39;"
   ]
  },
  {
   "cell_type": "code",
   "execution_count": 8,
   "id": "850b0b8a",
   "metadata": {},
   "outputs": [
    {
     "data": {
      "text/plain": [
       "re.compile(r'(Alice|Bob|Carol)\\s(eats|pets|throws)\\s(apples|cats|baseballs)\\.',\n",
       "           re.IGNORECASE|re.UNICODE)"
      ]
     },
     "execution_count": 8,
     "metadata": {},
     "output_type": "execute_result"
    }
   ],
   "source": [
    "re.compile(r'(Alice|Bob|Carol)\\s(eats|pets|throws)\\s(apples|cats|baseballs)\\.', re.IGNORECASE)"
   ]
  }
 ],
 "metadata": {
  "kernelspec": {
   "display_name": "Python 3 (ipykernel)",
   "language": "python",
   "name": "python3"
  },
  "language_info": {
   "codemirror_mode": {
    "name": "ipython",
    "version": 3
   },
   "file_extension": ".py",
   "mimetype": "text/x-python",
   "name": "python",
   "nbconvert_exporter": "python",
   "pygments_lexer": "ipython3",
   "version": "3.11.0"
  }
 },
 "nbformat": 4,
 "nbformat_minor": 5
}
