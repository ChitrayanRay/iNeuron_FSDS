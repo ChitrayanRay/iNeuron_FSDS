{
 "cells": [
  {
   "cell_type": "markdown",
   "id": "d9681908",
   "metadata": {},
   "source": [
    "## Q1. What is the distinction between a numpy array and a pandas data frame? Is there a way to convert between the two if there is?"
   ]
  },
  {
   "cell_type": "markdown",
   "id": "a8909cb8",
   "metadata": {},
   "source": [
    "Numpy Ndarray provides a lot of convenient and optimized methods for performing several mathematical operations on vectors.\n",
    "\n",
    "Pandas Dataframe is an in-memory 2-dimensional tabular representation of data. In simpler words, it can be seen as a spreadsheet having rows and columns.\n",
    "\n",
    "Conversion: Dataframe = pandas.DataFrame(array)"
   ]
  },
  {
   "cell_type": "markdown",
   "id": "8bfef25f",
   "metadata": {},
   "source": [
    "## Q2. What can go wrong when an user enters in a stock-ticker symbol, and how do you handle it?"
   ]
  },
  {
   "cell_type": "markdown",
   "id": "2250b458",
   "metadata": {},
   "source": [
    "When a user enters a stock-ticker symbol, several things can go wrong. Some possible issues are:\n",
    "\n",
    "  **=> Invalid input:** The user may enter an invalid stock-ticker symbol, such as a symbol that does not exist, or a symbol that is misspelled.\n",
    "\n",
    "  **=> Ambiguous input:** The user may enter a stock-ticker symbol that is ambiguous, meaning that it can refer to multiple different stocks or companies. For example, \"AAPL\" can refer to Apple Inc. or Alexandria Real Estate Equities Inc.\n",
    "\n",
    "  **=> Case sensitivity:** Some stock-ticker symbols are case-sensitive, which means that \"AAPL\" may not be the same as \"aapl\".\n",
    "\n",
    "To handle these issues, we can implement some error-checking and validation in our program. Here are some strategies we can use:\n",
    "\n",
    "**1.** Validating input: We can check if the entered stock-ticker symbol is valid by comparing it against a list of known symbols. If the symbol is not found, we can display an error message to the user.\n",
    "\n",
    "**2.** Handling ambiguity: If the entered stock-ticker symbol is ambiguous, we can ask the user to specify which company or stock they are interested in. Alternatively, we can use additional information such as the company name or stock exchange to disambiguate the symbol.\n",
    "\n",
    "**3.** Ignoring case sensitivity: We can convert all entered stock-ticker symbols to uppercase or lowercase to avoid case sensitivity issues.\n",
    "\n",
    "**4.** Providing feedback: We can provide feedback to the user to let them know if their input was valid or not and if there were any issues or errors. This can help the user correct their input and avoid frustration."
   ]
  },
  {
   "cell_type": "markdown",
   "id": "9e9872f7",
   "metadata": {},
   "source": [
    "## Q3. Identify some of the plotting techniques that are used to produce a stock-market chart."
   ]
  },
  {
   "cell_type": "markdown",
   "id": "878a0e94",
   "metadata": {},
   "source": [
    "Some of the plotting techniques that are used to produce a stock-market chart are:  **Bar chart**, **Line Chart** are used for plotting."
   ]
  },
  {
   "cell_type": "markdown",
   "id": "c21265d8",
   "metadata": {},
   "source": [
    "## Q4. Why is it essential to print a legend on a stock market chart?"
   ]
  },
  {
   "cell_type": "markdown",
   "id": "c7946f30",
   "metadata": {},
   "source": [
    "Legend will help comparison between different stocks, so will be essential on a stock market chart."
   ]
  },
  {
   "cell_type": "markdown",
   "id": "ac50612b",
   "metadata": {},
   "source": [
    "## Q5. What is the best way to limit the length of a pandas data frame to less than a year?"
   ]
  },
  {
   "cell_type": "markdown",
   "id": "992a7789",
   "metadata": {},
   "source": [
    "We can use start and end parameters for that. In start we write the date from where we are starting and at the end we write the end date. So, within this span we can restric the duration. Also we can use the parameters like periods for how much times we need the duration and we can also use the frequency parameter."
   ]
  },
  {
   "cell_type": "markdown",
   "id": "9e0dbc97",
   "metadata": {},
   "source": [
    "## Q6. What is the definition of a 180-day moving average?"
   ]
  },
  {
   "cell_type": "markdown",
   "id": "f5d52127",
   "metadata": {},
   "source": [
    "The 180-day moving average is represented as a line on charts and represents the average price over the past 180 days. The moving average can give traders a sense regarding whether the trend is up or down, while also identifying potential support or resistance areas."
   ]
  },
  {
   "cell_type": "markdown",
   "id": "32b71a65",
   "metadata": {},
   "source": [
    "## Q7. Did the chapter&#39;s final example use &quot;indirect&quot; importing? If so, how exactly do you do it?"
   ]
  },
  {
   "cell_type": "markdown",
   "id": "ac52b004",
   "metadata": {},
   "source": [
    "Indirect importing, also known as aliasing or renaming, is a way to import a module or function under a different name in Python. This is useful when the original name is too long or when there is a naming conflict with another module or function.\n",
    "\n",
    "To perform indirect importing, you can use the **as** keyword followed by the new name you want to use for the module or function you are importing. Here is an example:"
   ]
  },
  {
   "cell_type": "code",
   "execution_count": 1,
   "id": "1242efef",
   "metadata": {},
   "outputs": [],
   "source": [
    "import seaborn as sns"
   ]
  }
 ],
 "metadata": {
  "kernelspec": {
   "display_name": "Python 3 (ipykernel)",
   "language": "python",
   "name": "python3"
  },
  "language_info": {
   "codemirror_mode": {
    "name": "ipython",
    "version": 3
   },
   "file_extension": ".py",
   "mimetype": "text/x-python",
   "name": "python",
   "nbconvert_exporter": "python",
   "pygments_lexer": "ipython3",
   "version": "3.11.0"
  }
 },
 "nbformat": 4,
 "nbformat_minor": 5
}
