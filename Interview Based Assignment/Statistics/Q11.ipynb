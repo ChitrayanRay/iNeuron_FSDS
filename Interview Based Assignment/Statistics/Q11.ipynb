{
 "cells": [
  {
   "cell_type": "markdown",
   "id": "92630346",
   "metadata": {},
   "source": [
    "**Q-11.** Given the data of a feature contributing to different classes\n",
    "\n",
    "https://drive.google.com/file/d/1mCjtYHiX--mMUjicuaP2gH3k-SnFxt8Y/view?usp\n",
    "=share_\n",
    "\n",
    "**a.** Check whether the distribution of all the classes are the same or not.\n",
    "\n",
    "**b.** Check for the equality of variance/\n",
    "\n",
    "**c.** Which amount LDA and QDA would perform better on this data for\n",
    "classification and why.\n",
    "\n",
    "**d.** Check the equality of mean for between all the classes."
   ]
  },
  {
   "cell_type": "code",
   "execution_count": 1,
   "id": "4f75a12f",
   "metadata": {},
   "outputs": [
    {
     "data": {
      "text/html": [
       "<div>\n",
       "<style scoped>\n",
       "    .dataframe tbody tr th:only-of-type {\n",
       "        vertical-align: middle;\n",
       "    }\n",
       "\n",
       "    .dataframe tbody tr th {\n",
       "        vertical-align: top;\n",
       "    }\n",
       "\n",
       "    .dataframe thead th {\n",
       "        text-align: right;\n",
       "    }\n",
       "</style>\n",
       "<table border=\"1\" class=\"dataframe\">\n",
       "  <thead>\n",
       "    <tr style=\"text-align: right;\">\n",
       "      <th></th>\n",
       "      <th>Patient ID</th>\n",
       "      <th>Blood Pressure Before (mmHg)</th>\n",
       "      <th>Blood Pressure After (mmHg)</th>\n",
       "    </tr>\n",
       "  </thead>\n",
       "  <tbody>\n",
       "    <tr>\n",
       "      <th>0</th>\n",
       "      <td>1</td>\n",
       "      <td>130</td>\n",
       "      <td>120</td>\n",
       "    </tr>\n",
       "    <tr>\n",
       "      <th>1</th>\n",
       "      <td>2</td>\n",
       "      <td>142</td>\n",
       "      <td>135</td>\n",
       "    </tr>\n",
       "    <tr>\n",
       "      <th>2</th>\n",
       "      <td>3</td>\n",
       "      <td>120</td>\n",
       "      <td>118</td>\n",
       "    </tr>\n",
       "    <tr>\n",
       "      <th>3</th>\n",
       "      <td>4</td>\n",
       "      <td>135</td>\n",
       "      <td>127</td>\n",
       "    </tr>\n",
       "    <tr>\n",
       "      <th>4</th>\n",
       "      <td>5</td>\n",
       "      <td>148</td>\n",
       "      <td>140</td>\n",
       "    </tr>\n",
       "  </tbody>\n",
       "</table>\n",
       "</div>"
      ],
      "text/plain": [
       "   Patient ID   Blood Pressure Before (mmHg)   Blood Pressure After (mmHg)\n",
       "0           1                            130                           120\n",
       "1           2                            142                           135\n",
       "2           3                            120                           118\n",
       "3           4                            135                           127\n",
       "4           5                            148                           140"
      ]
     },
     "execution_count": 1,
     "metadata": {},
     "output_type": "execute_result"
    }
   ],
   "source": [
    "import pandas as pd\n",
    "\n",
    "#Download datset to Present working directory and load the dataset\n",
    "\n",
    "data=pd.read_csv('BPdata.csv')\n",
    "\n",
    "df=pd.DataFrame(data)\n",
    "\n",
    "df.head()"
   ]
  },
  {
   "cell_type": "code",
   "execution_count": 2,
   "id": "cbf82e40",
   "metadata": {},
   "outputs": [
    {
     "data": {
      "text/plain": [
       "array([[<AxesSubplot: title={'center': ' Blood Pressure After (mmHg)'}>]],\n",
       "      dtype=object)"
      ]
     },
     "execution_count": 2,
     "metadata": {},
     "output_type": "execute_result"
    },
    {
     "data": {
      "image/png": "[encoded data removed]",
      "text/plain": [
       "<Figure size 640x480 with 1 Axes>"
      ]
     },
     "metadata": {},
     "output_type": "display_data"
    },
    {
     "data": {
      "image/png": "[encoded data removed]",
      "text/plain": [
       "<Figure size 640x480 with 1 Axes>"
      ]
     },
     "metadata": {},
     "output_type": "display_data"
    }
   ],
   "source": [
    "# a. Checking the distribution of all the classes\n",
    "\n",
    "# Visualizing the data using histograms for each class\n",
    "\n",
    "df.hist(column=' Blood Pressure Before (mmHg)', by=None, grid=False)\n",
    "\n",
    "df.hist(column=' Blood Pressure After (mmHg)', by=None, grid=False)"
   ]
  },
  {
   "cell_type": "code",
   "execution_count": 3,
   "id": "0981710e",
   "metadata": {},
   "outputs": [
    {
     "name": "stdout",
     "output_type": "stream",
     "text": [
      "Levene's Test Statistic: 0.18038002140150966\n",
      "Levene's Test p-value: 0.6715080090945376\n"
     ]
    }
   ],
   "source": [
    "# b. Checking the equality of variance\n",
    "\n",
    "# Calculating the variance of each class\n",
    "\n",
    "from scipy import stats\n",
    "\n",
    "variance_before = df[' Blood Pressure Before (mmHg)'].var()\n",
    "\n",
    "variance_after = df[' Blood Pressure After (mmHg)'].var()\n",
    "\n",
    "# Performing Levene's test for equality of variance\n",
    "\n",
    "levene_result = stats.levene(df[' Blood Pressure Before (mmHg)'], df[' Blood Pressure After (mmHg)'])\n",
    "\n",
    "p_value = levene_result.pvalue\n",
    "\n",
    "print(\"Levene's Test Statistic:\", levene_result.statistic)\n",
    "\n",
    "print(\"Levene's Test p-value:\", levene_result.pvalue)"
   ]
  },
  {
   "cell_type": "markdown",
   "id": "edcf5fe9",
   "metadata": {},
   "source": [
    "    As the p-value(0.67) is greater than a chosen significance level (e.g., 0.05), it suggests that the variances are significantly not different."
   ]
  },
  {
   "cell_type": "code",
   "execution_count": 4,
   "id": "f249e5a9",
   "metadata": {},
   "outputs": [
    {
     "name": "stdout",
     "output_type": "stream",
     "text": [
      "Comparison of LDA and QDA for classification:\n",
      "Mean Accuracy of LDA: 0.51\n",
      "Mean Accuracy of QDA: 0.49000000000000005\n"
     ]
    }
   ],
   "source": [
    "# c. Comparison of LDA and QDA for classification\n",
    "\n",
    "# Assuming you have the target variable representing the classes\n",
    "\n",
    "X = df[[' Blood Pressure Before (mmHg)', ' Blood Pressure After (mmHg)']]\n",
    "\n",
    "y = [0, 1] * 50  # Assuming binary classes (alternating 0 and 1 for demonstration purposes)\n",
    "\n",
    "from sklearn.discriminant_analysis import LinearDiscriminantAnalysis, QuadraticDiscriminantAnalysis\n",
    "from sklearn.model_selection import cross_val_score\n",
    "\n",
    "# Performing cross-validation and comparing the accuracy of LDA and QDA\n",
    "\n",
    "lda = LinearDiscriminantAnalysis()\n",
    "\n",
    "qda = QuadraticDiscriminantAnalysis()\n",
    "\n",
    "lda_scores = cross_val_score(lda, X, y, cv=5)\n",
    "\n",
    "qda_scores = cross_val_score(qda, X, y, cv=5)\n",
    "\n",
    "mean_lda_accuracy = lda_scores.mean()\n",
    "\n",
    "mean_qda_accuracy = qda_scores.mean()\n",
    "\n",
    "print(\"Comparison of LDA and QDA for classification:\")\n",
    "\n",
    "print(\"Mean Accuracy of LDA:\", mean_lda_accuracy)\n",
    "\n",
    "print(\"Mean Accuracy of QDA:\", mean_qda_accuracy)"
   ]
  },
  {
   "cell_type": "code",
   "execution_count": 5,
   "id": "854fe95e",
   "metadata": {},
   "outputs": [
    {
     "name": "stdout",
     "output_type": "stream",
     "text": [
      "Equality of Variance:\n",
      "Variance of Blood Pressure Before: 43.53727272727272\n",
      "Variance of Blood Pressure After: 47.44484848484848\n",
      "Levene's Test p-value: 0.6715080090945376\n",
      "\n",
      "Equality of Mean (ANOVA Test):\n",
      "ANOVA Test p-value: 2.3565868442707578e-08\n"
     ]
    }
   ],
   "source": [
    "# d. Checking the equality of mean between all the classes\n",
    "\n",
    "# Performing ANOVA test for equality of means\n",
    "\n",
    "anova_result = stats.f_oneway(df[' Blood Pressure Before (mmHg)'], df[' Blood Pressure After (mmHg)'])\n",
    "\n",
    "p_value_anova = anova_result.pvalue\n",
    "\n",
    "print(\"Equality of Variance:\")\n",
    "\n",
    "print(\"Variance of Blood Pressure Before:\", variance_before)\n",
    "\n",
    "print(\"Variance of Blood Pressure After:\", variance_after)\n",
    "\n",
    "print(\"Levene's Test p-value:\", p_value)\n",
    "\n",
    "print(\"\\nEquality of Mean (ANOVA Test):\")\n",
    "\n",
    "print(\"ANOVA Test p-value:\", p_value_anova)"
   ]
  },
  {
   "cell_type": "markdown",
   "id": "fef9784f",
   "metadata": {},
   "source": [
    "    Since the p-value is less than the commonly chosen significance level of 0.05, we reject the null hypothesis. This means that we have enough evidence to conclude that there is a significant difference in means among the groups."
   ]
  }
 ],
 "metadata": {
  "kernelspec": {
   "display_name": "Python 3 (ipykernel)",
   "language": "python",
   "name": "python3"
  },
  "language_info": {
   "codemirror_mode": {
    "name": "ipython",
    "version": 3
   },
   "file_extension": ".py",
   "mimetype": "text/x-python",
   "name": "python",
   "nbconvert_exporter": "python",
   "pygments_lexer": "ipython3",
   "version": "3.10.7"
  }
 },
 "nbformat": 4,
 "nbformat_minor": 5
}
