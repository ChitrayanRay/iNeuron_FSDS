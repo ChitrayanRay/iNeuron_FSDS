{
 "cells": [
  {
   "cell_type": "markdown",
   "id": "e349701d",
   "metadata": {},
   "source": [
    "## 1. Write a Python Program to Add Two Matrices?"
   ]
  },
  {
   "cell_type": "markdown",
   "id": "1e072c2c",
   "metadata": {},
   "source": [
    "### Adding two matrices using nested loop"
   ]
  },
  {
   "cell_type": "code",
   "execution_count": 1,
   "id": "e797bd30",
   "metadata": {},
   "outputs": [
    {
     "name": "stdout",
     "output_type": "stream",
     "text": [
      "[17, 15, 4]\n",
      "[10, 12, 9]\n",
      "[11, 13, 18]\n"
     ]
    }
   ],
   "source": [
    "X = [[12,7,3],\n",
    "    [4 ,5,6],\n",
    "    [7 ,8,9]]\n",
    "\n",
    "Y = [[5,8,1],\n",
    "    [6,7,3],\n",
    "    [4,5,9]]\n",
    "\n",
    "result = [[0,0,0],\n",
    "         [0,0,0],\n",
    "         [0,0,0]]\n",
    "\n",
    "# Iterating through rows\n",
    "for i in range(len(X)):                  \n",
    "   # Iterating through columns\n",
    "   for j in range(len(X[0])):            \n",
    "        result[i][j] = X[i][j] + Y[i][j]\n",
    "\n",
    "for r in result:\n",
    "    print(r)"
   ]
  },
  {
   "cell_type": "markdown",
   "id": "b1086131",
   "metadata": {},
   "source": [
    "### Adding two matrices using list comprehension"
   ]
  },
  {
   "cell_type": "code",
   "execution_count": 2,
   "id": "402e3387",
   "metadata": {},
   "outputs": [
    {
     "name": "stdout",
     "output_type": "stream",
     "text": [
      "[17, 15, 4]\n",
      "[10, 12, 9]\n",
      "[11, 13, 18]\n"
     ]
    }
   ],
   "source": [
    "X = [[12,7,3],\n",
    "    [4 ,5,6],\n",
    "    [7 ,8,9]]\n",
    "\n",
    "Y = [[5,8,1],\n",
    "    [6,7,3],\n",
    "    [4,5,9]]\n",
    "\n",
    "result = [[X[i][j] + Y[i][j]  for j in range(len(X[0]))] for i in range(len(X))]\n",
    "\n",
    "for r in result:\n",
    "    print(r)"
   ]
  },
  {
   "cell_type": "markdown",
   "id": "18be373e",
   "metadata": {},
   "source": [
    "## 2. Write a Python Program to Multiply Two Matrices?"
   ]
  },
  {
   "cell_type": "markdown",
   "id": "16b71f4d",
   "metadata": {},
   "source": [
    "### Multiplying two matrices using nested loop"
   ]
  },
  {
   "cell_type": "code",
   "execution_count": 3,
   "id": "987b6cc3",
   "metadata": {},
   "outputs": [
    {
     "name": "stdout",
     "output_type": "stream",
     "text": [
      "[60, 56, 3]\n",
      "[24, 35, 18]\n",
      "[28, 40, 81]\n"
     ]
    }
   ],
   "source": [
    "X = [[12,7,3],\n",
    "    [4 ,5,6],\n",
    "    [7 ,8,9]]\n",
    "\n",
    "Y = [[5,8,1],\n",
    "    [6,7,3],\n",
    "    [4,5,9]]\n",
    "\n",
    "result = [[0,0,0],\n",
    "         [0,0,0],\n",
    "         [0,0,0]]\n",
    "\n",
    "# Iterating through rows\n",
    "for i in range(len(X)):\n",
    "   # Iterating through columns\n",
    "   for j in range(len(X[0])):\n",
    "        result[i][j] = X[i][j] * Y[i][j]\n",
    "\n",
    "for r in result:\n",
    "    print(r)"
   ]
  },
  {
   "cell_type": "markdown",
   "id": "b842da00",
   "metadata": {},
   "source": [
    "### Multiplying two matrices using list comprehension"
   ]
  },
  {
   "cell_type": "code",
   "execution_count": 4,
   "id": "0c6d56ec",
   "metadata": {},
   "outputs": [
    {
     "name": "stdout",
     "output_type": "stream",
     "text": [
      "[60, 56, 3]\n",
      "[24, 35, 18]\n",
      "[28, 40, 81]\n"
     ]
    }
   ],
   "source": [
    "X = [[12,7,3],\n",
    "    [4 ,5,6],\n",
    "    [7 ,8,9]]\n",
    "\n",
    "Y = [[5,8,1],\n",
    "    [6,7,3],\n",
    "    [4,5,9]]\n",
    "\n",
    "result = [[X[i][j] * Y[i][j]  for j in range(len(X[0]))] for i in range(len(X))]\n",
    "\n",
    "for r in result:\n",
    "    print(r)"
   ]
  },
  {
   "cell_type": "markdown",
   "id": "9aff3ac7",
   "metadata": {},
   "source": [
    "## 3. Write a Python Program to Transpose a Matrix?\n",
    "\n",
    "Transpose of a matrix is the interchanging of rows and columns."
   ]
  },
  {
   "cell_type": "markdown",
   "id": "78fcd91b",
   "metadata": {},
   "source": [
    "### Transposing a matrix using nested loop"
   ]
  },
  {
   "cell_type": "code",
   "execution_count": 5,
   "id": "0118b75c",
   "metadata": {},
   "outputs": [
    {
     "name": "stdout",
     "output_type": "stream",
     "text": [
      "[12, 4, 7]\n",
      "[7, 5, 8]\n",
      "[3, 6, 9]\n"
     ]
    }
   ],
   "source": [
    "X = [[12,7,3],\n",
    "    [4 ,5,6],\n",
    "    [7 ,8,9]]\n",
    "\n",
    "result = [[0,0,0],\n",
    "         [0,0,0],\n",
    "         [0,0,0]]\n",
    "\n",
    "# Iterating through rows\n",
    "for i in range(len(X)):\n",
    "   # Iterating through columns\n",
    "   for j in range(len(X[0])):\n",
    "        result[j][i] = X[i][j] \n",
    "\n",
    "for r in result:\n",
    "    print(r)"
   ]
  },
  {
   "cell_type": "markdown",
   "id": "cb154344",
   "metadata": {},
   "source": [
    "### Transposing a matrix using list comprehension"
   ]
  },
  {
   "cell_type": "code",
   "execution_count": 6,
   "id": "be7ae6de",
   "metadata": {},
   "outputs": [
    {
     "name": "stdout",
     "output_type": "stream",
     "text": [
      "[12, 4, 3]\n",
      "[7, 5, 8]\n"
     ]
    }
   ],
   "source": [
    "X = [[12,7],\n",
    "    [4 ,5],\n",
    "    [3 ,8]]\n",
    "\n",
    "result = [[X[j][i] for j in range(len(X))] for i in range(len(X[0]))]\n",
    "\n",
    "for r in result:\n",
    "    print(r)"
   ]
  },
  {
   "cell_type": "markdown",
   "id": "b54e50e6",
   "metadata": {},
   "source": [
    "## 4. Write a Python Program to Sort Words in Alphabetic Order?"
   ]
  },
  {
   "cell_type": "code",
   "execution_count": 7,
   "id": "d018a6f7",
   "metadata": {},
   "outputs": [
    {
     "name": "stdout",
     "output_type": "stream",
     "text": [
      "Enter a string: This is my 8th programming assignment\n",
      "The words in the string are:  ['this', 'is', 'my', '8th', 'programming', 'assignment']\n",
      "The sorted words are:\n",
      "8th\n",
      "assignment\n",
      "is\n",
      "my\n",
      "programming\n",
      "this\n"
     ]
    }
   ],
   "source": [
    "inStr = input(\"Enter a string: \")\n",
    "\n",
    "# Breaking down the string into a list of words\n",
    "words = [word.lower() for word in inStr.split()]\n",
    "print(\"The words in the string are: \", words)\n",
    "\n",
    "# Sorting the list\n",
    "words.sort()\n",
    "\n",
    "# Displaying the sorted words\n",
    "\n",
    "print(\"The sorted words are:\")\n",
    "\n",
    "for word in words:\n",
    "    print(word)"
   ]
  },
  {
   "cell_type": "markdown",
   "id": "d55a9d74",
   "metadata": {},
   "source": [
    "## 5. Write a Python Program to Remove Punctuation From a String?\n",
    "\n",
    "To break a sentence into a list of words, we clean up the string and remove all the punctuation marks."
   ]
  },
  {
   "cell_type": "code",
   "execution_count": 8,
   "id": "618badf9",
   "metadata": {},
   "outputs": [
    {
     "name": "stdout",
     "output_type": "stream",
     "text": [
      "Hello this  is  my  assignment  number 8\n"
     ]
    }
   ],
   "source": [
    "punctuations = '''!()-[]{};:'\"\\,<>./?@#$%^&*_~'''\n",
    "\n",
    "inStr = \"Hello!!!, this - is - my - assignment - number: 8.\"\n",
    "\n",
    "# Removing the punctuations from the string\n",
    "noPunct = \"\"\n",
    "\n",
    "for char in inStr:\n",
    "    if char not in punctuations:\n",
    "        noPunct = noPunct + char\n",
    "\n",
    "# Displaying the unpunctuated string\n",
    "print(noPunct)"
   ]
  }
 ],
 "metadata": {
  "kernelspec": {
   "display_name": "Python 3 (ipykernel)",
   "language": "python",
   "name": "python3"
  },
  "language_info": {
   "codemirror_mode": {
    "name": "ipython",
    "version": 3
   },
   "file_extension": ".py",
   "mimetype": "text/x-python",
   "name": "python",
   "nbconvert_exporter": "python",
   "pygments_lexer": "ipython3",
   "version": "3.11.0"
  }
 },
 "nbformat": 4,
 "nbformat_minor": 5
}
