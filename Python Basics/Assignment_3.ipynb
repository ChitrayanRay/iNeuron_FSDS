{
 "cells": [
  {
   "cell_type": "markdown",
   "id": "ef15e6be",
   "metadata": {},
   "source": [
    "## 1. Why are functions advantageous to have in your programs?\n",
    "\n",
    "A function is almost like a mini-program that we can write separately from the main program, without having to think about the rest of the program while we write it. This allows us to reduce a complicated program into smaller, more manageable chunks, which reduces the overall complexity of our program."
   ]
  },
  {
   "cell_type": "markdown",
   "id": "1bd4c264",
   "metadata": {},
   "source": [
    "## 2. When does the code in a function run: when it&#39;s specified or when it&#39;s called?\n",
    "\n",
    "* Python functions return a value using a return statement, if one is specified. \n",
    "* A function can be called anywhere after the function has been declared. \n",
    "    By itself, a function does nothing. But, when you need to use a function, you can call it, and the code within the function will be executed"
   ]
  },
  {
   "cell_type": "markdown",
   "id": "1dd699d0",
   "metadata": {},
   "source": [
    "## 3. What statement creates a function?\n",
    "\n",
    "The **def** keyword is a statement for defining a function in Python. \n",
    "You start a function with the def keyword, specify a name followed by a colon (:) sign. The “def” call creates the function object and assigns it to the name given. You can further re-assign the same function object to other names."
   ]
  },
  {
   "cell_type": "markdown",
   "id": "0272a6a2",
   "metadata": {},
   "source": [
    "## 4. What is the difference between a function and a function call?\n",
    "\n",
    "A function is a block of code that does a particular operation and returns a result. It usually accepts inputs as parameters and returns a result. The parameters are not mandatory. A function call is the code used to pass control to a function."
   ]
  },
  {
   "cell_type": "markdown",
   "id": "b5e6942d",
   "metadata": {},
   "source": [
    "## 5. How many global scopes are there in a Python program? How many local scopes?\n",
    "\n",
    "The scope of global variables is the entire program whereas the scope of local variable is limited to the function where it is defined."
   ]
  },
  {
   "cell_type": "markdown",
   "id": "4e3a96e2",
   "metadata": {},
   "source": [
    "## 6. What happens to variables in a local scope when the function call returns?\n",
    "\n",
    "When the execution of the function terminates (returns), the local variables are destroyed."
   ]
  },
  {
   "cell_type": "markdown",
   "id": "337bcbd4",
   "metadata": {},
   "source": [
    "## 7. What is the concept of a return value? Is it possible to have a return value in an expression?\n",
    "\n",
    "The specific value returned from a function is called the return value. When the return statement is executed, the function exits immediately, and the return value is copied from the function back to the caller. This process is called return by value.\n",
    "Yes, an expression can return value."
   ]
  },
  {
   "cell_type": "markdown",
   "id": "e2117e15",
   "metadata": {},
   "source": [
    "## 8. If a function does not have a return statement, what is the return value of a call to that function?\n",
    "\n",
    "If no return statement appears in a function definition, control automatically returns to the calling function after the last statement of the called function is executed. In this case, the return value of the called function is **undefined**.\n",
    "Regardless of how long and complex your functions are, **any function without an explicit return statement, or one with a return statement without a return value, will return None**."
   ]
  },
  {
   "cell_type": "markdown",
   "id": "d92780dc",
   "metadata": {},
   "source": [
    "## 9. How do you make a function variable refer to the global variable?\n",
    "\n",
    "If you want to refer to a global variable in a function, you can use the **global keyword** to declare which variables are global."
   ]
  },
  {
   "cell_type": "markdown",
   "id": "d26c1999",
   "metadata": {},
   "source": [
    "## 10. What is the data type of None?\n",
    "\n",
    "The None keyword is used to define a **null value, or no value at all**. None is not the same as 0, False, or an empty string. None is a data type of its own (NoneType) and only None can be None."
   ]
  },
  {
   "cell_type": "markdown",
   "id": "a388aac0",
   "metadata": {},
   "source": [
    "## 11. What does the sentence import areallyourpetsnamederic do?\n",
    "\n",
    "The sentence import areallyourpetsnamederic **imports a module named areallyourpetsnamederic**"
   ]
  },
  {
   "cell_type": "markdown",
   "id": "47d4708e",
   "metadata": {},
   "source": [
    "## 12. If you had a bacon() feature in a spam module, what would you call it after importing spam?\n",
    "\n",
    "This function can be called with **spam.bacon()**."
   ]
  },
  {
   "cell_type": "markdown",
   "id": "f7bdf2ee",
   "metadata": {},
   "source": [
    "## 13. What can you do to save a programme from crashing if it encounters an error?\n",
    "\n",
    "When it encounters an error, the control is passed to the except block, skipping the code in between.\n",
    "In Python, exceptions can be handled using a try statement. The critical operation which can raise an exception is placed inside the try clause. The code that handles the exceptions is written in the except clause. We can thus choose what operations to perform once we have caught the exception."
   ]
  },
  {
   "cell_type": "markdown",
   "id": "6131a6d3",
   "metadata": {},
   "source": [
    "## 14. What is the purpose of the try clause? What is the purpose of the except clause?\n",
    "\n",
    "**try** block holds the suspicious program which may get error after executions.\n",
    "\n",
    "**except** block hold the code which will execute only when there is a problem in the code written in try block."
   ]
  }
 ],
 "metadata": {
  "kernelspec": {
   "display_name": "Python 3 (ipykernel)",
   "language": "python",
   "name": "python3"
  },
  "language_info": {
   "codemirror_mode": {
    "name": "ipython",
    "version": 3
   },
   "file_extension": ".py",
   "mimetype": "text/x-python",
   "name": "python",
   "nbconvert_exporter": "python",
   "pygments_lexer": "ipython3",
   "version": "3.11.0"
  }
 },
 "nbformat": 4,
 "nbformat_minor": 5
}
