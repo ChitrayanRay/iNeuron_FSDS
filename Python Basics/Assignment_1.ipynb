{
 "cells": [
  {
   "cell_type": "markdown",
   "id": "3d52f000",
   "metadata": {},
   "source": [
    "## 1. In the below elements which of them are values or an expression? eg:- values can be integer or string and expressions will be mathematical operators.\n",
    " * \"*\" \n",
    " * 'hello'\n",
    " * -87.8\n",
    " * \"-\" \n",
    " * / \n",
    " * \"+\"\t\n",
    " * 6"
   ]
  },
  {
   "cell_type": "markdown",
   "id": "752b9b67",
   "metadata": {},
   "source": [
    "Solution:\n",
    " * **\" * \"**  is an operator for multiplication **Expression**\n",
    " * **'hello'** is a string **Value**                \n",
    " * **-87.8** is a floating point **Value**\n",
    " * **\" - \"** is an operator for substraction **Expression**\n",
    " * **\" / \"** is an operator for division **Expression**\n",
    " * **\" + \"** is an operator for addition **Expression**\n",
    " * **6** is an integer **Value**"
   ]
  },
  {
   "cell_type": "markdown",
   "id": "94f53530",
   "metadata": {},
   "source": [
    "## 2. What is the difference between string and variable?\n",
    "Solution 2: \n",
    "\n",
    "* **String**: A String is a type of information you would store in a variable. A String is usually words, enclosed with \" \" or ' '. In the context of data science, features in dataset like full name of a customer, and reviews for products are of string datatype.\n",
    "  * For Example:"
   ]
  },
  {
   "cell_type": "code",
   "execution_count": 1,
   "id": "5d0c04b3",
   "metadata": {},
   "outputs": [
    {
     "data": {
      "text/plain": [
       "str"
      ]
     },
     "execution_count": 1,
     "metadata": {},
     "output_type": "execute_result"
    }
   ],
   "source": [
    "type(\"String enclosed within double quotes\")"
   ]
  },
  {
   "cell_type": "code",
   "execution_count": 2,
   "id": "b235bfdd",
   "metadata": {},
   "outputs": [
    {
     "data": {
      "text/plain": [
       "str"
      ]
     },
     "execution_count": 2,
     "metadata": {},
     "output_type": "execute_result"
    }
   ],
   "source": [
    "type('String enclosed within single quotes')"
   ]
  },
  {
   "cell_type": "markdown",
   "id": "370fccad",
   "metadata": {},
   "source": [
    "* **Variable**: Variable is the name of the space/location we assign with the help of assignment operator \"=\". It stores different type of data like integer, string, float, boolean, complex number temporary in RAM/main memory.\n",
    "   * For Example:"
   ]
  },
  {
   "cell_type": "code",
   "execution_count": 3,
   "id": "147f0dea",
   "metadata": {},
   "outputs": [
    {
     "data": {
      "text/plain": [
       "int"
      ]
     },
     "execution_count": 3,
     "metadata": {},
     "output_type": "execute_result"
    }
   ],
   "source": [
    "a=25\n",
    "type(a)"
   ]
  },
  {
   "cell_type": "code",
   "execution_count": 4,
   "id": "814dea86",
   "metadata": {},
   "outputs": [
    {
     "data": {
      "text/plain": [
       "str"
      ]
     },
     "execution_count": 4,
     "metadata": {},
     "output_type": "execute_result"
    }
   ],
   "source": [
    "b = \"twenty five\"\n",
    "type(b)"
   ]
  },
  {
   "cell_type": "code",
   "execution_count": 5,
   "id": "f5020832",
   "metadata": {},
   "outputs": [
    {
     "data": {
      "text/plain": [
       "float"
      ]
     },
     "execution_count": 5,
     "metadata": {},
     "output_type": "execute_result"
    }
   ],
   "source": [
    "c = 25.52\n",
    "type(c)"
   ]
  },
  {
   "cell_type": "code",
   "execution_count": 6,
   "id": "41619a90",
   "metadata": {},
   "outputs": [
    {
     "data": {
      "text/plain": [
       "bool"
      ]
     },
     "execution_count": 6,
     "metadata": {},
     "output_type": "execute_result"
    }
   ],
   "source": [
    "d = True\n",
    "type(d)"
   ]
  },
  {
   "cell_type": "code",
   "execution_count": 7,
   "id": "98531645",
   "metadata": {},
   "outputs": [
    {
     "data": {
      "text/plain": [
       "complex"
      ]
     },
     "execution_count": 7,
     "metadata": {},
     "output_type": "execute_result"
    }
   ],
   "source": [
    "e = 25+52j\n",
    "type(e)"
   ]
  },
  {
   "cell_type": "markdown",
   "id": "7d93058c",
   "metadata": {},
   "source": [
    "## 3. Describe three different data types."
   ]
  },
  {
   "cell_type": "markdown",
   "id": "114009da",
   "metadata": {},
   "source": [
    "**Integer**: Integer is one of the numeric datatype. This value is represented by \"int\" class. It contains positive or negative whole numbers (without fraction or decimal). In Python there is no limit to how long an integer value can be. In context of data science, features like number of members, number od bank accounts, number of products are of integer datatype."
   ]
  },
  {
   "cell_type": "code",
   "execution_count": 8,
   "id": "f3b0d2c4",
   "metadata": {},
   "outputs": [
    {
     "data": {
      "text/plain": [
       "int"
      ]
     },
     "execution_count": 8,
     "metadata": {},
     "output_type": "execute_result"
    }
   ],
   "source": [
    "a= 25 \n",
    "type(a)"
   ]
  },
  {
   "cell_type": "markdown",
   "id": "3ba123c8",
   "metadata": {},
   "source": [
    "**Float**: Floating point number is another numeric datatype in Python This value is represented by \"float\" class. It is a real number with floating point representation. It is specified by a decimal point. In the context of data science, features like salary, trasaction time, sales of a product,  are of float datatype."
   ]
  },
  {
   "cell_type": "code",
   "execution_count": 9,
   "id": "a0757606",
   "metadata": {},
   "outputs": [
    {
     "data": {
      "text/plain": [
       "float"
      ]
     },
     "execution_count": 9,
     "metadata": {},
     "output_type": "execute_result"
    }
   ],
   "source": [
    "b = 25.52\n",
    "type(b)"
   ]
  },
  {
   "cell_type": "markdown",
   "id": "fb37989c",
   "metadata": {},
   "source": [
    "**String**: In Python, Strings are arrays of bytes representing Unicode characters. A string is a collection of one or more characters put in a single quote, double-quote or triple quote. In python there is no character data type, a character is a string of length one. It is represented by str class.In the context of data science, features in dataset like full name of a customer, and reviews for products are of string datatype."
   ]
  },
  {
   "cell_type": "code",
   "execution_count": 10,
   "id": "84458cb3",
   "metadata": {},
   "outputs": [
    {
     "data": {
      "text/plain": [
       "str"
      ]
     },
     "execution_count": 10,
     "metadata": {},
     "output_type": "execute_result"
    }
   ],
   "source": [
    "c = \"Twenty Five\"\n",
    "type(c)"
   ]
  },
  {
   "cell_type": "markdown",
   "id": "82bd9705",
   "metadata": {},
   "source": [
    "## 4. What is an expression made up of? What do all expressions do?"
   ]
  },
  {
   "cell_type": "markdown",
   "id": "ea7b9186",
   "metadata": {},
   "source": [
    "#### An expression is made up of a combination of operators and operands.\n",
    "* **What are Operators?:**\n",
    "    * Airthmatic Operators:\n",
    "       * Addition,Substraction,Multiplication, Division, Modulus, Power.\n",
    "    * Comparison Operators:\n",
    "       * Greater than, less than, equal to, greater than equal to, less than equal to\n",
    "    * Logical Operators: \n",
    "       * Logical operators perform Logical AND, Logical OR, and Logical NOT operations. It is used to combine conditional statements.\n",
    "    * Bitwise Operators:\n",
    "       * Bitwise operators act on bits and perform the bit-by-bit operations. These are used to operate on binary numbers.\n",
    "    * Assignment Operators:\n",
    "       * Assignment operators are used to assigning values to the variables.\n",
    "* **What are Operands?:**\n",
    "    * The operand is the object that is being worked on by an operation. A basic example of an operand would be a variable declared in a program that would change value because of operations.\n",
    "    \n",
    "#### Expressions are used to evaluate the values or represent the result on the screen."
   ]
  },
  {
   "cell_type": "code",
   "execution_count": 11,
   "id": "9ac91197",
   "metadata": {},
   "outputs": [],
   "source": [
    "# Examples of Arithmetic Operator\n",
    "num1 = 50\n",
    "num2 = 24"
   ]
  },
  {
   "cell_type": "code",
   "execution_count": 12,
   "id": "8f05220c",
   "metadata": {},
   "outputs": [
    {
     "name": "stdout",
     "output_type": "stream",
     "text": [
      "74\n"
     ]
    }
   ],
   "source": [
    "# Addition of numbers\n",
    "add = num1 + num2\n",
    "print(add)"
   ]
  },
  {
   "cell_type": "code",
   "execution_count": 13,
   "id": "f663b434",
   "metadata": {},
   "outputs": [
    {
     "name": "stdout",
     "output_type": "stream",
     "text": [
      "26\n"
     ]
    }
   ],
   "source": [
    "# Subtraction of numbers\n",
    "sub = num1 - num2\n",
    "print(sub)"
   ]
  },
  {
   "cell_type": "code",
   "execution_count": 14,
   "id": "46529fa8",
   "metadata": {},
   "outputs": [
    {
     "name": "stdout",
     "output_type": "stream",
     "text": [
      "1200\n"
     ]
    }
   ],
   "source": [
    "# Multiplication of number\n",
    "mul = num1 * num2\n",
    "print(mul)"
   ]
  },
  {
   "cell_type": "code",
   "execution_count": 15,
   "id": "816a534e",
   "metadata": {},
   "outputs": [
    {
     "name": "stdout",
     "output_type": "stream",
     "text": [
      "2.0833333333333335\n"
     ]
    }
   ],
   "source": [
    "# Division(float) of number\n",
    "div1 = num1 / num2\n",
    "print(div1)"
   ]
  },
  {
   "cell_type": "code",
   "execution_count": 16,
   "id": "21eab3d7",
   "metadata": {},
   "outputs": [
    {
     "name": "stdout",
     "output_type": "stream",
     "text": [
      "2\n"
     ]
    }
   ],
   "source": [
    "# Division(floor) of number\n",
    "div2 = num1 // num2\n",
    "print(div2)"
   ]
  },
  {
   "cell_type": "code",
   "execution_count": 17,
   "id": "42913558",
   "metadata": {},
   "outputs": [
    {
     "name": "stdout",
     "output_type": "stream",
     "text": [
      "2\n"
     ]
    }
   ],
   "source": [
    "# Modulo of both number\n",
    "mod = num1 % num2\n",
    "print(mod)"
   ]
  },
  {
   "cell_type": "code",
   "execution_count": 18,
   "id": "deedde5a",
   "metadata": {},
   "outputs": [
    {
     "name": "stdout",
     "output_type": "stream",
     "text": [
      "59604644775390625000000000000000000000000\n"
     ]
    }
   ],
   "source": [
    "# Power\n",
    "p = num1 ** num2\n",
    "print(p)"
   ]
  },
  {
   "cell_type": "code",
   "execution_count": 19,
   "id": "2a08d470",
   "metadata": {},
   "outputs": [],
   "source": [
    "# Examples of Relational Operators\n",
    "num1 = 20\n",
    "num2 = 23"
   ]
  },
  {
   "cell_type": "code",
   "execution_count": 20,
   "id": "4d0ef963",
   "metadata": {},
   "outputs": [
    {
     "name": "stdout",
     "output_type": "stream",
     "text": [
      "False\n"
     ]
    }
   ],
   "source": [
    "# Greater than\n",
    "print(num1 > num2)"
   ]
  },
  {
   "cell_type": "code",
   "execution_count": 21,
   "id": "5d723d1c",
   "metadata": {},
   "outputs": [
    {
     "name": "stdout",
     "output_type": "stream",
     "text": [
      "True\n"
     ]
    }
   ],
   "source": [
    "# Less than\n",
    "print(num1 < num2)"
   ]
  },
  {
   "cell_type": "code",
   "execution_count": 22,
   "id": "4f602239",
   "metadata": {},
   "outputs": [
    {
     "name": "stdout",
     "output_type": "stream",
     "text": [
      "False\n"
     ]
    }
   ],
   "source": [
    "# Equal to\n",
    "print(num1 == num2)"
   ]
  },
  {
   "cell_type": "code",
   "execution_count": 23,
   "id": "42c88353",
   "metadata": {},
   "outputs": [
    {
     "name": "stdout",
     "output_type": "stream",
     "text": [
      "True\n"
     ]
    }
   ],
   "source": [
    "# Not equal to\n",
    "print(num1 != num2)"
   ]
  },
  {
   "cell_type": "code",
   "execution_count": 24,
   "id": "63314e1e",
   "metadata": {},
   "outputs": [
    {
     "name": "stdout",
     "output_type": "stream",
     "text": [
      "False\n"
     ]
    }
   ],
   "source": [
    "# Greater than equal to\n",
    "print(num1 >= num2)"
   ]
  },
  {
   "cell_type": "code",
   "execution_count": 25,
   "id": "fcea1117",
   "metadata": {},
   "outputs": [
    {
     "name": "stdout",
     "output_type": "stream",
     "text": [
      "True\n"
     ]
    }
   ],
   "source": [
    "# Less than equal to\n",
    "print(num1 <= num2)"
   ]
  },
  {
   "cell_type": "code",
   "execution_count": 26,
   "id": "57e8f92e",
   "metadata": {},
   "outputs": [],
   "source": [
    "# Examples of Logical Operator\n",
    "a = True\n",
    "b = False"
   ]
  },
  {
   "cell_type": "code",
   "execution_count": 27,
   "id": "09266ea4",
   "metadata": {},
   "outputs": [
    {
     "name": "stdout",
     "output_type": "stream",
     "text": [
      "False\n"
     ]
    }
   ],
   "source": [
    "# Logical 'and' operator\n",
    "print(a and b)"
   ]
  },
  {
   "cell_type": "code",
   "execution_count": 28,
   "id": "e9e4ded0",
   "metadata": {},
   "outputs": [
    {
     "name": "stdout",
     "output_type": "stream",
     "text": [
      "True\n"
     ]
    }
   ],
   "source": [
    "# Logical 'or' operator\n",
    "print(a or b)"
   ]
  },
  {
   "cell_type": "code",
   "execution_count": 29,
   "id": "6d9c701e",
   "metadata": {},
   "outputs": [
    {
     "name": "stdout",
     "output_type": "stream",
     "text": [
      "False\n"
     ]
    }
   ],
   "source": [
    "# Logical 'not' operator\n",
    "print(not a)"
   ]
  },
  {
   "cell_type": "code",
   "execution_count": 30,
   "id": "db8927c3",
   "metadata": {},
   "outputs": [],
   "source": [
    "# Examples of Bitwise operators\n",
    "num1 = 26\n",
    "num2 = 24"
   ]
  },
  {
   "cell_type": "code",
   "execution_count": 31,
   "id": "811a1e6f",
   "metadata": {},
   "outputs": [
    {
     "name": "stdout",
     "output_type": "stream",
     "text": [
      "24\n"
     ]
    }
   ],
   "source": [
    "# Bitwise AND operation\n",
    "print(num1 & num2)"
   ]
  },
  {
   "cell_type": "code",
   "execution_count": 32,
   "id": "edbf9e2b",
   "metadata": {},
   "outputs": [
    {
     "name": "stdout",
     "output_type": "stream",
     "text": [
      "26\n"
     ]
    }
   ],
   "source": [
    "# Bitwise OR operation\n",
    "print(num1 | num2)"
   ]
  },
  {
   "cell_type": "code",
   "execution_count": 33,
   "id": "18e25d54",
   "metadata": {},
   "outputs": [
    {
     "name": "stdout",
     "output_type": "stream",
     "text": [
      "-27\n"
     ]
    }
   ],
   "source": [
    "# Bitwise NOT operation\n",
    "print(~num1)"
   ]
  },
  {
   "cell_type": "code",
   "execution_count": 34,
   "id": "1a01e6b4",
   "metadata": {},
   "outputs": [
    {
     "name": "stdout",
     "output_type": "stream",
     "text": [
      "2\n"
     ]
    }
   ],
   "source": [
    "# Bitwise XOR operation\n",
    "print(num1 ^ num2)"
   ]
  },
  {
   "cell_type": "code",
   "execution_count": 35,
   "id": "0c1fed4a",
   "metadata": {},
   "outputs": [
    {
     "name": "stdout",
     "output_type": "stream",
     "text": [
      "6\n"
     ]
    }
   ],
   "source": [
    "# Bitwise Right Shift operation\n",
    "print(num1 >> 2)"
   ]
  },
  {
   "cell_type": "code",
   "execution_count": 36,
   "id": "a093d394",
   "metadata": {},
   "outputs": [
    {
     "name": "stdout",
     "output_type": "stream",
     "text": [
      "104\n"
     ]
    }
   ],
   "source": [
    "# Bitwise Left Shift operation\n",
    "print(num1 << 2)"
   ]
  },
  {
   "cell_type": "markdown",
   "id": "385b736d",
   "metadata": {},
   "source": [
    "## 5. This assignment statements, like spam = 10. What is the difference between an expression and a statement?"
   ]
  },
  {
   "cell_type": "markdown",
   "id": "780f8b38",
   "metadata": {},
   "source": [
    " * An **expression** usually refers to a piece of code that can be evaluated to a value, and is composed of variables, operators, function calls, and literals while a **statement** refers to a piece of code that executes a specific instruction or perform action or tells the computer to complete a task.\n",
    " * In most programming languages, common examples of **expressions** are method calls and mathematical operations and a **statement** can take the form of assignments, control statements, import statements, loop statements, jump statements, or method calls.\n",
    " * The evaluation of an **expression** does not changes state but the execution of a **statement** changes state.\n",
    " * Evaluation of an **expression** always produces or returns a result value however execution of a **statement** may or may not produces or displays a result value, it only does whatever the statement says.\n",
    " * Every **expression** can’t be a statement however every **statement** can be an expression."
   ]
  },
  {
   "cell_type": "code",
   "execution_count": 37,
   "id": "1b4a569f",
   "metadata": {},
   "outputs": [
    {
     "data": {
      "text/plain": [
       "10"
      ]
     },
     "execution_count": 37,
     "metadata": {},
     "output_type": "execute_result"
    }
   ],
   "source": [
    "spam = 10    # It's an assignment statement.\n",
    "spam         # Value of created spam variable is displayed."
   ]
  },
  {
   "cell_type": "code",
   "execution_count": 38,
   "id": "e34ad092",
   "metadata": {},
   "outputs": [
    {
     "data": {
      "text/plain": [
       "100"
      ]
     },
     "execution_count": 38,
     "metadata": {},
     "output_type": "execute_result"
    }
   ],
   "source": [
    "spam ** 2    # It's an expression which will evaluate and deliver a value as output."
   ]
  },
  {
   "cell_type": "markdown",
   "id": "8ce30c1d",
   "metadata": {},
   "source": [
    "## 6. After running the following code, what does the variable bacon contain?\n",
    "- bacon = 22\n",
    "- bacon + 1"
   ]
  },
  {
   "cell_type": "code",
   "execution_count": 39,
   "id": "5795ad6b",
   "metadata": {},
   "outputs": [
    {
     "data": {
      "text/plain": [
       "23"
      ]
     },
     "execution_count": 39,
     "metadata": {},
     "output_type": "execute_result"
    }
   ],
   "source": [
    "bacon = 22   # Assigning the value 22 to variable \"bacon\"\n",
    "bacon + 1    # Expression which adds 1 to the value stored in the variable \"bacon\" and displays the output after evaluationg the expression"
   ]
  },
  {
   "cell_type": "code",
   "execution_count": 40,
   "id": "cdf74e24",
   "metadata": {},
   "outputs": [
    {
     "data": {
      "text/plain": [
       "22"
      ]
     },
     "execution_count": 40,
     "metadata": {},
     "output_type": "execute_result"
    }
   ],
   "source": [
    "bacon      # Calling the value stored in bacon"
   ]
  },
  {
   "cell_type": "markdown",
   "id": "faff8d70",
   "metadata": {},
   "source": [
    "Variable \"bacon\" contain 22 because these is a operation performed on \"bacon\" but there is no assignment to the output value of the expression."
   ]
  },
  {
   "cell_type": "markdown",
   "id": "533aca9a",
   "metadata": {},
   "source": [
    "## 7. What should the values of the following two terms be?\n",
    "* 'spam' + 'spamspam'\n",
    "* 'spam' * 3"
   ]
  },
  {
   "cell_type": "code",
   "execution_count": 41,
   "id": "c31c4f3b",
   "metadata": {},
   "outputs": [
    {
     "data": {
      "text/plain": [
       "'spamspamspam'"
      ]
     },
     "execution_count": 41,
     "metadata": {},
     "output_type": "execute_result"
    }
   ],
   "source": [
    "'spam' + 'spamspam'"
   ]
  },
  {
   "cell_type": "markdown",
   "id": "9737bec4",
   "metadata": {},
   "source": [
    "Concatenation of the strings with the addition operator."
   ]
  },
  {
   "cell_type": "code",
   "execution_count": 42,
   "id": "27a7d320",
   "metadata": {},
   "outputs": [
    {
     "data": {
      "text/plain": [
       "'spamspamspam'"
      ]
     },
     "execution_count": 42,
     "metadata": {},
     "output_type": "execute_result"
    }
   ],
   "source": [
    "'spam' * 3"
   ]
  },
  {
   "cell_type": "markdown",
   "id": "1f6ff3dc",
   "metadata": {},
   "source": [
    "Concatenation of the string using multiplication operator.\n",
    "* Results are same for both the expressions."
   ]
  },
  {
   "cell_type": "markdown",
   "id": "aed55ed3",
   "metadata": {},
   "source": [
    "## 8. Why is \"eggs\" a valid variable name while \"100\" is invalid?\n",
    "\n",
    "* Rules for Python variables:\n",
    "   * A variable name must start with a letter or the underscore character\n",
    "   * **A variable name cannot start with a number**\n",
    "   * A variable name can only contain **alpha-numeric characters and underscores (A-z, 0-9, and _ ).**\n",
    "   * Variable names are case-sensitive (policy, Policy and POLICY are three different variables)\n",
    "   \n",
    "   \n",
    "* \"eggs\" is a valid variable name because it starts with a letter, it contains alphabets.\n",
    "* \"100\" is a invalid variable name because it starts witha number, it is not an alpha-numeric character.\n",
    "     * valid examples can be _100, a100, a_100."
   ]
  },
  {
   "cell_type": "code",
   "execution_count": 43,
   "id": "9fdf348b",
   "metadata": {},
   "outputs": [
    {
     "data": {
      "text/plain": [
       "100"
      ]
     },
     "execution_count": 43,
     "metadata": {},
     "output_type": "execute_result"
    }
   ],
   "source": [
    "eggs = 100\n",
    "eggs"
   ]
  },
  {
   "cell_type": "code",
   "execution_count": 44,
   "id": "71ce2d87",
   "metadata": {},
   "outputs": [
    {
     "ename": "SyntaxError",
     "evalue": "cannot assign to literal (1725534555.py, line 1)",
     "output_type": "error",
     "traceback": [
      "\u001b[1;36m  Input \u001b[1;32mIn [44]\u001b[1;36m\u001b[0m\n\u001b[1;33m    100 = \"beach\"\u001b[0m\n\u001b[1;37m    ^\u001b[0m\n\u001b[1;31mSyntaxError\u001b[0m\u001b[1;31m:\u001b[0m cannot assign to literal\n"
     ]
    }
   ],
   "source": [
    "100 = \"beach\""
   ]
  },
  {
   "cell_type": "code",
   "execution_count": 45,
   "id": "dc67334f",
   "metadata": {},
   "outputs": [
    {
     "data": {
      "text/plain": [
       "('beach', 'forest', 'hill station')"
      ]
     },
     "execution_count": 45,
     "metadata": {},
     "output_type": "execute_result"
    }
   ],
   "source": [
    "_100 = \"beach\"\n",
    "a100 = \"forest\"\n",
    "a_100 = \"hill station\" \n",
    "_100, a100 , a_100"
   ]
  },
  {
   "cell_type": "markdown",
   "id": "636c3eda",
   "metadata": {},
   "source": [
    "## 9. What three functions can be used to get the integer, floating-point number, or string version of a value?"
   ]
  },
  {
   "cell_type": "markdown",
   "id": "e2953de6",
   "metadata": {},
   "source": [
    "**int()**, **float()** and **str()**  are the three functions used to get the **integer**, **floating-point number**, or **string version** of a value repectively. These funstions are also used to **typecast** or **strong typing** the values."
   ]
  },
  {
   "cell_type": "code",
   "execution_count": 46,
   "id": "1321347f",
   "metadata": {},
   "outputs": [
    {
     "data": {
      "text/plain": [
       "int"
      ]
     },
     "execution_count": 46,
     "metadata": {},
     "output_type": "execute_result"
    }
   ],
   "source": [
    "a = 10\n",
    "type(a)"
   ]
  },
  {
   "cell_type": "markdown",
   "id": "ce46843a",
   "metadata": {},
   "source": [
    "Typecasting an integer to string"
   ]
  },
  {
   "cell_type": "code",
   "execution_count": 47,
   "id": "7d40d79e",
   "metadata": {},
   "outputs": [
    {
     "data": {
      "text/plain": [
       "str"
      ]
     },
     "execution_count": 47,
     "metadata": {},
     "output_type": "execute_result"
    }
   ],
   "source": [
    "a = str(a)   # Assign the typecasted value back to the respective variable otherwise the typecasting will not work. \n",
    "type(a)"
   ]
  },
  {
   "cell_type": "markdown",
   "id": "b7b8930e",
   "metadata": {},
   "source": [
    "Typecasting an integer to float"
   ]
  },
  {
   "cell_type": "code",
   "execution_count": 48,
   "id": "872c35d2",
   "metadata": {},
   "outputs": [
    {
     "data": {
      "text/plain": [
       "float"
      ]
     },
     "execution_count": 48,
     "metadata": {},
     "output_type": "execute_result"
    }
   ],
   "source": [
    "f = float(a)\n",
    "type(f)"
   ]
  },
  {
   "cell_type": "markdown",
   "id": "cb3bc0f6",
   "metadata": {},
   "source": [
    "Typecasting an string to integer or float"
   ]
  },
  {
   "cell_type": "code",
   "execution_count": 49,
   "id": "b71e70e0",
   "metadata": {},
   "outputs": [
    {
     "ename": "ValueError",
     "evalue": "invalid literal for int() with base 10: 'string'",
     "output_type": "error",
     "traceback": [
      "\u001b[1;31m---------------------------------------------------------------------------\u001b[0m",
      "\u001b[1;31mValueError\u001b[0m                                Traceback (most recent call last)",
      "Input \u001b[1;32mIn [49]\u001b[0m, in \u001b[0;36m<cell line: 2>\u001b[1;34m()\u001b[0m\n\u001b[0;32m      1\u001b[0m s \u001b[38;5;241m=\u001b[39m \u001b[38;5;124m\"\u001b[39m\u001b[38;5;124mstring\u001b[39m\u001b[38;5;124m\"\u001b[39m\n\u001b[1;32m----> 2\u001b[0m s_num \u001b[38;5;241m=\u001b[39m \u001b[38;5;28;43mint\u001b[39;49m\u001b[43m(\u001b[49m\u001b[43ms\u001b[49m\u001b[43m)\u001b[49m\n",
      "\u001b[1;31mValueError\u001b[0m: invalid literal for int() with base 10: 'string'"
     ]
    }
   ],
   "source": [
    "s = \"string\"\n",
    "s_num = int(s)"
   ]
  },
  {
   "cell_type": "code",
   "execution_count": 50,
   "id": "cc37a775",
   "metadata": {},
   "outputs": [
    {
     "ename": "ValueError",
     "evalue": "could not convert string to float: 'string'",
     "output_type": "error",
     "traceback": [
      "\u001b[1;31m---------------------------------------------------------------------------\u001b[0m",
      "\u001b[1;31mValueError\u001b[0m                                Traceback (most recent call last)",
      "Input \u001b[1;32mIn [50]\u001b[0m, in \u001b[0;36m<cell line: 1>\u001b[1;34m()\u001b[0m\n\u001b[1;32m----> 1\u001b[0m s_decimal \u001b[38;5;241m=\u001b[39m \u001b[38;5;28;43mfloat\u001b[39;49m\u001b[43m(\u001b[49m\u001b[43ms\u001b[49m\u001b[43m)\u001b[49m\n",
      "\u001b[1;31mValueError\u001b[0m: could not convert string to float: 'string'"
     ]
    }
   ],
   "source": [
    "s_decimal = float(s)"
   ]
  },
  {
   "cell_type": "markdown",
   "id": "a08b83a1",
   "metadata": {},
   "source": [
    "* ValueError: invalid literal for int() with base 10: 'string'\n",
    "* ValueError: could not convert string to float: 'string'"
   ]
  },
  {
   "cell_type": "markdown",
   "id": "8599ba33",
   "metadata": {},
   "source": [
    "## 10. Why does this expression cause an error? How can you fix it?\n",
    "'I have eaten ' + 99 + ' burritos.'"
   ]
  },
  {
   "cell_type": "code",
   "execution_count": 51,
   "id": "6c4f3c55",
   "metadata": {},
   "outputs": [
    {
     "ename": "TypeError",
     "evalue": "can only concatenate str (not \"int\") to str",
     "output_type": "error",
     "traceback": [
      "\u001b[1;31m---------------------------------------------------------------------------\u001b[0m",
      "\u001b[1;31mTypeError\u001b[0m                                 Traceback (most recent call last)",
      "Input \u001b[1;32mIn [51]\u001b[0m, in \u001b[0;36m<cell line: 1>\u001b[1;34m()\u001b[0m\n\u001b[1;32m----> 1\u001b[0m \u001b[38;5;124;43m'\u001b[39;49m\u001b[38;5;124;43mI have eaten \u001b[39;49m\u001b[38;5;124;43m'\u001b[39;49m\u001b[43m \u001b[49m\u001b[38;5;241;43m+\u001b[39;49m\u001b[43m \u001b[49m\u001b[38;5;241;43m99\u001b[39;49m \u001b[38;5;241m+\u001b[39m \u001b[38;5;124m'\u001b[39m\u001b[38;5;124m burritos.\u001b[39m\u001b[38;5;124m'\u001b[39m\n",
      "\u001b[1;31mTypeError\u001b[0m: can only concatenate str (not \"int\") to str"
     ]
    }
   ],
   "source": [
    "'I have eaten ' + 99 + ' burritos.'"
   ]
  },
  {
   "cell_type": "code",
   "execution_count": 52,
   "id": "a99f5123",
   "metadata": {},
   "outputs": [
    {
     "data": {
      "text/plain": [
       "'I have eaten 99 burritos.'"
      ]
     },
     "execution_count": 52,
     "metadata": {},
     "output_type": "execute_result"
    }
   ],
   "source": [
    "'I have eaten ' + \"99\" + ' burritos.'"
   ]
  },
  {
   "cell_type": "code",
   "execution_count": 53,
   "id": "7a4e03c7",
   "metadata": {},
   "outputs": [
    {
     "data": {
      "text/plain": [
       "'I have eaten 99 burritos.'"
      ]
     },
     "execution_count": 53,
     "metadata": {},
     "output_type": "execute_result"
    }
   ],
   "source": [
    "'I have eaten ' + '99' + ' burritos.'"
   ]
  },
  {
   "cell_type": "code",
   "execution_count": 54,
   "id": "cae2e88f",
   "metadata": {},
   "outputs": [
    {
     "data": {
      "text/plain": [
       "'I have eaten 99 burritos.'"
      ]
     },
     "execution_count": 54,
     "metadata": {},
     "output_type": "execute_result"
    }
   ],
   "source": [
    "'I have eaten ' + str(99) + ' burritos.'"
   ]
  }
 ],
 "metadata": {
  "kernelspec": {
   "display_name": "Python 3 (ipykernel)",
   "language": "python",
   "name": "python3"
  },
  "language_info": {
   "codemirror_mode": {
    "name": "ipython",
    "version": 3
   },
   "file_extension": ".py",
   "mimetype": "text/x-python",
   "name": "python",
   "nbconvert_exporter": "python",
   "pygments_lexer": "ipython3",
   "version": "3.9.12"
  }
 },
 "nbformat": 4,
 "nbformat_minor": 5
}
