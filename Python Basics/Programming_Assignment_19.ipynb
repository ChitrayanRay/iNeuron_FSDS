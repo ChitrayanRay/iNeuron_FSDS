{
 "cells": [
  {
   "cell_type": "markdown",
   "id": "820c654d",
   "metadata": {},
   "source": [
    "## Question1\n",
    "\n",
    "## Create a function that takes a string and returns a string in which each character is repeated once.\n",
    "\n",
    "### Examples\n",
    "\n",
    "#### double_char(&quot;String&quot;) ➞ &quot;SSttrriinngg&quot;\n",
    "#### double_char(&quot;Hello World!&quot;) ➞ &quot;HHeelllloo WWoorrlldd!!&quot;\n",
    "#### double_char(&quot;1234!_ &quot;) ➞ &quot;11223344!!__ &quot;"
   ]
  },
  {
   "cell_type": "code",
   "execution_count": 1,
   "id": "13367d8a",
   "metadata": {},
   "outputs": [
    {
     "name": "stdout",
     "output_type": "stream",
     "text": [
      "Enter a string:Hello World!\n",
      "Entered string: Hello World!, Output ➞ HHeelllloo  WWoorrlldd!!\n"
     ]
    }
   ],
   "source": [
    "def double_char(string):\n",
    "    newString = \"\"\n",
    "    for char in string:\n",
    "        newString += char * 2\n",
    "    return newString\n",
    "\n",
    "string = input(\"Enter a string:\")\n",
    "print(f\"Entered string: {string}, Output ➞ {double_char(string)}\")"
   ]
  },
  {
   "cell_type": "markdown",
   "id": "3c68728e",
   "metadata": {},
   "source": [
    "## Question2\n",
    "\n",
    "## Create a function that reverses a boolean value and returns the string &quot;boolean expected&quot; if another variable type is given.\n",
    "\n",
    "### Examples\n",
    "\n",
    "#### reverse(True) ➞ False\n",
    "#### reverse(False) ➞ True\n",
    "#### reverse(0) ➞ &quot;boolean expected&quot;\n",
    "#### reverse(None) ➞ &quot;boolean expected&quot;"
   ]
  },
  {
   "cell_type": "code",
   "execution_count": 2,
   "id": "34c368ab",
   "metadata": {},
   "outputs": [
    {
     "name": "stdout",
     "output_type": "stream",
     "text": [
      "Enter a value:False\n",
      "Output ➞ True\n"
     ]
    }
   ],
   "source": [
    "def reverseBoolean(value):\n",
    "    if isinstance(value, bool):\n",
    "        return not value\n",
    "    else:\n",
    "        return \"boolean expected\"\n",
    "\n",
    "value = eval(input(\"Enter a value:\"))\n",
    "print(f\"Output ➞ {reverseBoolean(value)}\")"
   ]
  },
  {
   "cell_type": "markdown",
   "id": "248727a7",
   "metadata": {},
   "source": [
    "## Question3\n",
    "\n",
    "## Create a function that returns the thickness (in meters) of a piece of paper after folding it n number of times. The paper starts off with a thickness of 0.5mm.\n",
    "\n",
    "### Examples\n",
    "\n",
    "#### num_layers(1) ➞ &quot;0.001m&quot;\n",
    "#### Paper folded once is 1mm (equal to 0.001m)\n",
    "#### num_layers(4) ➞ &quot;0.008m&quot;\n",
    "#### Paper folded 4 times is 8mm (equal to 0.008m)\n",
    "#### num_layers(21) ➞ &quot;1048.576m&quot;\n",
    "#### Paper folded 21 times is 1048576mm (equal to 1048.576m)"
   ]
  },
  {
   "cell_type": "code",
   "execution_count": 3,
   "id": "061bbeaf",
   "metadata": {},
   "outputs": [
    {
     "name": "stdout",
     "output_type": "stream",
     "text": [
      "Enter the number of folds:21\n"
     ]
    },
    {
     "data": {
      "text/plain": [
       "'Thickness = 1048.576 meters'"
      ]
     },
     "execution_count": 3,
     "metadata": {},
     "output_type": "execute_result"
    }
   ],
   "source": [
    "def paperThickness(n):\n",
    "    thickness = 0.0005  \n",
    "    for i in range(n):\n",
    "        thickness *= 2\n",
    "    return f\"Thickness = {round(thickness, 3)} meters\"\n",
    "\n",
    "n = int(input(\"Enter the number of folds:\"))\n",
    "paperThickness(n)"
   ]
  },
  {
   "cell_type": "markdown",
   "id": "b2343c9e",
   "metadata": {},
   "source": [
    "## Question4\n",
    "\n",
    "## Create a function that takes a single string as argument and returns an ordered list containing the indices of all capital letters in the string.\n",
    "\n",
    "### Examples\n",
    "\n",
    "#### index_of_caps(&quot;eDaBiT&quot;) ➞ [1, 3, 5]\n",
    "#### index_of_caps(&quot;eQuINoX&quot;) ➞ [1, 3, 4, 6]\n",
    "#### index_of_caps(&quot;determine&quot;) ➞ []\n",
    "#### index_of_caps(&quot;STRIKE&quot;) ➞ [0, 1, 2, 3, 4, 5]\n",
    "#### index_of_caps(&quot;sUn&quot;) ➞ [1]"
   ]
  },
  {
   "cell_type": "code",
   "execution_count": 4,
   "id": "fe72182a",
   "metadata": {},
   "outputs": [
    {
     "name": "stdout",
     "output_type": "stream",
     "text": [
      "Enter a string:STRIKE\n",
      "Indices of all capital letters in the string STRIKE ➞ [0, 1, 2, 3, 4, 5]\n"
     ]
    }
   ],
   "source": [
    "def index_of_caps(s):\n",
    "    return [i for i in range(len(s)) if s[i].isupper()]\n",
    "\n",
    "s = input(\"Enter a string:\")\n",
    "print(f\"Indices of all capital letters in the string {s} ➞ {index_of_caps(s)}\")"
   ]
  },
  {
   "cell_type": "markdown",
   "id": "208b0dd0",
   "metadata": {},
   "source": [
    "## Question5\n",
    "\n",
    "## Using list comprehensions, create a function that finds all even numbers from 1 to the given number.\n",
    "\n",
    "### Examples\n",
    "\n",
    "#### find_even_nums(8) ➞ [2, 4, 6, 8]\n",
    "#### find_even_nums(4) ➞ [2, 4]\n",
    "#### find_even_nums(2) ➞ [2]"
   ]
  },
  {
   "cell_type": "code",
   "execution_count": 5,
   "id": "594a3326",
   "metadata": {},
   "outputs": [
    {
     "name": "stdout",
     "output_type": "stream",
     "text": [
      "Enter a number:8\n",
      "Even numbers in the range of 8 ➞ [2, 4, 6, 8] \n"
     ]
    }
   ],
   "source": [
    "def find_even_nums(n):\n",
    "    return [i for i in range(1, n + 1) if i % 2 == 0]\n",
    "\n",
    "n = int(input(\"Enter a number:\"))\n",
    "print(f\"Even numbers in the range of {n} ➞ {find_even_nums(n)} \")"
   ]
  }
 ],
 "metadata": {
  "kernelspec": {
   "display_name": "Python 3 (ipykernel)",
   "language": "python",
   "name": "python3"
  },
  "language_info": {
   "codemirror_mode": {
    "name": "ipython",
    "version": 3
   },
   "file_extension": ".py",
   "mimetype": "text/x-python",
   "name": "python",
   "nbconvert_exporter": "python",
   "pygments_lexer": "ipython3",
   "version": "3.11.0"
  }
 },
 "nbformat": 4,
 "nbformat_minor": 5
}
