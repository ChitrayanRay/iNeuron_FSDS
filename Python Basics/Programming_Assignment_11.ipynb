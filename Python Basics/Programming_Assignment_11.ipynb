{
 "cells": [
  {
   "cell_type": "markdown",
   "id": "5e34fe27",
   "metadata": {},
   "source": [
    "## 1. Write a Python program to find words which are greater than given length k?"
   ]
  },
  {
   "cell_type": "code",
   "execution_count": 1,
   "id": "18c7eed9",
   "metadata": {},
   "outputs": [
    {
     "name": "stdout",
     "output_type": "stream",
     "text": [
      "Enter a String: This is my 11th Python Programming Assignment\n",
      "Enter the length of the word to find: 4\n",
      "Python\n",
      "Programming\n",
      "Assignment\n"
     ]
    }
   ],
   "source": [
    "l = input(\"Enter a String: \")\n",
    "k = int(input(\"Enter the length of the word to find: \"))\n",
    "for i in l.split():\n",
    "    if(len(i) > k):\n",
    "        print(i, end = \"\\n\")"
   ]
  },
  {
   "cell_type": "markdown",
   "id": "d1aa3402",
   "metadata": {},
   "source": [
    "## 2. Write a Python program for removing i-th character from a string?"
   ]
  },
  {
   "cell_type": "code",
   "execution_count": 2,
   "id": "83516777",
   "metadata": {},
   "outputs": [
    {
     "name": "stdout",
     "output_type": "stream",
     "text": [
      "Enter a String: This is a program to remove i-th character from a string\n",
      "Enter the index of the character to remove: 8\n",
      "This is  program to remove i-th character from a string"
     ]
    }
   ],
   "source": [
    "s = input(\"Enter a String: \")\n",
    "i = int(input(\"Enter the index of the character to remove: \"))\n",
    "l = list(s)\n",
    "l.pop(i)\n",
    "for j in l:\n",
    "    print(j, end=\"\")"
   ]
  },
  {
   "cell_type": "markdown",
   "id": "2cba8eaa",
   "metadata": {},
   "source": [
    "## 3. Write a Python program to split and join a string?"
   ]
  },
  {
   "cell_type": "code",
   "execution_count": 3,
   "id": "21696d90",
   "metadata": {},
   "outputs": [
    {
     "name": "stdout",
     "output_type": "stream",
     "text": [
      "Write\n",
      "a\n",
      "Python\n",
      "program\n",
      "Write a Python program to split and join a string\n"
     ]
    }
   ],
   "source": [
    "i = \"Write a Python program\"\n",
    "j = \"to split and join a string\"\n",
    "for k in i.split():\n",
    "    print(k, end = \"\\n\")\n",
    "print(i + \" \" + j)"
   ]
  },
  {
   "cell_type": "markdown",
   "id": "2ce5b5d4",
   "metadata": {},
   "source": [
    "## 4. Write a Python to check if a given string is binary string or not?"
   ]
  },
  {
   "cell_type": "code",
   "execution_count": 4,
   "id": "c071a580",
   "metadata": {},
   "outputs": [
    {
     "name": "stdout",
     "output_type": "stream",
     "text": [
      "Enter a String: This is a program to check if a string is binary or not\n",
      "Not a Binary String\n"
     ]
    }
   ],
   "source": [
    "l = input(\"Enter a String: \")\n",
    "if(l.count('0') + l.count('1') == len(l)):\n",
    "    print(\"Binary String\")\n",
    "else:\n",
    "    print(\"Not a Binary String\")"
   ]
  },
  {
   "cell_type": "code",
   "execution_count": 5,
   "id": "2f44940c",
   "metadata": {},
   "outputs": [
    {
     "name": "stdout",
     "output_type": "stream",
     "text": [
      "Enter a String: 01101001\n",
      "Binary String\n"
     ]
    }
   ],
   "source": [
    "l = input(\"Enter a String: \")\n",
    "s = set(l)\n",
    "if s == {'0', '1'} or s == {'0'} or s == {'1'}:\n",
    "    print(\"Binary String\")\n",
    "else:\n",
    "    print(\"Not a Binary String\")"
   ]
  },
  {
   "cell_type": "markdown",
   "id": "d3f55fc5",
   "metadata": {},
   "source": [
    "## 5. Write a Python program to find uncommon words from two Strings?"
   ]
  },
  {
   "cell_type": "code",
   "execution_count": 6,
   "id": "e6a51521",
   "metadata": {},
   "outputs": [
    {
     "name": "stdout",
     "output_type": "stream",
     "text": [
      "Enter the 1st String: My name is Chitrayan Ray\n",
      "Enter the 2nd String: My father's name is Chittaranjan Ray\n",
      "My name is Chitrayan Ray \n",
      " My father's name is Chittaranjan Ray \n",
      " ['Chitrayan', \"father's\", 'Chittaranjan']\n"
     ]
    }
   ],
   "source": [
    "s1 = input(\"Enter the 1st String: \")\n",
    "s2 = input(\"Enter the 2nd String: \")\n",
    "lst = []\n",
    "for i in s1.split(\" \"):\n",
    "    if i not in s2: \n",
    "        lst.append(i)\n",
    "for i in s2.split(\" \"):\n",
    "    if i not in s1: \n",
    "        lst.append(i)\n",
    "print(s1, \"\\n\", s2, \"\\n\", lst)"
   ]
  },
  {
   "cell_type": "code",
   "execution_count": 7,
   "id": "5ac259ee",
   "metadata": {},
   "outputs": [
    {
     "name": "stdout",
     "output_type": "stream",
     "text": [
      "Enter the 1st String: My name is Chitrayan Ray\n",
      "Enter the 2nd String: My father's name is Chittaranjan Ray\n",
      "{'Chitrayan', 'Chittaranjan', \"father's\"}\n"
     ]
    }
   ],
   "source": [
    "s1 = set(input(\"Enter the 1st String: \").split(\" \"))\n",
    "s2 = set(input(\"Enter the 2nd String: \").split(\" \"))\n",
    "r = s1.symmetric_difference(s2)\n",
    "print(r)"
   ]
  },
  {
   "cell_type": "markdown",
   "id": "2edfc978",
   "metadata": {},
   "source": [
    "## 6. Write a Python to find all duplicate characters in string?"
   ]
  },
  {
   "cell_type": "code",
   "execution_count": 8,
   "id": "76f0321f",
   "metadata": {},
   "outputs": [
    {
     "name": "stdout",
     "output_type": "stream",
     "text": [
      "Enter a String: This is a python program to find duplicate characters in a string\n",
      "Duplicate charactes present in the string are:\n",
      " ['h', 'i', 's', ' ', 'a', 'p', 't', 'o', 'n', 'r', 'g', 'd', 'c', 'e']\n"
     ]
    }
   ],
   "source": [
    "s = input(\"Enter a String: \")\n",
    "lst = []\n",
    "for i in s:\n",
    "    if s.count(i) > 1 and i not in lst:\n",
    "        lst.append(i)\n",
    "print(\"Duplicate charactes present in the string are:\\n\", lst)"
   ]
  },
  {
   "cell_type": "markdown",
   "id": "83cee080",
   "metadata": {},
   "source": [
    "## 7. Write a Python Program to check if a string contains any special character?"
   ]
  },
  {
   "cell_type": "code",
   "execution_count": 9,
   "id": "bd5f4f5e",
   "metadata": {},
   "outputs": [
    {
     "name": "stdout",
     "output_type": "stream",
     "text": [
      "Enter a String: This@is#my%11th&Python*Programming!Assignment\n",
      "String contains the following special character(s):\n",
      " ['@', '#', '%', '&', '*', '!']\n"
     ]
    }
   ],
   "source": [
    "import re\n",
    "\n",
    "s = input(\"Enter a String: \")\n",
    "r = re.findall('\\W', s)\n",
    "if len(r) == 0:\n",
    "    print(\"String contains no special character\")\n",
    "else:\n",
    "    print(\"String contains the following special character(s):\\n\", r)"
   ]
  }
 ],
 "metadata": {
  "kernelspec": {
   "display_name": "Python 3 (ipykernel)",
   "language": "python",
   "name": "python3"
  },
  "language_info": {
   "codemirror_mode": {
    "name": "ipython",
    "version": 3
   },
   "file_extension": ".py",
   "mimetype": "text/x-python",
   "name": "python",
   "nbconvert_exporter": "python",
   "pygments_lexer": "ipython3",
   "version": "3.11.0"
  }
 },
 "nbformat": 4,
 "nbformat_minor": 5
}
